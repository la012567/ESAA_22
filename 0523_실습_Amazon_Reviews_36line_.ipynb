{
  "nbformat": 4,
  "nbformat_minor": 0,
  "metadata": {
    "colab": {
      "name": "0523_실습_Amazon_Reviews_36line_.ipynb",
      "provenance": [],
      "collapsed_sections": []
    },
    "kernelspec": {
      "name": "python3",
      "display_name": "Python 3"
    },
    "language_info": {
      "name": "python"
    }
  },
  "cells": [
    {
      "cell_type": "markdown",
      "source": [
        "#### **Collaborative Filtering**"
      ],
      "metadata": {
        "id": "Mbp6IbuQQ0XC"
      }
    },
    {
      "cell_type": "code",
      "source": [
        "# Surprise 패키지를 이용하기 위해 설치\n",
        "! pip install surprise"
      ],
      "metadata": {
        "colab": {
          "base_uri": "https://localhost:8080/"
        },
        "id": "PG7YEfjZSMMl",
        "outputId": "352d5074-ffee-4e4e-aa1a-03c3b5fd74fc"
      },
      "execution_count": null,
      "outputs": [
        {
          "output_type": "stream",
          "name": "stdout",
          "text": [
            "Collecting surprise\n",
            "  Downloading surprise-0.1-py2.py3-none-any.whl (1.8 kB)\n",
            "Collecting scikit-surprise\n",
            "  Downloading scikit-surprise-1.1.1.tar.gz (11.8 MB)\n",
            "\u001b[K     |████████████████████████████████| 11.8 MB 4.0 MB/s \n",
            "\u001b[?25hRequirement already satisfied: joblib>=0.11 in /usr/local/lib/python3.7/dist-packages (from scikit-surprise->surprise) (1.1.0)\n",
            "Requirement already satisfied: numpy>=1.11.2 in /usr/local/lib/python3.7/dist-packages (from scikit-surprise->surprise) (1.21.6)\n",
            "Requirement already satisfied: scipy>=1.0.0 in /usr/local/lib/python3.7/dist-packages (from scikit-surprise->surprise) (1.4.1)\n",
            "Requirement already satisfied: six>=1.10.0 in /usr/local/lib/python3.7/dist-packages (from scikit-surprise->surprise) (1.15.0)\n",
            "Building wheels for collected packages: scikit-surprise\n",
            "  Building wheel for scikit-surprise (setup.py) ... \u001b[?25l\u001b[?25hdone\n",
            "  Created wheel for scikit-surprise: filename=scikit_surprise-1.1.1-cp37-cp37m-linux_x86_64.whl size=1633717 sha256=1fc1ca1efe74f3ac73a9833d40c10a62d9fea04bd80870a17dc2564b307e7245\n",
            "  Stored in directory: /root/.cache/pip/wheels/76/44/74/b498c42be47b2406bd27994e16c5188e337c657025ab400c1c\n",
            "Successfully built scikit-surprise\n",
            "Installing collected packages: scikit-surprise, surprise\n",
            "Successfully installed scikit-surprise-1.1.1 surprise-0.1\n"
          ]
        }
      ]
    },
    {
      "cell_type": "code",
      "source": [
        "from surprise import KNNWithMeans\n",
        "from surprise import Dataset\n",
        "from surprise import accuracy\n",
        "from surprise import Reader\n",
        "import os\n",
        "from surprise.model_selection import train_test_split"
      ],
      "metadata": {
        "id": "_3iVDG5BSR2M"
      },
      "execution_count": null,
      "outputs": []
    },
    {
      "cell_type": "markdown",
      "source": [
        "#### 1) Data 가져오기"
      ],
      "metadata": {
        "id": "ExDuCA9XSfMR"
      }
    },
    {
      "cell_type": "code",
      "source": [
        "new_df.drop(['timestamp'], axis=1, inplace=True)"
      ],
      "metadata": {
        "id": "qFIqjEZ4SiCE"
      },
      "execution_count": null,
      "outputs": []
    },
    {
      "cell_type": "code",
      "source": [
        "reader = Reader(rating_scale=(1,5))\n",
        "data = Dataset.load_from_df(new_df, reader)"
      ],
      "metadata": {
        "id": "wiqq3yqASn0n"
      },
      "execution_count": null,
      "outputs": []
    },
    {
      "cell_type": "markdown",
      "source": [
        "#### 2) Trainset, Testset으로 나누기"
      ],
      "metadata": {
        "id": "h27X199kSsjn"
      }
    },
    {
      "cell_type": "code",
      "source": [
        "trainset, testset = train_test_split(data, test_size=0.3, random_state=10)"
      ],
      "metadata": {
        "id": "zscO9rbRSwqa"
      },
      "execution_count": null,
      "outputs": []
    },
    {
      "cell_type": "markdown",
      "source": [
        "#### 3) KNN을 이용 trainset에 파라미터 맞추기"
      ],
      "metadata": {
        "id": "yomorvPnS2jJ"
      }
    },
    {
      "cell_type": "code",
      "source": [
        "algo = KNNWithMeans(k=5, sim_options = {'name': 'pearson_baseline', 'user_based': False})\n",
        "algo.fit(trainset)"
      ],
      "metadata": {
        "id": "ixDpuCIyS54f",
        "colab": {
          "base_uri": "https://localhost:8080/"
        },
        "outputId": "73d2510a-64e3-4a00-c0ac-45b821884b15"
      },
      "execution_count": null,
      "outputs": [
        {
          "output_type": "stream",
          "name": "stdout",
          "text": [
            "Estimating biases using als...\n",
            "Computing the pearson_baseline similarity matrix...\n",
            "Done computing similarity matrix.\n"
          ]
        },
        {
          "output_type": "execute_result",
          "data": {
            "text/plain": [
              "<surprise.prediction_algorithms.knns.KNNWithMeans at 0x7f4e5dfcba90>"
            ]
          },
          "metadata": {},
          "execution_count": 53
        }
      ]
    },
    {
      "cell_type": "markdown",
      "source": [
        "#### 4) Test accuracy 측정"
      ],
      "metadata": {
        "id": "Q-hHcDwsTTHk"
      }
    },
    {
      "cell_type": "code",
      "source": [
        "test_pred = algo.test(testset)"
      ],
      "metadata": {
        "id": "utbv0e-mTCwR"
      },
      "execution_count": null,
      "outputs": []
    },
    {
      "cell_type": "code",
      "source": [
        "print('item-based Model : Test set')\n",
        "accuracy.rmse(test_pred, verbose=True)"
      ],
      "metadata": {
        "colab": {
          "base_uri": "https://localhost:8080/"
        },
        "id": "N-QN2-EZW7_O",
        "outputId": "d97714c0-dee2-4e1e-a6ad-8346447790fd"
      },
      "execution_count": null,
      "outputs": [
        {
          "output_type": "stream",
          "name": "stdout",
          "text": [
            "item-based Model : Test set\n",
            "RMSE: 1.3478\n"
          ]
        },
        {
          "output_type": "execute_result",
          "data": {
            "text/plain": [
              "1.3477596209757159"
            ]
          },
          "metadata": {},
          "execution_count": 55
        }
      ]
    },
    {
      "cell_type": "code",
      "source": [
        "# Item-based Model : Test Set\n",
        "# RMSE: 1.3335"
      ],
      "metadata": {
        "id": "j3fxvWYJXDsC"
      },
      "execution_count": null,
      "outputs": []
    },
    {
      "cell_type": "markdown",
      "source": [
        "#### **Model-based collaborative filtering system**"
      ],
      "metadata": {
        "id": "EiMhngCbXEVC"
      }
    },
    {
      "cell_type": "code",
      "source": [
        "# 대량의 상품, 많은 사용자들에게 추천 가능, sparse한 matrices에도 사용가능"
      ],
      "metadata": {
        "id": "02Hh10n5XJBA"
      },
      "execution_count": null,
      "outputs": []
    },
    {
      "cell_type": "code",
      "source": [
        "new_df1 = new_df.head(10000)\n",
        "ratings_matrix = new_df1.pivot_table(values='Rating', index='userId', columns='productId', fill_value=0)\n",
        "ratings_matrix.head()"
      ],
      "metadata": {
        "colab": {
          "base_uri": "https://localhost:8080/",
          "height": 331
        },
        "id": "aRO-byDWXNyU",
        "outputId": "17d46e35-4694-4811-d519-f6a41372eb1a"
      },
      "execution_count": null,
      "outputs": [
        {
          "output_type": "execute_result",
          "data": {
            "text/plain": [
              "productId              0972683275  1400501466  1400501520  1400501776  \\\n",
              "userId                                                                  \n",
              "A01852072Z7B68UHLI5UG           0           0           0           0   \n",
              "A0266076X6KPZ6CCHGVS            0           0           0           0   \n",
              "A0293130VTX2ZXA70JQS            5           0           0           0   \n",
              "A030530627MK66BD8V4LN           4           0           0           0   \n",
              "A0571176384K8RBNKGF8O           0           0           0           0   \n",
              "\n",
              "productId              1400532620  1400532655  140053271X  1400532736  \\\n",
              "userId                                                                  \n",
              "A01852072Z7B68UHLI5UG           0           0           0           0   \n",
              "A0266076X6KPZ6CCHGVS            0           0           0           0   \n",
              "A0293130VTX2ZXA70JQS            0           0           0           0   \n",
              "A030530627MK66BD8V4LN           0           0           0           0   \n",
              "A0571176384K8RBNKGF8O           0           0           0           0   \n",
              "\n",
              "productId              1400599997  1400698987  ...  B00000JFMK  B00000JHWX  \\\n",
              "userId                                         ...                           \n",
              "A01852072Z7B68UHLI5UG           0           0  ...           0           0   \n",
              "A0266076X6KPZ6CCHGVS            0           0  ...           0           0   \n",
              "A0293130VTX2ZXA70JQS            0           0  ...           0           0   \n",
              "A030530627MK66BD8V4LN           0           0  ...           0           0   \n",
              "A0571176384K8RBNKGF8O           0           0  ...           0           0   \n",
              "\n",
              "productId              B00000JI4F  B00000JII6  B00000JMUG  B00000JPPI  \\\n",
              "userId                                                                  \n",
              "A01852072Z7B68UHLI5UG           0           0           0           0   \n",
              "A0266076X6KPZ6CCHGVS            0           0           0           0   \n",
              "A0293130VTX2ZXA70JQS            0           0           0           0   \n",
              "A030530627MK66BD8V4LN           0           0           0           0   \n",
              "A0571176384K8RBNKGF8O           0           0           0           0   \n",
              "\n",
              "productId              B00000JSGF  B00000JYLO  B00000JYWQ  B00000K135  \n",
              "userId                                                                 \n",
              "A01852072Z7B68UHLI5UG           0           0           0           0  \n",
              "A0266076X6KPZ6CCHGVS            0           0           0           0  \n",
              "A0293130VTX2ZXA70JQS            0           0           0           0  \n",
              "A030530627MK66BD8V4LN           0           0           0           0  \n",
              "A0571176384K8RBNKGF8O           0           0           0           0  \n",
              "\n",
              "[5 rows x 76 columns]"
            ],
            "text/html": [
              "\n",
              "  <div id=\"df-15d68c44-97d3-4fbb-af5e-b94c0bc686f9\">\n",
              "    <div class=\"colab-df-container\">\n",
              "      <div>\n",
              "<style scoped>\n",
              "    .dataframe tbody tr th:only-of-type {\n",
              "        vertical-align: middle;\n",
              "    }\n",
              "\n",
              "    .dataframe tbody tr th {\n",
              "        vertical-align: top;\n",
              "    }\n",
              "\n",
              "    .dataframe thead th {\n",
              "        text-align: right;\n",
              "    }\n",
              "</style>\n",
              "<table border=\"1\" class=\"dataframe\">\n",
              "  <thead>\n",
              "    <tr style=\"text-align: right;\">\n",
              "      <th>productId</th>\n",
              "      <th>0972683275</th>\n",
              "      <th>1400501466</th>\n",
              "      <th>1400501520</th>\n",
              "      <th>1400501776</th>\n",
              "      <th>1400532620</th>\n",
              "      <th>1400532655</th>\n",
              "      <th>140053271X</th>\n",
              "      <th>1400532736</th>\n",
              "      <th>1400599997</th>\n",
              "      <th>1400698987</th>\n",
              "      <th>...</th>\n",
              "      <th>B00000JFMK</th>\n",
              "      <th>B00000JHWX</th>\n",
              "      <th>B00000JI4F</th>\n",
              "      <th>B00000JII6</th>\n",
              "      <th>B00000JMUG</th>\n",
              "      <th>B00000JPPI</th>\n",
              "      <th>B00000JSGF</th>\n",
              "      <th>B00000JYLO</th>\n",
              "      <th>B00000JYWQ</th>\n",
              "      <th>B00000K135</th>\n",
              "    </tr>\n",
              "    <tr>\n",
              "      <th>userId</th>\n",
              "      <th></th>\n",
              "      <th></th>\n",
              "      <th></th>\n",
              "      <th></th>\n",
              "      <th></th>\n",
              "      <th></th>\n",
              "      <th></th>\n",
              "      <th></th>\n",
              "      <th></th>\n",
              "      <th></th>\n",
              "      <th></th>\n",
              "      <th></th>\n",
              "      <th></th>\n",
              "      <th></th>\n",
              "      <th></th>\n",
              "      <th></th>\n",
              "      <th></th>\n",
              "      <th></th>\n",
              "      <th></th>\n",
              "      <th></th>\n",
              "      <th></th>\n",
              "    </tr>\n",
              "  </thead>\n",
              "  <tbody>\n",
              "    <tr>\n",
              "      <th>A01852072Z7B68UHLI5UG</th>\n",
              "      <td>0</td>\n",
              "      <td>0</td>\n",
              "      <td>0</td>\n",
              "      <td>0</td>\n",
              "      <td>0</td>\n",
              "      <td>0</td>\n",
              "      <td>0</td>\n",
              "      <td>0</td>\n",
              "      <td>0</td>\n",
              "      <td>0</td>\n",
              "      <td>...</td>\n",
              "      <td>0</td>\n",
              "      <td>0</td>\n",
              "      <td>0</td>\n",
              "      <td>0</td>\n",
              "      <td>0</td>\n",
              "      <td>0</td>\n",
              "      <td>0</td>\n",
              "      <td>0</td>\n",
              "      <td>0</td>\n",
              "      <td>0</td>\n",
              "    </tr>\n",
              "    <tr>\n",
              "      <th>A0266076X6KPZ6CCHGVS</th>\n",
              "      <td>0</td>\n",
              "      <td>0</td>\n",
              "      <td>0</td>\n",
              "      <td>0</td>\n",
              "      <td>0</td>\n",
              "      <td>0</td>\n",
              "      <td>0</td>\n",
              "      <td>0</td>\n",
              "      <td>0</td>\n",
              "      <td>0</td>\n",
              "      <td>...</td>\n",
              "      <td>0</td>\n",
              "      <td>0</td>\n",
              "      <td>0</td>\n",
              "      <td>0</td>\n",
              "      <td>0</td>\n",
              "      <td>0</td>\n",
              "      <td>0</td>\n",
              "      <td>0</td>\n",
              "      <td>0</td>\n",
              "      <td>0</td>\n",
              "    </tr>\n",
              "    <tr>\n",
              "      <th>A0293130VTX2ZXA70JQS</th>\n",
              "      <td>5</td>\n",
              "      <td>0</td>\n",
              "      <td>0</td>\n",
              "      <td>0</td>\n",
              "      <td>0</td>\n",
              "      <td>0</td>\n",
              "      <td>0</td>\n",
              "      <td>0</td>\n",
              "      <td>0</td>\n",
              "      <td>0</td>\n",
              "      <td>...</td>\n",
              "      <td>0</td>\n",
              "      <td>0</td>\n",
              "      <td>0</td>\n",
              "      <td>0</td>\n",
              "      <td>0</td>\n",
              "      <td>0</td>\n",
              "      <td>0</td>\n",
              "      <td>0</td>\n",
              "      <td>0</td>\n",
              "      <td>0</td>\n",
              "    </tr>\n",
              "    <tr>\n",
              "      <th>A030530627MK66BD8V4LN</th>\n",
              "      <td>4</td>\n",
              "      <td>0</td>\n",
              "      <td>0</td>\n",
              "      <td>0</td>\n",
              "      <td>0</td>\n",
              "      <td>0</td>\n",
              "      <td>0</td>\n",
              "      <td>0</td>\n",
              "      <td>0</td>\n",
              "      <td>0</td>\n",
              "      <td>...</td>\n",
              "      <td>0</td>\n",
              "      <td>0</td>\n",
              "      <td>0</td>\n",
              "      <td>0</td>\n",
              "      <td>0</td>\n",
              "      <td>0</td>\n",
              "      <td>0</td>\n",
              "      <td>0</td>\n",
              "      <td>0</td>\n",
              "      <td>0</td>\n",
              "    </tr>\n",
              "    <tr>\n",
              "      <th>A0571176384K8RBNKGF8O</th>\n",
              "      <td>0</td>\n",
              "      <td>0</td>\n",
              "      <td>0</td>\n",
              "      <td>0</td>\n",
              "      <td>0</td>\n",
              "      <td>0</td>\n",
              "      <td>0</td>\n",
              "      <td>0</td>\n",
              "      <td>0</td>\n",
              "      <td>0</td>\n",
              "      <td>...</td>\n",
              "      <td>0</td>\n",
              "      <td>0</td>\n",
              "      <td>0</td>\n",
              "      <td>0</td>\n",
              "      <td>0</td>\n",
              "      <td>0</td>\n",
              "      <td>0</td>\n",
              "      <td>0</td>\n",
              "      <td>0</td>\n",
              "      <td>0</td>\n",
              "    </tr>\n",
              "  </tbody>\n",
              "</table>\n",
              "<p>5 rows × 76 columns</p>\n",
              "</div>\n",
              "      <button class=\"colab-df-convert\" onclick=\"convertToInteractive('df-15d68c44-97d3-4fbb-af5e-b94c0bc686f9')\"\n",
              "              title=\"Convert this dataframe to an interactive table.\"\n",
              "              style=\"display:none;\">\n",
              "        \n",
              "  <svg xmlns=\"http://www.w3.org/2000/svg\" height=\"24px\"viewBox=\"0 0 24 24\"\n",
              "       width=\"24px\">\n",
              "    <path d=\"M0 0h24v24H0V0z\" fill=\"none\"/>\n",
              "    <path d=\"M18.56 5.44l.94 2.06.94-2.06 2.06-.94-2.06-.94-.94-2.06-.94 2.06-2.06.94zm-11 1L8.5 8.5l.94-2.06 2.06-.94-2.06-.94L8.5 2.5l-.94 2.06-2.06.94zm10 10l.94 2.06.94-2.06 2.06-.94-2.06-.94-.94-2.06-.94 2.06-2.06.94z\"/><path d=\"M17.41 7.96l-1.37-1.37c-.4-.4-.92-.59-1.43-.59-.52 0-1.04.2-1.43.59L10.3 9.45l-7.72 7.72c-.78.78-.78 2.05 0 2.83L4 21.41c.39.39.9.59 1.41.59.51 0 1.02-.2 1.41-.59l7.78-7.78 2.81-2.81c.8-.78.8-2.07 0-2.86zM5.41 20L4 18.59l7.72-7.72 1.47 1.35L5.41 20z\"/>\n",
              "  </svg>\n",
              "      </button>\n",
              "      \n",
              "  <style>\n",
              "    .colab-df-container {\n",
              "      display:flex;\n",
              "      flex-wrap:wrap;\n",
              "      gap: 12px;\n",
              "    }\n",
              "\n",
              "    .colab-df-convert {\n",
              "      background-color: #E8F0FE;\n",
              "      border: none;\n",
              "      border-radius: 50%;\n",
              "      cursor: pointer;\n",
              "      display: none;\n",
              "      fill: #1967D2;\n",
              "      height: 32px;\n",
              "      padding: 0 0 0 0;\n",
              "      width: 32px;\n",
              "    }\n",
              "\n",
              "    .colab-df-convert:hover {\n",
              "      background-color: #E2EBFA;\n",
              "      box-shadow: 0px 1px 2px rgba(60, 64, 67, 0.3), 0px 1px 3px 1px rgba(60, 64, 67, 0.15);\n",
              "      fill: #174EA6;\n",
              "    }\n",
              "\n",
              "    [theme=dark] .colab-df-convert {\n",
              "      background-color: #3B4455;\n",
              "      fill: #D2E3FC;\n",
              "    }\n",
              "\n",
              "    [theme=dark] .colab-df-convert:hover {\n",
              "      background-color: #434B5C;\n",
              "      box-shadow: 0px 1px 3px 1px rgba(0, 0, 0, 0.15);\n",
              "      filter: drop-shadow(0px 1px 2px rgba(0, 0, 0, 0.3));\n",
              "      fill: #FFFFFF;\n",
              "    }\n",
              "  </style>\n",
              "\n",
              "      <script>\n",
              "        const buttonEl =\n",
              "          document.querySelector('#df-15d68c44-97d3-4fbb-af5e-b94c0bc686f9 button.colab-df-convert');\n",
              "        buttonEl.style.display =\n",
              "          google.colab.kernel.accessAllowed ? 'block' : 'none';\n",
              "\n",
              "        async function convertToInteractive(key) {\n",
              "          const element = document.querySelector('#df-15d68c44-97d3-4fbb-af5e-b94c0bc686f9');\n",
              "          const dataTable =\n",
              "            await google.colab.kernel.invokeFunction('convertToInteractive',\n",
              "                                                     [key], {});\n",
              "          if (!dataTable) return;\n",
              "\n",
              "          const docLinkHtml = 'Like what you see? Visit the ' +\n",
              "            '<a target=\"_blank\" href=https://colab.research.google.com/notebooks/data_table.ipynb>data table notebook</a>'\n",
              "            + ' to learn more about interactive tables.';\n",
              "          element.innerHTML = '';\n",
              "          dataTable['output_type'] = 'display_data';\n",
              "          await google.colab.output.renderOutput(dataTable, element);\n",
              "          const docLink = document.createElement('div');\n",
              "          docLink.innerHTML = docLinkHtml;\n",
              "          element.appendChild(docLink);\n",
              "        }\n",
              "      </script>\n",
              "    </div>\n",
              "  </div>\n",
              "  "
            ]
          },
          "metadata": {},
          "execution_count": 59
        }
      ]
    },
    {
      "cell_type": "code",
      "source": [
        "ratings_matrix.shape"
      ],
      "metadata": {
        "colab": {
          "base_uri": "https://localhost:8080/"
        },
        "id": "U0tWdRDuXa6K",
        "outputId": "9c17fa52-a0f9-4b2b-95a6-079bad8de4d8"
      },
      "execution_count": null,
      "outputs": [
        {
          "output_type": "execute_result",
          "data": {
            "text/plain": [
              "(9832, 76)"
            ]
          },
          "metadata": {},
          "execution_count": 60
        }
      ]
    },
    {
      "cell_type": "code",
      "source": [
        "X = ratings_matrix.T\n",
        "X.head()"
      ],
      "metadata": {
        "colab": {
          "base_uri": "https://localhost:8080/",
          "height": 331
        },
        "id": "5--TSrWNXeES",
        "outputId": "55b08dbe-8e7a-46a9-a063-c62146d279b9"
      },
      "execution_count": null,
      "outputs": [
        {
          "output_type": "execute_result",
          "data": {
            "text/plain": [
              "userId      A01852072Z7B68UHLI5UG  A0266076X6KPZ6CCHGVS  A0293130VTX2ZXA70JQS  \\\n",
              "productId                                                                       \n",
              "0972683275                      0                     0                     5   \n",
              "1400501466                      0                     0                     0   \n",
              "1400501520                      0                     0                     0   \n",
              "1400501776                      0                     0                     0   \n",
              "1400532620                      0                     0                     0   \n",
              "\n",
              "userId      A030530627MK66BD8V4LN  A0571176384K8RBNKGF8O  \\\n",
              "productId                                                  \n",
              "0972683275                      4                      0   \n",
              "1400501466                      0                      0   \n",
              "1400501520                      0                      0   \n",
              "1400501776                      0                      0   \n",
              "1400532620                      0                      0   \n",
              "\n",
              "userId      A0590501PZ7HOWJKBGQ4  A0641581307AKT5MAOU0Q  \\\n",
              "productId                                                 \n",
              "0972683275                     0                      0   \n",
              "1400501466                     0                      0   \n",
              "1400501520                     0                      0   \n",
              "1400501776                     0                      0   \n",
              "1400532620                     0                      0   \n",
              "\n",
              "userId      A076219533YHEV2LJO988  A0821988FXKFYX53V4QG  \\\n",
              "productId                                                 \n",
              "0972683275                      0                     0   \n",
              "1400501466                      0                     0   \n",
              "1400501520                      0                     0   \n",
              "1400501776                      0                     0   \n",
              "1400532620                      0                     0   \n",
              "\n",
              "userId      A099626739FNCRNHIKBCG  ...  AZWOPBY75SGAM  AZX0ZDVAFMN78  \\\n",
              "productId                          ...                                 \n",
              "0972683275                      0  ...              0              0   \n",
              "1400501466                      0  ...              0              0   \n",
              "1400501520                      3  ...              0              0   \n",
              "1400501776                      0  ...              0              0   \n",
              "1400532620                      0  ...              0              0   \n",
              "\n",
              "userId      AZX5LAN9JEAFF  AZX7I110AF0W2  AZXKUK895VGSM  AZXP46IB63PU8  \\\n",
              "productId                                                                \n",
              "0972683275              0              0              0              0   \n",
              "1400501466              0              0              0              0   \n",
              "1400501520              0              0              0              0   \n",
              "1400501776              0              0              0              0   \n",
              "1400532620              0              0              0              0   \n",
              "\n",
              "userId      AZYTSU42BZ7TP  AZZGJ2KMWB7R  AZZMV5VT9W7Y8  AZZST8OYL5P4Q  \n",
              "productId                                                              \n",
              "0972683275              0             0              0              0  \n",
              "1400501466              0             0              0              0  \n",
              "1400501520              0             0              0              0  \n",
              "1400501776              0             0              1              0  \n",
              "1400532620              0             0              0              0  \n",
              "\n",
              "[5 rows x 9832 columns]"
            ],
            "text/html": [
              "\n",
              "  <div id=\"df-b7a3a026-869a-4b37-857a-1435402da02c\">\n",
              "    <div class=\"colab-df-container\">\n",
              "      <div>\n",
              "<style scoped>\n",
              "    .dataframe tbody tr th:only-of-type {\n",
              "        vertical-align: middle;\n",
              "    }\n",
              "\n",
              "    .dataframe tbody tr th {\n",
              "        vertical-align: top;\n",
              "    }\n",
              "\n",
              "    .dataframe thead th {\n",
              "        text-align: right;\n",
              "    }\n",
              "</style>\n",
              "<table border=\"1\" class=\"dataframe\">\n",
              "  <thead>\n",
              "    <tr style=\"text-align: right;\">\n",
              "      <th>userId</th>\n",
              "      <th>A01852072Z7B68UHLI5UG</th>\n",
              "      <th>A0266076X6KPZ6CCHGVS</th>\n",
              "      <th>A0293130VTX2ZXA70JQS</th>\n",
              "      <th>A030530627MK66BD8V4LN</th>\n",
              "      <th>A0571176384K8RBNKGF8O</th>\n",
              "      <th>A0590501PZ7HOWJKBGQ4</th>\n",
              "      <th>A0641581307AKT5MAOU0Q</th>\n",
              "      <th>A076219533YHEV2LJO988</th>\n",
              "      <th>A0821988FXKFYX53V4QG</th>\n",
              "      <th>A099626739FNCRNHIKBCG</th>\n",
              "      <th>...</th>\n",
              "      <th>AZWOPBY75SGAM</th>\n",
              "      <th>AZX0ZDVAFMN78</th>\n",
              "      <th>AZX5LAN9JEAFF</th>\n",
              "      <th>AZX7I110AF0W2</th>\n",
              "      <th>AZXKUK895VGSM</th>\n",
              "      <th>AZXP46IB63PU8</th>\n",
              "      <th>AZYTSU42BZ7TP</th>\n",
              "      <th>AZZGJ2KMWB7R</th>\n",
              "      <th>AZZMV5VT9W7Y8</th>\n",
              "      <th>AZZST8OYL5P4Q</th>\n",
              "    </tr>\n",
              "    <tr>\n",
              "      <th>productId</th>\n",
              "      <th></th>\n",
              "      <th></th>\n",
              "      <th></th>\n",
              "      <th></th>\n",
              "      <th></th>\n",
              "      <th></th>\n",
              "      <th></th>\n",
              "      <th></th>\n",
              "      <th></th>\n",
              "      <th></th>\n",
              "      <th></th>\n",
              "      <th></th>\n",
              "      <th></th>\n",
              "      <th></th>\n",
              "      <th></th>\n",
              "      <th></th>\n",
              "      <th></th>\n",
              "      <th></th>\n",
              "      <th></th>\n",
              "      <th></th>\n",
              "      <th></th>\n",
              "    </tr>\n",
              "  </thead>\n",
              "  <tbody>\n",
              "    <tr>\n",
              "      <th>0972683275</th>\n",
              "      <td>0</td>\n",
              "      <td>0</td>\n",
              "      <td>5</td>\n",
              "      <td>4</td>\n",
              "      <td>0</td>\n",
              "      <td>0</td>\n",
              "      <td>0</td>\n",
              "      <td>0</td>\n",
              "      <td>0</td>\n",
              "      <td>0</td>\n",
              "      <td>...</td>\n",
              "      <td>0</td>\n",
              "      <td>0</td>\n",
              "      <td>0</td>\n",
              "      <td>0</td>\n",
              "      <td>0</td>\n",
              "      <td>0</td>\n",
              "      <td>0</td>\n",
              "      <td>0</td>\n",
              "      <td>0</td>\n",
              "      <td>0</td>\n",
              "    </tr>\n",
              "    <tr>\n",
              "      <th>1400501466</th>\n",
              "      <td>0</td>\n",
              "      <td>0</td>\n",
              "      <td>0</td>\n",
              "      <td>0</td>\n",
              "      <td>0</td>\n",
              "      <td>0</td>\n",
              "      <td>0</td>\n",
              "      <td>0</td>\n",
              "      <td>0</td>\n",
              "      <td>0</td>\n",
              "      <td>...</td>\n",
              "      <td>0</td>\n",
              "      <td>0</td>\n",
              "      <td>0</td>\n",
              "      <td>0</td>\n",
              "      <td>0</td>\n",
              "      <td>0</td>\n",
              "      <td>0</td>\n",
              "      <td>0</td>\n",
              "      <td>0</td>\n",
              "      <td>0</td>\n",
              "    </tr>\n",
              "    <tr>\n",
              "      <th>1400501520</th>\n",
              "      <td>0</td>\n",
              "      <td>0</td>\n",
              "      <td>0</td>\n",
              "      <td>0</td>\n",
              "      <td>0</td>\n",
              "      <td>0</td>\n",
              "      <td>0</td>\n",
              "      <td>0</td>\n",
              "      <td>0</td>\n",
              "      <td>3</td>\n",
              "      <td>...</td>\n",
              "      <td>0</td>\n",
              "      <td>0</td>\n",
              "      <td>0</td>\n",
              "      <td>0</td>\n",
              "      <td>0</td>\n",
              "      <td>0</td>\n",
              "      <td>0</td>\n",
              "      <td>0</td>\n",
              "      <td>0</td>\n",
              "      <td>0</td>\n",
              "    </tr>\n",
              "    <tr>\n",
              "      <th>1400501776</th>\n",
              "      <td>0</td>\n",
              "      <td>0</td>\n",
              "      <td>0</td>\n",
              "      <td>0</td>\n",
              "      <td>0</td>\n",
              "      <td>0</td>\n",
              "      <td>0</td>\n",
              "      <td>0</td>\n",
              "      <td>0</td>\n",
              "      <td>0</td>\n",
              "      <td>...</td>\n",
              "      <td>0</td>\n",
              "      <td>0</td>\n",
              "      <td>0</td>\n",
              "      <td>0</td>\n",
              "      <td>0</td>\n",
              "      <td>0</td>\n",
              "      <td>0</td>\n",
              "      <td>0</td>\n",
              "      <td>1</td>\n",
              "      <td>0</td>\n",
              "    </tr>\n",
              "    <tr>\n",
              "      <th>1400532620</th>\n",
              "      <td>0</td>\n",
              "      <td>0</td>\n",
              "      <td>0</td>\n",
              "      <td>0</td>\n",
              "      <td>0</td>\n",
              "      <td>0</td>\n",
              "      <td>0</td>\n",
              "      <td>0</td>\n",
              "      <td>0</td>\n",
              "      <td>0</td>\n",
              "      <td>...</td>\n",
              "      <td>0</td>\n",
              "      <td>0</td>\n",
              "      <td>0</td>\n",
              "      <td>0</td>\n",
              "      <td>0</td>\n",
              "      <td>0</td>\n",
              "      <td>0</td>\n",
              "      <td>0</td>\n",
              "      <td>0</td>\n",
              "      <td>0</td>\n",
              "    </tr>\n",
              "  </tbody>\n",
              "</table>\n",
              "<p>5 rows × 9832 columns</p>\n",
              "</div>\n",
              "      <button class=\"colab-df-convert\" onclick=\"convertToInteractive('df-b7a3a026-869a-4b37-857a-1435402da02c')\"\n",
              "              title=\"Convert this dataframe to an interactive table.\"\n",
              "              style=\"display:none;\">\n",
              "        \n",
              "  <svg xmlns=\"http://www.w3.org/2000/svg\" height=\"24px\"viewBox=\"0 0 24 24\"\n",
              "       width=\"24px\">\n",
              "    <path d=\"M0 0h24v24H0V0z\" fill=\"none\"/>\n",
              "    <path d=\"M18.56 5.44l.94 2.06.94-2.06 2.06-.94-2.06-.94-.94-2.06-.94 2.06-2.06.94zm-11 1L8.5 8.5l.94-2.06 2.06-.94-2.06-.94L8.5 2.5l-.94 2.06-2.06.94zm10 10l.94 2.06.94-2.06 2.06-.94-2.06-.94-.94-2.06-.94 2.06-2.06.94z\"/><path d=\"M17.41 7.96l-1.37-1.37c-.4-.4-.92-.59-1.43-.59-.52 0-1.04.2-1.43.59L10.3 9.45l-7.72 7.72c-.78.78-.78 2.05 0 2.83L4 21.41c.39.39.9.59 1.41.59.51 0 1.02-.2 1.41-.59l7.78-7.78 2.81-2.81c.8-.78.8-2.07 0-2.86zM5.41 20L4 18.59l7.72-7.72 1.47 1.35L5.41 20z\"/>\n",
              "  </svg>\n",
              "      </button>\n",
              "      \n",
              "  <style>\n",
              "    .colab-df-container {\n",
              "      display:flex;\n",
              "      flex-wrap:wrap;\n",
              "      gap: 12px;\n",
              "    }\n",
              "\n",
              "    .colab-df-convert {\n",
              "      background-color: #E8F0FE;\n",
              "      border: none;\n",
              "      border-radius: 50%;\n",
              "      cursor: pointer;\n",
              "      display: none;\n",
              "      fill: #1967D2;\n",
              "      height: 32px;\n",
              "      padding: 0 0 0 0;\n",
              "      width: 32px;\n",
              "    }\n",
              "\n",
              "    .colab-df-convert:hover {\n",
              "      background-color: #E2EBFA;\n",
              "      box-shadow: 0px 1px 2px rgba(60, 64, 67, 0.3), 0px 1px 3px 1px rgba(60, 64, 67, 0.15);\n",
              "      fill: #174EA6;\n",
              "    }\n",
              "\n",
              "    [theme=dark] .colab-df-convert {\n",
              "      background-color: #3B4455;\n",
              "      fill: #D2E3FC;\n",
              "    }\n",
              "\n",
              "    [theme=dark] .colab-df-convert:hover {\n",
              "      background-color: #434B5C;\n",
              "      box-shadow: 0px 1px 3px 1px rgba(0, 0, 0, 0.15);\n",
              "      filter: drop-shadow(0px 1px 2px rgba(0, 0, 0, 0.3));\n",
              "      fill: #FFFFFF;\n",
              "    }\n",
              "  </style>\n",
              "\n",
              "      <script>\n",
              "        const buttonEl =\n",
              "          document.querySelector('#df-b7a3a026-869a-4b37-857a-1435402da02c button.colab-df-convert');\n",
              "        buttonEl.style.display =\n",
              "          google.colab.kernel.accessAllowed ? 'block' : 'none';\n",
              "\n",
              "        async function convertToInteractive(key) {\n",
              "          const element = document.querySelector('#df-b7a3a026-869a-4b37-857a-1435402da02c');\n",
              "          const dataTable =\n",
              "            await google.colab.kernel.invokeFunction('convertToInteractive',\n",
              "                                                     [key], {});\n",
              "          if (!dataTable) return;\n",
              "\n",
              "          const docLinkHtml = 'Like what you see? Visit the ' +\n",
              "            '<a target=\"_blank\" href=https://colab.research.google.com/notebooks/data_table.ipynb>data table notebook</a>'\n",
              "            + ' to learn more about interactive tables.';\n",
              "          element.innerHTML = '';\n",
              "          dataTable['output_type'] = 'display_data';\n",
              "          await google.colab.output.renderOutput(dataTable, element);\n",
              "          const docLink = document.createElement('div');\n",
              "          docLink.innerHTML = docLinkHtml;\n",
              "          element.appendChild(docLink);\n",
              "        }\n",
              "      </script>\n",
              "    </div>\n",
              "  </div>\n",
              "  "
            ]
          },
          "metadata": {},
          "execution_count": 61
        }
      ]
    },
    {
      "cell_type": "code",
      "source": [
        "X.shape"
      ],
      "metadata": {
        "colab": {
          "base_uri": "https://localhost:8080/"
        },
        "id": "7hr3qArPXhTG",
        "outputId": "3a7527fc-5f42-41a5-b3a2-463c28388d1c"
      },
      "execution_count": null,
      "outputs": [
        {
          "output_type": "execute_result",
          "data": {
            "text/plain": [
              "(76, 9832)"
            ]
          },
          "metadata": {},
          "execution_count": 62
        }
      ]
    },
    {
      "cell_type": "code",
      "source": [
        "X.index"
      ],
      "metadata": {
        "colab": {
          "base_uri": "https://localhost:8080/"
        },
        "id": "sAGLSEAJXiVg",
        "outputId": "5754150c-98fb-485e-9fbf-7383e09b5c76"
      },
      "execution_count": null,
      "outputs": [
        {
          "output_type": "execute_result",
          "data": {
            "text/plain": [
              "Index(['0972683275', '1400501466', '1400501520', '1400501776', '1400532620',\n",
              "       '1400532655', '140053271X', '1400532736', '1400599997', '1400698987',\n",
              "       '3744295508', '6301977173', '7214047977', '8862935293', '9573212919',\n",
              "       '9575871979', '9625993428', '9888002198', '9966694544', '9983891212',\n",
              "       '9984984354', '9985511476', 'B000001OM4', 'B000001OM5', 'B000001OMI',\n",
              "       'B000001ON6', 'B00000DM9W', 'B00000IGBF', 'B00000J05A', 'B00000J061',\n",
              "       'B00000J08Q', 'B00000J0D2', 'B00000J0D5', 'B00000J0D8', 'B00000J1EJ',\n",
              "       'B00000J1EP', 'B00000J1EQ', 'B00000J1F3', 'B00000J1GA', 'B00000J1QK',\n",
              "       'B00000J1QR', 'B00000J1SC', 'B00000J1TX', 'B00000J1U8', 'B00000J1UQ',\n",
              "       'B00000J1V3', 'B00000J1V5', 'B00000J3NF', 'B00000J3Q7', 'B00000J3UJ',\n",
              "       'B00000J434', 'B00000J4EY', 'B00000J4FS', 'B00000J4GE', 'B00000J6WY',\n",
              "       'B00000JBAT', 'B00000JBHP', 'B00000JBPB', 'B00000JCT8', 'B00000JCTO',\n",
              "       'B00000JD34', 'B00000JDF5', 'B00000JDF6', 'B00000JDHV', 'B00000JFE3',\n",
              "       'B00000JFIF', 'B00000JFMK', 'B00000JHWX', 'B00000JI4F', 'B00000JII6',\n",
              "       'B00000JMUG', 'B00000JPPI', 'B00000JSGF', 'B00000JYLO', 'B00000JYWQ',\n",
              "       'B00000K135'],\n",
              "      dtype='object', name='productId')"
            ]
          },
          "metadata": {},
          "execution_count": 63
        }
      ]
    },
    {
      "cell_type": "code",
      "source": [
        "X1 = X"
      ],
      "metadata": {
        "id": "QTUWuXYnXkQf"
      },
      "execution_count": null,
      "outputs": []
    },
    {
      "cell_type": "code",
      "source": [
        "from sklearn.decomposition import TruncatedSVD\n",
        "SVD = TruncatedSVD(n_components=10)\n",
        "decomposed_matrix = SVD.fit_transform(X)\n",
        "decomposed_matrix.shape"
      ],
      "metadata": {
        "colab": {
          "base_uri": "https://localhost:8080/"
        },
        "id": "4KSGzWKIXluN",
        "outputId": "4ae494e3-5935-49f9-cef5-bf7bfd36abbb"
      },
      "execution_count": null,
      "outputs": [
        {
          "output_type": "execute_result",
          "data": {
            "text/plain": [
              "(76, 10)"
            ]
          },
          "metadata": {},
          "execution_count": 65
        }
      ]
    },
    {
      "cell_type": "code",
      "source": [
        "decomposed_matrix"
      ],
      "metadata": {
        "colab": {
          "base_uri": "https://localhost:8080/"
        },
        "id": "QW7wcRxfXvgp",
        "outputId": "f884c89a-7a6e-4f58-e58b-241e2a742ce1"
      },
      "execution_count": null,
      "outputs": [
        {
          "output_type": "execute_result",
          "data": {
            "text/plain": [
              "array([[ 1.48104508e+02, -1.54620898e-01,  2.45347666e-02,\n",
              "         8.22408202e-05, -1.34160927e-01,  1.90076292e-04,\n",
              "         4.62859502e-02, -5.13531224e-04,  4.87179326e-03,\n",
              "        -8.15744069e-02],\n",
              "       [ 6.46718715e-04,  1.28823330e+00,  1.46467304e+00,\n",
              "         1.89425331e-01,  2.22684975e-03, -4.35688628e-02,\n",
              "        -6.40033352e-02,  1.61709993e-01,  6.09411853e+01,\n",
              "         2.69579166e+00],\n",
              "       [ 2.31474280e-05,  9.93509338e-02,  3.09154819e-01,\n",
              "         9.07078028e-03,  3.87615185e-03, -3.93429734e-03,\n",
              "        -1.12527408e-02, -9.70617376e-02,  1.73304588e+00,\n",
              "         3.70409697e-01],\n",
              "       [ 5.22947703e-04,  7.61564666e-01,  5.13322204e-01,\n",
              "         2.29616618e-02,  3.27184975e-02, -6.24002805e-02,\n",
              "        -2.49950778e-02, -2.71072739e-01,  4.79796612e+00,\n",
              "        -9.62489382e-01],\n",
              "       [ 3.26380761e-04,  8.02182984e-01,  1.01844823e+00,\n",
              "        -1.17477358e-03,  2.35632727e-02, -1.26313226e-01,\n",
              "        -1.70949647e-01,  1.51232148e-01, -1.03954563e+00,\n",
              "        -1.94332927e+00],\n",
              "       [ 2.62253835e-01,  8.72496400e+01, -1.42220894e+01,\n",
              "        -1.15176721e-02,  1.78292425e-03, -4.37947614e-04,\n",
              "        -6.17844535e-03,  6.42880399e-04, -7.85805278e-01,\n",
              "        -4.66796467e-02],\n",
              "       [ 1.02406874e-03,  1.45184616e+01,  8.52283647e+01,\n",
              "        -5.57518701e-02, -2.93887281e-02,  4.86725956e-03,\n",
              "        -7.08195295e-03, -2.68851547e-03, -1.23925154e+00,\n",
              "        -4.42779678e-02],\n",
              "       [ 8.73387088e-06,  6.71863237e-02,  4.02516714e-01,\n",
              "        -5.55097868e-03,  4.11907425e-04, -1.40182385e-02,\n",
              "         8.77668962e-03,  6.70128706e-02,  4.19632407e-01,\n",
              "        -3.67904199e-01],\n",
              "       [ 5.20966792e-04,  7.75737821e-01, -1.01861811e-01,\n",
              "         6.94489157e-04, -1.82766347e-03,  1.59559439e-02,\n",
              "         2.88152462e-03,  9.55773819e-02,  3.70518312e+00,\n",
              "         2.35413897e+00],\n",
              "       [ 4.28319476e-04,  5.59421781e-01,  7.48368925e-01,\n",
              "         1.55810773e-02,  1.41830951e-01,  1.12974516e-01,\n",
              "         6.09830098e-01, -2.13847893e-01,  4.09708182e+00,\n",
              "         2.94462542e+00],\n",
              "       [-1.40320396e-06, -4.65403355e-04, -1.66406802e-04,\n",
              "        -8.28807303e-04, -3.63626826e-04,  8.97049253e-04,\n",
              "         2.58822177e-03, -1.10695746e-02, -1.03052919e-02,\n",
              "         6.14064983e-03],\n",
              "       [-7.37674392e-07, -6.29233834e-04, -3.11523763e-03,\n",
              "         4.55487625e-04, -6.45928601e-04, -3.54566001e-03,\n",
              "        -9.03486767e-03, -2.02851764e-02, -4.14666216e-02,\n",
              "         5.10488835e-02],\n",
              "       [ 4.14491027e-05, -1.89294849e-02, -2.74680737e-02,\n",
              "         2.60938026e-02,  2.81029538e-02,  1.38104519e-01,\n",
              "         1.07248427e-01, -8.20721472e-02,  2.91386652e-01,\n",
              "         1.18044321e+00],\n",
              "       [-6.63206379e-07,  2.97772268e-03,  1.21492470e-03,\n",
              "        -8.33647925e-04, -3.39718189e-03,  7.27088952e-03,\n",
              "         3.96763818e-03,  2.60696420e-02, -4.28166554e-02,\n",
              "         1.03229042e-01],\n",
              "       [-1.48948299e-04,  1.48761435e-02, -4.51431469e-02,\n",
              "        -1.68781742e-02,  4.77725309e-03, -1.36408357e-01,\n",
              "        -2.06518818e-01,  2.98001887e-01, -3.68751168e+00,\n",
              "        -2.61482092e+00],\n",
              "       [-6.99809486e-06,  8.62872795e-04, -4.84166259e-03,\n",
              "        -2.78221720e-03,  1.44651960e-02,  5.21609989e-03,\n",
              "         1.03676062e-02, -1.24423652e-01, -3.54755234e-01,\n",
              "        -5.39082771e-02],\n",
              "       [-2.06023084e-05,  8.33967408e-04,  2.55983825e-03,\n",
              "         5.59384688e-04,  2.90399044e-03, -1.36342210e-02,\n",
              "        -9.99034233e-03, -8.45438377e-02, -7.09134668e-02,\n",
              "         5.33637449e-01],\n",
              "       [-8.63654087e-06,  1.85608825e-04, -1.65015592e-05,\n",
              "         3.04740737e-04, -5.26582647e-04, -1.33795146e-03,\n",
              "        -2.90293269e-03, -1.70654219e-02,  7.22435287e-03,\n",
              "         9.45575440e-02],\n",
              "       [-4.39887331e-06, -2.95993702e-06, -5.37842456e-04,\n",
              "        -7.61816067e-04, -3.20162213e-04,  9.12373916e-05,\n",
              "        -5.09966832e-03, -7.36543592e-03,  3.89772773e-02,\n",
              "         4.98816754e-03],\n",
              "       [ 2.02689934e-01,  2.24488711e-03, -7.27950055e-03,\n",
              "        -5.23250324e-03,  1.05228241e-03, -5.09612828e-02,\n",
              "        -6.69091857e-02,  1.47043488e-01, -3.37659578e+00,\n",
              "         5.99364836e+01],\n",
              "       [ 1.87410458e-06,  2.30395302e-04,  5.10244362e-04,\n",
              "        -2.17604745e-05, -5.82480057e-05,  5.53392662e-04,\n",
              "         7.87699375e-04,  5.82505820e-03,  7.83986567e-03,\n",
              "        -1.08299910e-02],\n",
              "       [-1.37480611e-06,  1.12923770e-03,  2.58625500e-03,\n",
              "         7.15076524e-04, -3.76113604e-04,  1.05427396e-02,\n",
              "         1.06767403e-02, -1.46246781e-02,  4.07360909e-02,\n",
              "         1.64914543e-01],\n",
              "       [-2.57740501e-05,  1.90393534e-03,  4.21650312e-05,\n",
              "         3.68009549e-03, -2.14835870e-03, -1.35493564e-03,\n",
              "        -2.65150553e-02, -9.18695419e-03,  1.34921752e-02,\n",
              "         2.69852172e-01],\n",
              "       [ 1.86388909e-01,  7.14174202e-03,  1.25881643e-02,\n",
              "        -1.38700582e-02,  3.65569480e-01, -4.26350678e-02,\n",
              "        -2.48565275e-01,  2.38554850e-01,  7.03505010e-01,\n",
              "        -2.68605014e-01],\n",
              "       [ 3.39980798e-07,  1.12799855e-04,  4.92257607e-04,\n",
              "         6.91692921e-03,  1.06374690e-06,  1.50368469e-03,\n",
              "        -2.79681091e-04,  4.41687883e-01,  9.41194423e-03,\n",
              "         4.50899964e-03],\n",
              "       [ 3.38138872e-04,  6.84756120e-03, -2.05727927e-02,\n",
              "        -6.38938916e-03,  9.33615674e-03,  5.46689764e-01,\n",
              "        -8.96155294e-02,  1.64983825e-01, -1.19624838e+00,\n",
              "        -1.96916134e+00],\n",
              "       [-2.09646998e-07,  1.81996129e-02,  5.02923022e-02,\n",
              "         8.50827381e+01,  2.45368050e-02, -2.21216562e-02,\n",
              "         1.04056662e-03, -1.37551702e+00, -1.39454536e-01,\n",
              "        -2.94704827e-03],\n",
              "       [-9.43243588e-07, -1.75334518e-04,  3.07078987e-04,\n",
              "         2.33044822e-04, -8.55995133e-05, -6.33291591e-04,\n",
              "         1.75703588e-03, -5.19928186e-03,  2.08740022e-02,\n",
              "        -2.14430453e-03],\n",
              "       [ 6.19237557e-07,  2.42686295e-04, -2.28638693e-05,\n",
              "        -1.24797300e-04,  1.08641633e-03, -1.54416875e-04,\n",
              "         4.80055820e-03,  7.39728495e-03, -1.02213406e-02,\n",
              "        -1.91099907e-02],\n",
              "       [ 6.36501235e-06, -1.47161414e-03,  4.24473517e-03,\n",
              "         1.70146605e+00,  1.66270843e-03,  3.78615132e-01,\n",
              "         2.31419081e-02,  6.87923409e+01, -6.99815830e-02,\n",
              "        -8.72954488e-02],\n",
              "       [-1.53531754e-07,  1.57505619e-05, -2.83123200e-04,\n",
              "         2.50519039e-04,  1.61505153e-04,  8.24377955e-04,\n",
              "         1.04504039e-03,  1.00637454e-03, -8.64778108e-03,\n",
              "         1.83418247e-02],\n",
              "       [ 8.80347807e-07,  1.05508307e-04,  2.62920076e-04,\n",
              "         6.32913833e-05, -8.19804369e-05,  1.08808344e-03,\n",
              "         1.51328548e-03,  5.88330740e-05,  5.69420631e-03,\n",
              "         9.57905487e-03],\n",
              "       [-2.56356213e-07,  1.29509703e-04,  4.10244598e-04,\n",
              "         1.29103197e-04, -2.61623565e-04,  5.02695775e-04,\n",
              "         4.07671062e-04,  2.85934048e-03,  1.82287690e-02,\n",
              "         9.05186789e-03],\n",
              "       [ 1.88476446e-09,  1.17202005e-06,  3.36176934e-06,\n",
              "         2.10255481e-08,  1.18087148e-06, -5.61329514e-06,\n",
              "        -4.04120750e-06,  4.07822167e-05,  2.26061401e-05,\n",
              "        -1.98997689e-04],\n",
              "       [-5.25664572e-07,  1.02798200e-04, -5.84554646e-04,\n",
              "        -1.98416077e-04,  3.24929834e-04, -1.24316248e-03,\n",
              "        -1.26005827e-03,  1.09741733e-02, -7.57147208e-03,\n",
              "        -4.63200718e-02],\n",
              "       [ 1.32002581e-06,  1.78177749e-03,  4.52672918e-03,\n",
              "        -1.69443282e-03, -2.94046733e-03,  1.80115069e-03,\n",
              "         1.75446874e-02,  4.68841001e-02,  3.96456890e-02,\n",
              "        -1.74634764e-02],\n",
              "       [ 1.07484099e-04, -4.80438588e-03,  1.82447311e-02,\n",
              "        -8.73988885e-03, -1.35493752e-02,  2.86749162e-02,\n",
              "         1.28700421e-02,  1.22359046e-01, -4.65327133e-01,\n",
              "        -1.98735280e+00],\n",
              "       [ 3.97102682e-06,  2.27521247e-04,  6.62434482e-04,\n",
              "        -9.10022612e-04, -4.16135147e-04,  6.34826421e-03,\n",
              "        -1.18467381e-03,  2.18670532e-02, -4.85344215e-02,\n",
              "        -1.60819991e-01],\n",
              "       [ 2.35792155e-04, -1.13150978e-04,  5.47592784e-04,\n",
              "         1.30833740e-04,  2.42373112e-01,  3.47744175e-03,\n",
              "        -1.08043316e-01, -1.21029287e-03,  2.65430288e-02,\n",
              "         3.23756226e-02],\n",
              "       [ 1.37216269e-05,  5.76822061e-03,  1.94446489e-02,\n",
              "        -1.37732768e-03, -1.84767858e-02,  1.19820396e-02,\n",
              "         4.39591125e-02,  8.66716934e-02,  7.91671043e-01,\n",
              "         6.22120327e-02],\n",
              "       [ 2.35815142e-04,  1.33435626e-03,  1.76508015e-03,\n",
              "        -9.62063411e-04,  1.09981196e-01, -1.73182126e-03,\n",
              "         3.03853035e-01,  2.36576651e-02,  6.83058028e-02,\n",
              "        -9.33621126e-02],\n",
              "       [ 2.53629964e-04, -2.29939854e-02,  6.41573363e-02,\n",
              "         2.34788391e-02,  7.36937974e-03,  1.14735767e-01,\n",
              "         1.99499362e-01, -6.34952271e-01,  8.90030027e-01,\n",
              "        -4.11242432e-01],\n",
              "       [ 1.03130413e-04, -4.38057413e-03,  3.66065471e-02,\n",
              "         1.70288906e-03, -8.49232813e-03,  4.17122983e-03,\n",
              "         3.80679775e-02, -1.55566027e-01,  3.79411747e-01,\n",
              "        -1.02185487e+00],\n",
              "       [ 2.13216298e-06,  4.00361060e-04,  6.13782468e-04,\n",
              "         5.43098942e-05,  3.89455850e-04,  1.11020186e-03,\n",
              "         1.52897998e-03,  6.73464553e-03, -1.22000727e-02,\n",
              "         3.64186438e-03],\n",
              "       [ 1.07538295e-04,  1.70138426e-02,  1.98835058e-02,\n",
              "        -5.21672285e-03, -1.27033846e-02,  1.38186514e-03,\n",
              "         5.17058671e-02,  3.95016161e-01, -2.98956361e-01,\n",
              "        -1.33139642e+00],\n",
              "       [-1.68214161e-05,  1.93690020e-03,  1.18290340e-02,\n",
              "         1.09666416e-04, -8.09384156e-03, -1.36586057e-02,\n",
              "         6.35820988e-02, -2.80787877e-01, -2.21374333e-02,\n",
              "         1.65544454e+00],\n",
              "       [ 2.49017776e-01, -1.34404177e-03,  2.39221971e-02,\n",
              "        -2.21986431e-02,  7.85344975e+01, -4.04429441e-02,\n",
              "        -2.94110234e+01,  6.09012151e-03, -3.22986201e-02,\n",
              "        -3.52385488e-02],\n",
              "       [-7.99036495e-06, -6.90587437e-04, -1.88942990e-03,\n",
              "         6.87835352e-04,  1.46827011e-03,  1.83817223e-03,\n",
              "         3.55914004e-03, -4.92107150e-02, -3.28970065e-02,\n",
              "         1.26385407e-01],\n",
              "       [-3.14105455e-06, -8.60981471e-04, -3.25328844e-04,\n",
              "         5.96351741e-03, -2.15160303e-03,  2.51807002e-03,\n",
              "         3.23310502e-03,  3.85532640e-01,  7.55994306e-02,\n",
              "         4.95237097e-02],\n",
              "       [ 8.28613847e-07,  1.37562043e-04,  2.44152647e-04,\n",
              "        -5.92507938e-05,  2.50529603e-05, -2.78912982e-04,\n",
              "        -8.67537489e-04,  1.79941114e-03, -3.04746777e-03,\n",
              "        -7.74636780e-03],\n",
              "       [-3.41539814e-06, -2.36588853e-03,  2.09925800e-03,\n",
              "         6.04785021e-04,  1.81241352e-04, -5.04715848e-03,\n",
              "         2.31079579e-02, -3.70872510e-02,  2.18931463e-01,\n",
              "        -8.89521733e-02],\n",
              "       [ 5.23464588e-06,  6.69040151e-04,  7.58284851e-04,\n",
              "        -7.58433322e-04,  2.80096611e-03,  7.22287005e-03,\n",
              "         2.57323612e-03, -3.38173285e-03, -2.18196539e-01,\n",
              "        -4.64260922e-02],\n",
              "       [-2.37009064e-05, -1.26030552e-02,  8.32099128e-03,\n",
              "         6.05545582e-03, -4.29245847e-03, -2.27471360e-02,\n",
              "         6.51221006e-02, -2.12908954e-01,  1.05307630e+00,\n",
              "        -3.86228259e-01],\n",
              "       [ 1.89708545e-04, -7.21609689e-03, -1.51427315e-02,\n",
              "         4.22989003e-03,  6.12813998e-03, -1.67876922e-02,\n",
              "        -1.87882235e-02,  1.10127828e-01, -9.63916111e-02,\n",
              "        -5.96708252e-01],\n",
              "       [-6.62988713e-06,  2.36101645e-03,  8.14037203e-03,\n",
              "        -3.85631510e-03,  1.05984393e-03, -2.34290002e-03,\n",
              "         5.32674329e-03, -9.44884659e-03,  4.38425544e-02,\n",
              "        -2.01794120e-02],\n",
              "       [-9.68718333e-06,  8.19979094e-03,  1.00032588e-02,\n",
              "        -2.10767136e-03,  3.02521416e-03, -1.30943679e-02,\n",
              "         1.23185329e-02,  3.04732323e-02, -1.61646353e-01,\n",
              "         1.17488055e-01],\n",
              "       [-2.01337507e-06, -9.36043809e-05, -7.80157495e-04,\n",
              "        -3.32283853e-04, -1.88925165e-04, -9.87429722e-04,\n",
              "        -1.00667951e-03, -6.14627409e-03, -1.49994639e-02,\n",
              "        -1.08662478e-03],\n",
              "       [ 5.81013311e-07, -5.71645624e-05, -2.27912404e-04,\n",
              "         5.47192833e-03,  6.01122067e-05,  5.70541196e-04,\n",
              "        -3.30925389e-04,  3.62537004e-01, -5.02276992e-03,\n",
              "        -2.42142981e-03],\n",
              "       [-8.42949790e-07,  4.28141442e-04,  6.62129385e-04,\n",
              "         8.12047615e-05, -2.48101062e-04,  3.28700720e-04,\n",
              "         1.54472420e-03, -1.23228848e-03,  1.56320816e-02,\n",
              "         4.35274327e-02],\n",
              "       [ 8.99634528e-06,  1.55938754e-03,  4.69544395e-03,\n",
              "         2.60796469e-04,  2.02385180e-03,  1.87026195e-03,\n",
              "         9.77596433e-03,  2.96505011e-02,  3.96574826e-03,\n",
              "         1.07813052e-02],\n",
              "       [-1.84613035e-05,  7.23608294e-05,  5.72868172e-04,\n",
              "        -8.63051141e-04, -1.25149184e-03, -3.37543899e-03,\n",
              "        -1.27902629e-02, -5.39804861e-02,  1.30667411e-01,\n",
              "         9.30014783e-02],\n",
              "       [ 7.47355835e-03,  7.29104892e-03,  1.42341069e-02,\n",
              "        -1.12786563e-02,  3.25896741e+01, -2.44009018e-02,\n",
              "         7.08382489e+01, -1.75298933e-02, -2.59180725e-02,\n",
              "        -1.66956975e-02],\n",
              "       [ 7.43411267e-04, -1.05674002e-02,  3.65190113e-02,\n",
              "         1.95697772e-02,  1.12823164e+00,  6.67238941e-01,\n",
              "         7.80881044e-01, -1.23062367e-01,  2.22751983e+00,\n",
              "         2.84745772e+00],\n",
              "       [-8.15159064e-07, -7.74414087e-06, -3.79225463e-04,\n",
              "         1.43590417e-06,  1.04413545e-03,  1.20907009e-04,\n",
              "         2.94690717e-03,  4.56791018e-04, -6.79189282e-03,\n",
              "        -2.32776304e-03],\n",
              "       [-6.47773002e-08, -3.87859464e-05, -1.18452621e-04,\n",
              "        -2.73319623e-05, -2.09331761e-05, -1.89675978e-04,\n",
              "        -1.97770682e-04, -8.90410954e-05, -5.66598554e-04,\n",
              "        -2.17466171e-03],\n",
              "       [ 1.06860686e-07,  4.55594659e-04,  6.00286480e-04,\n",
              "        -1.29137733e-03,  4.11510052e-04, -1.60492058e-03,\n",
              "         7.97905039e-05,  2.08915978e-03, -2.12873356e-02,\n",
              "        -3.54414921e-02],\n",
              "       [-7.45829053e-06, -9.37965884e-04, -1.24200005e-03,\n",
              "        -1.96763532e-03, -2.53634367e-03, -3.45479866e-03,\n",
              "        -1.69122442e-04, -2.88710467e-02,  1.50103888e-01,\n",
              "        -1.73401931e-02],\n",
              "       [ 2.89061742e-06, -4.90143822e-04,  9.24402083e-05,\n",
              "         1.94152445e-03,  4.95550428e-03,  8.40258412e-03,\n",
              "         5.51094252e-03,  2.13527865e-03,  5.76090187e-02,\n",
              "         6.84898067e-02],\n",
              "       [-2.57818628e-06,  1.37079990e-03, -3.67242423e-03,\n",
              "         1.52269968e-02,  4.00214181e-02,  8.05122402e+01,\n",
              "        -1.11821708e-03, -3.21864837e-01,  9.05078439e-03,\n",
              "         1.57684319e-02],\n",
              "       [-2.76611441e-07,  1.60035863e-05,  8.99811206e-06,\n",
              "         4.57213713e-06, -4.87124687e-06, -2.18296517e-04,\n",
              "        -2.22504127e-04, -1.17622361e-03, -3.36940525e-03,\n",
              "         5.78105012e-03],\n",
              "       [ 6.27980796e-08,  3.65656896e-05,  1.33833586e-05,\n",
              "        -1.56309175e-05,  1.33454061e-05, -8.05575371e-05,\n",
              "        -1.08677551e-04,  9.42654898e-04,  2.91903016e-04,\n",
              "        -2.74725718e-03],\n",
              "       [-1.06923645e-07,  6.38646129e-05, -1.29898661e-04,\n",
              "        -1.13738706e-04,  3.57684336e-05,  1.28426792e-03,\n",
              "        -6.35994983e-04,  1.05312486e-03, -5.72362076e-03,\n",
              "        -1.32499884e-02],\n",
              "       [-2.69149334e-05,  8.61218808e-03, -1.89616874e-02,\n",
              "        -9.43749174e-03,  3.18264248e-01, -2.53797273e-02,\n",
              "         9.79355951e-01,  3.76949612e-01, -7.75073268e-01,\n",
              "        -8.00744151e-01],\n",
              "       [ 1.78961746e-04,  1.71711347e-03, -7.67478992e-04,\n",
              "        -1.05881747e-03,  2.18861283e-03, -2.00207477e-03,\n",
              "         3.49365849e-03,  1.42312053e-02,  6.73237862e-02,\n",
              "        -3.59920075e-02],\n",
              "       [-5.39699797e-06, -3.28169062e-04, -3.10742562e-04,\n",
              "         1.42060047e-03, -6.00904825e-04, -7.57975485e-03,\n",
              "        -2.46031510e-03, -7.52111002e-03,  4.48975399e-02,\n",
              "         3.97238256e-02],\n",
              "       [ 5.98186933e-06,  1.12873828e-03,  2.57625939e-03,\n",
              "        -2.49226776e-05,  1.45717137e-04,  1.17269263e-03,\n",
              "         4.98230387e-03,  3.17984730e-02,  2.50910867e-02,\n",
              "        -3.80323376e-02]])"
            ]
          },
          "metadata": {},
          "execution_count": 66
        }
      ]
    },
    {
      "cell_type": "code",
      "source": [
        "correlation_matrix = np.corrcoef(decomposed_matrix)\n",
        "correlation_matrix.shape"
      ],
      "metadata": {
        "colab": {
          "base_uri": "https://localhost:8080/"
        },
        "id": "BiEAjxiuXzZN",
        "outputId": "0989796f-6c66-4664-a5f6-1c7f08e378da"
      },
      "execution_count": null,
      "outputs": [
        {
          "output_type": "execute_result",
          "data": {
            "text/plain": [
              "(76, 76)"
            ]
          },
          "metadata": {},
          "execution_count": 67
        }
      ]
    },
    {
      "cell_type": "code",
      "source": [
        "X.index[75]"
      ],
      "metadata": {
        "colab": {
          "base_uri": "https://localhost:8080/",
          "height": 36
        },
        "id": "cV9zpL9lX5Oi",
        "outputId": "f871b901-c20c-4fb2-f381-aaf50df32e8b"
      },
      "execution_count": null,
      "outputs": [
        {
          "output_type": "execute_result",
          "data": {
            "text/plain": [
              "'B00000K135'"
            ],
            "application/vnd.google.colaboratory.intrinsic+json": {
              "type": "string"
            }
          },
          "metadata": {},
          "execution_count": 68
        }
      ]
    },
    {
      "cell_type": "code",
      "source": [
        "i = X.index[75]\n",
        "\n",
        "product_names = list(X.index)\n",
        "product_ID = product_names.index(i) # index 구하기\n",
        "product_ID"
      ],
      "metadata": {
        "colab": {
          "base_uri": "https://localhost:8080/"
        },
        "id": "rx0mMQMvX6sZ",
        "outputId": "d8147d04-99ac-4baa-f57a-d097692fe37b"
      },
      "execution_count": null,
      "outputs": [
        {
          "output_type": "execute_result",
          "data": {
            "text/plain": [
              "75"
            ]
          },
          "metadata": {},
          "execution_count": 69
        }
      ]
    },
    {
      "cell_type": "code",
      "source": [
        "correlation_product_ID = correlation_matrix[product_ID]\n",
        "correlation_product_ID.shape"
      ],
      "metadata": {
        "colab": {
          "base_uri": "https://localhost:8080/"
        },
        "id": "n8oHi7D2YB3n",
        "outputId": "16dcec6f-adea-41dc-efeb-2054d43806bc"
      },
      "execution_count": null,
      "outputs": [
        {
          "output_type": "execute_result",
          "data": {
            "text/plain": [
              "(76,)"
            ]
          },
          "metadata": {},
          "execution_count": 70
        }
      ]
    },
    {
      "cell_type": "code",
      "source": [
        "correlation_product_ID"
      ],
      "metadata": {
        "colab": {
          "base_uri": "https://localhost:8080/"
        },
        "id": "rGgoLQ5gYImh",
        "outputId": "88374df8-08b2-424f-bade-50e0677b96af"
      },
      "execution_count": null,
      "outputs": [
        {
          "output_type": "execute_result",
          "data": {
            "text/plain": [
              "array([-0.0544976 ,  0.39413114,  0.22411961,  0.52138115,  0.42087322,\n",
              "       -0.03507138, -0.0173883 ,  0.70706858, -0.05876908, -0.15227008,\n",
              "       -0.89703201, -0.94760036, -0.71975416, -0.72267818,  0.14979677,\n",
              "       -0.48927974, -0.88020176, -0.82044335,  0.20413594, -0.79931172,\n",
              "        0.98035797, -0.72437307, -0.77251366,  0.65312721,  0.5559973 ,\n",
              "        0.46808241, -0.06513157,  0.3472852 ,  0.61584896,  0.55354128,\n",
              "       -0.83098142, -0.49076408,  0.11798875,  0.89187611,  0.80574292,\n",
              "        0.90373559,  0.7076074 ,  0.69719514, -0.11574652,  0.43555142,\n",
              "        0.36248461,  0.28018373,  0.77129196, -0.28216657,  0.78438189,\n",
              "       -0.85282936, -0.0608713 , -0.95759697,  0.54322109,  0.68055707,\n",
              "        0.57125334, -0.26640018,  0.53188441,  0.79292298,  0.56229441,\n",
              "       -0.66788827, -0.59482709,  0.55089395, -0.63187342,  0.34514776,\n",
              "       -0.2763528 ,  0.015119  , -0.42717716, -0.09222394,  0.67289704,\n",
              "        0.50451399,  0.38776654, -0.3491662 , -0.03507591, -0.92232169,\n",
              "        0.92118803,  0.59590597,  0.3213253 ,  0.80518939, -0.2666698 ,\n",
              "        1.        ])"
            ]
          },
          "metadata": {},
          "execution_count": 71
        }
      ]
    },
    {
      "cell_type": "code",
      "source": [
        "Recommend = list(X.index[correlation_product_ID > 0.65]) # 피어슨 상관계수가 0.65보다 큰 상품들의 index의 list return\n",
        "Recommend.remove(i) # 이미 구입한 상품은 뺀다\n",
        "Recommend[0:24] # 상위 24개 추천"
      ],
      "metadata": {
        "colab": {
          "base_uri": "https://localhost:8080/"
        },
        "id": "dkMzIJeyYLVt",
        "outputId": "dbcff5bb-9a6c-42ec-f4b2-38dae06048bd"
      },
      "execution_count": null,
      "outputs": [
        {
          "output_type": "execute_result",
          "data": {
            "text/plain": [
              "['1400532736',\n",
              " '9984984354',\n",
              " 'B000001OM5',\n",
              " 'B00000J0D8',\n",
              " 'B00000J1EJ',\n",
              " 'B00000J1EP',\n",
              " 'B00000J1EQ',\n",
              " 'B00000J1F3',\n",
              " 'B00000J1TX',\n",
              " 'B00000J1UQ',\n",
              " 'B00000J3UJ',\n",
              " 'B00000J4GE',\n",
              " 'B00000JFE3',\n",
              " 'B00000JMUG',\n",
              " 'B00000JYLO']"
            ]
          },
          "metadata": {},
          "execution_count": 72
        }
      ]
    },
    {
      "cell_type": "code",
      "source": [
        "Recommend"
      ],
      "metadata": {
        "colab": {
          "base_uri": "https://localhost:8080/"
        },
        "id": "Eu5wAIljYT6q",
        "outputId": "e3a10ac0-cc87-424a-9e96-ba84f5fa2f58"
      },
      "execution_count": null,
      "outputs": [
        {
          "output_type": "execute_result",
          "data": {
            "text/plain": [
              "['1400532736',\n",
              " '9984984354',\n",
              " 'B000001OM5',\n",
              " 'B00000J0D8',\n",
              " 'B00000J1EJ',\n",
              " 'B00000J1EP',\n",
              " 'B00000J1EQ',\n",
              " 'B00000J1F3',\n",
              " 'B00000J1TX',\n",
              " 'B00000J1UQ',\n",
              " 'B00000J3UJ',\n",
              " 'B00000J4GE',\n",
              " 'B00000JFE3',\n",
              " 'B00000JMUG',\n",
              " 'B00000JYLO']"
            ]
          },
          "metadata": {},
          "execution_count": 73
        }
      ]
    }
  ]
}