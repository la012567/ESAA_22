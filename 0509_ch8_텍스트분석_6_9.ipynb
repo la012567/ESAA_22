{
  "nbformat": 4,
  "nbformat_minor": 0,
  "metadata": {
    "colab": {
      "name": "0509_ch8_텍스트분석_6~9.ipynb",
      "provenance": [],
      "collapsed_sections": []
    },
    "kernelspec": {
      "name": "python3",
      "display_name": "Python 3"
    },
    "language_info": {
      "name": "python"
    }
  },
  "cells": [
    {
      "cell_type": "markdown",
      "source": [
        "## **파이썬 머신러닝 완벽 가이드 CH8. 6~9**"
      ],
      "metadata": {
        "id": "ppAro60jn2Hd"
      }
    },
    {
      "cell_type": "markdown",
      "source": [
        "0509 월요일 과제 [개념 + 필사]"
      ],
      "metadata": {
        "id": "sLg03M8doGBj"
      }
    },
    {
      "cell_type": "markdown",
      "source": [
        "### **06 토픽 모델링(Topic Modeling) - 20 뉴스 그룹**"
      ],
      "metadata": {
        "id": "dydrs8hroKGJ"
      }
    },
    {
      "cell_type": "markdown",
      "source": [
        "**토픽 모델링(Topic Modeling)**: 문서 집합에 숨어 있는 주제를 찾아내는 것. 머신 러닝 기반의 토픽 모델은 숨겨진 주제를 효과적으로 표현할 수 있는 **중심 단어**를 함축적으로 추출."
      ],
      "metadata": {
        "id": "62nwfGjnq7jW"
      }
    },
    {
      "cell_type": "markdown",
      "source": [
        "* LDA(Latent Dirichlet Allocation) != LDA(Linear Discriminant Analysis)\n",
        "* LSA(Latent Semantic Analysis)"
      ],
      "metadata": {
        "id": "SakBl2mprFAU"
      }
    },
    {
      "cell_type": "code",
      "source": [
        "from sklearn.datasets import fetch_20newsgroups\n",
        "from sklearn.feature_extraction.text import CountVectorizer\n",
        "from sklearn.decomposition import LatentDirichletAllocation\n",
        "\n",
        "# 모토사이클, 야구, 그래픽스, 윈도우즈, 중동, 기독교, 전자공학, 의학 8개 주제를 추출.\n",
        "cats = ['rec.motorcycles', 'rec.sport.baseball','comp.graphics','comp.windows.x',\n",
        "        'talk.politics.mideast','soc.religion.christian','sci.electronics','sci.med']\n",
        "\n",
        "# 위에서 cats 변수로 기재된 카테고리만 추출. fetch_20newsgroups()의 categories에 cats 입력\n",
        "news_df = fetch_20newsgroups(subset='all', remove=('headers','footers','quotes'),\n",
        "                             categories=cats, random_state=0)\n",
        "\n",
        "# LDA는 Count기반의 벡터화만 적용합니다.\n",
        "count_vect = CountVectorizer(max_df=0.95, max_features=1000, min_df=2, stop_words='english',\n",
        "                             ngram_range=(1,2))\n",
        "\n",
        "feat_vect = count_vect.fit_transform(news_df.data)\n",
        "print('CountVectorizer Shape:', feat_vect.shape)"
      ],
      "metadata": {
        "colab": {
          "base_uri": "https://localhost:8080/"
        },
        "id": "Acgu-Av5n-Ha",
        "outputId": "eefa3510-9300-44ba-c051-8ec25b3799ca"
      },
      "execution_count": 5,
      "outputs": [
        {
          "output_type": "stream",
          "name": "stdout",
          "text": [
            "CountVectorizer Shape: (7862, 1000)\n"
          ]
        }
      ]
    },
    {
      "cell_type": "markdown",
      "source": [
        "7862개의 문서, 1000개의 피처로 구성."
      ],
      "metadata": {
        "id": "dRLFiD5ArXpy"
      }
    },
    {
      "cell_type": "code",
      "source": [
        "# 피처화된 데이터 세트를 기반으로 LDA 토픽 모델링 수행\n",
        "lda = LatentDirichletAllocation(n_components=8, random_state=0)\n",
        "lda.fit(feat_vect)"
      ],
      "metadata": {
        "colab": {
          "base_uri": "https://localhost:8080/"
        },
        "id": "Ba_4O_xDpbXE",
        "outputId": "1fc15dd1-b105-488d-a3eb-8ff374bdc787"
      },
      "execution_count": 6,
      "outputs": [
        {
          "output_type": "execute_result",
          "data": {
            "text/plain": [
              "LatentDirichletAllocation(n_components=8, random_state=0)"
            ]
          },
          "metadata": {},
          "execution_count": 6
        }
      ]
    },
    {
      "cell_type": "code",
      "source": [
        "print(lda.components_.shape)\n",
        "lda.components_"
      ],
      "metadata": {
        "colab": {
          "base_uri": "https://localhost:8080/"
        },
        "id": "ZQiSFKOgp1QB",
        "outputId": "e74e1805-3e22-4029-e309-6a8c3eeecbd0"
      },
      "execution_count": 7,
      "outputs": [
        {
          "output_type": "stream",
          "name": "stdout",
          "text": [
            "(8, 1000)\n"
          ]
        },
        {
          "output_type": "execute_result",
          "data": {
            "text/plain": [
              "array([[3.60992018e+01, 1.35626798e+02, 2.15751867e+01, ...,\n",
              "        3.02911688e+01, 8.66830093e+01, 6.79285199e+01],\n",
              "       [1.25199920e-01, 1.44401815e+01, 1.25045596e-01, ...,\n",
              "        1.81506995e+02, 1.25097844e-01, 9.39593286e+01],\n",
              "       [3.34762663e+02, 1.25176265e-01, 1.46743299e+02, ...,\n",
              "        1.25105772e-01, 3.63689741e+01, 1.25025218e-01],\n",
              "       ...,\n",
              "       [3.60204965e+01, 2.08640688e+01, 4.29606813e+00, ...,\n",
              "        1.45056650e+01, 8.33854413e+00, 1.55690009e+01],\n",
              "       [1.25128711e-01, 1.25247756e-01, 1.25005143e-01, ...,\n",
              "        9.17278769e+01, 1.25177668e-01, 3.74575887e+01],\n",
              "       [5.49258690e+01, 4.47009532e+00, 9.88524814e+00, ...,\n",
              "        4.87048440e+01, 1.25034678e-01, 1.25074632e-01]])"
            ]
          },
          "metadata": {},
          "execution_count": 7
        }
      ]
    },
    {
      "cell_type": "code",
      "source": [
        "def display_topics(model, feature_names, no_top_words):\n",
        "    for topic_index, topic in enumerate(model.components_):\n",
        "        print('Topic #', topic_index)\n",
        "\n",
        "        # components_array에서 가장 값이 큰 순으로 정렬했을 때, 그 값의 array 인덱스를 반환.\n",
        "        topic_word_indexes = topic.argsort()[::-1]\n",
        "        top_indexes = topic_word_indexes[:no_top_words]\n",
        "\n",
        "        # top_indexes 대상인 인덱스별로 feature_names에 해당하는 word feature 추출 후 join으로 concat\n",
        "        feature_concat = ' '.join([feature_names[i] for i in top_indexes])\n",
        "        print(feature_concat)\n",
        "\n",
        "# CountVectorizer 객체 내의 전체 word의 명칭을 get_feature_names()를 통해 추출\n",
        "feature_names = count_vect.get_feature_names()\n",
        "\n",
        "# 토픽별 가장 연관도가 높은 word를 15개만 추출\n",
        "display_topics(lda, feature_names, 15)"
      ],
      "metadata": {
        "colab": {
          "base_uri": "https://localhost:8080/"
        },
        "id": "ls7j8yxzp5Gw",
        "outputId": "49ba1d01-00dc-4b6b-a25e-c1bab484b0f3"
      },
      "execution_count": 9,
      "outputs": [
        {
          "output_type": "stream",
          "name": "stdout",
          "text": [
            "Topic # 0\n",
            "year 10 game medical health team 12 20 disease cancer 1993 games years patients good\n",
            "Topic # 1\n",
            "don just like know people said think time ve didn right going say ll way\n",
            "Topic # 2\n",
            "image file jpeg program gif images output format files color entry 00 use bit 03\n",
            "Topic # 3\n",
            "like know don think use does just good time book read information people used post\n",
            "Topic # 4\n",
            "armenian israel armenians jews turkish people israeli jewish government war dos dos turkey arab armenia 000\n",
            "Topic # 5\n",
            "edu com available graphics ftp data pub motif mail widget software mit information version sun\n",
            "Topic # 6\n",
            "god people jesus church believe christ does christian say think christians bible faith sin life\n",
            "Topic # 7\n",
            "use dos thanks windows using window does display help like problem server need know run\n"
          ]
        },
        {
          "output_type": "stream",
          "name": "stderr",
          "text": [
            "/usr/local/lib/python3.7/dist-packages/sklearn/utils/deprecation.py:87: FutureWarning: Function get_feature_names is deprecated; get_feature_names is deprecated in 1.0 and will be removed in 1.2. Please use get_feature_names_out instead.\n",
            "  warnings.warn(msg, category=FutureWarning)\n"
          ]
        }
      ]
    },
    {
      "cell_type": "markdown",
      "source": [
        "모토사이클, 야구, 그래픽스, 윈도우즈, 중동, 기독교, 전자공학, 의학 \n",
        "* Topic 0: 의학 \n",
        "* Topic 1: 일반적인 단어\n",
        "* Topic 2: 전자공학 \n",
        "* Topic 3: 일반적인 단어\n",
        "* Topic 4: 중동 분쟁 \n",
        "* Topic 5: 그래픽스\n",
        "* Topic 6: 기독교 \n",
        "* Topic 7: 일부는 윈도우 운영 체제 \n",
        "* 모토사이클, 야구의 경우는 명확한 주제어가 추출되지 않았음.\n"
      ],
      "metadata": {
        "id": "wv1tlhCBr0ej"
      }
    },
    {
      "cell_type": "markdown",
      "source": [
        "### **08 문서 유사도**"
      ],
      "metadata": {
        "id": "6udj1fDLt-hd"
      }
    },
    {
      "cell_type": "markdown",
      "source": [
        "#### **문서 유사도 측정 방법 - 코사인 유사도**"
      ],
      "metadata": {
        "id": "WrFT9tpPubDd"
      }
    },
    {
      "cell_type": "markdown",
      "source": [
        "* 벡터와 벡터 간의 유사도를 비교할 때 벡터의 크기보다 벡터의 상호 방향성이 얼마나 유사한지에 기반.\n",
        "* 두 벡터 사이의 사잇각을 구해서 얼마나 유사한지 수치로 환산."
      ],
      "metadata": {
        "id": "K9SXcKpqud4J"
      }
    },
    {
      "cell_type": "markdown",
      "source": [
        "**두 벡터 사잇각**"
      ],
      "metadata": {
        "id": "xzBKv3cWulXH"
      }
    },
    {
      "cell_type": "markdown",
      "source": [
        "![image.png](data:image/png;base64,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)"
      ],
      "metadata": {
        "id": "26UuJttXunnz"
      }
    },
    {
      "cell_type": "markdown",
      "source": [
        "두 벡터 A, B의 내적 값"
      ],
      "metadata": {
        "id": "qJAA1YsourPX"
      }
    },
    {
      "cell_type": "markdown",
      "source": [
        "![image.png](data:image/png;base64,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)"
      ],
      "metadata": {
        "id": "ce0dOwEAu5ns"
      }
    },
    {
      "cell_type": "markdown",
      "source": [
        "유사도 cosθ"
      ],
      "metadata": {
        "id": "djUPSxo0u8Cc"
      }
    },
    {
      "cell_type": "markdown",
      "source": [
        "![image.png](data:image/png;base64,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)"
      ],
      "metadata": {
        "id": "1kOSKuZTvBPS"
      }
    },
    {
      "cell_type": "markdown",
      "source": [
        "코사인 유사도가 문사의 유사도 비교에 가장 많이 사용되는 이유\n",
        "* 문서를 피처 벡터화 변환하면 차원이 많은 희소행렬이 되기 쉬운데, 이를 방지하기 위함.\n",
        "* 문서가 매우 긴 경우 빈도수에만 기반해서는 공정한 비교를 할 수 없음."
      ],
      "metadata": {
        "id": "9HpUCW8UvD6k"
      }
    },
    {
      "cell_type": "code",
      "source": [
        "import numpy as np\n",
        "\n",
        "def cos_similarity(v1, v2):\n",
        "    dot_product = np.dot(v1,v2)\n",
        "    l2_norm = (np.sqrt(sum(np.square(v1))) * np.sqrt(sum(np.square(v2))))\n",
        "    similarity = dot_product / l2_norm\n",
        "\n",
        "    return similarity"
      ],
      "metadata": {
        "id": "BXgNZzYKuDrX"
      },
      "execution_count": 10,
      "outputs": []
    },
    {
      "cell_type": "code",
      "source": [
        "from sklearn.feature_extraction.text import TfidfVectorizer\n",
        "\n",
        "doc_list = ['if you take the blue pill, the story ends',\n",
        "            'if you take the red pill, you stay in Wonderland',\n",
        "            'if you take the red pill, I show you how deep the rabbit hole goes']\n",
        "\n",
        "tfidf_vect_simple = TfidfVectorizer()\n",
        "feature_vect_simple = tfidf_vect_simple.fit_transform(doc_list)\n",
        "print(feature_vect_simple.shape)"
      ],
      "metadata": {
        "colab": {
          "base_uri": "https://localhost:8080/"
        },
        "id": "gNFGUejuvhmh",
        "outputId": "1365dd6e-2229-4bc7-f228-da7dbf7977f2"
      },
      "execution_count": 11,
      "outputs": [
        {
          "output_type": "stream",
          "name": "stdout",
          "text": [
            "(3, 18)\n"
          ]
        }
      ]
    },
    {
      "cell_type": "code",
      "source": [
        "# TFidfVectorizer로 transform() 한 결과는 희소 행렬이므로 밀집 행렬로 변환.\n",
        "feature_vect_dense = feature_vect_simple.todense()\n",
        "\n",
        "# 첫 번째 문장과 두 번째 문장의 피처 벡터 추출\n",
        "vect1 = np.array(feature_vect_dense[0]).reshape(-1, )\n",
        "vect2 = np.array(feature_vect_dense[1]).reshape(-1, )\n",
        "\n",
        "# 첫 번째 문장과 두 번째 문장의 피처 벡터로 두 개 문장의 코사인 유사도 추출\n",
        "similarity_simple = cos_similarity(vect1, vect2)\n",
        "print('문장 1, 문장 2 Cosine 유사도: {0:.3f}'.format(similarity_simple))"
      ],
      "metadata": {
        "colab": {
          "base_uri": "https://localhost:8080/"
        },
        "id": "G7mat9Wdv_RE",
        "outputId": "e1ea4def-af87-4613-9aa8-96cb2d54541a"
      },
      "execution_count": 12,
      "outputs": [
        {
          "output_type": "stream",
          "name": "stdout",
          "text": [
            "문장 1, 문장 2 Cosine 유사도: 0.402\n"
          ]
        }
      ]
    },
    {
      "cell_type": "code",
      "source": [
        "vect1 = np.array(feature_vect_dense[0]).reshape(-1, )\n",
        "vect3 = np.array(feature_vect_dense[2]).reshape(-1, )\n",
        "similarity_simple = cos_similarity(vect1, vect3)\n",
        "print('문장 1, 문장 3 Cosine 유사도: {0:.3f}'.format(similarity_simple))\n",
        "\n",
        "vect2 = np.array(feature_vect_dense[1]).reshape(-1, )\n",
        "vect3 = np.array(feature_vect_dense[2]).reshape(-1, )\n",
        "similarity_simple = cos_similarity(vect2, vect3)\n",
        "print('문장 2, 문장 3 Cosine 유사도: {0:.3f}'.format(similarity_simple))"
      ],
      "metadata": {
        "colab": {
          "base_uri": "https://localhost:8080/"
        },
        "id": "QwUKGdY8whas",
        "outputId": "d1fbd58f-1ea9-4650-cfed-7360bb4e0a67"
      },
      "execution_count": 13,
      "outputs": [
        {
          "output_type": "stream",
          "name": "stdout",
          "text": [
            "문장 1, 문장 3 Cosine 유사도: 0.404\n",
            "문장 2, 문장 3 Cosine 유사도: 0.456\n"
          ]
        }
      ]
    },
    {
      "cell_type": "markdown",
      "source": [
        "sklearn.metrics.pairwise.cosine_similarity 이용하여 문서 유사도 측정"
      ],
      "metadata": {
        "id": "3eHpdx12xEQb"
      }
    },
    {
      "cell_type": "markdown",
      "source": [
        "cosine_similarity() 의 두 가지 입력 파라미터\n",
        "* param1: 비교 기준이 되는 문서의 피처 행렬\n",
        "* param2: 비교되는 문서의 피처 행렬"
      ],
      "metadata": {
        "id": "tEBIuMvkxW_4"
      }
    },
    {
      "cell_type": "markdown",
      "source": [
        "* 희소 행렬, 밀집 행렬, 배열 모두 가능하기 때문에 cos_similarity()와 같이 별도의 변환 작업 필요 X"
      ],
      "metadata": {
        "id": "OCcZdRzjxrxg"
      }
    },
    {
      "cell_type": "code",
      "source": [
        "from sklearn.metrics.pairwise import cosine_similarity\n",
        "\n",
        "similarity_simple_pair = cosine_similarity(feature_vect_simple[0], feature_vect_simple)\n",
        "print(similarity_simple_pair)"
      ],
      "metadata": {
        "colab": {
          "base_uri": "https://localhost:8080/"
        },
        "id": "_4EfpFALwzH7",
        "outputId": "5f39dacf-fc9b-4d29-bdac-9f06484bd849"
      },
      "execution_count": 15,
      "outputs": [
        {
          "output_type": "stream",
          "name": "stdout",
          "text": [
            "[[1.         0.40207758 0.40425045]]\n"
          ]
        }
      ]
    },
    {
      "cell_type": "markdown",
      "source": [
        "* 1: 비교 기준인 첫 번째 문서 자신에 대한 유사도 \n",
        "* 0.40207758: 첫 번째 문서와 두 번째 문서의 유사도\n",
        "* 0.40425045: 첫 번째 문서와 세 번째 문서의 유사도"
      ],
      "metadata": {
        "id": "mKWaNqo5x3UX"
      }
    },
    {
      "cell_type": "code",
      "source": [
        "# 1 없애기\n",
        "from sklearn.metrics.pairwise import cosine_similarity\n",
        "\n",
        "similarity_simple_pair = cosine_similarity(feature_vect_simple[0], feature_vect_simple[1:])\n",
        "print(similarity_simple_pair)"
      ],
      "metadata": {
        "colab": {
          "base_uri": "https://localhost:8080/"
        },
        "id": "OzfG3wfAyFXq",
        "outputId": "27402c5a-aa91-4d31-dc7f-da9b2ae9c16f"
      },
      "execution_count": 16,
      "outputs": [
        {
          "output_type": "stream",
          "name": "stdout",
          "text": [
            "[[0.40207758 0.40425045]]\n"
          ]
        }
      ]
    },
    {
      "cell_type": "code",
      "source": [
        "# 모든 개별 문서에 쌍으로 코사인 유사도 값 계산\n",
        "\n",
        "similarity_simple_pair = cosine_similarity(feature_vect_simple, feature_vect_simple)\n",
        "print(similarity_simple_pair)\n",
        "print('shape:', similarity_simple_pair.shape)"
      ],
      "metadata": {
        "colab": {
          "base_uri": "https://localhost:8080/"
        },
        "id": "_uXdTktgyZKd",
        "outputId": "9c837eaa-94a4-4d74-9711-07d92052bba4"
      },
      "execution_count": 17,
      "outputs": [
        {
          "output_type": "stream",
          "name": "stdout",
          "text": [
            "[[1.         0.40207758 0.40425045]\n",
            " [0.40207758 1.         0.45647296]\n",
            " [0.40425045 0.45647296 1.        ]]\n",
            "shape: (3, 3)\n"
          ]
        }
      ]
    },
    {
      "cell_type": "markdown",
      "source": [
        "* 첫 번째 로우: 1번 문서와 2, 3 번째 문서의 코사인 유사도\n",
        "* 두 번째 로우: 2번 문서와 1, 3 번째 문서의 코사인 유사도\n",
        "* 세 번째 로우: 3번 문서와 1, 2 번째 문서의 코사인 유사도"
      ],
      "metadata": {
        "id": "tuQwz1edyqAv"
      }
    },
    {
      "cell_type": "markdown",
      "source": [
        "#### **Opinion Review 데이터 세트를 이용한 문서 유사도 측정**"
      ],
      "metadata": {
        "id": "g6cQc1JZyzHf"
      }
    },
    {
      "cell_type": "code",
      "source": [
        "import pandas as pd\n",
        "import glob, os\n",
        "from sklearn.feature_extraction.text import TfidfVectorizer\n",
        "from sklearn.cluster import KMeans\n",
        "\n",
        "path = 'topics'\n",
        "all_files = glob.glob(os.path.join(path,'*.data'))\n",
        "filename_list = []\n",
        "opinion_text = []\n",
        "\n",
        "for file_ in all_files:\n",
        "  df = pd.read_table(file_, index_col=None, header=0, encoding='latin1')\n",
        "  filename_ = file_.split('/')[-1]\n",
        "  filename = filename_.split('.')[0]\n",
        "  filename_list.append(filename)\n",
        "  opinion_text.append(df.to_string())\n",
        "\n",
        "document_df= pd.DataFrame({'filename':filename_list, 'opinion_text':opinion_text})\n",
        "document_df.head()"
      ],
      "metadata": {
        "colab": {
          "base_uri": "https://localhost:8080/",
          "height": 206
        },
        "id": "F5LEvs8qy49a",
        "outputId": "1df448a2-2e95-497a-a42f-540f3c21f949"
      },
      "execution_count": 33,
      "outputs": [
        {
          "output_type": "execute_result",
          "data": {
            "text/plain": [
              "                          filename  \\\n",
              "0       battery-life_amazon_kindle   \n",
              "1    gas_mileage_toyota_camry_2007   \n",
              "2          food_holiday_inn_london   \n",
              "3  directions_garmin_nuvi_255W_gps   \n",
              "4      location_holiday_inn_london   \n",
              "\n",
              "                                        opinion_text  \n",
              "0                                                ...  \n",
              "1                                                ...  \n",
              "2                                                ...  \n",
              "3                                                ...  \n",
              "4                                                ...  "
            ],
            "text/html": [
              "\n",
              "  <div id=\"df-1a2c5c04-a10f-4d1f-90a2-a617e12a78ac\">\n",
              "    <div class=\"colab-df-container\">\n",
              "      <div>\n",
              "<style scoped>\n",
              "    .dataframe tbody tr th:only-of-type {\n",
              "        vertical-align: middle;\n",
              "    }\n",
              "\n",
              "    .dataframe tbody tr th {\n",
              "        vertical-align: top;\n",
              "    }\n",
              "\n",
              "    .dataframe thead th {\n",
              "        text-align: right;\n",
              "    }\n",
              "</style>\n",
              "<table border=\"1\" class=\"dataframe\">\n",
              "  <thead>\n",
              "    <tr style=\"text-align: right;\">\n",
              "      <th></th>\n",
              "      <th>filename</th>\n",
              "      <th>opinion_text</th>\n",
              "    </tr>\n",
              "  </thead>\n",
              "  <tbody>\n",
              "    <tr>\n",
              "      <th>0</th>\n",
              "      <td>battery-life_amazon_kindle</td>\n",
              "      <td>...</td>\n",
              "    </tr>\n",
              "    <tr>\n",
              "      <th>1</th>\n",
              "      <td>gas_mileage_toyota_camry_2007</td>\n",
              "      <td>...</td>\n",
              "    </tr>\n",
              "    <tr>\n",
              "      <th>2</th>\n",
              "      <td>food_holiday_inn_london</td>\n",
              "      <td>...</td>\n",
              "    </tr>\n",
              "    <tr>\n",
              "      <th>3</th>\n",
              "      <td>directions_garmin_nuvi_255W_gps</td>\n",
              "      <td>...</td>\n",
              "    </tr>\n",
              "    <tr>\n",
              "      <th>4</th>\n",
              "      <td>location_holiday_inn_london</td>\n",
              "      <td>...</td>\n",
              "    </tr>\n",
              "  </tbody>\n",
              "</table>\n",
              "</div>\n",
              "      <button class=\"colab-df-convert\" onclick=\"convertToInteractive('df-1a2c5c04-a10f-4d1f-90a2-a617e12a78ac')\"\n",
              "              title=\"Convert this dataframe to an interactive table.\"\n",
              "              style=\"display:none;\">\n",
              "        \n",
              "  <svg xmlns=\"http://www.w3.org/2000/svg\" height=\"24px\"viewBox=\"0 0 24 24\"\n",
              "       width=\"24px\">\n",
              "    <path d=\"M0 0h24v24H0V0z\" fill=\"none\"/>\n",
              "    <path d=\"M18.56 5.44l.94 2.06.94-2.06 2.06-.94-2.06-.94-.94-2.06-.94 2.06-2.06.94zm-11 1L8.5 8.5l.94-2.06 2.06-.94-2.06-.94L8.5 2.5l-.94 2.06-2.06.94zm10 10l.94 2.06.94-2.06 2.06-.94-2.06-.94-.94-2.06-.94 2.06-2.06.94z\"/><path d=\"M17.41 7.96l-1.37-1.37c-.4-.4-.92-.59-1.43-.59-.52 0-1.04.2-1.43.59L10.3 9.45l-7.72 7.72c-.78.78-.78 2.05 0 2.83L4 21.41c.39.39.9.59 1.41.59.51 0 1.02-.2 1.41-.59l7.78-7.78 2.81-2.81c.8-.78.8-2.07 0-2.86zM5.41 20L4 18.59l7.72-7.72 1.47 1.35L5.41 20z\"/>\n",
              "  </svg>\n",
              "      </button>\n",
              "      \n",
              "  <style>\n",
              "    .colab-df-container {\n",
              "      display:flex;\n",
              "      flex-wrap:wrap;\n",
              "      gap: 12px;\n",
              "    }\n",
              "\n",
              "    .colab-df-convert {\n",
              "      background-color: #E8F0FE;\n",
              "      border: none;\n",
              "      border-radius: 50%;\n",
              "      cursor: pointer;\n",
              "      display: none;\n",
              "      fill: #1967D2;\n",
              "      height: 32px;\n",
              "      padding: 0 0 0 0;\n",
              "      width: 32px;\n",
              "    }\n",
              "\n",
              "    .colab-df-convert:hover {\n",
              "      background-color: #E2EBFA;\n",
              "      box-shadow: 0px 1px 2px rgba(60, 64, 67, 0.3), 0px 1px 3px 1px rgba(60, 64, 67, 0.15);\n",
              "      fill: #174EA6;\n",
              "    }\n",
              "\n",
              "    [theme=dark] .colab-df-convert {\n",
              "      background-color: #3B4455;\n",
              "      fill: #D2E3FC;\n",
              "    }\n",
              "\n",
              "    [theme=dark] .colab-df-convert:hover {\n",
              "      background-color: #434B5C;\n",
              "      box-shadow: 0px 1px 3px 1px rgba(0, 0, 0, 0.15);\n",
              "      filter: drop-shadow(0px 1px 2px rgba(0, 0, 0, 0.3));\n",
              "      fill: #FFFFFF;\n",
              "    }\n",
              "  </style>\n",
              "\n",
              "      <script>\n",
              "        const buttonEl =\n",
              "          document.querySelector('#df-1a2c5c04-a10f-4d1f-90a2-a617e12a78ac button.colab-df-convert');\n",
              "        buttonEl.style.display =\n",
              "          google.colab.kernel.accessAllowed ? 'block' : 'none';\n",
              "\n",
              "        async function convertToInteractive(key) {\n",
              "          const element = document.querySelector('#df-1a2c5c04-a10f-4d1f-90a2-a617e12a78ac');\n",
              "          const dataTable =\n",
              "            await google.colab.kernel.invokeFunction('convertToInteractive',\n",
              "                                                     [key], {});\n",
              "          if (!dataTable) return;\n",
              "\n",
              "          const docLinkHtml = 'Like what you see? Visit the ' +\n",
              "            '<a target=\"_blank\" href=https://colab.research.google.com/notebooks/data_table.ipynb>data table notebook</a>'\n",
              "            + ' to learn more about interactive tables.';\n",
              "          element.innerHTML = '';\n",
              "          dataTable['output_type'] = 'display_data';\n",
              "          await google.colab.output.renderOutput(dataTable, element);\n",
              "          const docLink = document.createElement('div');\n",
              "          docLink.innerHTML = docLinkHtml;\n",
              "          element.appendChild(docLink);\n",
              "        }\n",
              "      </script>\n",
              "    </div>\n",
              "  </div>\n",
              "  "
            ]
          },
          "metadata": {},
          "execution_count": 33
        }
      ]
    },
    {
      "cell_type": "code",
      "source": [
        "from nltk.stem import WordNetLemmatizer\n",
        "import nltk\n",
        "import string\n",
        "\n",
        "nltk.download('punkt')\n",
        "nltk.download('wordnet')\n",
        "remove_punct_dict = dict((ord(punct), None) for punct in string.punctuation)\n",
        "lemmar = WordNetLemmatizer()\n",
        "\n",
        "def LemTokens(tokens):\n",
        "    return [lemmar.lemmatize(token) for token in tokens]\n",
        "\n",
        "def LemNormalize(text):\n",
        "    return LemTokens(nltk.word_tokenize(text.lower().translate(remove_punct_dict)))"
      ],
      "metadata": {
        "colab": {
          "base_uri": "https://localhost:8080/"
        },
        "id": "kbSW7JK97HlQ",
        "outputId": "b8e03a8b-752f-490c-b091-5e5de1432296"
      },
      "execution_count": 43,
      "outputs": [
        {
          "output_type": "stream",
          "name": "stdout",
          "text": [
            "[nltk_data] Downloading package punkt to /root/nltk_data...\n",
            "[nltk_data]   Package punkt is already up-to-date!\n",
            "[nltk_data] Downloading package wordnet to /root/nltk_data...\n",
            "[nltk_data]   Package wordnet is already up-to-date!\n"
          ]
        }
      ]
    },
    {
      "cell_type": "code",
      "source": [
        "tfidf_vect = TfidfVectorizer(tokenizer=LemNormalize, stop_words='english',\n",
        "                             ngram_range=(1,2), min_df=0.05, max_df=0.85)\n",
        "feature_vect = tfidf_vect.fit_transform(document_df['opinion_text'])\n",
        "km_cluster = KMeans(n_clusters=3, max_iter=10000, random_state=0)\n",
        "km_cluster.fit(feature_vect)\n",
        "cluster_label = km_cluster.labels_\n",
        "cluster_centers = km_cluster.cluster_centers_\n",
        "document_df['cluster_label'] = cluster_label"
      ],
      "metadata": {
        "colab": {
          "base_uri": "https://localhost:8080/"
        },
        "id": "DDzKIcpd5-rZ",
        "outputId": "7a1c5977-ac8d-425b-baeb-e52e0b471c11"
      },
      "execution_count": 51,
      "outputs": [
        {
          "output_type": "stream",
          "name": "stderr",
          "text": [
            "/usr/local/lib/python3.7/dist-packages/sklearn/feature_extraction/text.py:401: UserWarning: Your stop_words may be inconsistent with your preprocessing. Tokenizing the stop words generated tokens ['ha', 'le', 'u', 'wa'] not in stop_words.\n",
            "  % sorted(inconsistent)\n"
          ]
        }
      ]
    },
    {
      "cell_type": "code",
      "source": [
        "from sklearn.metrics.pairwise import cosine_similarity\n",
        "\n",
        "#cluster_label=1인 데이터는 호텔로 군집화된 데이터임. DataFrame에서 해당 인덱스를 추출\n",
        "hotel_indexes = document_df[document_df['cluster_label']==1].index\n",
        "print('호텔로 군집화 된 문서들의 DataFrame Index:',hotel_indexes)\n",
        "\n",
        "#호텔로 군집화된 데이터 중 첫 번째 문서를 추출해 파일명 표시\n",
        "comparison_docname = document_df.iloc[hotel_indexes[0]]['filename']\n",
        "print('##### 비교 기준 문서명 ', comparison_docname,' 와 타 문서 유사도 #####')\n",
        "\n",
        "'''document_df에서 추출한 Index 객체를 feature_vect로 입력해 호텔 군집화된 feature_vect 추출\n",
        "이를 이용해 호텔로 군집화된 문서 중 첫 번째 문서와 다른 문서 간의 코사인 유사도 측정.'''\n",
        "similarity_pair = cosine_similarity(feature_vect[hotel_indexes[0]], feature_vect[hotel_indexes])\n",
        "print(similarity_pair)"
      ],
      "metadata": {
        "colab": {
          "base_uri": "https://localhost:8080/"
        },
        "id": "NieizhrA7kK_",
        "outputId": "91334fa5-8c05-4aa6-9a43-8be72e7e7456"
      },
      "execution_count": 53,
      "outputs": [
        {
          "output_type": "stream",
          "name": "stdout",
          "text": [
            "호텔로 군집화 된 문서들의 DataFrame Index: Int64Index([1, 5, 6, 8, 19, 26, 33, 37, 41, 44], dtype='int64')\n",
            "##### 비교 기준 문서명  gas_mileage_toyota_camry_2007  와 타 문서 유사도 #####\n",
            "[[1.         0.06276647 0.05452321 0.14398794 0.0879083  0.15655631\n",
            "  0.96608144 0.27273923 0.08217817 0.20206332]]\n"
          ]
        }
      ]
    },
    {
      "cell_type": "code",
      "source": [
        "import seaborn as sns\n",
        "import numpy as np\n",
        "import matplotlib.pyplot as plt\n",
        "%matplotlib inline\n",
        "\n",
        "# 첫 번째 문서와 타 문서 간 유사도가 큰 순으로 정렬한 인덱스를 추출하되 자기 자신은 제외.\n",
        "sorted_index = similarity_pair.argsort()[:, ::-1]\n",
        "sorted_index = sorted_index[:, 1:]\n",
        "\n",
        "# 유사도가 큰 순으로 hotel_indexes를 추출해 재정렬\n",
        "hotel_sorted_indexes = hotel_indexes[sorted_index.reshape(-1)]\n",
        "\n",
        "# 유사도가 큰 순으로 유사도 값을 재정렬하되 자기 자신은 제외\n",
        "hotel_1_sim_value = np.sqrt(similarity_pair.reshape(-1))[::-1]\n",
        "hotel_1_sim_value = hotel_1_sim_value[1:]\n",
        "\n",
        "# 유사도가 큰 순으로 정렬된 인덱스와 유사도 값을 이용해 파일명과 유사도 값을 막대 그래프로 시각화\n",
        "hotel_1_sim_df = pd.DataFrame()\n",
        "hotel_1_sim_df['filename'] = document_df.iloc[hotel_sorted_indexes]['filename']\n",
        "hotel_1_sim_df['similarity'] = hotel_1_sim_value\n",
        "\n",
        "sns.barplot(x='similarity', y='filename', data=hotel_1_sim_df)\n",
        "plt.title(comparison_docname)"
      ],
      "metadata": {
        "colab": {
          "base_uri": "https://localhost:8080/",
          "height": 314
        },
        "id": "YWq8HyYy9VH9",
        "outputId": "cbf08e4e-be70-4ac9-edfb-a55acdeb90cc"
      },
      "execution_count": 54,
      "outputs": [
        {
          "output_type": "execute_result",
          "data": {
            "text/plain": [
              "Text(0.5, 1.0, 'gas_mileage_toyota_camry_2007')"
            ]
          },
          "metadata": {},
          "execution_count": 54
        },
        {
          "output_type": "display_data",
          "data": {
            "text/plain": [
              "<Figure size 432x288 with 1 Axes>"
            ],
            "image/png": "[encoded data removed]"
          },
          "metadata": {
            "needs_background": "light"
          }
        }
      ]
    },
    {
      "cell_type": "markdown",
      "source": [
        "### **한글 텍스트 처리 - 네이버 영화 평점 감성 분석**"
      ],
      "metadata": {
        "id": "Zxx56cex-pPd"
      }
    },
    {
      "cell_type": "markdown",
      "source": [
        "#### **한글 NLP 처리의 어려움**"
      ],
      "metadata": {
        "id": "SIXNffDQ-tq0"
      }
    },
    {
      "cell_type": "markdown",
      "source": [
        "* 띄어쓰기\n",
        "* 다양한 조사 - 어근 추출 등의 전처리 시 제거가 까다로움."
      ],
      "metadata": {
        "id": "c2YejjPB-xH5"
      }
    },
    {
      "cell_type": "markdown",
      "source": [
        "#### **데이터 로딩**"
      ],
      "metadata": {
        "id": "48FDbdjr-8VW"
      }
    },
    {
      "cell_type": "code",
      "source": [
        "import pandas as pd\n",
        "\n",
        "train_df = pd.read_csv('ratings_train.txt', sep='\\t')\n",
        "train_df.head(3)"
      ],
      "metadata": {
        "colab": {
          "base_uri": "https://localhost:8080/",
          "height": 143
        },
        "id": "Zqanv4KV_sQg",
        "outputId": "3a43290a-c751-45c3-9640-eaa94073abec"
      },
      "execution_count": 65,
      "outputs": [
        {
          "output_type": "execute_result",
          "data": {
            "text/plain": [
              "         id                           document  label\n",
              "0   9976970                아 더빙.. 진짜 짜증나네요 목소리      0\n",
              "1   3819312  흠...포스터보고 초딩영화줄....오버연기조차 가볍지 않구나      1\n",
              "2  10265843                  너무재밓었다그래서보는것을추천한다      0"
            ],
            "text/html": [
              "\n",
              "  <div id=\"df-756b1eda-46df-4a34-baab-1e69f76b0cfa\">\n",
              "    <div class=\"colab-df-container\">\n",
              "      <div>\n",
              "<style scoped>\n",
              "    .dataframe tbody tr th:only-of-type {\n",
              "        vertical-align: middle;\n",
              "    }\n",
              "\n",
              "    .dataframe tbody tr th {\n",
              "        vertical-align: top;\n",
              "    }\n",
              "\n",
              "    .dataframe thead th {\n",
              "        text-align: right;\n",
              "    }\n",
              "</style>\n",
              "<table border=\"1\" class=\"dataframe\">\n",
              "  <thead>\n",
              "    <tr style=\"text-align: right;\">\n",
              "      <th></th>\n",
              "      <th>id</th>\n",
              "      <th>document</th>\n",
              "      <th>label</th>\n",
              "    </tr>\n",
              "  </thead>\n",
              "  <tbody>\n",
              "    <tr>\n",
              "      <th>0</th>\n",
              "      <td>9976970</td>\n",
              "      <td>아 더빙.. 진짜 짜증나네요 목소리</td>\n",
              "      <td>0</td>\n",
              "    </tr>\n",
              "    <tr>\n",
              "      <th>1</th>\n",
              "      <td>3819312</td>\n",
              "      <td>흠...포스터보고 초딩영화줄....오버연기조차 가볍지 않구나</td>\n",
              "      <td>1</td>\n",
              "    </tr>\n",
              "    <tr>\n",
              "      <th>2</th>\n",
              "      <td>10265843</td>\n",
              "      <td>너무재밓었다그래서보는것을추천한다</td>\n",
              "      <td>0</td>\n",
              "    </tr>\n",
              "  </tbody>\n",
              "</table>\n",
              "</div>\n",
              "      <button class=\"colab-df-convert\" onclick=\"convertToInteractive('df-756b1eda-46df-4a34-baab-1e69f76b0cfa')\"\n",
              "              title=\"Convert this dataframe to an interactive table.\"\n",
              "              style=\"display:none;\">\n",
              "        \n",
              "  <svg xmlns=\"http://www.w3.org/2000/svg\" height=\"24px\"viewBox=\"0 0 24 24\"\n",
              "       width=\"24px\">\n",
              "    <path d=\"M0 0h24v24H0V0z\" fill=\"none\"/>\n",
              "    <path d=\"M18.56 5.44l.94 2.06.94-2.06 2.06-.94-2.06-.94-.94-2.06-.94 2.06-2.06.94zm-11 1L8.5 8.5l.94-2.06 2.06-.94-2.06-.94L8.5 2.5l-.94 2.06-2.06.94zm10 10l.94 2.06.94-2.06 2.06-.94-2.06-.94-.94-2.06-.94 2.06-2.06.94z\"/><path d=\"M17.41 7.96l-1.37-1.37c-.4-.4-.92-.59-1.43-.59-.52 0-1.04.2-1.43.59L10.3 9.45l-7.72 7.72c-.78.78-.78 2.05 0 2.83L4 21.41c.39.39.9.59 1.41.59.51 0 1.02-.2 1.41-.59l7.78-7.78 2.81-2.81c.8-.78.8-2.07 0-2.86zM5.41 20L4 18.59l7.72-7.72 1.47 1.35L5.41 20z\"/>\n",
              "  </svg>\n",
              "      </button>\n",
              "      \n",
              "  <style>\n",
              "    .colab-df-container {\n",
              "      display:flex;\n",
              "      flex-wrap:wrap;\n",
              "      gap: 12px;\n",
              "    }\n",
              "\n",
              "    .colab-df-convert {\n",
              "      background-color: #E8F0FE;\n",
              "      border: none;\n",
              "      border-radius: 50%;\n",
              "      cursor: pointer;\n",
              "      display: none;\n",
              "      fill: #1967D2;\n",
              "      height: 32px;\n",
              "      padding: 0 0 0 0;\n",
              "      width: 32px;\n",
              "    }\n",
              "\n",
              "    .colab-df-convert:hover {\n",
              "      background-color: #E2EBFA;\n",
              "      box-shadow: 0px 1px 2px rgba(60, 64, 67, 0.3), 0px 1px 3px 1px rgba(60, 64, 67, 0.15);\n",
              "      fill: #174EA6;\n",
              "    }\n",
              "\n",
              "    [theme=dark] .colab-df-convert {\n",
              "      background-color: #3B4455;\n",
              "      fill: #D2E3FC;\n",
              "    }\n",
              "\n",
              "    [theme=dark] .colab-df-convert:hover {\n",
              "      background-color: #434B5C;\n",
              "      box-shadow: 0px 1px 3px 1px rgba(0, 0, 0, 0.15);\n",
              "      filter: drop-shadow(0px 1px 2px rgba(0, 0, 0, 0.3));\n",
              "      fill: #FFFFFF;\n",
              "    }\n",
              "  </style>\n",
              "\n",
              "      <script>\n",
              "        const buttonEl =\n",
              "          document.querySelector('#df-756b1eda-46df-4a34-baab-1e69f76b0cfa button.colab-df-convert');\n",
              "        buttonEl.style.display =\n",
              "          google.colab.kernel.accessAllowed ? 'block' : 'none';\n",
              "\n",
              "        async function convertToInteractive(key) {\n",
              "          const element = document.querySelector('#df-756b1eda-46df-4a34-baab-1e69f76b0cfa');\n",
              "          const dataTable =\n",
              "            await google.colab.kernel.invokeFunction('convertToInteractive',\n",
              "                                                     [key], {});\n",
              "          if (!dataTable) return;\n",
              "\n",
              "          const docLinkHtml = 'Like what you see? Visit the ' +\n",
              "            '<a target=\"_blank\" href=https://colab.research.google.com/notebooks/data_table.ipynb>data table notebook</a>'\n",
              "            + ' to learn more about interactive tables.';\n",
              "          element.innerHTML = '';\n",
              "          dataTable['output_type'] = 'display_data';\n",
              "          await google.colab.output.renderOutput(dataTable, element);\n",
              "          const docLink = document.createElement('div');\n",
              "          docLink.innerHTML = docLinkHtml;\n",
              "          element.appendChild(docLink);\n",
              "        }\n",
              "      </script>\n",
              "    </div>\n",
              "  </div>\n",
              "  "
            ]
          },
          "metadata": {},
          "execution_count": 65
        }
      ]
    },
    {
      "cell_type": "code",
      "source": [
        "train_df['label'].value_counts()"
      ],
      "metadata": {
        "colab": {
          "base_uri": "https://localhost:8080/"
        },
        "id": "ovlDvDsx_2GZ",
        "outputId": "d00098c4-1d7a-4932-ddd7-0c5a54f90d7a"
      },
      "execution_count": 66,
      "outputs": [
        {
          "output_type": "execute_result",
          "data": {
            "text/plain": [
              "0    75173\n",
              "1    74827\n",
              "Name: label, dtype: int64"
            ]
          },
          "metadata": {},
          "execution_count": 66
        }
      ]
    },
    {
      "cell_type": "markdown",
      "source": [
        "0과 1의 비율이 균등하게 나타남"
      ],
      "metadata": {
        "id": "Xf30iOxH_8kL"
      }
    },
    {
      "cell_type": "code",
      "source": [
        "import re\n",
        "\n",
        "train_df = train_df.fillna(' ')\n",
        "# 정규 표현식을 이용하여 숫자를 공백으로 변경(정규 표현식으로 \\d 는 숫자를 의미함.) \n",
        "train_df['document'] = train_df['document'].apply( lambda x : re.sub(r\"\\d+\", \" \", x) )\n",
        "\n",
        "# 테스트 데이터 셋을 로딩하고 동일하게 Null 및 숫자를 공백으로 변환\n",
        "test_df = pd.read_csv('ratings_test.txt', sep='\\t')\n",
        "test_df = test_df.fillna(' ')\n",
        "test_df['document'] = test_df['document'].apply( lambda x : re.sub(r\"\\d+\", \" \", x) )\n",
        "\n",
        "# id 칼럼 삭제 수행\n",
        "train_df.drop('id', axis=1, inplace=True)\n",
        "test_df.drop('id', axis=1, inplace=True)"
      ],
      "metadata": {
        "id": "U9dvV5Du__-V"
      },
      "execution_count": 67,
      "outputs": []
    },
    {
      "cell_type": "code",
      "source": [
        "pip install konlpy"
      ],
      "metadata": {
        "colab": {
          "base_uri": "https://localhost:8080/"
        },
        "id": "kqvsTHDcA8W5",
        "outputId": "7fb20e61-804b-4136-e592-a08843e6a763"
      },
      "execution_count": 59,
      "outputs": [
        {
          "output_type": "stream",
          "name": "stdout",
          "text": [
            "Collecting konlpy\n",
            "  Downloading konlpy-0.6.0-py2.py3-none-any.whl (19.4 MB)\n",
            "\u001b[K     |████████████████████████████████| 19.4 MB 16.0 MB/s \n",
            "\u001b[?25hCollecting JPype1>=0.7.0\n",
            "  Downloading JPype1-1.3.0-cp37-cp37m-manylinux_2_5_x86_64.manylinux1_x86_64.whl (448 kB)\n",
            "\u001b[K     |████████████████████████████████| 448 kB 43.3 MB/s \n",
            "\u001b[?25hRequirement already satisfied: lxml>=4.1.0 in /usr/local/lib/python3.7/dist-packages (from konlpy) (4.2.6)\n",
            "Requirement already satisfied: numpy>=1.6 in /usr/local/lib/python3.7/dist-packages (from konlpy) (1.21.6)\n",
            "Requirement already satisfied: typing-extensions in /usr/local/lib/python3.7/dist-packages (from JPype1>=0.7.0->konlpy) (4.2.0)\n",
            "Installing collected packages: JPype1, konlpy\n",
            "Successfully installed JPype1-1.3.0 konlpy-0.6.0\n"
          ]
        }
      ]
    },
    {
      "cell_type": "code",
      "source": [
        "from konlpy.tag import Twitter\n",
        "\n",
        "twitter = Twitter()\n",
        "def tw_tokenizer(text):\n",
        "    # 입력 인자로 들어온 텍스트를 형태소 단어로 토큰화해 리스트 형태로 반환\n",
        "    tokens_ko = twitter.morphs(text)\n",
        "    return tokens_ko"
      ],
      "metadata": {
        "colab": {
          "base_uri": "https://localhost:8080/"
        },
        "id": "SEBuvF6BAqlF",
        "outputId": "0d93c4c8-a893-4e08-d0a6-7254efdd14c6"
      },
      "execution_count": 60,
      "outputs": [
        {
          "output_type": "stream",
          "name": "stderr",
          "text": [
            "/usr/local/lib/python3.7/dist-packages/konlpy/tag/_okt.py:17: UserWarning: \"Twitter\" has changed to \"Okt\" since KoNLPy v0.4.5.\n",
            "  warn('\"Twitter\" has changed to \"Okt\" since KoNLPy v0.4.5.')\n"
          ]
        }
      ]
    },
    {
      "cell_type": "code",
      "source": [
        "from sklearn.feature_extraction.text import TfidfVectorizer\n",
        "from sklearn.linear_model import LogisticRegression\n",
        "from sklearn.model_selection import GridSearchCV\n",
        "\n",
        "# Twitter 객체의 morphs() 객체를 이용한 tokenizer를 사용. ngram_range는 (1,2)\n",
        "tfidf_vect = TfidfVectorizer(tokenizer=tw_tokenizer, ngram_range=(1,2), min_df=3, max_df=0.9)\n",
        "tfidf_vect.fit(train_df['document'])\n",
        "tfidf_matrix_train = tfidf_vect.transform(train_df['document'])"
      ],
      "metadata": {
        "colab": {
          "base_uri": "https://localhost:8080/"
        },
        "id": "DDfOAiOnBJ06",
        "outputId": "8f7ddfcf-c2a1-4827-853c-6b8d78254a47"
      },
      "execution_count": 68,
      "outputs": [
        {
          "metadata": {
            "tags": null
          },
          "name": "stderr",
          "output_type": "stream",
          "text": [
            "/usr/local/lib/python3.7/dist-packages/sklearn/feature_extraction/text.py:517: UserWarning: The parameter 'token_pattern' will not be used since 'tokenizer' is not None'\n",
            "  \"The parameter 'token_pattern' will not be used\"\n"
          ]
        }
      ]
    },
    {
      "cell_type": "code",
      "source": [
        "# 로지스틱 회귀를 이용하여 감성 분석 분류 수행. \n",
        "lg_clf = LogisticRegression(random_state=0)\n",
        "\n",
        "# 파라미터 C 최적화를 위해 GridSearchCV 를 이용. \n",
        "params = { 'C': [1 ,3.5, 4.5, 5.5, 10 ] }\n",
        "grid_cv = GridSearchCV(lg_clf , param_grid=params , cv=3 ,scoring='accuracy', verbose=1)\n",
        "grid_cv.fit(tfidf_matrix_train , train_df['label'] )\n",
        "print(grid_cv.best_params_ , round(grid_cv.best_score_,4))"
      ],
      "metadata": {
        "colab": {
          "base_uri": "https://localhost:8080/"
        },
        "id": "i6FnTBd5B7in",
        "outputId": "25c1cc37-90d3-41d0-a68a-c8602fcc1f77"
      },
      "execution_count": 69,
      "outputs": [
        {
          "output_type": "stream",
          "name": "stdout",
          "text": [
            "Fitting 3 folds for each of 5 candidates, totalling 15 fits\n"
          ]
        },
        {
          "output_type": "stream",
          "name": "stderr",
          "text": [
            "/usr/local/lib/python3.7/dist-packages/sklearn/linear_model/_logistic.py:818: ConvergenceWarning: lbfgs failed to converge (status=1):\n",
            "STOP: TOTAL NO. of ITERATIONS REACHED LIMIT.\n",
            "\n",
            "Increase the number of iterations (max_iter) or scale the data as shown in:\n",
            "    https://scikit-learn.org/stable/modules/preprocessing.html\n",
            "Please also refer to the documentation for alternative solver options:\n",
            "    https://scikit-learn.org/stable/modules/linear_model.html#logistic-regression\n",
            "  extra_warning_msg=_LOGISTIC_SOLVER_CONVERGENCE_MSG,\n",
            "/usr/local/lib/python3.7/dist-packages/sklearn/linear_model/_logistic.py:818: ConvergenceWarning: lbfgs failed to converge (status=1):\n",
            "STOP: TOTAL NO. of ITERATIONS REACHED LIMIT.\n",
            "\n",
            "Increase the number of iterations (max_iter) or scale the data as shown in:\n",
            "    https://scikit-learn.org/stable/modules/preprocessing.html\n",
            "Please also refer to the documentation for alternative solver options:\n",
            "    https://scikit-learn.org/stable/modules/linear_model.html#logistic-regression\n",
            "  extra_warning_msg=_LOGISTIC_SOLVER_CONVERGENCE_MSG,\n",
            "/usr/local/lib/python3.7/dist-packages/sklearn/linear_model/_logistic.py:818: ConvergenceWarning: lbfgs failed to converge (status=1):\n",
            "STOP: TOTAL NO. of ITERATIONS REACHED LIMIT.\n",
            "\n",
            "Increase the number of iterations (max_iter) or scale the data as shown in:\n",
            "    https://scikit-learn.org/stable/modules/preprocessing.html\n",
            "Please also refer to the documentation for alternative solver options:\n",
            "    https://scikit-learn.org/stable/modules/linear_model.html#logistic-regression\n",
            "  extra_warning_msg=_LOGISTIC_SOLVER_CONVERGENCE_MSG,\n",
            "/usr/local/lib/python3.7/dist-packages/sklearn/linear_model/_logistic.py:818: ConvergenceWarning: lbfgs failed to converge (status=1):\n",
            "STOP: TOTAL NO. of ITERATIONS REACHED LIMIT.\n",
            "\n",
            "Increase the number of iterations (max_iter) or scale the data as shown in:\n",
            "    https://scikit-learn.org/stable/modules/preprocessing.html\n",
            "Please also refer to the documentation for alternative solver options:\n",
            "    https://scikit-learn.org/stable/modules/linear_model.html#logistic-regression\n",
            "  extra_warning_msg=_LOGISTIC_SOLVER_CONVERGENCE_MSG,\n",
            "/usr/local/lib/python3.7/dist-packages/sklearn/linear_model/_logistic.py:818: ConvergenceWarning: lbfgs failed to converge (status=1):\n",
            "STOP: TOTAL NO. of ITERATIONS REACHED LIMIT.\n",
            "\n",
            "Increase the number of iterations (max_iter) or scale the data as shown in:\n",
            "    https://scikit-learn.org/stable/modules/preprocessing.html\n",
            "Please also refer to the documentation for alternative solver options:\n",
            "    https://scikit-learn.org/stable/modules/linear_model.html#logistic-regression\n",
            "  extra_warning_msg=_LOGISTIC_SOLVER_CONVERGENCE_MSG,\n",
            "/usr/local/lib/python3.7/dist-packages/sklearn/linear_model/_logistic.py:818: ConvergenceWarning: lbfgs failed to converge (status=1):\n",
            "STOP: TOTAL NO. of ITERATIONS REACHED LIMIT.\n",
            "\n",
            "Increase the number of iterations (max_iter) or scale the data as shown in:\n",
            "    https://scikit-learn.org/stable/modules/preprocessing.html\n",
            "Please also refer to the documentation for alternative solver options:\n",
            "    https://scikit-learn.org/stable/modules/linear_model.html#logistic-regression\n",
            "  extra_warning_msg=_LOGISTIC_SOLVER_CONVERGENCE_MSG,\n",
            "/usr/local/lib/python3.7/dist-packages/sklearn/linear_model/_logistic.py:818: ConvergenceWarning: lbfgs failed to converge (status=1):\n",
            "STOP: TOTAL NO. of ITERATIONS REACHED LIMIT.\n",
            "\n",
            "Increase the number of iterations (max_iter) or scale the data as shown in:\n",
            "    https://scikit-learn.org/stable/modules/preprocessing.html\n",
            "Please also refer to the documentation for alternative solver options:\n",
            "    https://scikit-learn.org/stable/modules/linear_model.html#logistic-regression\n",
            "  extra_warning_msg=_LOGISTIC_SOLVER_CONVERGENCE_MSG,\n",
            "/usr/local/lib/python3.7/dist-packages/sklearn/linear_model/_logistic.py:818: ConvergenceWarning: lbfgs failed to converge (status=1):\n",
            "STOP: TOTAL NO. of ITERATIONS REACHED LIMIT.\n",
            "\n",
            "Increase the number of iterations (max_iter) or scale the data as shown in:\n",
            "    https://scikit-learn.org/stable/modules/preprocessing.html\n",
            "Please also refer to the documentation for alternative solver options:\n",
            "    https://scikit-learn.org/stable/modules/linear_model.html#logistic-regression\n",
            "  extra_warning_msg=_LOGISTIC_SOLVER_CONVERGENCE_MSG,\n",
            "/usr/local/lib/python3.7/dist-packages/sklearn/linear_model/_logistic.py:818: ConvergenceWarning: lbfgs failed to converge (status=1):\n",
            "STOP: TOTAL NO. of ITERATIONS REACHED LIMIT.\n",
            "\n",
            "Increase the number of iterations (max_iter) or scale the data as shown in:\n",
            "    https://scikit-learn.org/stable/modules/preprocessing.html\n",
            "Please also refer to the documentation for alternative solver options:\n",
            "    https://scikit-learn.org/stable/modules/linear_model.html#logistic-regression\n",
            "  extra_warning_msg=_LOGISTIC_SOLVER_CONVERGENCE_MSG,\n",
            "/usr/local/lib/python3.7/dist-packages/sklearn/linear_model/_logistic.py:818: ConvergenceWarning: lbfgs failed to converge (status=1):\n",
            "STOP: TOTAL NO. of ITERATIONS REACHED LIMIT.\n",
            "\n",
            "Increase the number of iterations (max_iter) or scale the data as shown in:\n",
            "    https://scikit-learn.org/stable/modules/preprocessing.html\n",
            "Please also refer to the documentation for alternative solver options:\n",
            "    https://scikit-learn.org/stable/modules/linear_model.html#logistic-regression\n",
            "  extra_warning_msg=_LOGISTIC_SOLVER_CONVERGENCE_MSG,\n",
            "/usr/local/lib/python3.7/dist-packages/sklearn/linear_model/_logistic.py:818: ConvergenceWarning: lbfgs failed to converge (status=1):\n",
            "STOP: TOTAL NO. of ITERATIONS REACHED LIMIT.\n",
            "\n",
            "Increase the number of iterations (max_iter) or scale the data as shown in:\n",
            "    https://scikit-learn.org/stable/modules/preprocessing.html\n",
            "Please also refer to the documentation for alternative solver options:\n",
            "    https://scikit-learn.org/stable/modules/linear_model.html#logistic-regression\n",
            "  extra_warning_msg=_LOGISTIC_SOLVER_CONVERGENCE_MSG,\n",
            "/usr/local/lib/python3.7/dist-packages/sklearn/linear_model/_logistic.py:818: ConvergenceWarning: lbfgs failed to converge (status=1):\n",
            "STOP: TOTAL NO. of ITERATIONS REACHED LIMIT.\n",
            "\n",
            "Increase the number of iterations (max_iter) or scale the data as shown in:\n",
            "    https://scikit-learn.org/stable/modules/preprocessing.html\n",
            "Please also refer to the documentation for alternative solver options:\n",
            "    https://scikit-learn.org/stable/modules/linear_model.html#logistic-regression\n",
            "  extra_warning_msg=_LOGISTIC_SOLVER_CONVERGENCE_MSG,\n"
          ]
        },
        {
          "output_type": "stream",
          "name": "stdout",
          "text": [
            "{'C': 3.5} 0.8593\n"
          ]
        },
        {
          "output_type": "stream",
          "name": "stderr",
          "text": [
            "/usr/local/lib/python3.7/dist-packages/sklearn/linear_model/_logistic.py:818: ConvergenceWarning: lbfgs failed to converge (status=1):\n",
            "STOP: TOTAL NO. of ITERATIONS REACHED LIMIT.\n",
            "\n",
            "Increase the number of iterations (max_iter) or scale the data as shown in:\n",
            "    https://scikit-learn.org/stable/modules/preprocessing.html\n",
            "Please also refer to the documentation for alternative solver options:\n",
            "    https://scikit-learn.org/stable/modules/linear_model.html#logistic-regression\n",
            "  extra_warning_msg=_LOGISTIC_SOLVER_CONVERGENCE_MSG,\n"
          ]
        }
      ]
    },
    {
      "cell_type": "code",
      "source": [
        "from sklearn.metrics import accuracy_score\n",
        "\n",
        "# 학습 데이터를 적용한 TfidfVectorizer를 이용해 테스트 데이터를 TF-IDF 값으로 피처 변환함.\n",
        "tfidf_matrix_test = tfidf_vect.transform(test_df['document'])\n",
        "\n",
        "# classifier는 GridSearchCV에서 최적 파라미터로 학습된 classifier를 그대로 이용\n",
        "best_estimator = grid_cv.best_estimator_\n",
        "preds = best_estimator.predict(tfidf_matrix_test)\n",
        "\n",
        "print('Logistic Regression 정확도:', accuracy_score(test_df['label'], preds))"
      ],
      "metadata": {
        "colab": {
          "base_uri": "https://localhost:8080/"
        },
        "id": "zEnOOlF8CUd6",
        "outputId": "3f9e82ea-d14d-44f2-c39e-59644bd886d5"
      },
      "execution_count": 70,
      "outputs": [
        {
          "output_type": "stream",
          "name": "stdout",
          "text": [
            "Logistic Regression 정확도: 0.86186\n"
          ]
        }
      ]
    }
  ]
}