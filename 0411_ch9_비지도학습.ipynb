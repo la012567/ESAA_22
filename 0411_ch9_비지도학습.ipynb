{
  "nbformat": 4,
  "nbformat_minor": 0,
  "metadata": {
    "colab": {
      "name": "0411_ch9_비지도학습.ipynb",
      "provenance": [],
      "collapsed_sections": []
    },
    "kernelspec": {
      "name": "python3",
      "display_name": "Python 3"
    },
    "language_info": {
      "name": "python"
    }
  },
  "cells": [
    {
      "cell_type": "markdown",
      "source": [
        "## **핸즈온 머신러닝 CHAP 9 비지도학습**"
      ],
      "metadata": {
        "id": "IFP2PuKdlfuH"
      }
    },
    {
      "cell_type": "markdown",
      "source": [
        "0411 월요일 과제 [개념+필사]"
      ],
      "metadata": {
        "id": "yEws8ldqlrRh"
      }
    },
    {
      "cell_type": "markdown",
      "source": [
        "### **9.1 군집**"
      ],
      "metadata": {
        "id": "k-TTx_-RlxTf"
      }
    },
    {
      "cell_type": "markdown",
      "source": [
        "* **군집clustering**\n",
        "비슷한 샘플을 클러스터로 모음.\n",
        "* **이상치 탐지outlier detection**\n",
        "비정상 샘플 감지\n",
        "* **밀도 추정density estimation**\n",
        "확률 밀도 함수를 추정"
      ],
      "metadata": {
        "id": "GKpahuTx2h35"
      }
    },
    {
      "cell_type": "markdown",
      "source": [
        "#### 9.1.1 k-평균"
      ],
      "metadata": {
        "id": "ISafQm_6l14G"
      }
    },
    {
      "cell_type": "code",
      "source": [
        "from sklearn.datasets import make_blobs"
      ],
      "metadata": {
        "id": "G7Kiv4Mpmonh"
      },
      "execution_count": null,
      "outputs": []
    },
    {
      "cell_type": "code",
      "source": [
        "import numpy as np\n",
        "blob_centers = np.array(\n",
        "    [[ 0.2,  2.3],\n",
        "     [-1.5 ,  2.3],\n",
        "     [-2.8,  1.8],\n",
        "     [-2.8,  2.8],\n",
        "     [-2.8,  1.3]])\n",
        "blob_std = np.array([0.4, 0.3, 0.1, 0.1, 0.1])"
      ],
      "metadata": {
        "id": "_XOXjepUmtcB"
      },
      "execution_count": null,
      "outputs": []
    },
    {
      "cell_type": "code",
      "source": [
        "X, y = make_blobs(n_samples=2000, centers=blob_centers,\n",
        "                  cluster_std=blob_std, random_state=7)"
      ],
      "metadata": {
        "id": "UtWHtfr4mzjJ"
      },
      "execution_count": null,
      "outputs": []
    },
    {
      "cell_type": "code",
      "execution_count": null,
      "metadata": {
        "id": "aFcRc_PIlWmw"
      },
      "outputs": [],
      "source": [
        "from sklearn.cluster import KMeans\n",
        "k = 5\n",
        "kmeans = KMeans(n_clusters=k)\n",
        "y_pred = kmeans.fit_predict(X)"
      ]
    },
    {
      "cell_type": "markdown",
      "source": [
        "**레이블label** 알고리즘이 샘플에 할당한 클러스터의 인덱스 (!=클래스 레이블 in 분류)"
      ],
      "metadata": {
        "id": "W5CC_HzL3E5H"
      }
    },
    {
      "cell_type": "code",
      "source": [
        "y_pred"
      ],
      "metadata": {
        "colab": {
          "base_uri": "https://localhost:8080/"
        },
        "id": "mOhi7Ynvm4zI",
        "outputId": "d29a97f4-49a6-4f23-9bab-4c4c9f64adea"
      },
      "execution_count": null,
      "outputs": [
        {
          "output_type": "execute_result",
          "data": {
            "text/plain": [
              "array([4, 1, 2, ..., 3, 2, 1], dtype=int32)"
            ]
          },
          "metadata": {},
          "execution_count": 7
        }
      ]
    },
    {
      "cell_type": "code",
      "source": [
        "y_pred is kmeans.labels_"
      ],
      "metadata": {
        "colab": {
          "base_uri": "https://localhost:8080/"
        },
        "id": "qFrBc48km8RW",
        "outputId": "d9f53c94-2c40-4553-d9ea-9c887070989c"
      },
      "execution_count": null,
      "outputs": [
        {
          "output_type": "execute_result",
          "data": {
            "text/plain": [
              "True"
            ]
          },
          "metadata": {},
          "execution_count": 8
        }
      ]
    },
    {
      "cell_type": "code",
      "source": [
        "kmeans.cluster_centers_"
      ],
      "metadata": {
        "colab": {
          "base_uri": "https://localhost:8080/"
        },
        "id": "Avb9ABHTnAOb",
        "outputId": "2a247e23-d90f-4724-d944-58f7ca92d6fd"
      },
      "execution_count": null,
      "outputs": [
        {
          "output_type": "execute_result",
          "data": {
            "text/plain": [
              "array([[-1.46679593,  2.28585348],\n",
              "       [-2.80389616,  1.80117999],\n",
              "       [ 0.20876306,  2.25551336],\n",
              "       [-2.79290307,  2.79641063],\n",
              "       [-2.80037642,  1.30082566]])"
            ]
          },
          "metadata": {},
          "execution_count": 9
        }
      ]
    },
    {
      "cell_type": "code",
      "source": [
        "X_new = np.array([[0,2], [3,2], [-3,3], [-3, 2.5]])\n",
        "kmeans.predict(X_new)"
      ],
      "metadata": {
        "colab": {
          "base_uri": "https://localhost:8080/"
        },
        "id": "CPGoqcUEnFg1",
        "outputId": "ef6497a5-8b5e-4c9d-b86c-f1e981e9cee8"
      },
      "execution_count": null,
      "outputs": [
        {
          "output_type": "execute_result",
          "data": {
            "text/plain": [
              "array([2, 2, 3, 3], dtype=int32)"
            ]
          },
          "metadata": {},
          "execution_count": 10
        }
      ]
    },
    {
      "cell_type": "markdown",
      "source": [
        "* **하드 군집hard clustering** 샘플을 하나의 클러스터에 할당하는 것\n",
        "* **소프트 군집soft clustering** 클러스터마다 샘플에 점수를 부여. \\\n",
        "이때 점수는 샘플과 센트로이드 사이의 거리나 가우시안 방사기저 함수와 같은 유사도 점수 similarity score가 될 수 있음."
      ],
      "metadata": {
        "id": "tYUTBmvI3W4Z"
      }
    },
    {
      "cell_type": "code",
      "source": [
        "kmeans.transform(X_new)"
      ],
      "metadata": {
        "colab": {
          "base_uri": "https://localhost:8080/"
        },
        "id": "NfkoyOrVnSeT",
        "outputId": "f44e4634-55c8-44ca-835f-ae096d155550"
      },
      "execution_count": null,
      "outputs": [
        {
          "output_type": "execute_result",
          "data": {
            "text/plain": [
              "array([[1.49439034, 2.81093633, 0.32995317, 2.9042344 , 2.88633901],\n",
              "       [4.4759332 , 5.80730058, 2.80290755, 5.84739223, 5.84236351],\n",
              "       [1.69136631, 1.21475352, 3.29399768, 0.29040966, 1.71086031],\n",
              "       [1.54808703, 0.72581411, 3.21806371, 0.36159148, 1.21567622]])"
            ]
          },
          "metadata": {},
          "execution_count": 11
        }
      ]
    },
    {
      "cell_type": "markdown",
      "source": [
        "**k-평균 알고리즘**"
      ],
      "metadata": {
        "id": "uO43ue7ona4X"
      }
    },
    {
      "cell_type": "markdown",
      "source": [
        "1. 센트로이드가 주어졌을 때\n",
        "    * 데이터셋에 있는 모든 샘플에 가장 가까운 센트로이드의 클러스터 할당\n",
        "2. 모든 샘플의 레이블이 주어졌을 때\n",
        "    * 각 클러스터에 속한 샘플의 평균을 계산하여 모든 센트로이드 구함\n",
        "3. 레이블이나 센트로이드가 주어지지 않을 때\n",
        "    * 1) 센트로이드 랜덤선정\n",
        "    * 2) 샘플에 레이블 할당\n",
        "    * 3) 센트로이드 업데이트\n",
        "    * 4) 센트로이드에 변화가 없을 때까지 2-3 반복"
      ],
      "metadata": {
        "id": "B3BNACrs5dt2"
      }
    },
    {
      "cell_type": "markdown",
      "source": [
        "**센트로이드 초기화 방법**"
      ],
      "metadata": {
        "id": "PpKB1Uuvn-2F"
      }
    },
    {
      "cell_type": "code",
      "source": [
        "good_init = np.array([[-3,3],[-3,2],[-3,1],[-1,2],[0,2]])\n",
        "kmeans = KMeans(n_clusters=5, init=good_init, n_init=1)"
      ],
      "metadata": {
        "id": "SODg76WQoA06"
      },
      "execution_count": null,
      "outputs": []
    },
    {
      "cell_type": "markdown",
      "source": [
        "**이너셔inertia** 각 샘플과 가장 가까운 센트로이드 사이의 평균 제곱 거리"
      ],
      "metadata": {
        "id": "llUl_LR96_8v"
      }
    },
    {
      "cell_type": "code",
      "source": [
        "kmeans.inertia_"
      ],
      "metadata": {
        "colab": {
          "base_uri": "https://localhost:8080/"
        },
        "id": "XI-YH0f1oN9U",
        "outputId": "456ea73f-e5ab-499a-9726-a249d1dbcada"
      },
      "execution_count": null,
      "outputs": [
        {
          "output_type": "execute_result",
          "data": {
            "text/plain": [
              "211.5985372581684"
            ]
          },
          "metadata": {},
          "execution_count": 18
        }
      ]
    },
    {
      "cell_type": "code",
      "source": [
        "kmeans.score(X)"
      ],
      "metadata": {
        "colab": {
          "base_uri": "https://localhost:8080/"
        },
        "id": "4ouIip91qKwX",
        "outputId": "86c27b4c-46bf-4c6f-c87f-49ea61f2b858"
      },
      "execution_count": null,
      "outputs": [
        {
          "output_type": "execute_result",
          "data": {
            "text/plain": [
              "-211.59853725816836"
            ]
          },
          "metadata": {},
          "execution_count": 19
        }
      ]
    },
    {
      "cell_type": "markdown",
      "source": [
        "score() 메소드는 이너셔의 음수 반환"
      ],
      "metadata": {
        "id": "dSiayg-p7Moc"
      }
    },
    {
      "cell_type": "markdown",
      "source": [
        "**k-평균 속도 개선과 미니배치 k-평균**"
      ],
      "metadata": {
        "id": "MM0QjcoHqTZx"
      }
    },
    {
      "cell_type": "markdown",
      "source": [
        "미니배치 k-평균의 이너셔가 k-평균보다 높음. k가 증가할수록 더욱 그렇다."
      ],
      "metadata": {
        "id": "YSllMoHt7wWP"
      }
    },
    {
      "cell_type": "code",
      "source": [
        "from sklearn.cluster import MiniBatchKMeans\n",
        "\n",
        "minibatch_kmeans = MiniBatchKMeans(n_clusters=5)\n",
        "minibatch_kmeans.fit(X)"
      ],
      "metadata": {
        "colab": {
          "base_uri": "https://localhost:8080/"
        },
        "id": "hJuiQJaQqXg_",
        "outputId": "e37a8deb-0b57-4e5b-a184-df5ff0afc04f"
      },
      "execution_count": null,
      "outputs": [
        {
          "output_type": "execute_result",
          "data": {
            "text/plain": [
              "MiniBatchKMeans(n_clusters=5)"
            ]
          },
          "metadata": {},
          "execution_count": 20
        }
      ]
    },
    {
      "cell_type": "markdown",
      "source": [
        "**최적의 클러스터 개수 찾기**"
      ],
      "metadata": {
        "id": "D6ARM7aMqjdp"
      }
    },
    {
      "cell_type": "markdown",
      "source": [
        "**실루엣 점수silhouette score** 모든 샘플에 대한 **실루엣 계수silhouette coefficient**의 평균 \\\n",
        "**실루엣 계수** (b-a)/max(a,b)\n",
        "* a: 클러스터 내부의 평균 거리\n",
        "* b: 가장 가까운 클러스터의 샘플까지 평균 거리\n",
        "* -1~+1의 범위. +1에 가까우면 자신의 클러스터 안에 잘 속해있고 다른 클러스터와는 멀다는 뜻. 0에 가까우면 클러스터 경계에 위치"
      ],
      "metadata": {
        "id": "gmI0cv9W76FN"
      }
    },
    {
      "cell_type": "code",
      "source": [
        "from sklearn.metrics import silhouette_score\n",
        "silhouette_score(X, kmeans.labels_)"
      ],
      "metadata": {
        "colab": {
          "base_uri": "https://localhost:8080/"
        },
        "id": "ChyLEktZql_L",
        "outputId": "445cb02b-dde4-4f0c-a73a-5fc2d8e88d4e"
      },
      "execution_count": null,
      "outputs": [
        {
          "output_type": "execute_result",
          "data": {
            "text/plain": [
              "0.655517642572828"
            ]
          },
          "metadata": {},
          "execution_count": 21
        }
      ]
    },
    {
      "cell_type": "markdown",
      "source": [
        "#### 9.1.2 k-평균의 한계"
      ],
      "metadata": {
        "id": "_hF3NqG_qux9"
      }
    },
    {
      "cell_type": "markdown",
      "source": [
        "* 클러스터 개수를 지정해야 함.\n",
        "* 클러스터의 크기나 밀집도가 서로 다르거나 원형이 아니면 잘 작동하지 않음.\n",
        "* 입력 특성의 스케일을 맞추는 것이 중요."
      ],
      "metadata": {
        "id": "yc7qrJXt8tqG"
      }
    },
    {
      "cell_type": "markdown",
      "source": [
        "#### 9.1.3 군집을 사용한 이미지 분할"
      ],
      "metadata": {
        "id": "Jrk5JyOHqyBD"
      }
    },
    {
      "cell_type": "markdown",
      "source": [
        "* **이미지 분할image segmentation** 이미지를 세그먼트 여러 개로 분할하는 작업\n",
        "* **시맨틱 분할semantic segmentation** 동일 종류의 물체에 속한 모든 픽셀은 같은 세그먼트에 할당\n",
        "* **색상 분할color segmentation** 동일한 색상을 가진 픽셀을 같은 세그먼트에 할당"
      ],
      "metadata": {
        "id": "nNEpgr598-4I"
      }
    },
    {
      "cell_type": "code",
      "source": [
        "import os\n",
        "import urllib.request\n",
        "\n",
        "# 무당벌레 이미지를 다운로드합니다\n",
        "PROJECT_ROOT_DIR = \".\"\n",
        "images_path = os.path.join(PROJECT_ROOT_DIR, \"images\", \"unsupervised_learning\")\n",
        "os.makedirs(images_path, exist_ok=True)\n",
        "DOWNLOAD_ROOT = \"https://raw.githubusercontent.com/rickiepark/handson-ml2/master/\"\n",
        "filename = \"ladybug.png\"\n",
        "print(\"Downloading\", filename)\n",
        "url = DOWNLOAD_ROOT + \"images/unsupervised_learning/\" + filename\n",
        "urllib.request.urlretrieve(url, os.path.join(images_path, filename))"
      ],
      "metadata": {
        "colab": {
          "base_uri": "https://localhost:8080/"
        },
        "id": "__3n1WwGq0hG",
        "outputId": "90bb9d37-8574-4d3a-dcc5-bfa7c1641cbc"
      },
      "execution_count": null,
      "outputs": [
        {
          "output_type": "stream",
          "name": "stdout",
          "text": [
            "Downloading ladybug.png\n"
          ]
        },
        {
          "output_type": "execute_result",
          "data": {
            "text/plain": [
              "('./images/unsupervised_learning/ladybug.png',\n",
              " <http.client.HTTPMessage at 0x7f4edd3428d0>)"
            ]
          },
          "metadata": {},
          "execution_count": 27
        }
      ]
    },
    {
      "cell_type": "code",
      "source": [
        "# imread() 로 이미지 읽기\n",
        "from matplotlib.image import imread # or 'from imageio import imread'\n",
        "image = imread(os.path.join('images', 'unsupervised_learning', 'ladybug.png'))\n",
        "image.shape"
      ],
      "metadata": {
        "colab": {
          "base_uri": "https://localhost:8080/"
        },
        "id": "2wq9slTwrvqa",
        "outputId": "2dc6d4db-419b-4fef-c6bc-fe3ed575005a"
      },
      "execution_count": null,
      "outputs": [
        {
          "output_type": "execute_result",
          "data": {
            "text/plain": [
              "(533, 800, 3)"
            ]
          },
          "metadata": {},
          "execution_count": 28
        }
      ]
    },
    {
      "cell_type": "code",
      "source": [
        "# 배열을 RGB 색상의 긴 리스트로 변환한 다음 k-평균을 사용해 클러스터로 색상 모음\n",
        "X = image.reshape(-1,3)\n",
        "kmeans = KMeans(n_clusters=8).fit(X)\n",
        "segmented_img = kmeans.cluster_centers_[kmeans.labels_]\n",
        "segmented_img = segmented_img.reshape(image.shape)"
      ],
      "metadata": {
        "id": "a0opVUNtr9ze"
      },
      "execution_count": null,
      "outputs": []
    },
    {
      "cell_type": "markdown",
      "source": [
        "#### 9.1.4 군집을 사용한 전처리"
      ],
      "metadata": {
        "id": "PWOqUPSRsPC6"
      }
    },
    {
      "cell_type": "code",
      "source": [
        "from sklearn.datasets import load_digits\n",
        "\n",
        "X_digits, y_digits = load_digits(return_X_y=True)"
      ],
      "metadata": {
        "id": "79YMRsf1sRka"
      },
      "execution_count": null,
      "outputs": []
    },
    {
      "cell_type": "code",
      "source": [
        "# 훈련 세트와 테스트 세트로 분할\n",
        "from sklearn.model_selection import train_test_split\n",
        "\n",
        "X_train, X_test, y_train, y_test = train_test_split(X_digits, y_digits)"
      ],
      "metadata": {
        "id": "VuLaT9VGsZhg"
      },
      "execution_count": null,
      "outputs": []
    },
    {
      "cell_type": "code",
      "source": [
        "# 로지스틱 회귀 모델 훈련\n",
        "from sklearn.linear_model import LogisticRegression\n",
        "\n",
        "log_reg = LogisticRegression()\n",
        "log_reg.fit(X_train, y_train)"
      ],
      "metadata": {
        "colab": {
          "base_uri": "https://localhost:8080/"
        },
        "id": "yeWCHg1gsiQ8",
        "outputId": "f560198b-c25d-4c4d-eae7-e94699990988"
      },
      "execution_count": null,
      "outputs": [
        {
          "output_type": "stream",
          "name": "stderr",
          "text": [
            "/usr/local/lib/python3.7/dist-packages/sklearn/linear_model/_logistic.py:818: ConvergenceWarning: lbfgs failed to converge (status=1):\n",
            "STOP: TOTAL NO. of ITERATIONS REACHED LIMIT.\n",
            "\n",
            "Increase the number of iterations (max_iter) or scale the data as shown in:\n",
            "    https://scikit-learn.org/stable/modules/preprocessing.html\n",
            "Please also refer to the documentation for alternative solver options:\n",
            "    https://scikit-learn.org/stable/modules/linear_model.html#logistic-regression\n",
            "  extra_warning_msg=_LOGISTIC_SOLVER_CONVERGENCE_MSG,\n"
          ]
        },
        {
          "output_type": "execute_result",
          "data": {
            "text/plain": [
              "LogisticRegression()"
            ]
          },
          "metadata": {},
          "execution_count": 32
        }
      ]
    },
    {
      "cell_type": "code",
      "source": [
        "# 정확도 평가\n",
        "log_reg.score(X_test, y_test)"
      ],
      "metadata": {
        "colab": {
          "base_uri": "https://localhost:8080/"
        },
        "id": "r70rK21cssFo",
        "outputId": "af518b91-903f-45b9-e99f-8615824615ff"
      },
      "execution_count": null,
      "outputs": [
        {
          "output_type": "execute_result",
          "data": {
            "text/plain": [
              "0.9577777777777777"
            ]
          },
          "metadata": {},
          "execution_count": 33
        }
      ]
    },
    {
      "cell_type": "code",
      "source": [
        "from sklearn.pipeline import Pipeline\n",
        "\n",
        "# 훈련 세트를 50개의 클러스터로 모은 다음 이미지를 50개 클러스터까지 거리로 변환\n",
        "pipeline = Pipeline([\n",
        "                     ('kmeans', KMeans(n_clusters=50)),\n",
        "                     ('log_reg', LogisticRegression()),\n",
        "])\n",
        "pipeline.fit(X_train, y_train)"
      ],
      "metadata": {
        "colab": {
          "base_uri": "https://localhost:8080/"
        },
        "id": "hv_ZjNLEsv6a",
        "outputId": "9bb652f9-f73e-4fe8-9d97-bee681955354"
      },
      "execution_count": null,
      "outputs": [
        {
          "output_type": "stream",
          "name": "stderr",
          "text": [
            "/usr/local/lib/python3.7/dist-packages/sklearn/linear_model/_logistic.py:818: ConvergenceWarning: lbfgs failed to converge (status=1):\n",
            "STOP: TOTAL NO. of ITERATIONS REACHED LIMIT.\n",
            "\n",
            "Increase the number of iterations (max_iter) or scale the data as shown in:\n",
            "    https://scikit-learn.org/stable/modules/preprocessing.html\n",
            "Please also refer to the documentation for alternative solver options:\n",
            "    https://scikit-learn.org/stable/modules/linear_model.html#logistic-regression\n",
            "  extra_warning_msg=_LOGISTIC_SOLVER_CONVERGENCE_MSG,\n"
          ]
        },
        {
          "output_type": "execute_result",
          "data": {
            "text/plain": [
              "Pipeline(steps=[('kmeans', KMeans(n_clusters=50)),\n",
              "                ('log_reg', LogisticRegression())])"
            ]
          },
          "metadata": {},
          "execution_count": 34
        }
      ]
    },
    {
      "cell_type": "code",
      "source": [
        "pipeline.score(X_test, y_test)"
      ],
      "metadata": {
        "colab": {
          "base_uri": "https://localhost:8080/"
        },
        "id": "Cr2j0WyhtAky",
        "outputId": "a95aaa0d-a044-4c8e-af99-42f31bd63fe1"
      },
      "execution_count": null,
      "outputs": [
        {
          "output_type": "execute_result",
          "data": {
            "text/plain": [
              "0.96"
            ]
          },
          "metadata": {},
          "execution_count": 35
        }
      ]
    },
    {
      "cell_type": "code",
      "source": [
        "# GridSearchCV를 사용해 최적의 클러스터 개수 찾기\n",
        "from sklearn.model_selection import GridSearchCV\n",
        "\n",
        "param_grid = dict(kmeans__n_clusters=range(2,100))\n",
        "grid_clf = GridSearchCV(pipeline, param_grid, cv=3, verbose=2)\n",
        "grid_clf.fit(X_train, y_train)"
      ],
      "metadata": {
        "colab": {
          "base_uri": "https://localhost:8080/"
        },
        "id": "kOwBtzWRtEgP",
        "outputId": "1dc0f00b-6772-427f-8135-1c0fb05de55f"
      },
      "execution_count": null,
      "outputs": [
        {
          "output_type": "stream",
          "name": "stdout",
          "text": [
            "Fitting 3 folds for each of 98 candidates, totalling 294 fits\n"
          ]
        },
        {
          "output_type": "stream",
          "name": "stderr",
          "text": [
            "/usr/local/lib/python3.7/dist-packages/sklearn/linear_model/_logistic.py:818: ConvergenceWarning: lbfgs failed to converge (status=1):\n",
            "STOP: TOTAL NO. of ITERATIONS REACHED LIMIT.\n",
            "\n",
            "Increase the number of iterations (max_iter) or scale the data as shown in:\n",
            "    https://scikit-learn.org/stable/modules/preprocessing.html\n",
            "Please also refer to the documentation for alternative solver options:\n",
            "    https://scikit-learn.org/stable/modules/linear_model.html#logistic-regression\n",
            "  extra_warning_msg=_LOGISTIC_SOLVER_CONVERGENCE_MSG,\n"
          ]
        },
        {
          "output_type": "stream",
          "name": "stdout",
          "text": [
            "[CV] END ...............................kmeans__n_clusters=2; total time=   0.5s\n"
          ]
        },
        {
          "output_type": "stream",
          "name": "stderr",
          "text": [
            "/usr/local/lib/python3.7/dist-packages/sklearn/linear_model/_logistic.py:818: ConvergenceWarning: lbfgs failed to converge (status=1):\n",
            "STOP: TOTAL NO. of ITERATIONS REACHED LIMIT.\n",
            "\n",
            "Increase the number of iterations (max_iter) or scale the data as shown in:\n",
            "    https://scikit-learn.org/stable/modules/preprocessing.html\n",
            "Please also refer to the documentation for alternative solver options:\n",
            "    https://scikit-learn.org/stable/modules/linear_model.html#logistic-regression\n",
            "  extra_warning_msg=_LOGISTIC_SOLVER_CONVERGENCE_MSG,\n"
          ]
        },
        {
          "output_type": "stream",
          "name": "stdout",
          "text": [
            "[CV] END ...............................kmeans__n_clusters=2; total time=   0.5s\n"
          ]
        },
        {
          "output_type": "stream",
          "name": "stderr",
          "text": [
            "/usr/local/lib/python3.7/dist-packages/sklearn/linear_model/_logistic.py:818: ConvergenceWarning: lbfgs failed to converge (status=1):\n",
            "STOP: TOTAL NO. of ITERATIONS REACHED LIMIT.\n",
            "\n",
            "Increase the number of iterations (max_iter) or scale the data as shown in:\n",
            "    https://scikit-learn.org/stable/modules/preprocessing.html\n",
            "Please also refer to the documentation for alternative solver options:\n",
            "    https://scikit-learn.org/stable/modules/linear_model.html#logistic-regression\n",
            "  extra_warning_msg=_LOGISTIC_SOLVER_CONVERGENCE_MSG,\n"
          ]
        },
        {
          "output_type": "stream",
          "name": "stdout",
          "text": [
            "[CV] END ...............................kmeans__n_clusters=2; total time=   0.5s\n"
          ]
        },
        {
          "output_type": "stream",
          "name": "stderr",
          "text": [
            "/usr/local/lib/python3.7/dist-packages/sklearn/linear_model/_logistic.py:818: ConvergenceWarning: lbfgs failed to converge (status=1):\n",
            "STOP: TOTAL NO. of ITERATIONS REACHED LIMIT.\n",
            "\n",
            "Increase the number of iterations (max_iter) or scale the data as shown in:\n",
            "    https://scikit-learn.org/stable/modules/preprocessing.html\n",
            "Please also refer to the documentation for alternative solver options:\n",
            "    https://scikit-learn.org/stable/modules/linear_model.html#logistic-regression\n",
            "  extra_warning_msg=_LOGISTIC_SOLVER_CONVERGENCE_MSG,\n"
          ]
        },
        {
          "output_type": "stream",
          "name": "stdout",
          "text": [
            "[CV] END ...............................kmeans__n_clusters=3; total time=   0.7s\n"
          ]
        },
        {
          "output_type": "stream",
          "name": "stderr",
          "text": [
            "/usr/local/lib/python3.7/dist-packages/sklearn/linear_model/_logistic.py:818: ConvergenceWarning: lbfgs failed to converge (status=1):\n",
            "STOP: TOTAL NO. of ITERATIONS REACHED LIMIT.\n",
            "\n",
            "Increase the number of iterations (max_iter) or scale the data as shown in:\n",
            "    https://scikit-learn.org/stable/modules/preprocessing.html\n",
            "Please also refer to the documentation for alternative solver options:\n",
            "    https://scikit-learn.org/stable/modules/linear_model.html#logistic-regression\n",
            "  extra_warning_msg=_LOGISTIC_SOLVER_CONVERGENCE_MSG,\n"
          ]
        },
        {
          "output_type": "stream",
          "name": "stdout",
          "text": [
            "[CV] END ...............................kmeans__n_clusters=3; total time=   1.7s\n"
          ]
        },
        {
          "output_type": "stream",
          "name": "stderr",
          "text": [
            "/usr/local/lib/python3.7/dist-packages/sklearn/linear_model/_logistic.py:818: ConvergenceWarning: lbfgs failed to converge (status=1):\n",
            "STOP: TOTAL NO. of ITERATIONS REACHED LIMIT.\n",
            "\n",
            "Increase the number of iterations (max_iter) or scale the data as shown in:\n",
            "    https://scikit-learn.org/stable/modules/preprocessing.html\n",
            "Please also refer to the documentation for alternative solver options:\n",
            "    https://scikit-learn.org/stable/modules/linear_model.html#logistic-regression\n",
            "  extra_warning_msg=_LOGISTIC_SOLVER_CONVERGENCE_MSG,\n"
          ]
        },
        {
          "output_type": "stream",
          "name": "stdout",
          "text": [
            "[CV] END ...............................kmeans__n_clusters=3; total time=   0.9s\n"
          ]
        },
        {
          "output_type": "stream",
          "name": "stderr",
          "text": [
            "/usr/local/lib/python3.7/dist-packages/sklearn/linear_model/_logistic.py:818: ConvergenceWarning: lbfgs failed to converge (status=1):\n",
            "STOP: TOTAL NO. of ITERATIONS REACHED LIMIT.\n",
            "\n",
            "Increase the number of iterations (max_iter) or scale the data as shown in:\n",
            "    https://scikit-learn.org/stable/modules/preprocessing.html\n",
            "Please also refer to the documentation for alternative solver options:\n",
            "    https://scikit-learn.org/stable/modules/linear_model.html#logistic-regression\n",
            "  extra_warning_msg=_LOGISTIC_SOLVER_CONVERGENCE_MSG,\n"
          ]
        },
        {
          "output_type": "stream",
          "name": "stdout",
          "text": [
            "[CV] END ...............................kmeans__n_clusters=4; total time=   0.8s\n"
          ]
        },
        {
          "output_type": "stream",
          "name": "stderr",
          "text": [
            "/usr/local/lib/python3.7/dist-packages/sklearn/linear_model/_logistic.py:818: ConvergenceWarning: lbfgs failed to converge (status=1):\n",
            "STOP: TOTAL NO. of ITERATIONS REACHED LIMIT.\n",
            "\n",
            "Increase the number of iterations (max_iter) or scale the data as shown in:\n",
            "    https://scikit-learn.org/stable/modules/preprocessing.html\n",
            "Please also refer to the documentation for alternative solver options:\n",
            "    https://scikit-learn.org/stable/modules/linear_model.html#logistic-regression\n",
            "  extra_warning_msg=_LOGISTIC_SOLVER_CONVERGENCE_MSG,\n"
          ]
        },
        {
          "output_type": "stream",
          "name": "stdout",
          "text": [
            "[CV] END ...............................kmeans__n_clusters=4; total time=   0.8s\n"
          ]
        },
        {
          "output_type": "stream",
          "name": "stderr",
          "text": [
            "/usr/local/lib/python3.7/dist-packages/sklearn/linear_model/_logistic.py:818: ConvergenceWarning: lbfgs failed to converge (status=1):\n",
            "STOP: TOTAL NO. of ITERATIONS REACHED LIMIT.\n",
            "\n",
            "Increase the number of iterations (max_iter) or scale the data as shown in:\n",
            "    https://scikit-learn.org/stable/modules/preprocessing.html\n",
            "Please also refer to the documentation for alternative solver options:\n",
            "    https://scikit-learn.org/stable/modules/linear_model.html#logistic-regression\n",
            "  extra_warning_msg=_LOGISTIC_SOLVER_CONVERGENCE_MSG,\n"
          ]
        },
        {
          "output_type": "stream",
          "name": "stdout",
          "text": [
            "[CV] END ...............................kmeans__n_clusters=4; total time=   0.6s\n"
          ]
        },
        {
          "output_type": "stream",
          "name": "stderr",
          "text": [
            "/usr/local/lib/python3.7/dist-packages/sklearn/linear_model/_logistic.py:818: ConvergenceWarning: lbfgs failed to converge (status=1):\n",
            "STOP: TOTAL NO. of ITERATIONS REACHED LIMIT.\n",
            "\n",
            "Increase the number of iterations (max_iter) or scale the data as shown in:\n",
            "    https://scikit-learn.org/stable/modules/preprocessing.html\n",
            "Please also refer to the documentation for alternative solver options:\n",
            "    https://scikit-learn.org/stable/modules/linear_model.html#logistic-regression\n",
            "  extra_warning_msg=_LOGISTIC_SOLVER_CONVERGENCE_MSG,\n"
          ]
        },
        {
          "output_type": "stream",
          "name": "stdout",
          "text": [
            "[CV] END ...............................kmeans__n_clusters=5; total time=   0.9s\n"
          ]
        },
        {
          "output_type": "stream",
          "name": "stderr",
          "text": [
            "/usr/local/lib/python3.7/dist-packages/sklearn/linear_model/_logistic.py:818: ConvergenceWarning: lbfgs failed to converge (status=1):\n",
            "STOP: TOTAL NO. of ITERATIONS REACHED LIMIT.\n",
            "\n",
            "Increase the number of iterations (max_iter) or scale the data as shown in:\n",
            "    https://scikit-learn.org/stable/modules/preprocessing.html\n",
            "Please also refer to the documentation for alternative solver options:\n",
            "    https://scikit-learn.org/stable/modules/linear_model.html#logistic-regression\n",
            "  extra_warning_msg=_LOGISTIC_SOLVER_CONVERGENCE_MSG,\n"
          ]
        },
        {
          "output_type": "stream",
          "name": "stdout",
          "text": [
            "[CV] END ...............................kmeans__n_clusters=5; total time=   0.9s\n"
          ]
        },
        {
          "output_type": "stream",
          "name": "stderr",
          "text": [
            "/usr/local/lib/python3.7/dist-packages/sklearn/linear_model/_logistic.py:818: ConvergenceWarning: lbfgs failed to converge (status=1):\n",
            "STOP: TOTAL NO. of ITERATIONS REACHED LIMIT.\n",
            "\n",
            "Increase the number of iterations (max_iter) or scale the data as shown in:\n",
            "    https://scikit-learn.org/stable/modules/preprocessing.html\n",
            "Please also refer to the documentation for alternative solver options:\n",
            "    https://scikit-learn.org/stable/modules/linear_model.html#logistic-regression\n",
            "  extra_warning_msg=_LOGISTIC_SOLVER_CONVERGENCE_MSG,\n"
          ]
        },
        {
          "output_type": "stream",
          "name": "stdout",
          "text": [
            "[CV] END ...............................kmeans__n_clusters=5; total time=   0.7s\n"
          ]
        },
        {
          "output_type": "stream",
          "name": "stderr",
          "text": [
            "/usr/local/lib/python3.7/dist-packages/sklearn/linear_model/_logistic.py:818: ConvergenceWarning: lbfgs failed to converge (status=1):\n",
            "STOP: TOTAL NO. of ITERATIONS REACHED LIMIT.\n",
            "\n",
            "Increase the number of iterations (max_iter) or scale the data as shown in:\n",
            "    https://scikit-learn.org/stable/modules/preprocessing.html\n",
            "Please also refer to the documentation for alternative solver options:\n",
            "    https://scikit-learn.org/stable/modules/linear_model.html#logistic-regression\n",
            "  extra_warning_msg=_LOGISTIC_SOLVER_CONVERGENCE_MSG,\n"
          ]
        },
        {
          "output_type": "stream",
          "name": "stdout",
          "text": [
            "[CV] END ...............................kmeans__n_clusters=6; total time=   0.7s\n"
          ]
        },
        {
          "output_type": "stream",
          "name": "stderr",
          "text": [
            "/usr/local/lib/python3.7/dist-packages/sklearn/linear_model/_logistic.py:818: ConvergenceWarning: lbfgs failed to converge (status=1):\n",
            "STOP: TOTAL NO. of ITERATIONS REACHED LIMIT.\n",
            "\n",
            "Increase the number of iterations (max_iter) or scale the data as shown in:\n",
            "    https://scikit-learn.org/stable/modules/preprocessing.html\n",
            "Please also refer to the documentation for alternative solver options:\n",
            "    https://scikit-learn.org/stable/modules/linear_model.html#logistic-regression\n",
            "  extra_warning_msg=_LOGISTIC_SOLVER_CONVERGENCE_MSG,\n"
          ]
        },
        {
          "output_type": "stream",
          "name": "stdout",
          "text": [
            "[CV] END ...............................kmeans__n_clusters=6; total time=   1.6s\n"
          ]
        },
        {
          "output_type": "stream",
          "name": "stderr",
          "text": [
            "/usr/local/lib/python3.7/dist-packages/sklearn/linear_model/_logistic.py:818: ConvergenceWarning: lbfgs failed to converge (status=1):\n",
            "STOP: TOTAL NO. of ITERATIONS REACHED LIMIT.\n",
            "\n",
            "Increase the number of iterations (max_iter) or scale the data as shown in:\n",
            "    https://scikit-learn.org/stable/modules/preprocessing.html\n",
            "Please also refer to the documentation for alternative solver options:\n",
            "    https://scikit-learn.org/stable/modules/linear_model.html#logistic-regression\n",
            "  extra_warning_msg=_LOGISTIC_SOLVER_CONVERGENCE_MSG,\n"
          ]
        },
        {
          "output_type": "stream",
          "name": "stdout",
          "text": [
            "[CV] END ...............................kmeans__n_clusters=6; total time=   1.0s\n"
          ]
        },
        {
          "output_type": "stream",
          "name": "stderr",
          "text": [
            "/usr/local/lib/python3.7/dist-packages/sklearn/linear_model/_logistic.py:818: ConvergenceWarning: lbfgs failed to converge (status=1):\n",
            "STOP: TOTAL NO. of ITERATIONS REACHED LIMIT.\n",
            "\n",
            "Increase the number of iterations (max_iter) or scale the data as shown in:\n",
            "    https://scikit-learn.org/stable/modules/preprocessing.html\n",
            "Please also refer to the documentation for alternative solver options:\n",
            "    https://scikit-learn.org/stable/modules/linear_model.html#logistic-regression\n",
            "  extra_warning_msg=_LOGISTIC_SOLVER_CONVERGENCE_MSG,\n"
          ]
        },
        {
          "output_type": "stream",
          "name": "stdout",
          "text": [
            "[CV] END ...............................kmeans__n_clusters=7; total time=   0.9s\n"
          ]
        },
        {
          "output_type": "stream",
          "name": "stderr",
          "text": [
            "/usr/local/lib/python3.7/dist-packages/sklearn/linear_model/_logistic.py:818: ConvergenceWarning: lbfgs failed to converge (status=1):\n",
            "STOP: TOTAL NO. of ITERATIONS REACHED LIMIT.\n",
            "\n",
            "Increase the number of iterations (max_iter) or scale the data as shown in:\n",
            "    https://scikit-learn.org/stable/modules/preprocessing.html\n",
            "Please also refer to the documentation for alternative solver options:\n",
            "    https://scikit-learn.org/stable/modules/linear_model.html#logistic-regression\n",
            "  extra_warning_msg=_LOGISTIC_SOLVER_CONVERGENCE_MSG,\n"
          ]
        },
        {
          "output_type": "stream",
          "name": "stdout",
          "text": [
            "[CV] END ...............................kmeans__n_clusters=7; total time=   0.7s\n"
          ]
        },
        {
          "output_type": "stream",
          "name": "stderr",
          "text": [
            "/usr/local/lib/python3.7/dist-packages/sklearn/linear_model/_logistic.py:818: ConvergenceWarning: lbfgs failed to converge (status=1):\n",
            "STOP: TOTAL NO. of ITERATIONS REACHED LIMIT.\n",
            "\n",
            "Increase the number of iterations (max_iter) or scale the data as shown in:\n",
            "    https://scikit-learn.org/stable/modules/preprocessing.html\n",
            "Please also refer to the documentation for alternative solver options:\n",
            "    https://scikit-learn.org/stable/modules/linear_model.html#logistic-regression\n",
            "  extra_warning_msg=_LOGISTIC_SOLVER_CONVERGENCE_MSG,\n"
          ]
        },
        {
          "output_type": "stream",
          "name": "stdout",
          "text": [
            "[CV] END ...............................kmeans__n_clusters=7; total time=   1.1s\n"
          ]
        },
        {
          "output_type": "stream",
          "name": "stderr",
          "text": [
            "/usr/local/lib/python3.7/dist-packages/sklearn/linear_model/_logistic.py:818: ConvergenceWarning: lbfgs failed to converge (status=1):\n",
            "STOP: TOTAL NO. of ITERATIONS REACHED LIMIT.\n",
            "\n",
            "Increase the number of iterations (max_iter) or scale the data as shown in:\n",
            "    https://scikit-learn.org/stable/modules/preprocessing.html\n",
            "Please also refer to the documentation for alternative solver options:\n",
            "    https://scikit-learn.org/stable/modules/linear_model.html#logistic-regression\n",
            "  extra_warning_msg=_LOGISTIC_SOLVER_CONVERGENCE_MSG,\n"
          ]
        },
        {
          "output_type": "stream",
          "name": "stdout",
          "text": [
            "[CV] END ...............................kmeans__n_clusters=8; total time=   0.7s\n"
          ]
        },
        {
          "output_type": "stream",
          "name": "stderr",
          "text": [
            "/usr/local/lib/python3.7/dist-packages/sklearn/linear_model/_logistic.py:818: ConvergenceWarning: lbfgs failed to converge (status=1):\n",
            "STOP: TOTAL NO. of ITERATIONS REACHED LIMIT.\n",
            "\n",
            "Increase the number of iterations (max_iter) or scale the data as shown in:\n",
            "    https://scikit-learn.org/stable/modules/preprocessing.html\n",
            "Please also refer to the documentation for alternative solver options:\n",
            "    https://scikit-learn.org/stable/modules/linear_model.html#logistic-regression\n",
            "  extra_warning_msg=_LOGISTIC_SOLVER_CONVERGENCE_MSG,\n"
          ]
        },
        {
          "output_type": "stream",
          "name": "stdout",
          "text": [
            "[CV] END ...............................kmeans__n_clusters=8; total time=   0.8s\n"
          ]
        },
        {
          "output_type": "stream",
          "name": "stderr",
          "text": [
            "/usr/local/lib/python3.7/dist-packages/sklearn/linear_model/_logistic.py:818: ConvergenceWarning: lbfgs failed to converge (status=1):\n",
            "STOP: TOTAL NO. of ITERATIONS REACHED LIMIT.\n",
            "\n",
            "Increase the number of iterations (max_iter) or scale the data as shown in:\n",
            "    https://scikit-learn.org/stable/modules/preprocessing.html\n",
            "Please also refer to the documentation for alternative solver options:\n",
            "    https://scikit-learn.org/stable/modules/linear_model.html#logistic-regression\n",
            "  extra_warning_msg=_LOGISTIC_SOLVER_CONVERGENCE_MSG,\n"
          ]
        },
        {
          "output_type": "stream",
          "name": "stdout",
          "text": [
            "[CV] END ...............................kmeans__n_clusters=8; total time=   0.8s\n"
          ]
        },
        {
          "output_type": "stream",
          "name": "stderr",
          "text": [
            "/usr/local/lib/python3.7/dist-packages/sklearn/linear_model/_logistic.py:818: ConvergenceWarning: lbfgs failed to converge (status=1):\n",
            "STOP: TOTAL NO. of ITERATIONS REACHED LIMIT.\n",
            "\n",
            "Increase the number of iterations (max_iter) or scale the data as shown in:\n",
            "    https://scikit-learn.org/stable/modules/preprocessing.html\n",
            "Please also refer to the documentation for alternative solver options:\n",
            "    https://scikit-learn.org/stable/modules/linear_model.html#logistic-regression\n",
            "  extra_warning_msg=_LOGISTIC_SOLVER_CONVERGENCE_MSG,\n"
          ]
        },
        {
          "output_type": "stream",
          "name": "stdout",
          "text": [
            "[CV] END ...............................kmeans__n_clusters=9; total time=   1.3s\n"
          ]
        },
        {
          "output_type": "stream",
          "name": "stderr",
          "text": [
            "/usr/local/lib/python3.7/dist-packages/sklearn/linear_model/_logistic.py:818: ConvergenceWarning: lbfgs failed to converge (status=1):\n",
            "STOP: TOTAL NO. of ITERATIONS REACHED LIMIT.\n",
            "\n",
            "Increase the number of iterations (max_iter) or scale the data as shown in:\n",
            "    https://scikit-learn.org/stable/modules/preprocessing.html\n",
            "Please also refer to the documentation for alternative solver options:\n",
            "    https://scikit-learn.org/stable/modules/linear_model.html#logistic-regression\n",
            "  extra_warning_msg=_LOGISTIC_SOLVER_CONVERGENCE_MSG,\n"
          ]
        },
        {
          "output_type": "stream",
          "name": "stdout",
          "text": [
            "[CV] END ...............................kmeans__n_clusters=9; total time=   1.1s\n"
          ]
        },
        {
          "output_type": "stream",
          "name": "stderr",
          "text": [
            "/usr/local/lib/python3.7/dist-packages/sklearn/linear_model/_logistic.py:818: ConvergenceWarning: lbfgs failed to converge (status=1):\n",
            "STOP: TOTAL NO. of ITERATIONS REACHED LIMIT.\n",
            "\n",
            "Increase the number of iterations (max_iter) or scale the data as shown in:\n",
            "    https://scikit-learn.org/stable/modules/preprocessing.html\n",
            "Please also refer to the documentation for alternative solver options:\n",
            "    https://scikit-learn.org/stable/modules/linear_model.html#logistic-regression\n",
            "  extra_warning_msg=_LOGISTIC_SOLVER_CONVERGENCE_MSG,\n"
          ]
        },
        {
          "output_type": "stream",
          "name": "stdout",
          "text": [
            "[CV] END ...............................kmeans__n_clusters=9; total time=   1.0s\n"
          ]
        },
        {
          "output_type": "stream",
          "name": "stderr",
          "text": [
            "/usr/local/lib/python3.7/dist-packages/sklearn/linear_model/_logistic.py:818: ConvergenceWarning: lbfgs failed to converge (status=1):\n",
            "STOP: TOTAL NO. of ITERATIONS REACHED LIMIT.\n",
            "\n",
            "Increase the number of iterations (max_iter) or scale the data as shown in:\n",
            "    https://scikit-learn.org/stable/modules/preprocessing.html\n",
            "Please also refer to the documentation for alternative solver options:\n",
            "    https://scikit-learn.org/stable/modules/linear_model.html#logistic-regression\n",
            "  extra_warning_msg=_LOGISTIC_SOLVER_CONVERGENCE_MSG,\n"
          ]
        },
        {
          "output_type": "stream",
          "name": "stdout",
          "text": [
            "[CV] END ..............................kmeans__n_clusters=10; total time=   0.7s\n"
          ]
        },
        {
          "output_type": "stream",
          "name": "stderr",
          "text": [
            "/usr/local/lib/python3.7/dist-packages/sklearn/linear_model/_logistic.py:818: ConvergenceWarning: lbfgs failed to converge (status=1):\n",
            "STOP: TOTAL NO. of ITERATIONS REACHED LIMIT.\n",
            "\n",
            "Increase the number of iterations (max_iter) or scale the data as shown in:\n",
            "    https://scikit-learn.org/stable/modules/preprocessing.html\n",
            "Please also refer to the documentation for alternative solver options:\n",
            "    https://scikit-learn.org/stable/modules/linear_model.html#logistic-regression\n",
            "  extra_warning_msg=_LOGISTIC_SOLVER_CONVERGENCE_MSG,\n"
          ]
        },
        {
          "output_type": "stream",
          "name": "stdout",
          "text": [
            "[CV] END ..............................kmeans__n_clusters=10; total time=   0.6s\n"
          ]
        },
        {
          "output_type": "stream",
          "name": "stderr",
          "text": [
            "/usr/local/lib/python3.7/dist-packages/sklearn/linear_model/_logistic.py:818: ConvergenceWarning: lbfgs failed to converge (status=1):\n",
            "STOP: TOTAL NO. of ITERATIONS REACHED LIMIT.\n",
            "\n",
            "Increase the number of iterations (max_iter) or scale the data as shown in:\n",
            "    https://scikit-learn.org/stable/modules/preprocessing.html\n",
            "Please also refer to the documentation for alternative solver options:\n",
            "    https://scikit-learn.org/stable/modules/linear_model.html#logistic-regression\n",
            "  extra_warning_msg=_LOGISTIC_SOLVER_CONVERGENCE_MSG,\n"
          ]
        },
        {
          "output_type": "stream",
          "name": "stdout",
          "text": [
            "[CV] END ..............................kmeans__n_clusters=10; total time=   0.5s\n"
          ]
        },
        {
          "output_type": "stream",
          "name": "stderr",
          "text": [
            "/usr/local/lib/python3.7/dist-packages/sklearn/linear_model/_logistic.py:818: ConvergenceWarning: lbfgs failed to converge (status=1):\n",
            "STOP: TOTAL NO. of ITERATIONS REACHED LIMIT.\n",
            "\n",
            "Increase the number of iterations (max_iter) or scale the data as shown in:\n",
            "    https://scikit-learn.org/stable/modules/preprocessing.html\n",
            "Please also refer to the documentation for alternative solver options:\n",
            "    https://scikit-learn.org/stable/modules/linear_model.html#logistic-regression\n",
            "  extra_warning_msg=_LOGISTIC_SOLVER_CONVERGENCE_MSG,\n"
          ]
        },
        {
          "output_type": "stream",
          "name": "stdout",
          "text": [
            "[CV] END ..............................kmeans__n_clusters=11; total time=   0.8s\n"
          ]
        },
        {
          "output_type": "stream",
          "name": "stderr",
          "text": [
            "/usr/local/lib/python3.7/dist-packages/sklearn/linear_model/_logistic.py:818: ConvergenceWarning: lbfgs failed to converge (status=1):\n",
            "STOP: TOTAL NO. of ITERATIONS REACHED LIMIT.\n",
            "\n",
            "Increase the number of iterations (max_iter) or scale the data as shown in:\n",
            "    https://scikit-learn.org/stable/modules/preprocessing.html\n",
            "Please also refer to the documentation for alternative solver options:\n",
            "    https://scikit-learn.org/stable/modules/linear_model.html#logistic-regression\n",
            "  extra_warning_msg=_LOGISTIC_SOLVER_CONVERGENCE_MSG,\n"
          ]
        },
        {
          "output_type": "stream",
          "name": "stdout",
          "text": [
            "[CV] END ..............................kmeans__n_clusters=11; total time=   0.9s\n"
          ]
        },
        {
          "output_type": "stream",
          "name": "stderr",
          "text": [
            "/usr/local/lib/python3.7/dist-packages/sklearn/linear_model/_logistic.py:818: ConvergenceWarning: lbfgs failed to converge (status=1):\n",
            "STOP: TOTAL NO. of ITERATIONS REACHED LIMIT.\n",
            "\n",
            "Increase the number of iterations (max_iter) or scale the data as shown in:\n",
            "    https://scikit-learn.org/stable/modules/preprocessing.html\n",
            "Please also refer to the documentation for alternative solver options:\n",
            "    https://scikit-learn.org/stable/modules/linear_model.html#logistic-regression\n",
            "  extra_warning_msg=_LOGISTIC_SOLVER_CONVERGENCE_MSG,\n"
          ]
        },
        {
          "output_type": "stream",
          "name": "stdout",
          "text": [
            "[CV] END ..............................kmeans__n_clusters=11; total time=   1.1s\n"
          ]
        },
        {
          "output_type": "stream",
          "name": "stderr",
          "text": [
            "/usr/local/lib/python3.7/dist-packages/sklearn/linear_model/_logistic.py:818: ConvergenceWarning: lbfgs failed to converge (status=1):\n",
            "STOP: TOTAL NO. of ITERATIONS REACHED LIMIT.\n",
            "\n",
            "Increase the number of iterations (max_iter) or scale the data as shown in:\n",
            "    https://scikit-learn.org/stable/modules/preprocessing.html\n",
            "Please also refer to the documentation for alternative solver options:\n",
            "    https://scikit-learn.org/stable/modules/linear_model.html#logistic-regression\n",
            "  extra_warning_msg=_LOGISTIC_SOLVER_CONVERGENCE_MSG,\n"
          ]
        },
        {
          "output_type": "stream",
          "name": "stdout",
          "text": [
            "[CV] END ..............................kmeans__n_clusters=12; total time=   0.9s\n"
          ]
        },
        {
          "output_type": "stream",
          "name": "stderr",
          "text": [
            "/usr/local/lib/python3.7/dist-packages/sklearn/linear_model/_logistic.py:818: ConvergenceWarning: lbfgs failed to converge (status=1):\n",
            "STOP: TOTAL NO. of ITERATIONS REACHED LIMIT.\n",
            "\n",
            "Increase the number of iterations (max_iter) or scale the data as shown in:\n",
            "    https://scikit-learn.org/stable/modules/preprocessing.html\n",
            "Please also refer to the documentation for alternative solver options:\n",
            "    https://scikit-learn.org/stable/modules/linear_model.html#logistic-regression\n",
            "  extra_warning_msg=_LOGISTIC_SOLVER_CONVERGENCE_MSG,\n"
          ]
        },
        {
          "output_type": "stream",
          "name": "stdout",
          "text": [
            "[CV] END ..............................kmeans__n_clusters=12; total time=   0.8s\n"
          ]
        },
        {
          "output_type": "stream",
          "name": "stderr",
          "text": [
            "/usr/local/lib/python3.7/dist-packages/sklearn/linear_model/_logistic.py:818: ConvergenceWarning: lbfgs failed to converge (status=1):\n",
            "STOP: TOTAL NO. of ITERATIONS REACHED LIMIT.\n",
            "\n",
            "Increase the number of iterations (max_iter) or scale the data as shown in:\n",
            "    https://scikit-learn.org/stable/modules/preprocessing.html\n",
            "Please also refer to the documentation for alternative solver options:\n",
            "    https://scikit-learn.org/stable/modules/linear_model.html#logistic-regression\n",
            "  extra_warning_msg=_LOGISTIC_SOLVER_CONVERGENCE_MSG,\n"
          ]
        },
        {
          "output_type": "stream",
          "name": "stdout",
          "text": [
            "[CV] END ..............................kmeans__n_clusters=12; total time=   1.1s\n"
          ]
        },
        {
          "output_type": "stream",
          "name": "stderr",
          "text": [
            "/usr/local/lib/python3.7/dist-packages/sklearn/linear_model/_logistic.py:818: ConvergenceWarning: lbfgs failed to converge (status=1):\n",
            "STOP: TOTAL NO. of ITERATIONS REACHED LIMIT.\n",
            "\n",
            "Increase the number of iterations (max_iter) or scale the data as shown in:\n",
            "    https://scikit-learn.org/stable/modules/preprocessing.html\n",
            "Please also refer to the documentation for alternative solver options:\n",
            "    https://scikit-learn.org/stable/modules/linear_model.html#logistic-regression\n",
            "  extra_warning_msg=_LOGISTIC_SOLVER_CONVERGENCE_MSG,\n"
          ]
        },
        {
          "output_type": "stream",
          "name": "stdout",
          "text": [
            "[CV] END ..............................kmeans__n_clusters=13; total time=   0.8s\n"
          ]
        },
        {
          "output_type": "stream",
          "name": "stderr",
          "text": [
            "/usr/local/lib/python3.7/dist-packages/sklearn/linear_model/_logistic.py:818: ConvergenceWarning: lbfgs failed to converge (status=1):\n",
            "STOP: TOTAL NO. of ITERATIONS REACHED LIMIT.\n",
            "\n",
            "Increase the number of iterations (max_iter) or scale the data as shown in:\n",
            "    https://scikit-learn.org/stable/modules/preprocessing.html\n",
            "Please also refer to the documentation for alternative solver options:\n",
            "    https://scikit-learn.org/stable/modules/linear_model.html#logistic-regression\n",
            "  extra_warning_msg=_LOGISTIC_SOLVER_CONVERGENCE_MSG,\n"
          ]
        },
        {
          "output_type": "stream",
          "name": "stdout",
          "text": [
            "[CV] END ..............................kmeans__n_clusters=13; total time=   0.9s\n"
          ]
        },
        {
          "output_type": "stream",
          "name": "stderr",
          "text": [
            "/usr/local/lib/python3.7/dist-packages/sklearn/linear_model/_logistic.py:818: ConvergenceWarning: lbfgs failed to converge (status=1):\n",
            "STOP: TOTAL NO. of ITERATIONS REACHED LIMIT.\n",
            "\n",
            "Increase the number of iterations (max_iter) or scale the data as shown in:\n",
            "    https://scikit-learn.org/stable/modules/preprocessing.html\n",
            "Please also refer to the documentation for alternative solver options:\n",
            "    https://scikit-learn.org/stable/modules/linear_model.html#logistic-regression\n",
            "  extra_warning_msg=_LOGISTIC_SOLVER_CONVERGENCE_MSG,\n"
          ]
        },
        {
          "output_type": "stream",
          "name": "stdout",
          "text": [
            "[CV] END ..............................kmeans__n_clusters=13; total time=   0.7s\n"
          ]
        },
        {
          "output_type": "stream",
          "name": "stderr",
          "text": [
            "/usr/local/lib/python3.7/dist-packages/sklearn/linear_model/_logistic.py:818: ConvergenceWarning: lbfgs failed to converge (status=1):\n",
            "STOP: TOTAL NO. of ITERATIONS REACHED LIMIT.\n",
            "\n",
            "Increase the number of iterations (max_iter) or scale the data as shown in:\n",
            "    https://scikit-learn.org/stable/modules/preprocessing.html\n",
            "Please also refer to the documentation for alternative solver options:\n",
            "    https://scikit-learn.org/stable/modules/linear_model.html#logistic-regression\n",
            "  extra_warning_msg=_LOGISTIC_SOLVER_CONVERGENCE_MSG,\n"
          ]
        },
        {
          "output_type": "stream",
          "name": "stdout",
          "text": [
            "[CV] END ..............................kmeans__n_clusters=14; total time=   0.6s\n"
          ]
        },
        {
          "output_type": "stream",
          "name": "stderr",
          "text": [
            "/usr/local/lib/python3.7/dist-packages/sklearn/linear_model/_logistic.py:818: ConvergenceWarning: lbfgs failed to converge (status=1):\n",
            "STOP: TOTAL NO. of ITERATIONS REACHED LIMIT.\n",
            "\n",
            "Increase the number of iterations (max_iter) or scale the data as shown in:\n",
            "    https://scikit-learn.org/stable/modules/preprocessing.html\n",
            "Please also refer to the documentation for alternative solver options:\n",
            "    https://scikit-learn.org/stable/modules/linear_model.html#logistic-regression\n",
            "  extra_warning_msg=_LOGISTIC_SOLVER_CONVERGENCE_MSG,\n"
          ]
        },
        {
          "output_type": "stream",
          "name": "stdout",
          "text": [
            "[CV] END ..............................kmeans__n_clusters=14; total time=   0.6s\n"
          ]
        },
        {
          "output_type": "stream",
          "name": "stderr",
          "text": [
            "/usr/local/lib/python3.7/dist-packages/sklearn/linear_model/_logistic.py:818: ConvergenceWarning: lbfgs failed to converge (status=1):\n",
            "STOP: TOTAL NO. of ITERATIONS REACHED LIMIT.\n",
            "\n",
            "Increase the number of iterations (max_iter) or scale the data as shown in:\n",
            "    https://scikit-learn.org/stable/modules/preprocessing.html\n",
            "Please also refer to the documentation for alternative solver options:\n",
            "    https://scikit-learn.org/stable/modules/linear_model.html#logistic-regression\n",
            "  extra_warning_msg=_LOGISTIC_SOLVER_CONVERGENCE_MSG,\n"
          ]
        },
        {
          "output_type": "stream",
          "name": "stdout",
          "text": [
            "[CV] END ..............................kmeans__n_clusters=14; total time=   1.0s\n"
          ]
        },
        {
          "output_type": "stream",
          "name": "stderr",
          "text": [
            "/usr/local/lib/python3.7/dist-packages/sklearn/linear_model/_logistic.py:818: ConvergenceWarning: lbfgs failed to converge (status=1):\n",
            "STOP: TOTAL NO. of ITERATIONS REACHED LIMIT.\n",
            "\n",
            "Increase the number of iterations (max_iter) or scale the data as shown in:\n",
            "    https://scikit-learn.org/stable/modules/preprocessing.html\n",
            "Please also refer to the documentation for alternative solver options:\n",
            "    https://scikit-learn.org/stable/modules/linear_model.html#logistic-regression\n",
            "  extra_warning_msg=_LOGISTIC_SOLVER_CONVERGENCE_MSG,\n"
          ]
        },
        {
          "output_type": "stream",
          "name": "stdout",
          "text": [
            "[CV] END ..............................kmeans__n_clusters=15; total time=   1.1s\n"
          ]
        },
        {
          "output_type": "stream",
          "name": "stderr",
          "text": [
            "/usr/local/lib/python3.7/dist-packages/sklearn/linear_model/_logistic.py:818: ConvergenceWarning: lbfgs failed to converge (status=1):\n",
            "STOP: TOTAL NO. of ITERATIONS REACHED LIMIT.\n",
            "\n",
            "Increase the number of iterations (max_iter) or scale the data as shown in:\n",
            "    https://scikit-learn.org/stable/modules/preprocessing.html\n",
            "Please also refer to the documentation for alternative solver options:\n",
            "    https://scikit-learn.org/stable/modules/linear_model.html#logistic-regression\n",
            "  extra_warning_msg=_LOGISTIC_SOLVER_CONVERGENCE_MSG,\n"
          ]
        },
        {
          "output_type": "stream",
          "name": "stdout",
          "text": [
            "[CV] END ..............................kmeans__n_clusters=15; total time=   1.0s\n"
          ]
        },
        {
          "output_type": "stream",
          "name": "stderr",
          "text": [
            "/usr/local/lib/python3.7/dist-packages/sklearn/linear_model/_logistic.py:818: ConvergenceWarning: lbfgs failed to converge (status=1):\n",
            "STOP: TOTAL NO. of ITERATIONS REACHED LIMIT.\n",
            "\n",
            "Increase the number of iterations (max_iter) or scale the data as shown in:\n",
            "    https://scikit-learn.org/stable/modules/preprocessing.html\n",
            "Please also refer to the documentation for alternative solver options:\n",
            "    https://scikit-learn.org/stable/modules/linear_model.html#logistic-regression\n",
            "  extra_warning_msg=_LOGISTIC_SOLVER_CONVERGENCE_MSG,\n"
          ]
        },
        {
          "output_type": "stream",
          "name": "stdout",
          "text": [
            "[CV] END ..............................kmeans__n_clusters=15; total time=   1.1s\n"
          ]
        },
        {
          "output_type": "stream",
          "name": "stderr",
          "text": [
            "/usr/local/lib/python3.7/dist-packages/sklearn/linear_model/_logistic.py:818: ConvergenceWarning: lbfgs failed to converge (status=1):\n",
            "STOP: TOTAL NO. of ITERATIONS REACHED LIMIT.\n",
            "\n",
            "Increase the number of iterations (max_iter) or scale the data as shown in:\n",
            "    https://scikit-learn.org/stable/modules/preprocessing.html\n",
            "Please also refer to the documentation for alternative solver options:\n",
            "    https://scikit-learn.org/stable/modules/linear_model.html#logistic-regression\n",
            "  extra_warning_msg=_LOGISTIC_SOLVER_CONVERGENCE_MSG,\n"
          ]
        },
        {
          "output_type": "stream",
          "name": "stdout",
          "text": [
            "[CV] END ..............................kmeans__n_clusters=16; total time=   1.2s\n"
          ]
        },
        {
          "output_type": "stream",
          "name": "stderr",
          "text": [
            "/usr/local/lib/python3.7/dist-packages/sklearn/linear_model/_logistic.py:818: ConvergenceWarning: lbfgs failed to converge (status=1):\n",
            "STOP: TOTAL NO. of ITERATIONS REACHED LIMIT.\n",
            "\n",
            "Increase the number of iterations (max_iter) or scale the data as shown in:\n",
            "    https://scikit-learn.org/stable/modules/preprocessing.html\n",
            "Please also refer to the documentation for alternative solver options:\n",
            "    https://scikit-learn.org/stable/modules/linear_model.html#logistic-regression\n",
            "  extra_warning_msg=_LOGISTIC_SOLVER_CONVERGENCE_MSG,\n"
          ]
        },
        {
          "output_type": "stream",
          "name": "stdout",
          "text": [
            "[CV] END ..............................kmeans__n_clusters=16; total time=   1.0s\n"
          ]
        },
        {
          "output_type": "stream",
          "name": "stderr",
          "text": [
            "/usr/local/lib/python3.7/dist-packages/sklearn/linear_model/_logistic.py:818: ConvergenceWarning: lbfgs failed to converge (status=1):\n",
            "STOP: TOTAL NO. of ITERATIONS REACHED LIMIT.\n",
            "\n",
            "Increase the number of iterations (max_iter) or scale the data as shown in:\n",
            "    https://scikit-learn.org/stable/modules/preprocessing.html\n",
            "Please also refer to the documentation for alternative solver options:\n",
            "    https://scikit-learn.org/stable/modules/linear_model.html#logistic-regression\n",
            "  extra_warning_msg=_LOGISTIC_SOLVER_CONVERGENCE_MSG,\n"
          ]
        },
        {
          "output_type": "stream",
          "name": "stdout",
          "text": [
            "[CV] END ..............................kmeans__n_clusters=16; total time=   1.0s\n"
          ]
        },
        {
          "output_type": "stream",
          "name": "stderr",
          "text": [
            "/usr/local/lib/python3.7/dist-packages/sklearn/linear_model/_logistic.py:818: ConvergenceWarning: lbfgs failed to converge (status=1):\n",
            "STOP: TOTAL NO. of ITERATIONS REACHED LIMIT.\n",
            "\n",
            "Increase the number of iterations (max_iter) or scale the data as shown in:\n",
            "    https://scikit-learn.org/stable/modules/preprocessing.html\n",
            "Please also refer to the documentation for alternative solver options:\n",
            "    https://scikit-learn.org/stable/modules/linear_model.html#logistic-regression\n",
            "  extra_warning_msg=_LOGISTIC_SOLVER_CONVERGENCE_MSG,\n"
          ]
        },
        {
          "output_type": "stream",
          "name": "stdout",
          "text": [
            "[CV] END ..............................kmeans__n_clusters=17; total time=   1.1s\n"
          ]
        },
        {
          "output_type": "stream",
          "name": "stderr",
          "text": [
            "/usr/local/lib/python3.7/dist-packages/sklearn/linear_model/_logistic.py:818: ConvergenceWarning: lbfgs failed to converge (status=1):\n",
            "STOP: TOTAL NO. of ITERATIONS REACHED LIMIT.\n",
            "\n",
            "Increase the number of iterations (max_iter) or scale the data as shown in:\n",
            "    https://scikit-learn.org/stable/modules/preprocessing.html\n",
            "Please also refer to the documentation for alternative solver options:\n",
            "    https://scikit-learn.org/stable/modules/linear_model.html#logistic-regression\n",
            "  extra_warning_msg=_LOGISTIC_SOLVER_CONVERGENCE_MSG,\n"
          ]
        },
        {
          "output_type": "stream",
          "name": "stdout",
          "text": [
            "[CV] END ..............................kmeans__n_clusters=17; total time=   1.0s\n"
          ]
        },
        {
          "output_type": "stream",
          "name": "stderr",
          "text": [
            "/usr/local/lib/python3.7/dist-packages/sklearn/linear_model/_logistic.py:818: ConvergenceWarning: lbfgs failed to converge (status=1):\n",
            "STOP: TOTAL NO. of ITERATIONS REACHED LIMIT.\n",
            "\n",
            "Increase the number of iterations (max_iter) or scale the data as shown in:\n",
            "    https://scikit-learn.org/stable/modules/preprocessing.html\n",
            "Please also refer to the documentation for alternative solver options:\n",
            "    https://scikit-learn.org/stable/modules/linear_model.html#logistic-regression\n",
            "  extra_warning_msg=_LOGISTIC_SOLVER_CONVERGENCE_MSG,\n"
          ]
        },
        {
          "output_type": "stream",
          "name": "stdout",
          "text": [
            "[CV] END ..............................kmeans__n_clusters=17; total time=   1.0s\n"
          ]
        },
        {
          "output_type": "stream",
          "name": "stderr",
          "text": [
            "/usr/local/lib/python3.7/dist-packages/sklearn/linear_model/_logistic.py:818: ConvergenceWarning: lbfgs failed to converge (status=1):\n",
            "STOP: TOTAL NO. of ITERATIONS REACHED LIMIT.\n",
            "\n",
            "Increase the number of iterations (max_iter) or scale the data as shown in:\n",
            "    https://scikit-learn.org/stable/modules/preprocessing.html\n",
            "Please also refer to the documentation for alternative solver options:\n",
            "    https://scikit-learn.org/stable/modules/linear_model.html#logistic-regression\n",
            "  extra_warning_msg=_LOGISTIC_SOLVER_CONVERGENCE_MSG,\n"
          ]
        },
        {
          "output_type": "stream",
          "name": "stdout",
          "text": [
            "[CV] END ..............................kmeans__n_clusters=18; total time=   0.9s\n"
          ]
        },
        {
          "output_type": "stream",
          "name": "stderr",
          "text": [
            "/usr/local/lib/python3.7/dist-packages/sklearn/linear_model/_logistic.py:818: ConvergenceWarning: lbfgs failed to converge (status=1):\n",
            "STOP: TOTAL NO. of ITERATIONS REACHED LIMIT.\n",
            "\n",
            "Increase the number of iterations (max_iter) or scale the data as shown in:\n",
            "    https://scikit-learn.org/stable/modules/preprocessing.html\n",
            "Please also refer to the documentation for alternative solver options:\n",
            "    https://scikit-learn.org/stable/modules/linear_model.html#logistic-regression\n",
            "  extra_warning_msg=_LOGISTIC_SOLVER_CONVERGENCE_MSG,\n"
          ]
        },
        {
          "output_type": "stream",
          "name": "stdout",
          "text": [
            "[CV] END ..............................kmeans__n_clusters=18; total time=   0.9s\n"
          ]
        },
        {
          "output_type": "stream",
          "name": "stderr",
          "text": [
            "/usr/local/lib/python3.7/dist-packages/sklearn/linear_model/_logistic.py:818: ConvergenceWarning: lbfgs failed to converge (status=1):\n",
            "STOP: TOTAL NO. of ITERATIONS REACHED LIMIT.\n",
            "\n",
            "Increase the number of iterations (max_iter) or scale the data as shown in:\n",
            "    https://scikit-learn.org/stable/modules/preprocessing.html\n",
            "Please also refer to the documentation for alternative solver options:\n",
            "    https://scikit-learn.org/stable/modules/linear_model.html#logistic-regression\n",
            "  extra_warning_msg=_LOGISTIC_SOLVER_CONVERGENCE_MSG,\n"
          ]
        },
        {
          "output_type": "stream",
          "name": "stdout",
          "text": [
            "[CV] END ..............................kmeans__n_clusters=18; total time=   1.0s\n"
          ]
        },
        {
          "output_type": "stream",
          "name": "stderr",
          "text": [
            "/usr/local/lib/python3.7/dist-packages/sklearn/linear_model/_logistic.py:818: ConvergenceWarning: lbfgs failed to converge (status=1):\n",
            "STOP: TOTAL NO. of ITERATIONS REACHED LIMIT.\n",
            "\n",
            "Increase the number of iterations (max_iter) or scale the data as shown in:\n",
            "    https://scikit-learn.org/stable/modules/preprocessing.html\n",
            "Please also refer to the documentation for alternative solver options:\n",
            "    https://scikit-learn.org/stable/modules/linear_model.html#logistic-regression\n",
            "  extra_warning_msg=_LOGISTIC_SOLVER_CONVERGENCE_MSG,\n"
          ]
        },
        {
          "output_type": "stream",
          "name": "stdout",
          "text": [
            "[CV] END ..............................kmeans__n_clusters=19; total time=   1.1s\n"
          ]
        },
        {
          "output_type": "stream",
          "name": "stderr",
          "text": [
            "/usr/local/lib/python3.7/dist-packages/sklearn/linear_model/_logistic.py:818: ConvergenceWarning: lbfgs failed to converge (status=1):\n",
            "STOP: TOTAL NO. of ITERATIONS REACHED LIMIT.\n",
            "\n",
            "Increase the number of iterations (max_iter) or scale the data as shown in:\n",
            "    https://scikit-learn.org/stable/modules/preprocessing.html\n",
            "Please also refer to the documentation for alternative solver options:\n",
            "    https://scikit-learn.org/stable/modules/linear_model.html#logistic-regression\n",
            "  extra_warning_msg=_LOGISTIC_SOLVER_CONVERGENCE_MSG,\n"
          ]
        },
        {
          "output_type": "stream",
          "name": "stdout",
          "text": [
            "[CV] END ..............................kmeans__n_clusters=19; total time=   1.2s\n"
          ]
        },
        {
          "output_type": "stream",
          "name": "stderr",
          "text": [
            "/usr/local/lib/python3.7/dist-packages/sklearn/linear_model/_logistic.py:818: ConvergenceWarning: lbfgs failed to converge (status=1):\n",
            "STOP: TOTAL NO. of ITERATIONS REACHED LIMIT.\n",
            "\n",
            "Increase the number of iterations (max_iter) or scale the data as shown in:\n",
            "    https://scikit-learn.org/stable/modules/preprocessing.html\n",
            "Please also refer to the documentation for alternative solver options:\n",
            "    https://scikit-learn.org/stable/modules/linear_model.html#logistic-regression\n",
            "  extra_warning_msg=_LOGISTIC_SOLVER_CONVERGENCE_MSG,\n"
          ]
        },
        {
          "output_type": "stream",
          "name": "stdout",
          "text": [
            "[CV] END ..............................kmeans__n_clusters=19; total time=   1.0s\n"
          ]
        },
        {
          "output_type": "stream",
          "name": "stderr",
          "text": [
            "/usr/local/lib/python3.7/dist-packages/sklearn/linear_model/_logistic.py:818: ConvergenceWarning: lbfgs failed to converge (status=1):\n",
            "STOP: TOTAL NO. of ITERATIONS REACHED LIMIT.\n",
            "\n",
            "Increase the number of iterations (max_iter) or scale the data as shown in:\n",
            "    https://scikit-learn.org/stable/modules/preprocessing.html\n",
            "Please also refer to the documentation for alternative solver options:\n",
            "    https://scikit-learn.org/stable/modules/linear_model.html#logistic-regression\n",
            "  extra_warning_msg=_LOGISTIC_SOLVER_CONVERGENCE_MSG,\n"
          ]
        },
        {
          "output_type": "stream",
          "name": "stdout",
          "text": [
            "[CV] END ..............................kmeans__n_clusters=20; total time=   0.9s\n"
          ]
        },
        {
          "output_type": "stream",
          "name": "stderr",
          "text": [
            "/usr/local/lib/python3.7/dist-packages/sklearn/linear_model/_logistic.py:818: ConvergenceWarning: lbfgs failed to converge (status=1):\n",
            "STOP: TOTAL NO. of ITERATIONS REACHED LIMIT.\n",
            "\n",
            "Increase the number of iterations (max_iter) or scale the data as shown in:\n",
            "    https://scikit-learn.org/stable/modules/preprocessing.html\n",
            "Please also refer to the documentation for alternative solver options:\n",
            "    https://scikit-learn.org/stable/modules/linear_model.html#logistic-regression\n",
            "  extra_warning_msg=_LOGISTIC_SOLVER_CONVERGENCE_MSG,\n"
          ]
        },
        {
          "output_type": "stream",
          "name": "stdout",
          "text": [
            "[CV] END ..............................kmeans__n_clusters=20; total time=   1.0s\n"
          ]
        },
        {
          "output_type": "stream",
          "name": "stderr",
          "text": [
            "/usr/local/lib/python3.7/dist-packages/sklearn/linear_model/_logistic.py:818: ConvergenceWarning: lbfgs failed to converge (status=1):\n",
            "STOP: TOTAL NO. of ITERATIONS REACHED LIMIT.\n",
            "\n",
            "Increase the number of iterations (max_iter) or scale the data as shown in:\n",
            "    https://scikit-learn.org/stable/modules/preprocessing.html\n",
            "Please also refer to the documentation for alternative solver options:\n",
            "    https://scikit-learn.org/stable/modules/linear_model.html#logistic-regression\n",
            "  extra_warning_msg=_LOGISTIC_SOLVER_CONVERGENCE_MSG,\n"
          ]
        },
        {
          "output_type": "stream",
          "name": "stdout",
          "text": [
            "[CV] END ..............................kmeans__n_clusters=20; total time=   0.9s\n"
          ]
        },
        {
          "output_type": "stream",
          "name": "stderr",
          "text": [
            "/usr/local/lib/python3.7/dist-packages/sklearn/linear_model/_logistic.py:818: ConvergenceWarning: lbfgs failed to converge (status=1):\n",
            "STOP: TOTAL NO. of ITERATIONS REACHED LIMIT.\n",
            "\n",
            "Increase the number of iterations (max_iter) or scale the data as shown in:\n",
            "    https://scikit-learn.org/stable/modules/preprocessing.html\n",
            "Please also refer to the documentation for alternative solver options:\n",
            "    https://scikit-learn.org/stable/modules/linear_model.html#logistic-regression\n",
            "  extra_warning_msg=_LOGISTIC_SOLVER_CONVERGENCE_MSG,\n"
          ]
        },
        {
          "output_type": "stream",
          "name": "stdout",
          "text": [
            "[CV] END ..............................kmeans__n_clusters=21; total time=   1.2s\n"
          ]
        },
        {
          "output_type": "stream",
          "name": "stderr",
          "text": [
            "/usr/local/lib/python3.7/dist-packages/sklearn/linear_model/_logistic.py:818: ConvergenceWarning: lbfgs failed to converge (status=1):\n",
            "STOP: TOTAL NO. of ITERATIONS REACHED LIMIT.\n",
            "\n",
            "Increase the number of iterations (max_iter) or scale the data as shown in:\n",
            "    https://scikit-learn.org/stable/modules/preprocessing.html\n",
            "Please also refer to the documentation for alternative solver options:\n",
            "    https://scikit-learn.org/stable/modules/linear_model.html#logistic-regression\n",
            "  extra_warning_msg=_LOGISTIC_SOLVER_CONVERGENCE_MSG,\n"
          ]
        },
        {
          "output_type": "stream",
          "name": "stdout",
          "text": [
            "[CV] END ..............................kmeans__n_clusters=21; total time=   1.2s\n"
          ]
        },
        {
          "output_type": "stream",
          "name": "stderr",
          "text": [
            "/usr/local/lib/python3.7/dist-packages/sklearn/linear_model/_logistic.py:818: ConvergenceWarning: lbfgs failed to converge (status=1):\n",
            "STOP: TOTAL NO. of ITERATIONS REACHED LIMIT.\n",
            "\n",
            "Increase the number of iterations (max_iter) or scale the data as shown in:\n",
            "    https://scikit-learn.org/stable/modules/preprocessing.html\n",
            "Please also refer to the documentation for alternative solver options:\n",
            "    https://scikit-learn.org/stable/modules/linear_model.html#logistic-regression\n",
            "  extra_warning_msg=_LOGISTIC_SOLVER_CONVERGENCE_MSG,\n"
          ]
        },
        {
          "output_type": "stream",
          "name": "stdout",
          "text": [
            "[CV] END ..............................kmeans__n_clusters=21; total time=   1.1s\n"
          ]
        },
        {
          "output_type": "stream",
          "name": "stderr",
          "text": [
            "/usr/local/lib/python3.7/dist-packages/sklearn/linear_model/_logistic.py:818: ConvergenceWarning: lbfgs failed to converge (status=1):\n",
            "STOP: TOTAL NO. of ITERATIONS REACHED LIMIT.\n",
            "\n",
            "Increase the number of iterations (max_iter) or scale the data as shown in:\n",
            "    https://scikit-learn.org/stable/modules/preprocessing.html\n",
            "Please also refer to the documentation for alternative solver options:\n",
            "    https://scikit-learn.org/stable/modules/linear_model.html#logistic-regression\n",
            "  extra_warning_msg=_LOGISTIC_SOLVER_CONVERGENCE_MSG,\n"
          ]
        },
        {
          "output_type": "stream",
          "name": "stdout",
          "text": [
            "[CV] END ..............................kmeans__n_clusters=22; total time=   1.2s\n"
          ]
        },
        {
          "output_type": "stream",
          "name": "stderr",
          "text": [
            "/usr/local/lib/python3.7/dist-packages/sklearn/linear_model/_logistic.py:818: ConvergenceWarning: lbfgs failed to converge (status=1):\n",
            "STOP: TOTAL NO. of ITERATIONS REACHED LIMIT.\n",
            "\n",
            "Increase the number of iterations (max_iter) or scale the data as shown in:\n",
            "    https://scikit-learn.org/stable/modules/preprocessing.html\n",
            "Please also refer to the documentation for alternative solver options:\n",
            "    https://scikit-learn.org/stable/modules/linear_model.html#logistic-regression\n",
            "  extra_warning_msg=_LOGISTIC_SOLVER_CONVERGENCE_MSG,\n"
          ]
        },
        {
          "output_type": "stream",
          "name": "stdout",
          "text": [
            "[CV] END ..............................kmeans__n_clusters=22; total time=   1.3s\n"
          ]
        },
        {
          "output_type": "stream",
          "name": "stderr",
          "text": [
            "/usr/local/lib/python3.7/dist-packages/sklearn/linear_model/_logistic.py:818: ConvergenceWarning: lbfgs failed to converge (status=1):\n",
            "STOP: TOTAL NO. of ITERATIONS REACHED LIMIT.\n",
            "\n",
            "Increase the number of iterations (max_iter) or scale the data as shown in:\n",
            "    https://scikit-learn.org/stable/modules/preprocessing.html\n",
            "Please also refer to the documentation for alternative solver options:\n",
            "    https://scikit-learn.org/stable/modules/linear_model.html#logistic-regression\n",
            "  extra_warning_msg=_LOGISTIC_SOLVER_CONVERGENCE_MSG,\n"
          ]
        },
        {
          "output_type": "stream",
          "name": "stdout",
          "text": [
            "[CV] END ..............................kmeans__n_clusters=22; total time=   1.6s\n"
          ]
        },
        {
          "output_type": "stream",
          "name": "stderr",
          "text": [
            "/usr/local/lib/python3.7/dist-packages/sklearn/linear_model/_logistic.py:818: ConvergenceWarning: lbfgs failed to converge (status=1):\n",
            "STOP: TOTAL NO. of ITERATIONS REACHED LIMIT.\n",
            "\n",
            "Increase the number of iterations (max_iter) or scale the data as shown in:\n",
            "    https://scikit-learn.org/stable/modules/preprocessing.html\n",
            "Please also refer to the documentation for alternative solver options:\n",
            "    https://scikit-learn.org/stable/modules/linear_model.html#logistic-regression\n",
            "  extra_warning_msg=_LOGISTIC_SOLVER_CONVERGENCE_MSG,\n"
          ]
        },
        {
          "output_type": "stream",
          "name": "stdout",
          "text": [
            "[CV] END ..............................kmeans__n_clusters=23; total time=   1.1s\n"
          ]
        },
        {
          "output_type": "stream",
          "name": "stderr",
          "text": [
            "/usr/local/lib/python3.7/dist-packages/sklearn/linear_model/_logistic.py:818: ConvergenceWarning: lbfgs failed to converge (status=1):\n",
            "STOP: TOTAL NO. of ITERATIONS REACHED LIMIT.\n",
            "\n",
            "Increase the number of iterations (max_iter) or scale the data as shown in:\n",
            "    https://scikit-learn.org/stable/modules/preprocessing.html\n",
            "Please also refer to the documentation for alternative solver options:\n",
            "    https://scikit-learn.org/stable/modules/linear_model.html#logistic-regression\n",
            "  extra_warning_msg=_LOGISTIC_SOLVER_CONVERGENCE_MSG,\n"
          ]
        },
        {
          "output_type": "stream",
          "name": "stdout",
          "text": [
            "[CV] END ..............................kmeans__n_clusters=23; total time=   1.3s\n"
          ]
        },
        {
          "output_type": "stream",
          "name": "stderr",
          "text": [
            "/usr/local/lib/python3.7/dist-packages/sklearn/linear_model/_logistic.py:818: ConvergenceWarning: lbfgs failed to converge (status=1):\n",
            "STOP: TOTAL NO. of ITERATIONS REACHED LIMIT.\n",
            "\n",
            "Increase the number of iterations (max_iter) or scale the data as shown in:\n",
            "    https://scikit-learn.org/stable/modules/preprocessing.html\n",
            "Please also refer to the documentation for alternative solver options:\n",
            "    https://scikit-learn.org/stable/modules/linear_model.html#logistic-regression\n",
            "  extra_warning_msg=_LOGISTIC_SOLVER_CONVERGENCE_MSG,\n"
          ]
        },
        {
          "output_type": "stream",
          "name": "stdout",
          "text": [
            "[CV] END ..............................kmeans__n_clusters=23; total time=   1.1s\n"
          ]
        },
        {
          "output_type": "stream",
          "name": "stderr",
          "text": [
            "/usr/local/lib/python3.7/dist-packages/sklearn/linear_model/_logistic.py:818: ConvergenceWarning: lbfgs failed to converge (status=1):\n",
            "STOP: TOTAL NO. of ITERATIONS REACHED LIMIT.\n",
            "\n",
            "Increase the number of iterations (max_iter) or scale the data as shown in:\n",
            "    https://scikit-learn.org/stable/modules/preprocessing.html\n",
            "Please also refer to the documentation for alternative solver options:\n",
            "    https://scikit-learn.org/stable/modules/linear_model.html#logistic-regression\n",
            "  extra_warning_msg=_LOGISTIC_SOLVER_CONVERGENCE_MSG,\n"
          ]
        },
        {
          "output_type": "stream",
          "name": "stdout",
          "text": [
            "[CV] END ..............................kmeans__n_clusters=24; total time=   1.3s\n"
          ]
        },
        {
          "output_type": "stream",
          "name": "stderr",
          "text": [
            "/usr/local/lib/python3.7/dist-packages/sklearn/linear_model/_logistic.py:818: ConvergenceWarning: lbfgs failed to converge (status=1):\n",
            "STOP: TOTAL NO. of ITERATIONS REACHED LIMIT.\n",
            "\n",
            "Increase the number of iterations (max_iter) or scale the data as shown in:\n",
            "    https://scikit-learn.org/stable/modules/preprocessing.html\n",
            "Please also refer to the documentation for alternative solver options:\n",
            "    https://scikit-learn.org/stable/modules/linear_model.html#logistic-regression\n",
            "  extra_warning_msg=_LOGISTIC_SOLVER_CONVERGENCE_MSG,\n"
          ]
        },
        {
          "output_type": "stream",
          "name": "stdout",
          "text": [
            "[CV] END ..............................kmeans__n_clusters=24; total time=   0.8s\n"
          ]
        },
        {
          "output_type": "stream",
          "name": "stderr",
          "text": [
            "/usr/local/lib/python3.7/dist-packages/sklearn/linear_model/_logistic.py:818: ConvergenceWarning: lbfgs failed to converge (status=1):\n",
            "STOP: TOTAL NO. of ITERATIONS REACHED LIMIT.\n",
            "\n",
            "Increase the number of iterations (max_iter) or scale the data as shown in:\n",
            "    https://scikit-learn.org/stable/modules/preprocessing.html\n",
            "Please also refer to the documentation for alternative solver options:\n",
            "    https://scikit-learn.org/stable/modules/linear_model.html#logistic-regression\n",
            "  extra_warning_msg=_LOGISTIC_SOLVER_CONVERGENCE_MSG,\n"
          ]
        },
        {
          "output_type": "stream",
          "name": "stdout",
          "text": [
            "[CV] END ..............................kmeans__n_clusters=24; total time=   1.2s\n"
          ]
        },
        {
          "output_type": "stream",
          "name": "stderr",
          "text": [
            "/usr/local/lib/python3.7/dist-packages/sklearn/linear_model/_logistic.py:818: ConvergenceWarning: lbfgs failed to converge (status=1):\n",
            "STOP: TOTAL NO. of ITERATIONS REACHED LIMIT.\n",
            "\n",
            "Increase the number of iterations (max_iter) or scale the data as shown in:\n",
            "    https://scikit-learn.org/stable/modules/preprocessing.html\n",
            "Please also refer to the documentation for alternative solver options:\n",
            "    https://scikit-learn.org/stable/modules/linear_model.html#logistic-regression\n",
            "  extra_warning_msg=_LOGISTIC_SOLVER_CONVERGENCE_MSG,\n"
          ]
        },
        {
          "output_type": "stream",
          "name": "stdout",
          "text": [
            "[CV] END ..............................kmeans__n_clusters=25; total time=   1.4s\n"
          ]
        },
        {
          "output_type": "stream",
          "name": "stderr",
          "text": [
            "/usr/local/lib/python3.7/dist-packages/sklearn/linear_model/_logistic.py:818: ConvergenceWarning: lbfgs failed to converge (status=1):\n",
            "STOP: TOTAL NO. of ITERATIONS REACHED LIMIT.\n",
            "\n",
            "Increase the number of iterations (max_iter) or scale the data as shown in:\n",
            "    https://scikit-learn.org/stable/modules/preprocessing.html\n",
            "Please also refer to the documentation for alternative solver options:\n",
            "    https://scikit-learn.org/stable/modules/linear_model.html#logistic-regression\n",
            "  extra_warning_msg=_LOGISTIC_SOLVER_CONVERGENCE_MSG,\n"
          ]
        },
        {
          "output_type": "stream",
          "name": "stdout",
          "text": [
            "[CV] END ..............................kmeans__n_clusters=25; total time=   0.9s\n"
          ]
        },
        {
          "output_type": "stream",
          "name": "stderr",
          "text": [
            "/usr/local/lib/python3.7/dist-packages/sklearn/linear_model/_logistic.py:818: ConvergenceWarning: lbfgs failed to converge (status=1):\n",
            "STOP: TOTAL NO. of ITERATIONS REACHED LIMIT.\n",
            "\n",
            "Increase the number of iterations (max_iter) or scale the data as shown in:\n",
            "    https://scikit-learn.org/stable/modules/preprocessing.html\n",
            "Please also refer to the documentation for alternative solver options:\n",
            "    https://scikit-learn.org/stable/modules/linear_model.html#logistic-regression\n",
            "  extra_warning_msg=_LOGISTIC_SOLVER_CONVERGENCE_MSG,\n"
          ]
        },
        {
          "output_type": "stream",
          "name": "stdout",
          "text": [
            "[CV] END ..............................kmeans__n_clusters=25; total time=   1.2s\n"
          ]
        },
        {
          "output_type": "stream",
          "name": "stderr",
          "text": [
            "/usr/local/lib/python3.7/dist-packages/sklearn/linear_model/_logistic.py:818: ConvergenceWarning: lbfgs failed to converge (status=1):\n",
            "STOP: TOTAL NO. of ITERATIONS REACHED LIMIT.\n",
            "\n",
            "Increase the number of iterations (max_iter) or scale the data as shown in:\n",
            "    https://scikit-learn.org/stable/modules/preprocessing.html\n",
            "Please also refer to the documentation for alternative solver options:\n",
            "    https://scikit-learn.org/stable/modules/linear_model.html#logistic-regression\n",
            "  extra_warning_msg=_LOGISTIC_SOLVER_CONVERGENCE_MSG,\n"
          ]
        },
        {
          "output_type": "stream",
          "name": "stdout",
          "text": [
            "[CV] END ..............................kmeans__n_clusters=26; total time=   1.2s\n"
          ]
        },
        {
          "output_type": "stream",
          "name": "stderr",
          "text": [
            "/usr/local/lib/python3.7/dist-packages/sklearn/linear_model/_logistic.py:818: ConvergenceWarning: lbfgs failed to converge (status=1):\n",
            "STOP: TOTAL NO. of ITERATIONS REACHED LIMIT.\n",
            "\n",
            "Increase the number of iterations (max_iter) or scale the data as shown in:\n",
            "    https://scikit-learn.org/stable/modules/preprocessing.html\n",
            "Please also refer to the documentation for alternative solver options:\n",
            "    https://scikit-learn.org/stable/modules/linear_model.html#logistic-regression\n",
            "  extra_warning_msg=_LOGISTIC_SOLVER_CONVERGENCE_MSG,\n"
          ]
        },
        {
          "output_type": "stream",
          "name": "stdout",
          "text": [
            "[CV] END ..............................kmeans__n_clusters=26; total time=   1.3s\n"
          ]
        },
        {
          "output_type": "stream",
          "name": "stderr",
          "text": [
            "/usr/local/lib/python3.7/dist-packages/sklearn/linear_model/_logistic.py:818: ConvergenceWarning: lbfgs failed to converge (status=1):\n",
            "STOP: TOTAL NO. of ITERATIONS REACHED LIMIT.\n",
            "\n",
            "Increase the number of iterations (max_iter) or scale the data as shown in:\n",
            "    https://scikit-learn.org/stable/modules/preprocessing.html\n",
            "Please also refer to the documentation for alternative solver options:\n",
            "    https://scikit-learn.org/stable/modules/linear_model.html#logistic-regression\n",
            "  extra_warning_msg=_LOGISTIC_SOLVER_CONVERGENCE_MSG,\n"
          ]
        },
        {
          "output_type": "stream",
          "name": "stdout",
          "text": [
            "[CV] END ..............................kmeans__n_clusters=26; total time=   1.0s\n"
          ]
        },
        {
          "output_type": "stream",
          "name": "stderr",
          "text": [
            "/usr/local/lib/python3.7/dist-packages/sklearn/linear_model/_logistic.py:818: ConvergenceWarning: lbfgs failed to converge (status=1):\n",
            "STOP: TOTAL NO. of ITERATIONS REACHED LIMIT.\n",
            "\n",
            "Increase the number of iterations (max_iter) or scale the data as shown in:\n",
            "    https://scikit-learn.org/stable/modules/preprocessing.html\n",
            "Please also refer to the documentation for alternative solver options:\n",
            "    https://scikit-learn.org/stable/modules/linear_model.html#logistic-regression\n",
            "  extra_warning_msg=_LOGISTIC_SOLVER_CONVERGENCE_MSG,\n"
          ]
        },
        {
          "output_type": "stream",
          "name": "stdout",
          "text": [
            "[CV] END ..............................kmeans__n_clusters=27; total time=   1.6s\n"
          ]
        },
        {
          "output_type": "stream",
          "name": "stderr",
          "text": [
            "/usr/local/lib/python3.7/dist-packages/sklearn/linear_model/_logistic.py:818: ConvergenceWarning: lbfgs failed to converge (status=1):\n",
            "STOP: TOTAL NO. of ITERATIONS REACHED LIMIT.\n",
            "\n",
            "Increase the number of iterations (max_iter) or scale the data as shown in:\n",
            "    https://scikit-learn.org/stable/modules/preprocessing.html\n",
            "Please also refer to the documentation for alternative solver options:\n",
            "    https://scikit-learn.org/stable/modules/linear_model.html#logistic-regression\n",
            "  extra_warning_msg=_LOGISTIC_SOLVER_CONVERGENCE_MSG,\n"
          ]
        },
        {
          "output_type": "stream",
          "name": "stdout",
          "text": [
            "[CV] END ..............................kmeans__n_clusters=27; total time=   2.1s\n"
          ]
        },
        {
          "output_type": "stream",
          "name": "stderr",
          "text": [
            "/usr/local/lib/python3.7/dist-packages/sklearn/linear_model/_logistic.py:818: ConvergenceWarning: lbfgs failed to converge (status=1):\n",
            "STOP: TOTAL NO. of ITERATIONS REACHED LIMIT.\n",
            "\n",
            "Increase the number of iterations (max_iter) or scale the data as shown in:\n",
            "    https://scikit-learn.org/stable/modules/preprocessing.html\n",
            "Please also refer to the documentation for alternative solver options:\n",
            "    https://scikit-learn.org/stable/modules/linear_model.html#logistic-regression\n",
            "  extra_warning_msg=_LOGISTIC_SOLVER_CONVERGENCE_MSG,\n"
          ]
        },
        {
          "output_type": "stream",
          "name": "stdout",
          "text": [
            "[CV] END ..............................kmeans__n_clusters=27; total time=   2.3s\n"
          ]
        },
        {
          "output_type": "stream",
          "name": "stderr",
          "text": [
            "/usr/local/lib/python3.7/dist-packages/sklearn/linear_model/_logistic.py:818: ConvergenceWarning: lbfgs failed to converge (status=1):\n",
            "STOP: TOTAL NO. of ITERATIONS REACHED LIMIT.\n",
            "\n",
            "Increase the number of iterations (max_iter) or scale the data as shown in:\n",
            "    https://scikit-learn.org/stable/modules/preprocessing.html\n",
            "Please also refer to the documentation for alternative solver options:\n",
            "    https://scikit-learn.org/stable/modules/linear_model.html#logistic-regression\n",
            "  extra_warning_msg=_LOGISTIC_SOLVER_CONVERGENCE_MSG,\n"
          ]
        },
        {
          "output_type": "stream",
          "name": "stdout",
          "text": [
            "[CV] END ..............................kmeans__n_clusters=28; total time=   1.3s\n"
          ]
        },
        {
          "output_type": "stream",
          "name": "stderr",
          "text": [
            "/usr/local/lib/python3.7/dist-packages/sklearn/linear_model/_logistic.py:818: ConvergenceWarning: lbfgs failed to converge (status=1):\n",
            "STOP: TOTAL NO. of ITERATIONS REACHED LIMIT.\n",
            "\n",
            "Increase the number of iterations (max_iter) or scale the data as shown in:\n",
            "    https://scikit-learn.org/stable/modules/preprocessing.html\n",
            "Please also refer to the documentation for alternative solver options:\n",
            "    https://scikit-learn.org/stable/modules/linear_model.html#logistic-regression\n",
            "  extra_warning_msg=_LOGISTIC_SOLVER_CONVERGENCE_MSG,\n"
          ]
        },
        {
          "output_type": "stream",
          "name": "stdout",
          "text": [
            "[CV] END ..............................kmeans__n_clusters=28; total time=   1.7s\n"
          ]
        },
        {
          "output_type": "stream",
          "name": "stderr",
          "text": [
            "/usr/local/lib/python3.7/dist-packages/sklearn/linear_model/_logistic.py:818: ConvergenceWarning: lbfgs failed to converge (status=1):\n",
            "STOP: TOTAL NO. of ITERATIONS REACHED LIMIT.\n",
            "\n",
            "Increase the number of iterations (max_iter) or scale the data as shown in:\n",
            "    https://scikit-learn.org/stable/modules/preprocessing.html\n",
            "Please also refer to the documentation for alternative solver options:\n",
            "    https://scikit-learn.org/stable/modules/linear_model.html#logistic-regression\n",
            "  extra_warning_msg=_LOGISTIC_SOLVER_CONVERGENCE_MSG,\n"
          ]
        },
        {
          "output_type": "stream",
          "name": "stdout",
          "text": [
            "[CV] END ..............................kmeans__n_clusters=28; total time=   2.1s\n"
          ]
        },
        {
          "output_type": "stream",
          "name": "stderr",
          "text": [
            "/usr/local/lib/python3.7/dist-packages/sklearn/linear_model/_logistic.py:818: ConvergenceWarning: lbfgs failed to converge (status=1):\n",
            "STOP: TOTAL NO. of ITERATIONS REACHED LIMIT.\n",
            "\n",
            "Increase the number of iterations (max_iter) or scale the data as shown in:\n",
            "    https://scikit-learn.org/stable/modules/preprocessing.html\n",
            "Please also refer to the documentation for alternative solver options:\n",
            "    https://scikit-learn.org/stable/modules/linear_model.html#logistic-regression\n",
            "  extra_warning_msg=_LOGISTIC_SOLVER_CONVERGENCE_MSG,\n"
          ]
        },
        {
          "output_type": "stream",
          "name": "stdout",
          "text": [
            "[CV] END ..............................kmeans__n_clusters=29; total time=   1.9s\n"
          ]
        },
        {
          "output_type": "stream",
          "name": "stderr",
          "text": [
            "/usr/local/lib/python3.7/dist-packages/sklearn/linear_model/_logistic.py:818: ConvergenceWarning: lbfgs failed to converge (status=1):\n",
            "STOP: TOTAL NO. of ITERATIONS REACHED LIMIT.\n",
            "\n",
            "Increase the number of iterations (max_iter) or scale the data as shown in:\n",
            "    https://scikit-learn.org/stable/modules/preprocessing.html\n",
            "Please also refer to the documentation for alternative solver options:\n",
            "    https://scikit-learn.org/stable/modules/linear_model.html#logistic-regression\n",
            "  extra_warning_msg=_LOGISTIC_SOLVER_CONVERGENCE_MSG,\n"
          ]
        },
        {
          "output_type": "stream",
          "name": "stdout",
          "text": [
            "[CV] END ..............................kmeans__n_clusters=29; total time=   2.7s\n"
          ]
        },
        {
          "output_type": "stream",
          "name": "stderr",
          "text": [
            "/usr/local/lib/python3.7/dist-packages/sklearn/linear_model/_logistic.py:818: ConvergenceWarning: lbfgs failed to converge (status=1):\n",
            "STOP: TOTAL NO. of ITERATIONS REACHED LIMIT.\n",
            "\n",
            "Increase the number of iterations (max_iter) or scale the data as shown in:\n",
            "    https://scikit-learn.org/stable/modules/preprocessing.html\n",
            "Please also refer to the documentation for alternative solver options:\n",
            "    https://scikit-learn.org/stable/modules/linear_model.html#logistic-regression\n",
            "  extra_warning_msg=_LOGISTIC_SOLVER_CONVERGENCE_MSG,\n"
          ]
        },
        {
          "output_type": "stream",
          "name": "stdout",
          "text": [
            "[CV] END ..............................kmeans__n_clusters=29; total time=   2.3s\n"
          ]
        },
        {
          "output_type": "stream",
          "name": "stderr",
          "text": [
            "/usr/local/lib/python3.7/dist-packages/sklearn/linear_model/_logistic.py:818: ConvergenceWarning: lbfgs failed to converge (status=1):\n",
            "STOP: TOTAL NO. of ITERATIONS REACHED LIMIT.\n",
            "\n",
            "Increase the number of iterations (max_iter) or scale the data as shown in:\n",
            "    https://scikit-learn.org/stable/modules/preprocessing.html\n",
            "Please also refer to the documentation for alternative solver options:\n",
            "    https://scikit-learn.org/stable/modules/linear_model.html#logistic-regression\n",
            "  extra_warning_msg=_LOGISTIC_SOLVER_CONVERGENCE_MSG,\n"
          ]
        },
        {
          "output_type": "stream",
          "name": "stdout",
          "text": [
            "[CV] END ..............................kmeans__n_clusters=30; total time=   1.6s\n"
          ]
        },
        {
          "output_type": "stream",
          "name": "stderr",
          "text": [
            "/usr/local/lib/python3.7/dist-packages/sklearn/linear_model/_logistic.py:818: ConvergenceWarning: lbfgs failed to converge (status=1):\n",
            "STOP: TOTAL NO. of ITERATIONS REACHED LIMIT.\n",
            "\n",
            "Increase the number of iterations (max_iter) or scale the data as shown in:\n",
            "    https://scikit-learn.org/stable/modules/preprocessing.html\n",
            "Please also refer to the documentation for alternative solver options:\n",
            "    https://scikit-learn.org/stable/modules/linear_model.html#logistic-regression\n",
            "  extra_warning_msg=_LOGISTIC_SOLVER_CONVERGENCE_MSG,\n"
          ]
        },
        {
          "output_type": "stream",
          "name": "stdout",
          "text": [
            "[CV] END ..............................kmeans__n_clusters=30; total time=   1.4s\n"
          ]
        },
        {
          "output_type": "stream",
          "name": "stderr",
          "text": [
            "/usr/local/lib/python3.7/dist-packages/sklearn/linear_model/_logistic.py:818: ConvergenceWarning: lbfgs failed to converge (status=1):\n",
            "STOP: TOTAL NO. of ITERATIONS REACHED LIMIT.\n",
            "\n",
            "Increase the number of iterations (max_iter) or scale the data as shown in:\n",
            "    https://scikit-learn.org/stable/modules/preprocessing.html\n",
            "Please also refer to the documentation for alternative solver options:\n",
            "    https://scikit-learn.org/stable/modules/linear_model.html#logistic-regression\n",
            "  extra_warning_msg=_LOGISTIC_SOLVER_CONVERGENCE_MSG,\n"
          ]
        },
        {
          "output_type": "stream",
          "name": "stdout",
          "text": [
            "[CV] END ..............................kmeans__n_clusters=30; total time=   0.8s\n"
          ]
        },
        {
          "output_type": "stream",
          "name": "stderr",
          "text": [
            "/usr/local/lib/python3.7/dist-packages/sklearn/linear_model/_logistic.py:818: ConvergenceWarning: lbfgs failed to converge (status=1):\n",
            "STOP: TOTAL NO. of ITERATIONS REACHED LIMIT.\n",
            "\n",
            "Increase the number of iterations (max_iter) or scale the data as shown in:\n",
            "    https://scikit-learn.org/stable/modules/preprocessing.html\n",
            "Please also refer to the documentation for alternative solver options:\n",
            "    https://scikit-learn.org/stable/modules/linear_model.html#logistic-regression\n",
            "  extra_warning_msg=_LOGISTIC_SOLVER_CONVERGENCE_MSG,\n"
          ]
        },
        {
          "output_type": "stream",
          "name": "stdout",
          "text": [
            "[CV] END ..............................kmeans__n_clusters=31; total time=   0.8s\n"
          ]
        },
        {
          "output_type": "stream",
          "name": "stderr",
          "text": [
            "/usr/local/lib/python3.7/dist-packages/sklearn/linear_model/_logistic.py:818: ConvergenceWarning: lbfgs failed to converge (status=1):\n",
            "STOP: TOTAL NO. of ITERATIONS REACHED LIMIT.\n",
            "\n",
            "Increase the number of iterations (max_iter) or scale the data as shown in:\n",
            "    https://scikit-learn.org/stable/modules/preprocessing.html\n",
            "Please also refer to the documentation for alternative solver options:\n",
            "    https://scikit-learn.org/stable/modules/linear_model.html#logistic-regression\n",
            "  extra_warning_msg=_LOGISTIC_SOLVER_CONVERGENCE_MSG,\n"
          ]
        },
        {
          "output_type": "stream",
          "name": "stdout",
          "text": [
            "[CV] END ..............................kmeans__n_clusters=31; total time=   1.0s\n"
          ]
        },
        {
          "output_type": "stream",
          "name": "stderr",
          "text": [
            "/usr/local/lib/python3.7/dist-packages/sklearn/linear_model/_logistic.py:818: ConvergenceWarning: lbfgs failed to converge (status=1):\n",
            "STOP: TOTAL NO. of ITERATIONS REACHED LIMIT.\n",
            "\n",
            "Increase the number of iterations (max_iter) or scale the data as shown in:\n",
            "    https://scikit-learn.org/stable/modules/preprocessing.html\n",
            "Please also refer to the documentation for alternative solver options:\n",
            "    https://scikit-learn.org/stable/modules/linear_model.html#logistic-regression\n",
            "  extra_warning_msg=_LOGISTIC_SOLVER_CONVERGENCE_MSG,\n"
          ]
        },
        {
          "output_type": "stream",
          "name": "stdout",
          "text": [
            "[CV] END ..............................kmeans__n_clusters=31; total time=   0.9s\n"
          ]
        },
        {
          "output_type": "stream",
          "name": "stderr",
          "text": [
            "/usr/local/lib/python3.7/dist-packages/sklearn/linear_model/_logistic.py:818: ConvergenceWarning: lbfgs failed to converge (status=1):\n",
            "STOP: TOTAL NO. of ITERATIONS REACHED LIMIT.\n",
            "\n",
            "Increase the number of iterations (max_iter) or scale the data as shown in:\n",
            "    https://scikit-learn.org/stable/modules/preprocessing.html\n",
            "Please also refer to the documentation for alternative solver options:\n",
            "    https://scikit-learn.org/stable/modules/linear_model.html#logistic-regression\n",
            "  extra_warning_msg=_LOGISTIC_SOLVER_CONVERGENCE_MSG,\n"
          ]
        },
        {
          "output_type": "stream",
          "name": "stdout",
          "text": [
            "[CV] END ..............................kmeans__n_clusters=32; total time=   0.9s\n"
          ]
        },
        {
          "output_type": "stream",
          "name": "stderr",
          "text": [
            "/usr/local/lib/python3.7/dist-packages/sklearn/linear_model/_logistic.py:818: ConvergenceWarning: lbfgs failed to converge (status=1):\n",
            "STOP: TOTAL NO. of ITERATIONS REACHED LIMIT.\n",
            "\n",
            "Increase the number of iterations (max_iter) or scale the data as shown in:\n",
            "    https://scikit-learn.org/stable/modules/preprocessing.html\n",
            "Please also refer to the documentation for alternative solver options:\n",
            "    https://scikit-learn.org/stable/modules/linear_model.html#logistic-regression\n",
            "  extra_warning_msg=_LOGISTIC_SOLVER_CONVERGENCE_MSG,\n"
          ]
        },
        {
          "output_type": "stream",
          "name": "stdout",
          "text": [
            "[CV] END ..............................kmeans__n_clusters=32; total time=   0.8s\n"
          ]
        },
        {
          "output_type": "stream",
          "name": "stderr",
          "text": [
            "/usr/local/lib/python3.7/dist-packages/sklearn/linear_model/_logistic.py:818: ConvergenceWarning: lbfgs failed to converge (status=1):\n",
            "STOP: TOTAL NO. of ITERATIONS REACHED LIMIT.\n",
            "\n",
            "Increase the number of iterations (max_iter) or scale the data as shown in:\n",
            "    https://scikit-learn.org/stable/modules/preprocessing.html\n",
            "Please also refer to the documentation for alternative solver options:\n",
            "    https://scikit-learn.org/stable/modules/linear_model.html#logistic-regression\n",
            "  extra_warning_msg=_LOGISTIC_SOLVER_CONVERGENCE_MSG,\n"
          ]
        },
        {
          "output_type": "stream",
          "name": "stdout",
          "text": [
            "[CV] END ..............................kmeans__n_clusters=32; total time=   0.8s\n"
          ]
        },
        {
          "output_type": "stream",
          "name": "stderr",
          "text": [
            "/usr/local/lib/python3.7/dist-packages/sklearn/linear_model/_logistic.py:818: ConvergenceWarning: lbfgs failed to converge (status=1):\n",
            "STOP: TOTAL NO. of ITERATIONS REACHED LIMIT.\n",
            "\n",
            "Increase the number of iterations (max_iter) or scale the data as shown in:\n",
            "    https://scikit-learn.org/stable/modules/preprocessing.html\n",
            "Please also refer to the documentation for alternative solver options:\n",
            "    https://scikit-learn.org/stable/modules/linear_model.html#logistic-regression\n",
            "  extra_warning_msg=_LOGISTIC_SOLVER_CONVERGENCE_MSG,\n"
          ]
        },
        {
          "output_type": "stream",
          "name": "stdout",
          "text": [
            "[CV] END ..............................kmeans__n_clusters=33; total time=   1.1s\n"
          ]
        },
        {
          "output_type": "stream",
          "name": "stderr",
          "text": [
            "/usr/local/lib/python3.7/dist-packages/sklearn/linear_model/_logistic.py:818: ConvergenceWarning: lbfgs failed to converge (status=1):\n",
            "STOP: TOTAL NO. of ITERATIONS REACHED LIMIT.\n",
            "\n",
            "Increase the number of iterations (max_iter) or scale the data as shown in:\n",
            "    https://scikit-learn.org/stable/modules/preprocessing.html\n",
            "Please also refer to the documentation for alternative solver options:\n",
            "    https://scikit-learn.org/stable/modules/linear_model.html#logistic-regression\n",
            "  extra_warning_msg=_LOGISTIC_SOLVER_CONVERGENCE_MSG,\n"
          ]
        },
        {
          "output_type": "stream",
          "name": "stdout",
          "text": [
            "[CV] END ..............................kmeans__n_clusters=33; total time=   1.0s\n"
          ]
        },
        {
          "output_type": "stream",
          "name": "stderr",
          "text": [
            "/usr/local/lib/python3.7/dist-packages/sklearn/linear_model/_logistic.py:818: ConvergenceWarning: lbfgs failed to converge (status=1):\n",
            "STOP: TOTAL NO. of ITERATIONS REACHED LIMIT.\n",
            "\n",
            "Increase the number of iterations (max_iter) or scale the data as shown in:\n",
            "    https://scikit-learn.org/stable/modules/preprocessing.html\n",
            "Please also refer to the documentation for alternative solver options:\n",
            "    https://scikit-learn.org/stable/modules/linear_model.html#logistic-regression\n",
            "  extra_warning_msg=_LOGISTIC_SOLVER_CONVERGENCE_MSG,\n"
          ]
        },
        {
          "output_type": "stream",
          "name": "stdout",
          "text": [
            "[CV] END ..............................kmeans__n_clusters=33; total time=   0.9s\n"
          ]
        },
        {
          "output_type": "stream",
          "name": "stderr",
          "text": [
            "/usr/local/lib/python3.7/dist-packages/sklearn/linear_model/_logistic.py:818: ConvergenceWarning: lbfgs failed to converge (status=1):\n",
            "STOP: TOTAL NO. of ITERATIONS REACHED LIMIT.\n",
            "\n",
            "Increase the number of iterations (max_iter) or scale the data as shown in:\n",
            "    https://scikit-learn.org/stable/modules/preprocessing.html\n",
            "Please also refer to the documentation for alternative solver options:\n",
            "    https://scikit-learn.org/stable/modules/linear_model.html#logistic-regression\n",
            "  extra_warning_msg=_LOGISTIC_SOLVER_CONVERGENCE_MSG,\n"
          ]
        },
        {
          "output_type": "stream",
          "name": "stdout",
          "text": [
            "[CV] END ..............................kmeans__n_clusters=34; total time=   1.1s\n"
          ]
        },
        {
          "output_type": "stream",
          "name": "stderr",
          "text": [
            "/usr/local/lib/python3.7/dist-packages/sklearn/linear_model/_logistic.py:818: ConvergenceWarning: lbfgs failed to converge (status=1):\n",
            "STOP: TOTAL NO. of ITERATIONS REACHED LIMIT.\n",
            "\n",
            "Increase the number of iterations (max_iter) or scale the data as shown in:\n",
            "    https://scikit-learn.org/stable/modules/preprocessing.html\n",
            "Please also refer to the documentation for alternative solver options:\n",
            "    https://scikit-learn.org/stable/modules/linear_model.html#logistic-regression\n",
            "  extra_warning_msg=_LOGISTIC_SOLVER_CONVERGENCE_MSG,\n"
          ]
        },
        {
          "output_type": "stream",
          "name": "stdout",
          "text": [
            "[CV] END ..............................kmeans__n_clusters=34; total time=   1.0s\n"
          ]
        },
        {
          "output_type": "stream",
          "name": "stderr",
          "text": [
            "/usr/local/lib/python3.7/dist-packages/sklearn/linear_model/_logistic.py:818: ConvergenceWarning: lbfgs failed to converge (status=1):\n",
            "STOP: TOTAL NO. of ITERATIONS REACHED LIMIT.\n",
            "\n",
            "Increase the number of iterations (max_iter) or scale the data as shown in:\n",
            "    https://scikit-learn.org/stable/modules/preprocessing.html\n",
            "Please also refer to the documentation for alternative solver options:\n",
            "    https://scikit-learn.org/stable/modules/linear_model.html#logistic-regression\n",
            "  extra_warning_msg=_LOGISTIC_SOLVER_CONVERGENCE_MSG,\n"
          ]
        },
        {
          "output_type": "stream",
          "name": "stdout",
          "text": [
            "[CV] END ..............................kmeans__n_clusters=34; total time=   1.0s\n"
          ]
        },
        {
          "output_type": "stream",
          "name": "stderr",
          "text": [
            "/usr/local/lib/python3.7/dist-packages/sklearn/linear_model/_logistic.py:818: ConvergenceWarning: lbfgs failed to converge (status=1):\n",
            "STOP: TOTAL NO. of ITERATIONS REACHED LIMIT.\n",
            "\n",
            "Increase the number of iterations (max_iter) or scale the data as shown in:\n",
            "    https://scikit-learn.org/stable/modules/preprocessing.html\n",
            "Please also refer to the documentation for alternative solver options:\n",
            "    https://scikit-learn.org/stable/modules/linear_model.html#logistic-regression\n",
            "  extra_warning_msg=_LOGISTIC_SOLVER_CONVERGENCE_MSG,\n"
          ]
        },
        {
          "output_type": "stream",
          "name": "stdout",
          "text": [
            "[CV] END ..............................kmeans__n_clusters=35; total time=   0.9s\n"
          ]
        },
        {
          "output_type": "stream",
          "name": "stderr",
          "text": [
            "/usr/local/lib/python3.7/dist-packages/sklearn/linear_model/_logistic.py:818: ConvergenceWarning: lbfgs failed to converge (status=1):\n",
            "STOP: TOTAL NO. of ITERATIONS REACHED LIMIT.\n",
            "\n",
            "Increase the number of iterations (max_iter) or scale the data as shown in:\n",
            "    https://scikit-learn.org/stable/modules/preprocessing.html\n",
            "Please also refer to the documentation for alternative solver options:\n",
            "    https://scikit-learn.org/stable/modules/linear_model.html#logistic-regression\n",
            "  extra_warning_msg=_LOGISTIC_SOLVER_CONVERGENCE_MSG,\n"
          ]
        },
        {
          "output_type": "stream",
          "name": "stdout",
          "text": [
            "[CV] END ..............................kmeans__n_clusters=35; total time=   0.7s\n"
          ]
        },
        {
          "output_type": "stream",
          "name": "stderr",
          "text": [
            "/usr/local/lib/python3.7/dist-packages/sklearn/linear_model/_logistic.py:818: ConvergenceWarning: lbfgs failed to converge (status=1):\n",
            "STOP: TOTAL NO. of ITERATIONS REACHED LIMIT.\n",
            "\n",
            "Increase the number of iterations (max_iter) or scale the data as shown in:\n",
            "    https://scikit-learn.org/stable/modules/preprocessing.html\n",
            "Please also refer to the documentation for alternative solver options:\n",
            "    https://scikit-learn.org/stable/modules/linear_model.html#logistic-regression\n",
            "  extra_warning_msg=_LOGISTIC_SOLVER_CONVERGENCE_MSG,\n"
          ]
        },
        {
          "output_type": "stream",
          "name": "stdout",
          "text": [
            "[CV] END ..............................kmeans__n_clusters=35; total time=   2.0s\n"
          ]
        },
        {
          "output_type": "stream",
          "name": "stderr",
          "text": [
            "/usr/local/lib/python3.7/dist-packages/sklearn/linear_model/_logistic.py:818: ConvergenceWarning: lbfgs failed to converge (status=1):\n",
            "STOP: TOTAL NO. of ITERATIONS REACHED LIMIT.\n",
            "\n",
            "Increase the number of iterations (max_iter) or scale the data as shown in:\n",
            "    https://scikit-learn.org/stable/modules/preprocessing.html\n",
            "Please also refer to the documentation for alternative solver options:\n",
            "    https://scikit-learn.org/stable/modules/linear_model.html#logistic-regression\n",
            "  extra_warning_msg=_LOGISTIC_SOLVER_CONVERGENCE_MSG,\n"
          ]
        },
        {
          "output_type": "stream",
          "name": "stdout",
          "text": [
            "[CV] END ..............................kmeans__n_clusters=36; total time=   1.8s\n"
          ]
        },
        {
          "output_type": "stream",
          "name": "stderr",
          "text": [
            "/usr/local/lib/python3.7/dist-packages/sklearn/linear_model/_logistic.py:818: ConvergenceWarning: lbfgs failed to converge (status=1):\n",
            "STOP: TOTAL NO. of ITERATIONS REACHED LIMIT.\n",
            "\n",
            "Increase the number of iterations (max_iter) or scale the data as shown in:\n",
            "    https://scikit-learn.org/stable/modules/preprocessing.html\n",
            "Please also refer to the documentation for alternative solver options:\n",
            "    https://scikit-learn.org/stable/modules/linear_model.html#logistic-regression\n",
            "  extra_warning_msg=_LOGISTIC_SOLVER_CONVERGENCE_MSG,\n"
          ]
        },
        {
          "output_type": "stream",
          "name": "stdout",
          "text": [
            "[CV] END ..............................kmeans__n_clusters=36; total time=   1.7s\n"
          ]
        },
        {
          "output_type": "stream",
          "name": "stderr",
          "text": [
            "/usr/local/lib/python3.7/dist-packages/sklearn/linear_model/_logistic.py:818: ConvergenceWarning: lbfgs failed to converge (status=1):\n",
            "STOP: TOTAL NO. of ITERATIONS REACHED LIMIT.\n",
            "\n",
            "Increase the number of iterations (max_iter) or scale the data as shown in:\n",
            "    https://scikit-learn.org/stable/modules/preprocessing.html\n",
            "Please also refer to the documentation for alternative solver options:\n",
            "    https://scikit-learn.org/stable/modules/linear_model.html#logistic-regression\n",
            "  extra_warning_msg=_LOGISTIC_SOLVER_CONVERGENCE_MSG,\n"
          ]
        },
        {
          "output_type": "stream",
          "name": "stdout",
          "text": [
            "[CV] END ..............................kmeans__n_clusters=36; total time=   2.3s\n"
          ]
        },
        {
          "output_type": "stream",
          "name": "stderr",
          "text": [
            "/usr/local/lib/python3.7/dist-packages/sklearn/linear_model/_logistic.py:818: ConvergenceWarning: lbfgs failed to converge (status=1):\n",
            "STOP: TOTAL NO. of ITERATIONS REACHED LIMIT.\n",
            "\n",
            "Increase the number of iterations (max_iter) or scale the data as shown in:\n",
            "    https://scikit-learn.org/stable/modules/preprocessing.html\n",
            "Please also refer to the documentation for alternative solver options:\n",
            "    https://scikit-learn.org/stable/modules/linear_model.html#logistic-regression\n",
            "  extra_warning_msg=_LOGISTIC_SOLVER_CONVERGENCE_MSG,\n"
          ]
        },
        {
          "output_type": "stream",
          "name": "stdout",
          "text": [
            "[CV] END ..............................kmeans__n_clusters=37; total time=   1.5s\n"
          ]
        },
        {
          "output_type": "stream",
          "name": "stderr",
          "text": [
            "/usr/local/lib/python3.7/dist-packages/sklearn/linear_model/_logistic.py:818: ConvergenceWarning: lbfgs failed to converge (status=1):\n",
            "STOP: TOTAL NO. of ITERATIONS REACHED LIMIT.\n",
            "\n",
            "Increase the number of iterations (max_iter) or scale the data as shown in:\n",
            "    https://scikit-learn.org/stable/modules/preprocessing.html\n",
            "Please also refer to the documentation for alternative solver options:\n",
            "    https://scikit-learn.org/stable/modules/linear_model.html#logistic-regression\n",
            "  extra_warning_msg=_LOGISTIC_SOLVER_CONVERGENCE_MSG,\n"
          ]
        },
        {
          "output_type": "stream",
          "name": "stdout",
          "text": [
            "[CV] END ..............................kmeans__n_clusters=37; total time=   2.7s\n"
          ]
        },
        {
          "output_type": "stream",
          "name": "stderr",
          "text": [
            "/usr/local/lib/python3.7/dist-packages/sklearn/linear_model/_logistic.py:818: ConvergenceWarning: lbfgs failed to converge (status=1):\n",
            "STOP: TOTAL NO. of ITERATIONS REACHED LIMIT.\n",
            "\n",
            "Increase the number of iterations (max_iter) or scale the data as shown in:\n",
            "    https://scikit-learn.org/stable/modules/preprocessing.html\n",
            "Please also refer to the documentation for alternative solver options:\n",
            "    https://scikit-learn.org/stable/modules/linear_model.html#logistic-regression\n",
            "  extra_warning_msg=_LOGISTIC_SOLVER_CONVERGENCE_MSG,\n"
          ]
        },
        {
          "output_type": "stream",
          "name": "stdout",
          "text": [
            "[CV] END ..............................kmeans__n_clusters=37; total time=   2.5s\n"
          ]
        },
        {
          "output_type": "stream",
          "name": "stderr",
          "text": [
            "/usr/local/lib/python3.7/dist-packages/sklearn/linear_model/_logistic.py:818: ConvergenceWarning: lbfgs failed to converge (status=1):\n",
            "STOP: TOTAL NO. of ITERATIONS REACHED LIMIT.\n",
            "\n",
            "Increase the number of iterations (max_iter) or scale the data as shown in:\n",
            "    https://scikit-learn.org/stable/modules/preprocessing.html\n",
            "Please also refer to the documentation for alternative solver options:\n",
            "    https://scikit-learn.org/stable/modules/linear_model.html#logistic-regression\n",
            "  extra_warning_msg=_LOGISTIC_SOLVER_CONVERGENCE_MSG,\n"
          ]
        },
        {
          "output_type": "stream",
          "name": "stdout",
          "text": [
            "[CV] END ..............................kmeans__n_clusters=38; total time=   3.1s\n"
          ]
        },
        {
          "output_type": "stream",
          "name": "stderr",
          "text": [
            "/usr/local/lib/python3.7/dist-packages/sklearn/linear_model/_logistic.py:818: ConvergenceWarning: lbfgs failed to converge (status=1):\n",
            "STOP: TOTAL NO. of ITERATIONS REACHED LIMIT.\n",
            "\n",
            "Increase the number of iterations (max_iter) or scale the data as shown in:\n",
            "    https://scikit-learn.org/stable/modules/preprocessing.html\n",
            "Please also refer to the documentation for alternative solver options:\n",
            "    https://scikit-learn.org/stable/modules/linear_model.html#logistic-regression\n",
            "  extra_warning_msg=_LOGISTIC_SOLVER_CONVERGENCE_MSG,\n"
          ]
        },
        {
          "output_type": "stream",
          "name": "stdout",
          "text": [
            "[CV] END ..............................kmeans__n_clusters=38; total time=   2.9s\n"
          ]
        },
        {
          "output_type": "stream",
          "name": "stderr",
          "text": [
            "/usr/local/lib/python3.7/dist-packages/sklearn/linear_model/_logistic.py:818: ConvergenceWarning: lbfgs failed to converge (status=1):\n",
            "STOP: TOTAL NO. of ITERATIONS REACHED LIMIT.\n",
            "\n",
            "Increase the number of iterations (max_iter) or scale the data as shown in:\n",
            "    https://scikit-learn.org/stable/modules/preprocessing.html\n",
            "Please also refer to the documentation for alternative solver options:\n",
            "    https://scikit-learn.org/stable/modules/linear_model.html#logistic-regression\n",
            "  extra_warning_msg=_LOGISTIC_SOLVER_CONVERGENCE_MSG,\n"
          ]
        },
        {
          "output_type": "stream",
          "name": "stdout",
          "text": [
            "[CV] END ..............................kmeans__n_clusters=38; total time=   2.6s\n"
          ]
        },
        {
          "output_type": "stream",
          "name": "stderr",
          "text": [
            "/usr/local/lib/python3.7/dist-packages/sklearn/linear_model/_logistic.py:818: ConvergenceWarning: lbfgs failed to converge (status=1):\n",
            "STOP: TOTAL NO. of ITERATIONS REACHED LIMIT.\n",
            "\n",
            "Increase the number of iterations (max_iter) or scale the data as shown in:\n",
            "    https://scikit-learn.org/stable/modules/preprocessing.html\n",
            "Please also refer to the documentation for alternative solver options:\n",
            "    https://scikit-learn.org/stable/modules/linear_model.html#logistic-regression\n",
            "  extra_warning_msg=_LOGISTIC_SOLVER_CONVERGENCE_MSG,\n"
          ]
        },
        {
          "output_type": "stream",
          "name": "stdout",
          "text": [
            "[CV] END ..............................kmeans__n_clusters=39; total time=   2.0s\n"
          ]
        },
        {
          "output_type": "stream",
          "name": "stderr",
          "text": [
            "/usr/local/lib/python3.7/dist-packages/sklearn/linear_model/_logistic.py:818: ConvergenceWarning: lbfgs failed to converge (status=1):\n",
            "STOP: TOTAL NO. of ITERATIONS REACHED LIMIT.\n",
            "\n",
            "Increase the number of iterations (max_iter) or scale the data as shown in:\n",
            "    https://scikit-learn.org/stable/modules/preprocessing.html\n",
            "Please also refer to the documentation for alternative solver options:\n",
            "    https://scikit-learn.org/stable/modules/linear_model.html#logistic-regression\n",
            "  extra_warning_msg=_LOGISTIC_SOLVER_CONVERGENCE_MSG,\n"
          ]
        },
        {
          "output_type": "stream",
          "name": "stdout",
          "text": [
            "[CV] END ..............................kmeans__n_clusters=39; total time=   1.8s\n"
          ]
        },
        {
          "output_type": "stream",
          "name": "stderr",
          "text": [
            "/usr/local/lib/python3.7/dist-packages/sklearn/linear_model/_logistic.py:818: ConvergenceWarning: lbfgs failed to converge (status=1):\n",
            "STOP: TOTAL NO. of ITERATIONS REACHED LIMIT.\n",
            "\n",
            "Increase the number of iterations (max_iter) or scale the data as shown in:\n",
            "    https://scikit-learn.org/stable/modules/preprocessing.html\n",
            "Please also refer to the documentation for alternative solver options:\n",
            "    https://scikit-learn.org/stable/modules/linear_model.html#logistic-regression\n",
            "  extra_warning_msg=_LOGISTIC_SOLVER_CONVERGENCE_MSG,\n"
          ]
        },
        {
          "output_type": "stream",
          "name": "stdout",
          "text": [
            "[CV] END ..............................kmeans__n_clusters=39; total time=   1.7s\n"
          ]
        },
        {
          "output_type": "stream",
          "name": "stderr",
          "text": [
            "/usr/local/lib/python3.7/dist-packages/sklearn/linear_model/_logistic.py:818: ConvergenceWarning: lbfgs failed to converge (status=1):\n",
            "STOP: TOTAL NO. of ITERATIONS REACHED LIMIT.\n",
            "\n",
            "Increase the number of iterations (max_iter) or scale the data as shown in:\n",
            "    https://scikit-learn.org/stable/modules/preprocessing.html\n",
            "Please also refer to the documentation for alternative solver options:\n",
            "    https://scikit-learn.org/stable/modules/linear_model.html#logistic-regression\n",
            "  extra_warning_msg=_LOGISTIC_SOLVER_CONVERGENCE_MSG,\n"
          ]
        },
        {
          "output_type": "stream",
          "name": "stdout",
          "text": [
            "[CV] END ..............................kmeans__n_clusters=40; total time=   1.6s\n"
          ]
        },
        {
          "output_type": "stream",
          "name": "stderr",
          "text": [
            "/usr/local/lib/python3.7/dist-packages/sklearn/linear_model/_logistic.py:818: ConvergenceWarning: lbfgs failed to converge (status=1):\n",
            "STOP: TOTAL NO. of ITERATIONS REACHED LIMIT.\n",
            "\n",
            "Increase the number of iterations (max_iter) or scale the data as shown in:\n",
            "    https://scikit-learn.org/stable/modules/preprocessing.html\n",
            "Please also refer to the documentation for alternative solver options:\n",
            "    https://scikit-learn.org/stable/modules/linear_model.html#logistic-regression\n",
            "  extra_warning_msg=_LOGISTIC_SOLVER_CONVERGENCE_MSG,\n"
          ]
        },
        {
          "output_type": "stream",
          "name": "stdout",
          "text": [
            "[CV] END ..............................kmeans__n_clusters=40; total time=   1.9s\n"
          ]
        },
        {
          "output_type": "stream",
          "name": "stderr",
          "text": [
            "/usr/local/lib/python3.7/dist-packages/sklearn/linear_model/_logistic.py:818: ConvergenceWarning: lbfgs failed to converge (status=1):\n",
            "STOP: TOTAL NO. of ITERATIONS REACHED LIMIT.\n",
            "\n",
            "Increase the number of iterations (max_iter) or scale the data as shown in:\n",
            "    https://scikit-learn.org/stable/modules/preprocessing.html\n",
            "Please also refer to the documentation for alternative solver options:\n",
            "    https://scikit-learn.org/stable/modules/linear_model.html#logistic-regression\n",
            "  extra_warning_msg=_LOGISTIC_SOLVER_CONVERGENCE_MSG,\n"
          ]
        },
        {
          "output_type": "stream",
          "name": "stdout",
          "text": [
            "[CV] END ..............................kmeans__n_clusters=40; total time=   1.7s\n"
          ]
        },
        {
          "output_type": "stream",
          "name": "stderr",
          "text": [
            "/usr/local/lib/python3.7/dist-packages/sklearn/linear_model/_logistic.py:818: ConvergenceWarning: lbfgs failed to converge (status=1):\n",
            "STOP: TOTAL NO. of ITERATIONS REACHED LIMIT.\n",
            "\n",
            "Increase the number of iterations (max_iter) or scale the data as shown in:\n",
            "    https://scikit-learn.org/stable/modules/preprocessing.html\n",
            "Please also refer to the documentation for alternative solver options:\n",
            "    https://scikit-learn.org/stable/modules/linear_model.html#logistic-regression\n",
            "  extra_warning_msg=_LOGISTIC_SOLVER_CONVERGENCE_MSG,\n"
          ]
        },
        {
          "output_type": "stream",
          "name": "stdout",
          "text": [
            "[CV] END ..............................kmeans__n_clusters=41; total time=   1.8s\n"
          ]
        },
        {
          "output_type": "stream",
          "name": "stderr",
          "text": [
            "/usr/local/lib/python3.7/dist-packages/sklearn/linear_model/_logistic.py:818: ConvergenceWarning: lbfgs failed to converge (status=1):\n",
            "STOP: TOTAL NO. of ITERATIONS REACHED LIMIT.\n",
            "\n",
            "Increase the number of iterations (max_iter) or scale the data as shown in:\n",
            "    https://scikit-learn.org/stable/modules/preprocessing.html\n",
            "Please also refer to the documentation for alternative solver options:\n",
            "    https://scikit-learn.org/stable/modules/linear_model.html#logistic-regression\n",
            "  extra_warning_msg=_LOGISTIC_SOLVER_CONVERGENCE_MSG,\n"
          ]
        },
        {
          "output_type": "stream",
          "name": "stdout",
          "text": [
            "[CV] END ..............................kmeans__n_clusters=41; total time=   1.6s\n"
          ]
        },
        {
          "output_type": "stream",
          "name": "stderr",
          "text": [
            "/usr/local/lib/python3.7/dist-packages/sklearn/linear_model/_logistic.py:818: ConvergenceWarning: lbfgs failed to converge (status=1):\n",
            "STOP: TOTAL NO. of ITERATIONS REACHED LIMIT.\n",
            "\n",
            "Increase the number of iterations (max_iter) or scale the data as shown in:\n",
            "    https://scikit-learn.org/stable/modules/preprocessing.html\n",
            "Please also refer to the documentation for alternative solver options:\n",
            "    https://scikit-learn.org/stable/modules/linear_model.html#logistic-regression\n",
            "  extra_warning_msg=_LOGISTIC_SOLVER_CONVERGENCE_MSG,\n"
          ]
        },
        {
          "output_type": "stream",
          "name": "stdout",
          "text": [
            "[CV] END ..............................kmeans__n_clusters=41; total time=   1.7s\n"
          ]
        },
        {
          "output_type": "stream",
          "name": "stderr",
          "text": [
            "/usr/local/lib/python3.7/dist-packages/sklearn/linear_model/_logistic.py:818: ConvergenceWarning: lbfgs failed to converge (status=1):\n",
            "STOP: TOTAL NO. of ITERATIONS REACHED LIMIT.\n",
            "\n",
            "Increase the number of iterations (max_iter) or scale the data as shown in:\n",
            "    https://scikit-learn.org/stable/modules/preprocessing.html\n",
            "Please also refer to the documentation for alternative solver options:\n",
            "    https://scikit-learn.org/stable/modules/linear_model.html#logistic-regression\n",
            "  extra_warning_msg=_LOGISTIC_SOLVER_CONVERGENCE_MSG,\n"
          ]
        },
        {
          "output_type": "stream",
          "name": "stdout",
          "text": [
            "[CV] END ..............................kmeans__n_clusters=42; total time=   1.5s\n"
          ]
        },
        {
          "output_type": "stream",
          "name": "stderr",
          "text": [
            "/usr/local/lib/python3.7/dist-packages/sklearn/linear_model/_logistic.py:818: ConvergenceWarning: lbfgs failed to converge (status=1):\n",
            "STOP: TOTAL NO. of ITERATIONS REACHED LIMIT.\n",
            "\n",
            "Increase the number of iterations (max_iter) or scale the data as shown in:\n",
            "    https://scikit-learn.org/stable/modules/preprocessing.html\n",
            "Please also refer to the documentation for alternative solver options:\n",
            "    https://scikit-learn.org/stable/modules/linear_model.html#logistic-regression\n",
            "  extra_warning_msg=_LOGISTIC_SOLVER_CONVERGENCE_MSG,\n"
          ]
        },
        {
          "output_type": "stream",
          "name": "stdout",
          "text": [
            "[CV] END ..............................kmeans__n_clusters=42; total time=   1.5s\n"
          ]
        },
        {
          "output_type": "stream",
          "name": "stderr",
          "text": [
            "/usr/local/lib/python3.7/dist-packages/sklearn/linear_model/_logistic.py:818: ConvergenceWarning: lbfgs failed to converge (status=1):\n",
            "STOP: TOTAL NO. of ITERATIONS REACHED LIMIT.\n",
            "\n",
            "Increase the number of iterations (max_iter) or scale the data as shown in:\n",
            "    https://scikit-learn.org/stable/modules/preprocessing.html\n",
            "Please also refer to the documentation for alternative solver options:\n",
            "    https://scikit-learn.org/stable/modules/linear_model.html#logistic-regression\n",
            "  extra_warning_msg=_LOGISTIC_SOLVER_CONVERGENCE_MSG,\n"
          ]
        },
        {
          "output_type": "stream",
          "name": "stdout",
          "text": [
            "[CV] END ..............................kmeans__n_clusters=42; total time=   1.6s\n"
          ]
        },
        {
          "output_type": "stream",
          "name": "stderr",
          "text": [
            "/usr/local/lib/python3.7/dist-packages/sklearn/linear_model/_logistic.py:818: ConvergenceWarning: lbfgs failed to converge (status=1):\n",
            "STOP: TOTAL NO. of ITERATIONS REACHED LIMIT.\n",
            "\n",
            "Increase the number of iterations (max_iter) or scale the data as shown in:\n",
            "    https://scikit-learn.org/stable/modules/preprocessing.html\n",
            "Please also refer to the documentation for alternative solver options:\n",
            "    https://scikit-learn.org/stable/modules/linear_model.html#logistic-regression\n",
            "  extra_warning_msg=_LOGISTIC_SOLVER_CONVERGENCE_MSG,\n"
          ]
        },
        {
          "output_type": "stream",
          "name": "stdout",
          "text": [
            "[CV] END ..............................kmeans__n_clusters=43; total time=   1.6s\n"
          ]
        },
        {
          "output_type": "stream",
          "name": "stderr",
          "text": [
            "/usr/local/lib/python3.7/dist-packages/sklearn/linear_model/_logistic.py:818: ConvergenceWarning: lbfgs failed to converge (status=1):\n",
            "STOP: TOTAL NO. of ITERATIONS REACHED LIMIT.\n",
            "\n",
            "Increase the number of iterations (max_iter) or scale the data as shown in:\n",
            "    https://scikit-learn.org/stable/modules/preprocessing.html\n",
            "Please also refer to the documentation for alternative solver options:\n",
            "    https://scikit-learn.org/stable/modules/linear_model.html#logistic-regression\n",
            "  extra_warning_msg=_LOGISTIC_SOLVER_CONVERGENCE_MSG,\n"
          ]
        },
        {
          "output_type": "stream",
          "name": "stdout",
          "text": [
            "[CV] END ..............................kmeans__n_clusters=43; total time=   1.5s\n"
          ]
        },
        {
          "output_type": "stream",
          "name": "stderr",
          "text": [
            "/usr/local/lib/python3.7/dist-packages/sklearn/linear_model/_logistic.py:818: ConvergenceWarning: lbfgs failed to converge (status=1):\n",
            "STOP: TOTAL NO. of ITERATIONS REACHED LIMIT.\n",
            "\n",
            "Increase the number of iterations (max_iter) or scale the data as shown in:\n",
            "    https://scikit-learn.org/stable/modules/preprocessing.html\n",
            "Please also refer to the documentation for alternative solver options:\n",
            "    https://scikit-learn.org/stable/modules/linear_model.html#logistic-regression\n",
            "  extra_warning_msg=_LOGISTIC_SOLVER_CONVERGENCE_MSG,\n"
          ]
        },
        {
          "output_type": "stream",
          "name": "stdout",
          "text": [
            "[CV] END ..............................kmeans__n_clusters=43; total time=   1.5s\n"
          ]
        },
        {
          "output_type": "stream",
          "name": "stderr",
          "text": [
            "/usr/local/lib/python3.7/dist-packages/sklearn/linear_model/_logistic.py:818: ConvergenceWarning: lbfgs failed to converge (status=1):\n",
            "STOP: TOTAL NO. of ITERATIONS REACHED LIMIT.\n",
            "\n",
            "Increase the number of iterations (max_iter) or scale the data as shown in:\n",
            "    https://scikit-learn.org/stable/modules/preprocessing.html\n",
            "Please also refer to the documentation for alternative solver options:\n",
            "    https://scikit-learn.org/stable/modules/linear_model.html#logistic-regression\n",
            "  extra_warning_msg=_LOGISTIC_SOLVER_CONVERGENCE_MSG,\n"
          ]
        },
        {
          "output_type": "stream",
          "name": "stdout",
          "text": [
            "[CV] END ..............................kmeans__n_clusters=44; total time=   2.4s\n"
          ]
        },
        {
          "output_type": "stream",
          "name": "stderr",
          "text": [
            "/usr/local/lib/python3.7/dist-packages/sklearn/linear_model/_logistic.py:818: ConvergenceWarning: lbfgs failed to converge (status=1):\n",
            "STOP: TOTAL NO. of ITERATIONS REACHED LIMIT.\n",
            "\n",
            "Increase the number of iterations (max_iter) or scale the data as shown in:\n",
            "    https://scikit-learn.org/stable/modules/preprocessing.html\n",
            "Please also refer to the documentation for alternative solver options:\n",
            "    https://scikit-learn.org/stable/modules/linear_model.html#logistic-regression\n",
            "  extra_warning_msg=_LOGISTIC_SOLVER_CONVERGENCE_MSG,\n"
          ]
        },
        {
          "output_type": "stream",
          "name": "stdout",
          "text": [
            "[CV] END ..............................kmeans__n_clusters=44; total time=   1.6s\n"
          ]
        },
        {
          "output_type": "stream",
          "name": "stderr",
          "text": [
            "/usr/local/lib/python3.7/dist-packages/sklearn/linear_model/_logistic.py:818: ConvergenceWarning: lbfgs failed to converge (status=1):\n",
            "STOP: TOTAL NO. of ITERATIONS REACHED LIMIT.\n",
            "\n",
            "Increase the number of iterations (max_iter) or scale the data as shown in:\n",
            "    https://scikit-learn.org/stable/modules/preprocessing.html\n",
            "Please also refer to the documentation for alternative solver options:\n",
            "    https://scikit-learn.org/stable/modules/linear_model.html#logistic-regression\n",
            "  extra_warning_msg=_LOGISTIC_SOLVER_CONVERGENCE_MSG,\n"
          ]
        },
        {
          "output_type": "stream",
          "name": "stdout",
          "text": [
            "[CV] END ..............................kmeans__n_clusters=44; total time=   1.7s\n"
          ]
        },
        {
          "output_type": "stream",
          "name": "stderr",
          "text": [
            "/usr/local/lib/python3.7/dist-packages/sklearn/linear_model/_logistic.py:818: ConvergenceWarning: lbfgs failed to converge (status=1):\n",
            "STOP: TOTAL NO. of ITERATIONS REACHED LIMIT.\n",
            "\n",
            "Increase the number of iterations (max_iter) or scale the data as shown in:\n",
            "    https://scikit-learn.org/stable/modules/preprocessing.html\n",
            "Please also refer to the documentation for alternative solver options:\n",
            "    https://scikit-learn.org/stable/modules/linear_model.html#logistic-regression\n",
            "  extra_warning_msg=_LOGISTIC_SOLVER_CONVERGENCE_MSG,\n"
          ]
        },
        {
          "output_type": "stream",
          "name": "stdout",
          "text": [
            "[CV] END ..............................kmeans__n_clusters=45; total time=   1.4s\n"
          ]
        },
        {
          "output_type": "stream",
          "name": "stderr",
          "text": [
            "/usr/local/lib/python3.7/dist-packages/sklearn/linear_model/_logistic.py:818: ConvergenceWarning: lbfgs failed to converge (status=1):\n",
            "STOP: TOTAL NO. of ITERATIONS REACHED LIMIT.\n",
            "\n",
            "Increase the number of iterations (max_iter) or scale the data as shown in:\n",
            "    https://scikit-learn.org/stable/modules/preprocessing.html\n",
            "Please also refer to the documentation for alternative solver options:\n",
            "    https://scikit-learn.org/stable/modules/linear_model.html#logistic-regression\n",
            "  extra_warning_msg=_LOGISTIC_SOLVER_CONVERGENCE_MSG,\n"
          ]
        },
        {
          "output_type": "stream",
          "name": "stdout",
          "text": [
            "[CV] END ..............................kmeans__n_clusters=45; total time=   1.8s\n"
          ]
        },
        {
          "output_type": "stream",
          "name": "stderr",
          "text": [
            "/usr/local/lib/python3.7/dist-packages/sklearn/linear_model/_logistic.py:818: ConvergenceWarning: lbfgs failed to converge (status=1):\n",
            "STOP: TOTAL NO. of ITERATIONS REACHED LIMIT.\n",
            "\n",
            "Increase the number of iterations (max_iter) or scale the data as shown in:\n",
            "    https://scikit-learn.org/stable/modules/preprocessing.html\n",
            "Please also refer to the documentation for alternative solver options:\n",
            "    https://scikit-learn.org/stable/modules/linear_model.html#logistic-regression\n",
            "  extra_warning_msg=_LOGISTIC_SOLVER_CONVERGENCE_MSG,\n"
          ]
        },
        {
          "output_type": "stream",
          "name": "stdout",
          "text": [
            "[CV] END ..............................kmeans__n_clusters=45; total time=   2.1s\n"
          ]
        },
        {
          "output_type": "stream",
          "name": "stderr",
          "text": [
            "/usr/local/lib/python3.7/dist-packages/sklearn/linear_model/_logistic.py:818: ConvergenceWarning: lbfgs failed to converge (status=1):\n",
            "STOP: TOTAL NO. of ITERATIONS REACHED LIMIT.\n",
            "\n",
            "Increase the number of iterations (max_iter) or scale the data as shown in:\n",
            "    https://scikit-learn.org/stable/modules/preprocessing.html\n",
            "Please also refer to the documentation for alternative solver options:\n",
            "    https://scikit-learn.org/stable/modules/linear_model.html#logistic-regression\n",
            "  extra_warning_msg=_LOGISTIC_SOLVER_CONVERGENCE_MSG,\n"
          ]
        },
        {
          "output_type": "stream",
          "name": "stdout",
          "text": [
            "[CV] END ..............................kmeans__n_clusters=46; total time=   1.9s\n"
          ]
        },
        {
          "output_type": "stream",
          "name": "stderr",
          "text": [
            "/usr/local/lib/python3.7/dist-packages/sklearn/linear_model/_logistic.py:818: ConvergenceWarning: lbfgs failed to converge (status=1):\n",
            "STOP: TOTAL NO. of ITERATIONS REACHED LIMIT.\n",
            "\n",
            "Increase the number of iterations (max_iter) or scale the data as shown in:\n",
            "    https://scikit-learn.org/stable/modules/preprocessing.html\n",
            "Please also refer to the documentation for alternative solver options:\n",
            "    https://scikit-learn.org/stable/modules/linear_model.html#logistic-regression\n",
            "  extra_warning_msg=_LOGISTIC_SOLVER_CONVERGENCE_MSG,\n"
          ]
        },
        {
          "output_type": "stream",
          "name": "stdout",
          "text": [
            "[CV] END ..............................kmeans__n_clusters=46; total time=   1.8s\n"
          ]
        },
        {
          "output_type": "stream",
          "name": "stderr",
          "text": [
            "/usr/local/lib/python3.7/dist-packages/sklearn/linear_model/_logistic.py:818: ConvergenceWarning: lbfgs failed to converge (status=1):\n",
            "STOP: TOTAL NO. of ITERATIONS REACHED LIMIT.\n",
            "\n",
            "Increase the number of iterations (max_iter) or scale the data as shown in:\n",
            "    https://scikit-learn.org/stable/modules/preprocessing.html\n",
            "Please also refer to the documentation for alternative solver options:\n",
            "    https://scikit-learn.org/stable/modules/linear_model.html#logistic-regression\n",
            "  extra_warning_msg=_LOGISTIC_SOLVER_CONVERGENCE_MSG,\n"
          ]
        },
        {
          "output_type": "stream",
          "name": "stdout",
          "text": [
            "[CV] END ..............................kmeans__n_clusters=46; total time=   1.9s\n"
          ]
        },
        {
          "output_type": "stream",
          "name": "stderr",
          "text": [
            "/usr/local/lib/python3.7/dist-packages/sklearn/linear_model/_logistic.py:818: ConvergenceWarning: lbfgs failed to converge (status=1):\n",
            "STOP: TOTAL NO. of ITERATIONS REACHED LIMIT.\n",
            "\n",
            "Increase the number of iterations (max_iter) or scale the data as shown in:\n",
            "    https://scikit-learn.org/stable/modules/preprocessing.html\n",
            "Please also refer to the documentation for alternative solver options:\n",
            "    https://scikit-learn.org/stable/modules/linear_model.html#logistic-regression\n",
            "  extra_warning_msg=_LOGISTIC_SOLVER_CONVERGENCE_MSG,\n"
          ]
        },
        {
          "output_type": "stream",
          "name": "stdout",
          "text": [
            "[CV] END ..............................kmeans__n_clusters=47; total time=   2.1s\n"
          ]
        },
        {
          "output_type": "stream",
          "name": "stderr",
          "text": [
            "/usr/local/lib/python3.7/dist-packages/sklearn/linear_model/_logistic.py:818: ConvergenceWarning: lbfgs failed to converge (status=1):\n",
            "STOP: TOTAL NO. of ITERATIONS REACHED LIMIT.\n",
            "\n",
            "Increase the number of iterations (max_iter) or scale the data as shown in:\n",
            "    https://scikit-learn.org/stable/modules/preprocessing.html\n",
            "Please also refer to the documentation for alternative solver options:\n",
            "    https://scikit-learn.org/stable/modules/linear_model.html#logistic-regression\n",
            "  extra_warning_msg=_LOGISTIC_SOLVER_CONVERGENCE_MSG,\n"
          ]
        },
        {
          "output_type": "stream",
          "name": "stdout",
          "text": [
            "[CV] END ..............................kmeans__n_clusters=47; total time=   2.1s\n"
          ]
        },
        {
          "output_type": "stream",
          "name": "stderr",
          "text": [
            "/usr/local/lib/python3.7/dist-packages/sklearn/linear_model/_logistic.py:818: ConvergenceWarning: lbfgs failed to converge (status=1):\n",
            "STOP: TOTAL NO. of ITERATIONS REACHED LIMIT.\n",
            "\n",
            "Increase the number of iterations (max_iter) or scale the data as shown in:\n",
            "    https://scikit-learn.org/stable/modules/preprocessing.html\n",
            "Please also refer to the documentation for alternative solver options:\n",
            "    https://scikit-learn.org/stable/modules/linear_model.html#logistic-regression\n",
            "  extra_warning_msg=_LOGISTIC_SOLVER_CONVERGENCE_MSG,\n"
          ]
        },
        {
          "output_type": "stream",
          "name": "stdout",
          "text": [
            "[CV] END ..............................kmeans__n_clusters=47; total time=   1.7s\n"
          ]
        },
        {
          "output_type": "stream",
          "name": "stderr",
          "text": [
            "/usr/local/lib/python3.7/dist-packages/sklearn/linear_model/_logistic.py:818: ConvergenceWarning: lbfgs failed to converge (status=1):\n",
            "STOP: TOTAL NO. of ITERATIONS REACHED LIMIT.\n",
            "\n",
            "Increase the number of iterations (max_iter) or scale the data as shown in:\n",
            "    https://scikit-learn.org/stable/modules/preprocessing.html\n",
            "Please also refer to the documentation for alternative solver options:\n",
            "    https://scikit-learn.org/stable/modules/linear_model.html#logistic-regression\n",
            "  extra_warning_msg=_LOGISTIC_SOLVER_CONVERGENCE_MSG,\n"
          ]
        },
        {
          "output_type": "stream",
          "name": "stdout",
          "text": [
            "[CV] END ..............................kmeans__n_clusters=48; total time=   1.8s\n"
          ]
        },
        {
          "output_type": "stream",
          "name": "stderr",
          "text": [
            "/usr/local/lib/python3.7/dist-packages/sklearn/linear_model/_logistic.py:818: ConvergenceWarning: lbfgs failed to converge (status=1):\n",
            "STOP: TOTAL NO. of ITERATIONS REACHED LIMIT.\n",
            "\n",
            "Increase the number of iterations (max_iter) or scale the data as shown in:\n",
            "    https://scikit-learn.org/stable/modules/preprocessing.html\n",
            "Please also refer to the documentation for alternative solver options:\n",
            "    https://scikit-learn.org/stable/modules/linear_model.html#logistic-regression\n",
            "  extra_warning_msg=_LOGISTIC_SOLVER_CONVERGENCE_MSG,\n"
          ]
        },
        {
          "output_type": "stream",
          "name": "stdout",
          "text": [
            "[CV] END ..............................kmeans__n_clusters=48; total time=   2.0s\n"
          ]
        },
        {
          "output_type": "stream",
          "name": "stderr",
          "text": [
            "/usr/local/lib/python3.7/dist-packages/sklearn/linear_model/_logistic.py:818: ConvergenceWarning: lbfgs failed to converge (status=1):\n",
            "STOP: TOTAL NO. of ITERATIONS REACHED LIMIT.\n",
            "\n",
            "Increase the number of iterations (max_iter) or scale the data as shown in:\n",
            "    https://scikit-learn.org/stable/modules/preprocessing.html\n",
            "Please also refer to the documentation for alternative solver options:\n",
            "    https://scikit-learn.org/stable/modules/linear_model.html#logistic-regression\n",
            "  extra_warning_msg=_LOGISTIC_SOLVER_CONVERGENCE_MSG,\n"
          ]
        },
        {
          "output_type": "stream",
          "name": "stdout",
          "text": [
            "[CV] END ..............................kmeans__n_clusters=48; total time=   2.0s\n"
          ]
        },
        {
          "output_type": "stream",
          "name": "stderr",
          "text": [
            "/usr/local/lib/python3.7/dist-packages/sklearn/linear_model/_logistic.py:818: ConvergenceWarning: lbfgs failed to converge (status=1):\n",
            "STOP: TOTAL NO. of ITERATIONS REACHED LIMIT.\n",
            "\n",
            "Increase the number of iterations (max_iter) or scale the data as shown in:\n",
            "    https://scikit-learn.org/stable/modules/preprocessing.html\n",
            "Please also refer to the documentation for alternative solver options:\n",
            "    https://scikit-learn.org/stable/modules/linear_model.html#logistic-regression\n",
            "  extra_warning_msg=_LOGISTIC_SOLVER_CONVERGENCE_MSG,\n"
          ]
        },
        {
          "output_type": "stream",
          "name": "stdout",
          "text": [
            "[CV] END ..............................kmeans__n_clusters=49; total time=   1.6s\n"
          ]
        },
        {
          "output_type": "stream",
          "name": "stderr",
          "text": [
            "/usr/local/lib/python3.7/dist-packages/sklearn/linear_model/_logistic.py:818: ConvergenceWarning: lbfgs failed to converge (status=1):\n",
            "STOP: TOTAL NO. of ITERATIONS REACHED LIMIT.\n",
            "\n",
            "Increase the number of iterations (max_iter) or scale the data as shown in:\n",
            "    https://scikit-learn.org/stable/modules/preprocessing.html\n",
            "Please also refer to the documentation for alternative solver options:\n",
            "    https://scikit-learn.org/stable/modules/linear_model.html#logistic-regression\n",
            "  extra_warning_msg=_LOGISTIC_SOLVER_CONVERGENCE_MSG,\n"
          ]
        },
        {
          "output_type": "stream",
          "name": "stdout",
          "text": [
            "[CV] END ..............................kmeans__n_clusters=49; total time=   2.1s\n"
          ]
        },
        {
          "output_type": "stream",
          "name": "stderr",
          "text": [
            "/usr/local/lib/python3.7/dist-packages/sklearn/linear_model/_logistic.py:818: ConvergenceWarning: lbfgs failed to converge (status=1):\n",
            "STOP: TOTAL NO. of ITERATIONS REACHED LIMIT.\n",
            "\n",
            "Increase the number of iterations (max_iter) or scale the data as shown in:\n",
            "    https://scikit-learn.org/stable/modules/preprocessing.html\n",
            "Please also refer to the documentation for alternative solver options:\n",
            "    https://scikit-learn.org/stable/modules/linear_model.html#logistic-regression\n",
            "  extra_warning_msg=_LOGISTIC_SOLVER_CONVERGENCE_MSG,\n"
          ]
        },
        {
          "output_type": "stream",
          "name": "stdout",
          "text": [
            "[CV] END ..............................kmeans__n_clusters=49; total time=   2.9s\n"
          ]
        },
        {
          "output_type": "stream",
          "name": "stderr",
          "text": [
            "/usr/local/lib/python3.7/dist-packages/sklearn/linear_model/_logistic.py:818: ConvergenceWarning: lbfgs failed to converge (status=1):\n",
            "STOP: TOTAL NO. of ITERATIONS REACHED LIMIT.\n",
            "\n",
            "Increase the number of iterations (max_iter) or scale the data as shown in:\n",
            "    https://scikit-learn.org/stable/modules/preprocessing.html\n",
            "Please also refer to the documentation for alternative solver options:\n",
            "    https://scikit-learn.org/stable/modules/linear_model.html#logistic-regression\n",
            "  extra_warning_msg=_LOGISTIC_SOLVER_CONVERGENCE_MSG,\n"
          ]
        },
        {
          "output_type": "stream",
          "name": "stdout",
          "text": [
            "[CV] END ..............................kmeans__n_clusters=50; total time=   1.9s\n"
          ]
        },
        {
          "output_type": "stream",
          "name": "stderr",
          "text": [
            "/usr/local/lib/python3.7/dist-packages/sklearn/linear_model/_logistic.py:818: ConvergenceWarning: lbfgs failed to converge (status=1):\n",
            "STOP: TOTAL NO. of ITERATIONS REACHED LIMIT.\n",
            "\n",
            "Increase the number of iterations (max_iter) or scale the data as shown in:\n",
            "    https://scikit-learn.org/stable/modules/preprocessing.html\n",
            "Please also refer to the documentation for alternative solver options:\n",
            "    https://scikit-learn.org/stable/modules/linear_model.html#logistic-regression\n",
            "  extra_warning_msg=_LOGISTIC_SOLVER_CONVERGENCE_MSG,\n"
          ]
        },
        {
          "output_type": "stream",
          "name": "stdout",
          "text": [
            "[CV] END ..............................kmeans__n_clusters=50; total time=   1.8s\n"
          ]
        },
        {
          "output_type": "stream",
          "name": "stderr",
          "text": [
            "/usr/local/lib/python3.7/dist-packages/sklearn/linear_model/_logistic.py:818: ConvergenceWarning: lbfgs failed to converge (status=1):\n",
            "STOP: TOTAL NO. of ITERATIONS REACHED LIMIT.\n",
            "\n",
            "Increase the number of iterations (max_iter) or scale the data as shown in:\n",
            "    https://scikit-learn.org/stable/modules/preprocessing.html\n",
            "Please also refer to the documentation for alternative solver options:\n",
            "    https://scikit-learn.org/stable/modules/linear_model.html#logistic-regression\n",
            "  extra_warning_msg=_LOGISTIC_SOLVER_CONVERGENCE_MSG,\n"
          ]
        },
        {
          "output_type": "stream",
          "name": "stdout",
          "text": [
            "[CV] END ..............................kmeans__n_clusters=50; total time=   1.7s\n"
          ]
        },
        {
          "output_type": "stream",
          "name": "stderr",
          "text": [
            "/usr/local/lib/python3.7/dist-packages/sklearn/linear_model/_logistic.py:818: ConvergenceWarning: lbfgs failed to converge (status=1):\n",
            "STOP: TOTAL NO. of ITERATIONS REACHED LIMIT.\n",
            "\n",
            "Increase the number of iterations (max_iter) or scale the data as shown in:\n",
            "    https://scikit-learn.org/stable/modules/preprocessing.html\n",
            "Please also refer to the documentation for alternative solver options:\n",
            "    https://scikit-learn.org/stable/modules/linear_model.html#logistic-regression\n",
            "  extra_warning_msg=_LOGISTIC_SOLVER_CONVERGENCE_MSG,\n"
          ]
        },
        {
          "output_type": "stream",
          "name": "stdout",
          "text": [
            "[CV] END ..............................kmeans__n_clusters=51; total time=   1.9s\n"
          ]
        },
        {
          "output_type": "stream",
          "name": "stderr",
          "text": [
            "/usr/local/lib/python3.7/dist-packages/sklearn/linear_model/_logistic.py:818: ConvergenceWarning: lbfgs failed to converge (status=1):\n",
            "STOP: TOTAL NO. of ITERATIONS REACHED LIMIT.\n",
            "\n",
            "Increase the number of iterations (max_iter) or scale the data as shown in:\n",
            "    https://scikit-learn.org/stable/modules/preprocessing.html\n",
            "Please also refer to the documentation for alternative solver options:\n",
            "    https://scikit-learn.org/stable/modules/linear_model.html#logistic-regression\n",
            "  extra_warning_msg=_LOGISTIC_SOLVER_CONVERGENCE_MSG,\n"
          ]
        },
        {
          "output_type": "stream",
          "name": "stdout",
          "text": [
            "[CV] END ..............................kmeans__n_clusters=51; total time=   2.1s\n"
          ]
        },
        {
          "output_type": "stream",
          "name": "stderr",
          "text": [
            "/usr/local/lib/python3.7/dist-packages/sklearn/linear_model/_logistic.py:818: ConvergenceWarning: lbfgs failed to converge (status=1):\n",
            "STOP: TOTAL NO. of ITERATIONS REACHED LIMIT.\n",
            "\n",
            "Increase the number of iterations (max_iter) or scale the data as shown in:\n",
            "    https://scikit-learn.org/stable/modules/preprocessing.html\n",
            "Please also refer to the documentation for alternative solver options:\n",
            "    https://scikit-learn.org/stable/modules/linear_model.html#logistic-regression\n",
            "  extra_warning_msg=_LOGISTIC_SOLVER_CONVERGENCE_MSG,\n"
          ]
        },
        {
          "output_type": "stream",
          "name": "stdout",
          "text": [
            "[CV] END ..............................kmeans__n_clusters=51; total time=   1.9s\n"
          ]
        },
        {
          "output_type": "stream",
          "name": "stderr",
          "text": [
            "/usr/local/lib/python3.7/dist-packages/sklearn/linear_model/_logistic.py:818: ConvergenceWarning: lbfgs failed to converge (status=1):\n",
            "STOP: TOTAL NO. of ITERATIONS REACHED LIMIT.\n",
            "\n",
            "Increase the number of iterations (max_iter) or scale the data as shown in:\n",
            "    https://scikit-learn.org/stable/modules/preprocessing.html\n",
            "Please also refer to the documentation for alternative solver options:\n",
            "    https://scikit-learn.org/stable/modules/linear_model.html#logistic-regression\n",
            "  extra_warning_msg=_LOGISTIC_SOLVER_CONVERGENCE_MSG,\n"
          ]
        },
        {
          "output_type": "stream",
          "name": "stdout",
          "text": [
            "[CV] END ..............................kmeans__n_clusters=52; total time=   3.3s\n"
          ]
        },
        {
          "output_type": "stream",
          "name": "stderr",
          "text": [
            "/usr/local/lib/python3.7/dist-packages/sklearn/linear_model/_logistic.py:818: ConvergenceWarning: lbfgs failed to converge (status=1):\n",
            "STOP: TOTAL NO. of ITERATIONS REACHED LIMIT.\n",
            "\n",
            "Increase the number of iterations (max_iter) or scale the data as shown in:\n",
            "    https://scikit-learn.org/stable/modules/preprocessing.html\n",
            "Please also refer to the documentation for alternative solver options:\n",
            "    https://scikit-learn.org/stable/modules/linear_model.html#logistic-regression\n",
            "  extra_warning_msg=_LOGISTIC_SOLVER_CONVERGENCE_MSG,\n"
          ]
        },
        {
          "output_type": "stream",
          "name": "stdout",
          "text": [
            "[CV] END ..............................kmeans__n_clusters=52; total time=   2.1s\n"
          ]
        },
        {
          "output_type": "stream",
          "name": "stderr",
          "text": [
            "/usr/local/lib/python3.7/dist-packages/sklearn/linear_model/_logistic.py:818: ConvergenceWarning: lbfgs failed to converge (status=1):\n",
            "STOP: TOTAL NO. of ITERATIONS REACHED LIMIT.\n",
            "\n",
            "Increase the number of iterations (max_iter) or scale the data as shown in:\n",
            "    https://scikit-learn.org/stable/modules/preprocessing.html\n",
            "Please also refer to the documentation for alternative solver options:\n",
            "    https://scikit-learn.org/stable/modules/linear_model.html#logistic-regression\n",
            "  extra_warning_msg=_LOGISTIC_SOLVER_CONVERGENCE_MSG,\n"
          ]
        },
        {
          "output_type": "stream",
          "name": "stdout",
          "text": [
            "[CV] END ..............................kmeans__n_clusters=52; total time=   2.0s\n"
          ]
        },
        {
          "output_type": "stream",
          "name": "stderr",
          "text": [
            "/usr/local/lib/python3.7/dist-packages/sklearn/linear_model/_logistic.py:818: ConvergenceWarning: lbfgs failed to converge (status=1):\n",
            "STOP: TOTAL NO. of ITERATIONS REACHED LIMIT.\n",
            "\n",
            "Increase the number of iterations (max_iter) or scale the data as shown in:\n",
            "    https://scikit-learn.org/stable/modules/preprocessing.html\n",
            "Please also refer to the documentation for alternative solver options:\n",
            "    https://scikit-learn.org/stable/modules/linear_model.html#logistic-regression\n",
            "  extra_warning_msg=_LOGISTIC_SOLVER_CONVERGENCE_MSG,\n"
          ]
        },
        {
          "output_type": "stream",
          "name": "stdout",
          "text": [
            "[CV] END ..............................kmeans__n_clusters=53; total time=   2.3s\n"
          ]
        },
        {
          "output_type": "stream",
          "name": "stderr",
          "text": [
            "/usr/local/lib/python3.7/dist-packages/sklearn/linear_model/_logistic.py:818: ConvergenceWarning: lbfgs failed to converge (status=1):\n",
            "STOP: TOTAL NO. of ITERATIONS REACHED LIMIT.\n",
            "\n",
            "Increase the number of iterations (max_iter) or scale the data as shown in:\n",
            "    https://scikit-learn.org/stable/modules/preprocessing.html\n",
            "Please also refer to the documentation for alternative solver options:\n",
            "    https://scikit-learn.org/stable/modules/linear_model.html#logistic-regression\n",
            "  extra_warning_msg=_LOGISTIC_SOLVER_CONVERGENCE_MSG,\n"
          ]
        },
        {
          "output_type": "stream",
          "name": "stdout",
          "text": [
            "[CV] END ..............................kmeans__n_clusters=53; total time=   1.9s\n"
          ]
        },
        {
          "output_type": "stream",
          "name": "stderr",
          "text": [
            "/usr/local/lib/python3.7/dist-packages/sklearn/linear_model/_logistic.py:818: ConvergenceWarning: lbfgs failed to converge (status=1):\n",
            "STOP: TOTAL NO. of ITERATIONS REACHED LIMIT.\n",
            "\n",
            "Increase the number of iterations (max_iter) or scale the data as shown in:\n",
            "    https://scikit-learn.org/stable/modules/preprocessing.html\n",
            "Please also refer to the documentation for alternative solver options:\n",
            "    https://scikit-learn.org/stable/modules/linear_model.html#logistic-regression\n",
            "  extra_warning_msg=_LOGISTIC_SOLVER_CONVERGENCE_MSG,\n"
          ]
        },
        {
          "output_type": "stream",
          "name": "stdout",
          "text": [
            "[CV] END ..............................kmeans__n_clusters=53; total time=   2.0s\n"
          ]
        },
        {
          "output_type": "stream",
          "name": "stderr",
          "text": [
            "/usr/local/lib/python3.7/dist-packages/sklearn/linear_model/_logistic.py:818: ConvergenceWarning: lbfgs failed to converge (status=1):\n",
            "STOP: TOTAL NO. of ITERATIONS REACHED LIMIT.\n",
            "\n",
            "Increase the number of iterations (max_iter) or scale the data as shown in:\n",
            "    https://scikit-learn.org/stable/modules/preprocessing.html\n",
            "Please also refer to the documentation for alternative solver options:\n",
            "    https://scikit-learn.org/stable/modules/linear_model.html#logistic-regression\n",
            "  extra_warning_msg=_LOGISTIC_SOLVER_CONVERGENCE_MSG,\n"
          ]
        },
        {
          "output_type": "stream",
          "name": "stdout",
          "text": [
            "[CV] END ..............................kmeans__n_clusters=54; total time=   1.9s\n"
          ]
        },
        {
          "output_type": "stream",
          "name": "stderr",
          "text": [
            "/usr/local/lib/python3.7/dist-packages/sklearn/linear_model/_logistic.py:818: ConvergenceWarning: lbfgs failed to converge (status=1):\n",
            "STOP: TOTAL NO. of ITERATIONS REACHED LIMIT.\n",
            "\n",
            "Increase the number of iterations (max_iter) or scale the data as shown in:\n",
            "    https://scikit-learn.org/stable/modules/preprocessing.html\n",
            "Please also refer to the documentation for alternative solver options:\n",
            "    https://scikit-learn.org/stable/modules/linear_model.html#logistic-regression\n",
            "  extra_warning_msg=_LOGISTIC_SOLVER_CONVERGENCE_MSG,\n"
          ]
        },
        {
          "output_type": "stream",
          "name": "stdout",
          "text": [
            "[CV] END ..............................kmeans__n_clusters=54; total time=   2.0s\n"
          ]
        },
        {
          "output_type": "stream",
          "name": "stderr",
          "text": [
            "/usr/local/lib/python3.7/dist-packages/sklearn/linear_model/_logistic.py:818: ConvergenceWarning: lbfgs failed to converge (status=1):\n",
            "STOP: TOTAL NO. of ITERATIONS REACHED LIMIT.\n",
            "\n",
            "Increase the number of iterations (max_iter) or scale the data as shown in:\n",
            "    https://scikit-learn.org/stable/modules/preprocessing.html\n",
            "Please also refer to the documentation for alternative solver options:\n",
            "    https://scikit-learn.org/stable/modules/linear_model.html#logistic-regression\n",
            "  extra_warning_msg=_LOGISTIC_SOLVER_CONVERGENCE_MSG,\n"
          ]
        },
        {
          "output_type": "stream",
          "name": "stdout",
          "text": [
            "[CV] END ..............................kmeans__n_clusters=54; total time=   2.2s\n"
          ]
        },
        {
          "output_type": "stream",
          "name": "stderr",
          "text": [
            "/usr/local/lib/python3.7/dist-packages/sklearn/linear_model/_logistic.py:818: ConvergenceWarning: lbfgs failed to converge (status=1):\n",
            "STOP: TOTAL NO. of ITERATIONS REACHED LIMIT.\n",
            "\n",
            "Increase the number of iterations (max_iter) or scale the data as shown in:\n",
            "    https://scikit-learn.org/stable/modules/preprocessing.html\n",
            "Please also refer to the documentation for alternative solver options:\n",
            "    https://scikit-learn.org/stable/modules/linear_model.html#logistic-regression\n",
            "  extra_warning_msg=_LOGISTIC_SOLVER_CONVERGENCE_MSG,\n"
          ]
        },
        {
          "output_type": "stream",
          "name": "stdout",
          "text": [
            "[CV] END ..............................kmeans__n_clusters=55; total time=   2.1s\n"
          ]
        },
        {
          "output_type": "stream",
          "name": "stderr",
          "text": [
            "/usr/local/lib/python3.7/dist-packages/sklearn/linear_model/_logistic.py:818: ConvergenceWarning: lbfgs failed to converge (status=1):\n",
            "STOP: TOTAL NO. of ITERATIONS REACHED LIMIT.\n",
            "\n",
            "Increase the number of iterations (max_iter) or scale the data as shown in:\n",
            "    https://scikit-learn.org/stable/modules/preprocessing.html\n",
            "Please also refer to the documentation for alternative solver options:\n",
            "    https://scikit-learn.org/stable/modules/linear_model.html#logistic-regression\n",
            "  extra_warning_msg=_LOGISTIC_SOLVER_CONVERGENCE_MSG,\n"
          ]
        },
        {
          "output_type": "stream",
          "name": "stdout",
          "text": [
            "[CV] END ..............................kmeans__n_clusters=55; total time=   2.2s\n"
          ]
        },
        {
          "output_type": "stream",
          "name": "stderr",
          "text": [
            "/usr/local/lib/python3.7/dist-packages/sklearn/linear_model/_logistic.py:818: ConvergenceWarning: lbfgs failed to converge (status=1):\n",
            "STOP: TOTAL NO. of ITERATIONS REACHED LIMIT.\n",
            "\n",
            "Increase the number of iterations (max_iter) or scale the data as shown in:\n",
            "    https://scikit-learn.org/stable/modules/preprocessing.html\n",
            "Please also refer to the documentation for alternative solver options:\n",
            "    https://scikit-learn.org/stable/modules/linear_model.html#logistic-regression\n",
            "  extra_warning_msg=_LOGISTIC_SOLVER_CONVERGENCE_MSG,\n"
          ]
        },
        {
          "output_type": "stream",
          "name": "stdout",
          "text": [
            "[CV] END ..............................kmeans__n_clusters=55; total time=   2.2s\n"
          ]
        },
        {
          "output_type": "stream",
          "name": "stderr",
          "text": [
            "/usr/local/lib/python3.7/dist-packages/sklearn/linear_model/_logistic.py:818: ConvergenceWarning: lbfgs failed to converge (status=1):\n",
            "STOP: TOTAL NO. of ITERATIONS REACHED LIMIT.\n",
            "\n",
            "Increase the number of iterations (max_iter) or scale the data as shown in:\n",
            "    https://scikit-learn.org/stable/modules/preprocessing.html\n",
            "Please also refer to the documentation for alternative solver options:\n",
            "    https://scikit-learn.org/stable/modules/linear_model.html#logistic-regression\n",
            "  extra_warning_msg=_LOGISTIC_SOLVER_CONVERGENCE_MSG,\n"
          ]
        },
        {
          "output_type": "stream",
          "name": "stdout",
          "text": [
            "[CV] END ..............................kmeans__n_clusters=56; total time=   2.6s\n"
          ]
        },
        {
          "output_type": "stream",
          "name": "stderr",
          "text": [
            "/usr/local/lib/python3.7/dist-packages/sklearn/linear_model/_logistic.py:818: ConvergenceWarning: lbfgs failed to converge (status=1):\n",
            "STOP: TOTAL NO. of ITERATIONS REACHED LIMIT.\n",
            "\n",
            "Increase the number of iterations (max_iter) or scale the data as shown in:\n",
            "    https://scikit-learn.org/stable/modules/preprocessing.html\n",
            "Please also refer to the documentation for alternative solver options:\n",
            "    https://scikit-learn.org/stable/modules/linear_model.html#logistic-regression\n",
            "  extra_warning_msg=_LOGISTIC_SOLVER_CONVERGENCE_MSG,\n"
          ]
        },
        {
          "output_type": "stream",
          "name": "stdout",
          "text": [
            "[CV] END ..............................kmeans__n_clusters=56; total time=   2.1s\n"
          ]
        },
        {
          "output_type": "stream",
          "name": "stderr",
          "text": [
            "/usr/local/lib/python3.7/dist-packages/sklearn/linear_model/_logistic.py:818: ConvergenceWarning: lbfgs failed to converge (status=1):\n",
            "STOP: TOTAL NO. of ITERATIONS REACHED LIMIT.\n",
            "\n",
            "Increase the number of iterations (max_iter) or scale the data as shown in:\n",
            "    https://scikit-learn.org/stable/modules/preprocessing.html\n",
            "Please also refer to the documentation for alternative solver options:\n",
            "    https://scikit-learn.org/stable/modules/linear_model.html#logistic-regression\n",
            "  extra_warning_msg=_LOGISTIC_SOLVER_CONVERGENCE_MSG,\n"
          ]
        },
        {
          "output_type": "stream",
          "name": "stdout",
          "text": [
            "[CV] END ..............................kmeans__n_clusters=56; total time=   2.2s\n"
          ]
        },
        {
          "output_type": "stream",
          "name": "stderr",
          "text": [
            "/usr/local/lib/python3.7/dist-packages/sklearn/linear_model/_logistic.py:818: ConvergenceWarning: lbfgs failed to converge (status=1):\n",
            "STOP: TOTAL NO. of ITERATIONS REACHED LIMIT.\n",
            "\n",
            "Increase the number of iterations (max_iter) or scale the data as shown in:\n",
            "    https://scikit-learn.org/stable/modules/preprocessing.html\n",
            "Please also refer to the documentation for alternative solver options:\n",
            "    https://scikit-learn.org/stable/modules/linear_model.html#logistic-regression\n",
            "  extra_warning_msg=_LOGISTIC_SOLVER_CONVERGENCE_MSG,\n"
          ]
        },
        {
          "output_type": "stream",
          "name": "stdout",
          "text": [
            "[CV] END ..............................kmeans__n_clusters=57; total time=   2.2s\n"
          ]
        },
        {
          "output_type": "stream",
          "name": "stderr",
          "text": [
            "/usr/local/lib/python3.7/dist-packages/sklearn/linear_model/_logistic.py:818: ConvergenceWarning: lbfgs failed to converge (status=1):\n",
            "STOP: TOTAL NO. of ITERATIONS REACHED LIMIT.\n",
            "\n",
            "Increase the number of iterations (max_iter) or scale the data as shown in:\n",
            "    https://scikit-learn.org/stable/modules/preprocessing.html\n",
            "Please also refer to the documentation for alternative solver options:\n",
            "    https://scikit-learn.org/stable/modules/linear_model.html#logistic-regression\n",
            "  extra_warning_msg=_LOGISTIC_SOLVER_CONVERGENCE_MSG,\n"
          ]
        },
        {
          "output_type": "stream",
          "name": "stdout",
          "text": [
            "[CV] END ..............................kmeans__n_clusters=57; total time=   3.1s\n"
          ]
        },
        {
          "output_type": "stream",
          "name": "stderr",
          "text": [
            "/usr/local/lib/python3.7/dist-packages/sklearn/linear_model/_logistic.py:818: ConvergenceWarning: lbfgs failed to converge (status=1):\n",
            "STOP: TOTAL NO. of ITERATIONS REACHED LIMIT.\n",
            "\n",
            "Increase the number of iterations (max_iter) or scale the data as shown in:\n",
            "    https://scikit-learn.org/stable/modules/preprocessing.html\n",
            "Please also refer to the documentation for alternative solver options:\n",
            "    https://scikit-learn.org/stable/modules/linear_model.html#logistic-regression\n",
            "  extra_warning_msg=_LOGISTIC_SOLVER_CONVERGENCE_MSG,\n"
          ]
        },
        {
          "output_type": "stream",
          "name": "stdout",
          "text": [
            "[CV] END ..............................kmeans__n_clusters=57; total time=   2.0s\n"
          ]
        },
        {
          "output_type": "stream",
          "name": "stderr",
          "text": [
            "/usr/local/lib/python3.7/dist-packages/sklearn/linear_model/_logistic.py:818: ConvergenceWarning: lbfgs failed to converge (status=1):\n",
            "STOP: TOTAL NO. of ITERATIONS REACHED LIMIT.\n",
            "\n",
            "Increase the number of iterations (max_iter) or scale the data as shown in:\n",
            "    https://scikit-learn.org/stable/modules/preprocessing.html\n",
            "Please also refer to the documentation for alternative solver options:\n",
            "    https://scikit-learn.org/stable/modules/linear_model.html#logistic-regression\n",
            "  extra_warning_msg=_LOGISTIC_SOLVER_CONVERGENCE_MSG,\n"
          ]
        },
        {
          "output_type": "stream",
          "name": "stdout",
          "text": [
            "[CV] END ..............................kmeans__n_clusters=58; total time=   2.3s\n"
          ]
        },
        {
          "output_type": "stream",
          "name": "stderr",
          "text": [
            "/usr/local/lib/python3.7/dist-packages/sklearn/linear_model/_logistic.py:818: ConvergenceWarning: lbfgs failed to converge (status=1):\n",
            "STOP: TOTAL NO. of ITERATIONS REACHED LIMIT.\n",
            "\n",
            "Increase the number of iterations (max_iter) or scale the data as shown in:\n",
            "    https://scikit-learn.org/stable/modules/preprocessing.html\n",
            "Please also refer to the documentation for alternative solver options:\n",
            "    https://scikit-learn.org/stable/modules/linear_model.html#logistic-regression\n",
            "  extra_warning_msg=_LOGISTIC_SOLVER_CONVERGENCE_MSG,\n"
          ]
        },
        {
          "output_type": "stream",
          "name": "stdout",
          "text": [
            "[CV] END ..............................kmeans__n_clusters=58; total time=   2.2s\n"
          ]
        },
        {
          "output_type": "stream",
          "name": "stderr",
          "text": [
            "/usr/local/lib/python3.7/dist-packages/sklearn/linear_model/_logistic.py:818: ConvergenceWarning: lbfgs failed to converge (status=1):\n",
            "STOP: TOTAL NO. of ITERATIONS REACHED LIMIT.\n",
            "\n",
            "Increase the number of iterations (max_iter) or scale the data as shown in:\n",
            "    https://scikit-learn.org/stable/modules/preprocessing.html\n",
            "Please also refer to the documentation for alternative solver options:\n",
            "    https://scikit-learn.org/stable/modules/linear_model.html#logistic-regression\n",
            "  extra_warning_msg=_LOGISTIC_SOLVER_CONVERGENCE_MSG,\n"
          ]
        },
        {
          "output_type": "stream",
          "name": "stdout",
          "text": [
            "[CV] END ..............................kmeans__n_clusters=58; total time=   2.0s\n"
          ]
        },
        {
          "output_type": "stream",
          "name": "stderr",
          "text": [
            "/usr/local/lib/python3.7/dist-packages/sklearn/linear_model/_logistic.py:818: ConvergenceWarning: lbfgs failed to converge (status=1):\n",
            "STOP: TOTAL NO. of ITERATIONS REACHED LIMIT.\n",
            "\n",
            "Increase the number of iterations (max_iter) or scale the data as shown in:\n",
            "    https://scikit-learn.org/stable/modules/preprocessing.html\n",
            "Please also refer to the documentation for alternative solver options:\n",
            "    https://scikit-learn.org/stable/modules/linear_model.html#logistic-regression\n",
            "  extra_warning_msg=_LOGISTIC_SOLVER_CONVERGENCE_MSG,\n"
          ]
        },
        {
          "output_type": "stream",
          "name": "stdout",
          "text": [
            "[CV] END ..............................kmeans__n_clusters=59; total time=   2.3s\n"
          ]
        },
        {
          "output_type": "stream",
          "name": "stderr",
          "text": [
            "/usr/local/lib/python3.7/dist-packages/sklearn/linear_model/_logistic.py:818: ConvergenceWarning: lbfgs failed to converge (status=1):\n",
            "STOP: TOTAL NO. of ITERATIONS REACHED LIMIT.\n",
            "\n",
            "Increase the number of iterations (max_iter) or scale the data as shown in:\n",
            "    https://scikit-learn.org/stable/modules/preprocessing.html\n",
            "Please also refer to the documentation for alternative solver options:\n",
            "    https://scikit-learn.org/stable/modules/linear_model.html#logistic-regression\n",
            "  extra_warning_msg=_LOGISTIC_SOLVER_CONVERGENCE_MSG,\n"
          ]
        },
        {
          "output_type": "stream",
          "name": "stdout",
          "text": [
            "[CV] END ..............................kmeans__n_clusters=59; total time=   1.9s\n"
          ]
        },
        {
          "output_type": "stream",
          "name": "stderr",
          "text": [
            "/usr/local/lib/python3.7/dist-packages/sklearn/linear_model/_logistic.py:818: ConvergenceWarning: lbfgs failed to converge (status=1):\n",
            "STOP: TOTAL NO. of ITERATIONS REACHED LIMIT.\n",
            "\n",
            "Increase the number of iterations (max_iter) or scale the data as shown in:\n",
            "    https://scikit-learn.org/stable/modules/preprocessing.html\n",
            "Please also refer to the documentation for alternative solver options:\n",
            "    https://scikit-learn.org/stable/modules/linear_model.html#logistic-regression\n",
            "  extra_warning_msg=_LOGISTIC_SOLVER_CONVERGENCE_MSG,\n"
          ]
        },
        {
          "output_type": "stream",
          "name": "stdout",
          "text": [
            "[CV] END ..............................kmeans__n_clusters=59; total time=   2.0s\n"
          ]
        },
        {
          "output_type": "stream",
          "name": "stderr",
          "text": [
            "/usr/local/lib/python3.7/dist-packages/sklearn/linear_model/_logistic.py:818: ConvergenceWarning: lbfgs failed to converge (status=1):\n",
            "STOP: TOTAL NO. of ITERATIONS REACHED LIMIT.\n",
            "\n",
            "Increase the number of iterations (max_iter) or scale the data as shown in:\n",
            "    https://scikit-learn.org/stable/modules/preprocessing.html\n",
            "Please also refer to the documentation for alternative solver options:\n",
            "    https://scikit-learn.org/stable/modules/linear_model.html#logistic-regression\n",
            "  extra_warning_msg=_LOGISTIC_SOLVER_CONVERGENCE_MSG,\n"
          ]
        },
        {
          "output_type": "stream",
          "name": "stdout",
          "text": [
            "[CV] END ..............................kmeans__n_clusters=60; total time=   2.0s\n"
          ]
        },
        {
          "output_type": "stream",
          "name": "stderr",
          "text": [
            "/usr/local/lib/python3.7/dist-packages/sklearn/linear_model/_logistic.py:818: ConvergenceWarning: lbfgs failed to converge (status=1):\n",
            "STOP: TOTAL NO. of ITERATIONS REACHED LIMIT.\n",
            "\n",
            "Increase the number of iterations (max_iter) or scale the data as shown in:\n",
            "    https://scikit-learn.org/stable/modules/preprocessing.html\n",
            "Please also refer to the documentation for alternative solver options:\n",
            "    https://scikit-learn.org/stable/modules/linear_model.html#logistic-regression\n",
            "  extra_warning_msg=_LOGISTIC_SOLVER_CONVERGENCE_MSG,\n"
          ]
        },
        {
          "output_type": "stream",
          "name": "stdout",
          "text": [
            "[CV] END ..............................kmeans__n_clusters=60; total time=   2.0s\n"
          ]
        },
        {
          "output_type": "stream",
          "name": "stderr",
          "text": [
            "/usr/local/lib/python3.7/dist-packages/sklearn/linear_model/_logistic.py:818: ConvergenceWarning: lbfgs failed to converge (status=1):\n",
            "STOP: TOTAL NO. of ITERATIONS REACHED LIMIT.\n",
            "\n",
            "Increase the number of iterations (max_iter) or scale the data as shown in:\n",
            "    https://scikit-learn.org/stable/modules/preprocessing.html\n",
            "Please also refer to the documentation for alternative solver options:\n",
            "    https://scikit-learn.org/stable/modules/linear_model.html#logistic-regression\n",
            "  extra_warning_msg=_LOGISTIC_SOLVER_CONVERGENCE_MSG,\n"
          ]
        },
        {
          "output_type": "stream",
          "name": "stdout",
          "text": [
            "[CV] END ..............................kmeans__n_clusters=60; total time=   2.1s\n"
          ]
        },
        {
          "output_type": "stream",
          "name": "stderr",
          "text": [
            "/usr/local/lib/python3.7/dist-packages/sklearn/linear_model/_logistic.py:818: ConvergenceWarning: lbfgs failed to converge (status=1):\n",
            "STOP: TOTAL NO. of ITERATIONS REACHED LIMIT.\n",
            "\n",
            "Increase the number of iterations (max_iter) or scale the data as shown in:\n",
            "    https://scikit-learn.org/stable/modules/preprocessing.html\n",
            "Please also refer to the documentation for alternative solver options:\n",
            "    https://scikit-learn.org/stable/modules/linear_model.html#logistic-regression\n",
            "  extra_warning_msg=_LOGISTIC_SOLVER_CONVERGENCE_MSG,\n"
          ]
        },
        {
          "output_type": "stream",
          "name": "stdout",
          "text": [
            "[CV] END ..............................kmeans__n_clusters=61; total time=   1.9s\n"
          ]
        },
        {
          "output_type": "stream",
          "name": "stderr",
          "text": [
            "/usr/local/lib/python3.7/dist-packages/sklearn/linear_model/_logistic.py:818: ConvergenceWarning: lbfgs failed to converge (status=1):\n",
            "STOP: TOTAL NO. of ITERATIONS REACHED LIMIT.\n",
            "\n",
            "Increase the number of iterations (max_iter) or scale the data as shown in:\n",
            "    https://scikit-learn.org/stable/modules/preprocessing.html\n",
            "Please also refer to the documentation for alternative solver options:\n",
            "    https://scikit-learn.org/stable/modules/linear_model.html#logistic-regression\n",
            "  extra_warning_msg=_LOGISTIC_SOLVER_CONVERGENCE_MSG,\n"
          ]
        },
        {
          "output_type": "stream",
          "name": "stdout",
          "text": [
            "[CV] END ..............................kmeans__n_clusters=61; total time=   2.2s\n"
          ]
        },
        {
          "output_type": "stream",
          "name": "stderr",
          "text": [
            "/usr/local/lib/python3.7/dist-packages/sklearn/linear_model/_logistic.py:818: ConvergenceWarning: lbfgs failed to converge (status=1):\n",
            "STOP: TOTAL NO. of ITERATIONS REACHED LIMIT.\n",
            "\n",
            "Increase the number of iterations (max_iter) or scale the data as shown in:\n",
            "    https://scikit-learn.org/stable/modules/preprocessing.html\n",
            "Please also refer to the documentation for alternative solver options:\n",
            "    https://scikit-learn.org/stable/modules/linear_model.html#logistic-regression\n",
            "  extra_warning_msg=_LOGISTIC_SOLVER_CONVERGENCE_MSG,\n"
          ]
        },
        {
          "output_type": "stream",
          "name": "stdout",
          "text": [
            "[CV] END ..............................kmeans__n_clusters=61; total time=   2.2s\n"
          ]
        },
        {
          "output_type": "stream",
          "name": "stderr",
          "text": [
            "/usr/local/lib/python3.7/dist-packages/sklearn/linear_model/_logistic.py:818: ConvergenceWarning: lbfgs failed to converge (status=1):\n",
            "STOP: TOTAL NO. of ITERATIONS REACHED LIMIT.\n",
            "\n",
            "Increase the number of iterations (max_iter) or scale the data as shown in:\n",
            "    https://scikit-learn.org/stable/modules/preprocessing.html\n",
            "Please also refer to the documentation for alternative solver options:\n",
            "    https://scikit-learn.org/stable/modules/linear_model.html#logistic-regression\n",
            "  extra_warning_msg=_LOGISTIC_SOLVER_CONVERGENCE_MSG,\n"
          ]
        },
        {
          "output_type": "stream",
          "name": "stdout",
          "text": [
            "[CV] END ..............................kmeans__n_clusters=62; total time=   2.7s\n"
          ]
        },
        {
          "output_type": "stream",
          "name": "stderr",
          "text": [
            "/usr/local/lib/python3.7/dist-packages/sklearn/linear_model/_logistic.py:818: ConvergenceWarning: lbfgs failed to converge (status=1):\n",
            "STOP: TOTAL NO. of ITERATIONS REACHED LIMIT.\n",
            "\n",
            "Increase the number of iterations (max_iter) or scale the data as shown in:\n",
            "    https://scikit-learn.org/stable/modules/preprocessing.html\n",
            "Please also refer to the documentation for alternative solver options:\n",
            "    https://scikit-learn.org/stable/modules/linear_model.html#logistic-regression\n",
            "  extra_warning_msg=_LOGISTIC_SOLVER_CONVERGENCE_MSG,\n"
          ]
        },
        {
          "output_type": "stream",
          "name": "stdout",
          "text": [
            "[CV] END ..............................kmeans__n_clusters=62; total time=   2.2s\n"
          ]
        },
        {
          "output_type": "stream",
          "name": "stderr",
          "text": [
            "/usr/local/lib/python3.7/dist-packages/sklearn/linear_model/_logistic.py:818: ConvergenceWarning: lbfgs failed to converge (status=1):\n",
            "STOP: TOTAL NO. of ITERATIONS REACHED LIMIT.\n",
            "\n",
            "Increase the number of iterations (max_iter) or scale the data as shown in:\n",
            "    https://scikit-learn.org/stable/modules/preprocessing.html\n",
            "Please also refer to the documentation for alternative solver options:\n",
            "    https://scikit-learn.org/stable/modules/linear_model.html#logistic-regression\n",
            "  extra_warning_msg=_LOGISTIC_SOLVER_CONVERGENCE_MSG,\n"
          ]
        },
        {
          "output_type": "stream",
          "name": "stdout",
          "text": [
            "[CV] END ..............................kmeans__n_clusters=62; total time=   3.5s\n"
          ]
        },
        {
          "output_type": "stream",
          "name": "stderr",
          "text": [
            "/usr/local/lib/python3.7/dist-packages/sklearn/linear_model/_logistic.py:818: ConvergenceWarning: lbfgs failed to converge (status=1):\n",
            "STOP: TOTAL NO. of ITERATIONS REACHED LIMIT.\n",
            "\n",
            "Increase the number of iterations (max_iter) or scale the data as shown in:\n",
            "    https://scikit-learn.org/stable/modules/preprocessing.html\n",
            "Please also refer to the documentation for alternative solver options:\n",
            "    https://scikit-learn.org/stable/modules/linear_model.html#logistic-regression\n",
            "  extra_warning_msg=_LOGISTIC_SOLVER_CONVERGENCE_MSG,\n"
          ]
        },
        {
          "output_type": "stream",
          "name": "stdout",
          "text": [
            "[CV] END ..............................kmeans__n_clusters=63; total time=   2.5s\n"
          ]
        },
        {
          "output_type": "stream",
          "name": "stderr",
          "text": [
            "/usr/local/lib/python3.7/dist-packages/sklearn/linear_model/_logistic.py:818: ConvergenceWarning: lbfgs failed to converge (status=1):\n",
            "STOP: TOTAL NO. of ITERATIONS REACHED LIMIT.\n",
            "\n",
            "Increase the number of iterations (max_iter) or scale the data as shown in:\n",
            "    https://scikit-learn.org/stable/modules/preprocessing.html\n",
            "Please also refer to the documentation for alternative solver options:\n",
            "    https://scikit-learn.org/stable/modules/linear_model.html#logistic-regression\n",
            "  extra_warning_msg=_LOGISTIC_SOLVER_CONVERGENCE_MSG,\n"
          ]
        },
        {
          "output_type": "stream",
          "name": "stdout",
          "text": [
            "[CV] END ..............................kmeans__n_clusters=63; total time=   2.2s\n"
          ]
        },
        {
          "output_type": "stream",
          "name": "stderr",
          "text": [
            "/usr/local/lib/python3.7/dist-packages/sklearn/linear_model/_logistic.py:818: ConvergenceWarning: lbfgs failed to converge (status=1):\n",
            "STOP: TOTAL NO. of ITERATIONS REACHED LIMIT.\n",
            "\n",
            "Increase the number of iterations (max_iter) or scale the data as shown in:\n",
            "    https://scikit-learn.org/stable/modules/preprocessing.html\n",
            "Please also refer to the documentation for alternative solver options:\n",
            "    https://scikit-learn.org/stable/modules/linear_model.html#logistic-regression\n",
            "  extra_warning_msg=_LOGISTIC_SOLVER_CONVERGENCE_MSG,\n"
          ]
        },
        {
          "output_type": "stream",
          "name": "stdout",
          "text": [
            "[CV] END ..............................kmeans__n_clusters=63; total time=   2.3s\n"
          ]
        },
        {
          "output_type": "stream",
          "name": "stderr",
          "text": [
            "/usr/local/lib/python3.7/dist-packages/sklearn/linear_model/_logistic.py:818: ConvergenceWarning: lbfgs failed to converge (status=1):\n",
            "STOP: TOTAL NO. of ITERATIONS REACHED LIMIT.\n",
            "\n",
            "Increase the number of iterations (max_iter) or scale the data as shown in:\n",
            "    https://scikit-learn.org/stable/modules/preprocessing.html\n",
            "Please also refer to the documentation for alternative solver options:\n",
            "    https://scikit-learn.org/stable/modules/linear_model.html#logistic-regression\n",
            "  extra_warning_msg=_LOGISTIC_SOLVER_CONVERGENCE_MSG,\n"
          ]
        },
        {
          "output_type": "stream",
          "name": "stdout",
          "text": [
            "[CV] END ..............................kmeans__n_clusters=64; total time=   1.9s\n"
          ]
        },
        {
          "output_type": "stream",
          "name": "stderr",
          "text": [
            "/usr/local/lib/python3.7/dist-packages/sklearn/linear_model/_logistic.py:818: ConvergenceWarning: lbfgs failed to converge (status=1):\n",
            "STOP: TOTAL NO. of ITERATIONS REACHED LIMIT.\n",
            "\n",
            "Increase the number of iterations (max_iter) or scale the data as shown in:\n",
            "    https://scikit-learn.org/stable/modules/preprocessing.html\n",
            "Please also refer to the documentation for alternative solver options:\n",
            "    https://scikit-learn.org/stable/modules/linear_model.html#logistic-regression\n",
            "  extra_warning_msg=_LOGISTIC_SOLVER_CONVERGENCE_MSG,\n"
          ]
        },
        {
          "output_type": "stream",
          "name": "stdout",
          "text": [
            "[CV] END ..............................kmeans__n_clusters=64; total time=   2.1s\n"
          ]
        },
        {
          "output_type": "stream",
          "name": "stderr",
          "text": [
            "/usr/local/lib/python3.7/dist-packages/sklearn/linear_model/_logistic.py:818: ConvergenceWarning: lbfgs failed to converge (status=1):\n",
            "STOP: TOTAL NO. of ITERATIONS REACHED LIMIT.\n",
            "\n",
            "Increase the number of iterations (max_iter) or scale the data as shown in:\n",
            "    https://scikit-learn.org/stable/modules/preprocessing.html\n",
            "Please also refer to the documentation for alternative solver options:\n",
            "    https://scikit-learn.org/stable/modules/linear_model.html#logistic-regression\n",
            "  extra_warning_msg=_LOGISTIC_SOLVER_CONVERGENCE_MSG,\n"
          ]
        },
        {
          "output_type": "stream",
          "name": "stdout",
          "text": [
            "[CV] END ..............................kmeans__n_clusters=64; total time=   2.1s\n"
          ]
        },
        {
          "output_type": "stream",
          "name": "stderr",
          "text": [
            "/usr/local/lib/python3.7/dist-packages/sklearn/linear_model/_logistic.py:818: ConvergenceWarning: lbfgs failed to converge (status=1):\n",
            "STOP: TOTAL NO. of ITERATIONS REACHED LIMIT.\n",
            "\n",
            "Increase the number of iterations (max_iter) or scale the data as shown in:\n",
            "    https://scikit-learn.org/stable/modules/preprocessing.html\n",
            "Please also refer to the documentation for alternative solver options:\n",
            "    https://scikit-learn.org/stable/modules/linear_model.html#logistic-regression\n",
            "  extra_warning_msg=_LOGISTIC_SOLVER_CONVERGENCE_MSG,\n"
          ]
        },
        {
          "output_type": "stream",
          "name": "stdout",
          "text": [
            "[CV] END ..............................kmeans__n_clusters=65; total time=   2.4s\n"
          ]
        },
        {
          "output_type": "stream",
          "name": "stderr",
          "text": [
            "/usr/local/lib/python3.7/dist-packages/sklearn/linear_model/_logistic.py:818: ConvergenceWarning: lbfgs failed to converge (status=1):\n",
            "STOP: TOTAL NO. of ITERATIONS REACHED LIMIT.\n",
            "\n",
            "Increase the number of iterations (max_iter) or scale the data as shown in:\n",
            "    https://scikit-learn.org/stable/modules/preprocessing.html\n",
            "Please also refer to the documentation for alternative solver options:\n",
            "    https://scikit-learn.org/stable/modules/linear_model.html#logistic-regression\n",
            "  extra_warning_msg=_LOGISTIC_SOLVER_CONVERGENCE_MSG,\n"
          ]
        },
        {
          "output_type": "stream",
          "name": "stdout",
          "text": [
            "[CV] END ..............................kmeans__n_clusters=65; total time=   2.4s\n"
          ]
        },
        {
          "output_type": "stream",
          "name": "stderr",
          "text": [
            "/usr/local/lib/python3.7/dist-packages/sklearn/linear_model/_logistic.py:818: ConvergenceWarning: lbfgs failed to converge (status=1):\n",
            "STOP: TOTAL NO. of ITERATIONS REACHED LIMIT.\n",
            "\n",
            "Increase the number of iterations (max_iter) or scale the data as shown in:\n",
            "    https://scikit-learn.org/stable/modules/preprocessing.html\n",
            "Please also refer to the documentation for alternative solver options:\n",
            "    https://scikit-learn.org/stable/modules/linear_model.html#logistic-regression\n",
            "  extra_warning_msg=_LOGISTIC_SOLVER_CONVERGENCE_MSG,\n"
          ]
        },
        {
          "output_type": "stream",
          "name": "stdout",
          "text": [
            "[CV] END ..............................kmeans__n_clusters=65; total time=   2.8s\n"
          ]
        },
        {
          "output_type": "stream",
          "name": "stderr",
          "text": [
            "/usr/local/lib/python3.7/dist-packages/sklearn/linear_model/_logistic.py:818: ConvergenceWarning: lbfgs failed to converge (status=1):\n",
            "STOP: TOTAL NO. of ITERATIONS REACHED LIMIT.\n",
            "\n",
            "Increase the number of iterations (max_iter) or scale the data as shown in:\n",
            "    https://scikit-learn.org/stable/modules/preprocessing.html\n",
            "Please also refer to the documentation for alternative solver options:\n",
            "    https://scikit-learn.org/stable/modules/linear_model.html#logistic-regression\n",
            "  extra_warning_msg=_LOGISTIC_SOLVER_CONVERGENCE_MSG,\n"
          ]
        },
        {
          "output_type": "stream",
          "name": "stdout",
          "text": [
            "[CV] END ..............................kmeans__n_clusters=66; total time=   2.0s\n"
          ]
        },
        {
          "output_type": "stream",
          "name": "stderr",
          "text": [
            "/usr/local/lib/python3.7/dist-packages/sklearn/linear_model/_logistic.py:818: ConvergenceWarning: lbfgs failed to converge (status=1):\n",
            "STOP: TOTAL NO. of ITERATIONS REACHED LIMIT.\n",
            "\n",
            "Increase the number of iterations (max_iter) or scale the data as shown in:\n",
            "    https://scikit-learn.org/stable/modules/preprocessing.html\n",
            "Please also refer to the documentation for alternative solver options:\n",
            "    https://scikit-learn.org/stable/modules/linear_model.html#logistic-regression\n",
            "  extra_warning_msg=_LOGISTIC_SOLVER_CONVERGENCE_MSG,\n"
          ]
        },
        {
          "output_type": "stream",
          "name": "stdout",
          "text": [
            "[CV] END ..............................kmeans__n_clusters=66; total time=   3.0s\n"
          ]
        },
        {
          "output_type": "stream",
          "name": "stderr",
          "text": [
            "/usr/local/lib/python3.7/dist-packages/sklearn/linear_model/_logistic.py:818: ConvergenceWarning: lbfgs failed to converge (status=1):\n",
            "STOP: TOTAL NO. of ITERATIONS REACHED LIMIT.\n",
            "\n",
            "Increase the number of iterations (max_iter) or scale the data as shown in:\n",
            "    https://scikit-learn.org/stable/modules/preprocessing.html\n",
            "Please also refer to the documentation for alternative solver options:\n",
            "    https://scikit-learn.org/stable/modules/linear_model.html#logistic-regression\n",
            "  extra_warning_msg=_LOGISTIC_SOLVER_CONVERGENCE_MSG,\n"
          ]
        },
        {
          "output_type": "stream",
          "name": "stdout",
          "text": [
            "[CV] END ..............................kmeans__n_clusters=66; total time=   2.2s\n"
          ]
        },
        {
          "output_type": "stream",
          "name": "stderr",
          "text": [
            "/usr/local/lib/python3.7/dist-packages/sklearn/linear_model/_logistic.py:818: ConvergenceWarning: lbfgs failed to converge (status=1):\n",
            "STOP: TOTAL NO. of ITERATIONS REACHED LIMIT.\n",
            "\n",
            "Increase the number of iterations (max_iter) or scale the data as shown in:\n",
            "    https://scikit-learn.org/stable/modules/preprocessing.html\n",
            "Please also refer to the documentation for alternative solver options:\n",
            "    https://scikit-learn.org/stable/modules/linear_model.html#logistic-regression\n",
            "  extra_warning_msg=_LOGISTIC_SOLVER_CONVERGENCE_MSG,\n"
          ]
        },
        {
          "output_type": "stream",
          "name": "stdout",
          "text": [
            "[CV] END ..............................kmeans__n_clusters=67; total time=   2.4s\n"
          ]
        },
        {
          "output_type": "stream",
          "name": "stderr",
          "text": [
            "/usr/local/lib/python3.7/dist-packages/sklearn/linear_model/_logistic.py:818: ConvergenceWarning: lbfgs failed to converge (status=1):\n",
            "STOP: TOTAL NO. of ITERATIONS REACHED LIMIT.\n",
            "\n",
            "Increase the number of iterations (max_iter) or scale the data as shown in:\n",
            "    https://scikit-learn.org/stable/modules/preprocessing.html\n",
            "Please also refer to the documentation for alternative solver options:\n",
            "    https://scikit-learn.org/stable/modules/linear_model.html#logistic-regression\n",
            "  extra_warning_msg=_LOGISTIC_SOLVER_CONVERGENCE_MSG,\n"
          ]
        },
        {
          "output_type": "stream",
          "name": "stdout",
          "text": [
            "[CV] END ..............................kmeans__n_clusters=67; total time=   2.7s\n"
          ]
        },
        {
          "output_type": "stream",
          "name": "stderr",
          "text": [
            "/usr/local/lib/python3.7/dist-packages/sklearn/linear_model/_logistic.py:818: ConvergenceWarning: lbfgs failed to converge (status=1):\n",
            "STOP: TOTAL NO. of ITERATIONS REACHED LIMIT.\n",
            "\n",
            "Increase the number of iterations (max_iter) or scale the data as shown in:\n",
            "    https://scikit-learn.org/stable/modules/preprocessing.html\n",
            "Please also refer to the documentation for alternative solver options:\n",
            "    https://scikit-learn.org/stable/modules/linear_model.html#logistic-regression\n",
            "  extra_warning_msg=_LOGISTIC_SOLVER_CONVERGENCE_MSG,\n"
          ]
        },
        {
          "output_type": "stream",
          "name": "stdout",
          "text": [
            "[CV] END ..............................kmeans__n_clusters=67; total time=   2.8s\n"
          ]
        },
        {
          "output_type": "stream",
          "name": "stderr",
          "text": [
            "/usr/local/lib/python3.7/dist-packages/sklearn/linear_model/_logistic.py:818: ConvergenceWarning: lbfgs failed to converge (status=1):\n",
            "STOP: TOTAL NO. of ITERATIONS REACHED LIMIT.\n",
            "\n",
            "Increase the number of iterations (max_iter) or scale the data as shown in:\n",
            "    https://scikit-learn.org/stable/modules/preprocessing.html\n",
            "Please also refer to the documentation for alternative solver options:\n",
            "    https://scikit-learn.org/stable/modules/linear_model.html#logistic-regression\n",
            "  extra_warning_msg=_LOGISTIC_SOLVER_CONVERGENCE_MSG,\n"
          ]
        },
        {
          "output_type": "stream",
          "name": "stdout",
          "text": [
            "[CV] END ..............................kmeans__n_clusters=68; total time=   2.6s\n"
          ]
        },
        {
          "output_type": "stream",
          "name": "stderr",
          "text": [
            "/usr/local/lib/python3.7/dist-packages/sklearn/linear_model/_logistic.py:818: ConvergenceWarning: lbfgs failed to converge (status=1):\n",
            "STOP: TOTAL NO. of ITERATIONS REACHED LIMIT.\n",
            "\n",
            "Increase the number of iterations (max_iter) or scale the data as shown in:\n",
            "    https://scikit-learn.org/stable/modules/preprocessing.html\n",
            "Please also refer to the documentation for alternative solver options:\n",
            "    https://scikit-learn.org/stable/modules/linear_model.html#logistic-regression\n",
            "  extra_warning_msg=_LOGISTIC_SOLVER_CONVERGENCE_MSG,\n"
          ]
        },
        {
          "output_type": "stream",
          "name": "stdout",
          "text": [
            "[CV] END ..............................kmeans__n_clusters=68; total time=   2.2s\n"
          ]
        },
        {
          "output_type": "stream",
          "name": "stderr",
          "text": [
            "/usr/local/lib/python3.7/dist-packages/sklearn/linear_model/_logistic.py:818: ConvergenceWarning: lbfgs failed to converge (status=1):\n",
            "STOP: TOTAL NO. of ITERATIONS REACHED LIMIT.\n",
            "\n",
            "Increase the number of iterations (max_iter) or scale the data as shown in:\n",
            "    https://scikit-learn.org/stable/modules/preprocessing.html\n",
            "Please also refer to the documentation for alternative solver options:\n",
            "    https://scikit-learn.org/stable/modules/linear_model.html#logistic-regression\n",
            "  extra_warning_msg=_LOGISTIC_SOLVER_CONVERGENCE_MSG,\n"
          ]
        },
        {
          "output_type": "stream",
          "name": "stdout",
          "text": [
            "[CV] END ..............................kmeans__n_clusters=68; total time=   2.2s\n"
          ]
        },
        {
          "output_type": "stream",
          "name": "stderr",
          "text": [
            "/usr/local/lib/python3.7/dist-packages/sklearn/linear_model/_logistic.py:818: ConvergenceWarning: lbfgs failed to converge (status=1):\n",
            "STOP: TOTAL NO. of ITERATIONS REACHED LIMIT.\n",
            "\n",
            "Increase the number of iterations (max_iter) or scale the data as shown in:\n",
            "    https://scikit-learn.org/stable/modules/preprocessing.html\n",
            "Please also refer to the documentation for alternative solver options:\n",
            "    https://scikit-learn.org/stable/modules/linear_model.html#logistic-regression\n",
            "  extra_warning_msg=_LOGISTIC_SOLVER_CONVERGENCE_MSG,\n"
          ]
        },
        {
          "output_type": "stream",
          "name": "stdout",
          "text": [
            "[CV] END ..............................kmeans__n_clusters=69; total time=   2.1s\n"
          ]
        },
        {
          "output_type": "stream",
          "name": "stderr",
          "text": [
            "/usr/local/lib/python3.7/dist-packages/sklearn/linear_model/_logistic.py:818: ConvergenceWarning: lbfgs failed to converge (status=1):\n",
            "STOP: TOTAL NO. of ITERATIONS REACHED LIMIT.\n",
            "\n",
            "Increase the number of iterations (max_iter) or scale the data as shown in:\n",
            "    https://scikit-learn.org/stable/modules/preprocessing.html\n",
            "Please also refer to the documentation for alternative solver options:\n",
            "    https://scikit-learn.org/stable/modules/linear_model.html#logistic-regression\n",
            "  extra_warning_msg=_LOGISTIC_SOLVER_CONVERGENCE_MSG,\n"
          ]
        },
        {
          "output_type": "stream",
          "name": "stdout",
          "text": [
            "[CV] END ..............................kmeans__n_clusters=69; total time=   2.0s\n"
          ]
        },
        {
          "output_type": "stream",
          "name": "stderr",
          "text": [
            "/usr/local/lib/python3.7/dist-packages/sklearn/linear_model/_logistic.py:818: ConvergenceWarning: lbfgs failed to converge (status=1):\n",
            "STOP: TOTAL NO. of ITERATIONS REACHED LIMIT.\n",
            "\n",
            "Increase the number of iterations (max_iter) or scale the data as shown in:\n",
            "    https://scikit-learn.org/stable/modules/preprocessing.html\n",
            "Please also refer to the documentation for alternative solver options:\n",
            "    https://scikit-learn.org/stable/modules/linear_model.html#logistic-regression\n",
            "  extra_warning_msg=_LOGISTIC_SOLVER_CONVERGENCE_MSG,\n"
          ]
        },
        {
          "output_type": "stream",
          "name": "stdout",
          "text": [
            "[CV] END ..............................kmeans__n_clusters=69; total time=   3.0s\n"
          ]
        },
        {
          "output_type": "stream",
          "name": "stderr",
          "text": [
            "/usr/local/lib/python3.7/dist-packages/sklearn/linear_model/_logistic.py:818: ConvergenceWarning: lbfgs failed to converge (status=1):\n",
            "STOP: TOTAL NO. of ITERATIONS REACHED LIMIT.\n",
            "\n",
            "Increase the number of iterations (max_iter) or scale the data as shown in:\n",
            "    https://scikit-learn.org/stable/modules/preprocessing.html\n",
            "Please also refer to the documentation for alternative solver options:\n",
            "    https://scikit-learn.org/stable/modules/linear_model.html#logistic-regression\n",
            "  extra_warning_msg=_LOGISTIC_SOLVER_CONVERGENCE_MSG,\n"
          ]
        },
        {
          "output_type": "stream",
          "name": "stdout",
          "text": [
            "[CV] END ..............................kmeans__n_clusters=70; total time=   2.5s\n"
          ]
        },
        {
          "output_type": "stream",
          "name": "stderr",
          "text": [
            "/usr/local/lib/python3.7/dist-packages/sklearn/linear_model/_logistic.py:818: ConvergenceWarning: lbfgs failed to converge (status=1):\n",
            "STOP: TOTAL NO. of ITERATIONS REACHED LIMIT.\n",
            "\n",
            "Increase the number of iterations (max_iter) or scale the data as shown in:\n",
            "    https://scikit-learn.org/stable/modules/preprocessing.html\n",
            "Please also refer to the documentation for alternative solver options:\n",
            "    https://scikit-learn.org/stable/modules/linear_model.html#logistic-regression\n",
            "  extra_warning_msg=_LOGISTIC_SOLVER_CONVERGENCE_MSG,\n"
          ]
        },
        {
          "output_type": "stream",
          "name": "stdout",
          "text": [
            "[CV] END ..............................kmeans__n_clusters=70; total time=   2.4s\n"
          ]
        },
        {
          "output_type": "stream",
          "name": "stderr",
          "text": [
            "/usr/local/lib/python3.7/dist-packages/sklearn/linear_model/_logistic.py:818: ConvergenceWarning: lbfgs failed to converge (status=1):\n",
            "STOP: TOTAL NO. of ITERATIONS REACHED LIMIT.\n",
            "\n",
            "Increase the number of iterations (max_iter) or scale the data as shown in:\n",
            "    https://scikit-learn.org/stable/modules/preprocessing.html\n",
            "Please also refer to the documentation for alternative solver options:\n",
            "    https://scikit-learn.org/stable/modules/linear_model.html#logistic-regression\n",
            "  extra_warning_msg=_LOGISTIC_SOLVER_CONVERGENCE_MSG,\n"
          ]
        },
        {
          "output_type": "stream",
          "name": "stdout",
          "text": [
            "[CV] END ..............................kmeans__n_clusters=70; total time=   2.2s\n"
          ]
        },
        {
          "output_type": "stream",
          "name": "stderr",
          "text": [
            "/usr/local/lib/python3.7/dist-packages/sklearn/linear_model/_logistic.py:818: ConvergenceWarning: lbfgs failed to converge (status=1):\n",
            "STOP: TOTAL NO. of ITERATIONS REACHED LIMIT.\n",
            "\n",
            "Increase the number of iterations (max_iter) or scale the data as shown in:\n",
            "    https://scikit-learn.org/stable/modules/preprocessing.html\n",
            "Please also refer to the documentation for alternative solver options:\n",
            "    https://scikit-learn.org/stable/modules/linear_model.html#logistic-regression\n",
            "  extra_warning_msg=_LOGISTIC_SOLVER_CONVERGENCE_MSG,\n"
          ]
        },
        {
          "output_type": "stream",
          "name": "stdout",
          "text": [
            "[CV] END ..............................kmeans__n_clusters=71; total time=   2.3s\n"
          ]
        },
        {
          "output_type": "stream",
          "name": "stderr",
          "text": [
            "/usr/local/lib/python3.7/dist-packages/sklearn/linear_model/_logistic.py:818: ConvergenceWarning: lbfgs failed to converge (status=1):\n",
            "STOP: TOTAL NO. of ITERATIONS REACHED LIMIT.\n",
            "\n",
            "Increase the number of iterations (max_iter) or scale the data as shown in:\n",
            "    https://scikit-learn.org/stable/modules/preprocessing.html\n",
            "Please also refer to the documentation for alternative solver options:\n",
            "    https://scikit-learn.org/stable/modules/linear_model.html#logistic-regression\n",
            "  extra_warning_msg=_LOGISTIC_SOLVER_CONVERGENCE_MSG,\n"
          ]
        },
        {
          "output_type": "stream",
          "name": "stdout",
          "text": [
            "[CV] END ..............................kmeans__n_clusters=71; total time=   2.2s\n"
          ]
        },
        {
          "output_type": "stream",
          "name": "stderr",
          "text": [
            "/usr/local/lib/python3.7/dist-packages/sklearn/linear_model/_logistic.py:818: ConvergenceWarning: lbfgs failed to converge (status=1):\n",
            "STOP: TOTAL NO. of ITERATIONS REACHED LIMIT.\n",
            "\n",
            "Increase the number of iterations (max_iter) or scale the data as shown in:\n",
            "    https://scikit-learn.org/stable/modules/preprocessing.html\n",
            "Please also refer to the documentation for alternative solver options:\n",
            "    https://scikit-learn.org/stable/modules/linear_model.html#logistic-regression\n",
            "  extra_warning_msg=_LOGISTIC_SOLVER_CONVERGENCE_MSG,\n"
          ]
        },
        {
          "output_type": "stream",
          "name": "stdout",
          "text": [
            "[CV] END ..............................kmeans__n_clusters=71; total time=   2.1s\n"
          ]
        },
        {
          "output_type": "stream",
          "name": "stderr",
          "text": [
            "/usr/local/lib/python3.7/dist-packages/sklearn/linear_model/_logistic.py:818: ConvergenceWarning: lbfgs failed to converge (status=1):\n",
            "STOP: TOTAL NO. of ITERATIONS REACHED LIMIT.\n",
            "\n",
            "Increase the number of iterations (max_iter) or scale the data as shown in:\n",
            "    https://scikit-learn.org/stable/modules/preprocessing.html\n",
            "Please also refer to the documentation for alternative solver options:\n",
            "    https://scikit-learn.org/stable/modules/linear_model.html#logistic-regression\n",
            "  extra_warning_msg=_LOGISTIC_SOLVER_CONVERGENCE_MSG,\n"
          ]
        },
        {
          "output_type": "stream",
          "name": "stdout",
          "text": [
            "[CV] END ..............................kmeans__n_clusters=72; total time=   2.0s\n"
          ]
        },
        {
          "output_type": "stream",
          "name": "stderr",
          "text": [
            "/usr/local/lib/python3.7/dist-packages/sklearn/linear_model/_logistic.py:818: ConvergenceWarning: lbfgs failed to converge (status=1):\n",
            "STOP: TOTAL NO. of ITERATIONS REACHED LIMIT.\n",
            "\n",
            "Increase the number of iterations (max_iter) or scale the data as shown in:\n",
            "    https://scikit-learn.org/stable/modules/preprocessing.html\n",
            "Please also refer to the documentation for alternative solver options:\n",
            "    https://scikit-learn.org/stable/modules/linear_model.html#logistic-regression\n",
            "  extra_warning_msg=_LOGISTIC_SOLVER_CONVERGENCE_MSG,\n"
          ]
        },
        {
          "output_type": "stream",
          "name": "stdout",
          "text": [
            "[CV] END ..............................kmeans__n_clusters=72; total time=   2.3s\n"
          ]
        },
        {
          "output_type": "stream",
          "name": "stderr",
          "text": [
            "/usr/local/lib/python3.7/dist-packages/sklearn/linear_model/_logistic.py:818: ConvergenceWarning: lbfgs failed to converge (status=1):\n",
            "STOP: TOTAL NO. of ITERATIONS REACHED LIMIT.\n",
            "\n",
            "Increase the number of iterations (max_iter) or scale the data as shown in:\n",
            "    https://scikit-learn.org/stable/modules/preprocessing.html\n",
            "Please also refer to the documentation for alternative solver options:\n",
            "    https://scikit-learn.org/stable/modules/linear_model.html#logistic-regression\n",
            "  extra_warning_msg=_LOGISTIC_SOLVER_CONVERGENCE_MSG,\n"
          ]
        },
        {
          "output_type": "stream",
          "name": "stdout",
          "text": [
            "[CV] END ..............................kmeans__n_clusters=72; total time=   2.9s\n"
          ]
        },
        {
          "output_type": "stream",
          "name": "stderr",
          "text": [
            "/usr/local/lib/python3.7/dist-packages/sklearn/linear_model/_logistic.py:818: ConvergenceWarning: lbfgs failed to converge (status=1):\n",
            "STOP: TOTAL NO. of ITERATIONS REACHED LIMIT.\n",
            "\n",
            "Increase the number of iterations (max_iter) or scale the data as shown in:\n",
            "    https://scikit-learn.org/stable/modules/preprocessing.html\n",
            "Please also refer to the documentation for alternative solver options:\n",
            "    https://scikit-learn.org/stable/modules/linear_model.html#logistic-regression\n",
            "  extra_warning_msg=_LOGISTIC_SOLVER_CONVERGENCE_MSG,\n"
          ]
        },
        {
          "output_type": "stream",
          "name": "stdout",
          "text": [
            "[CV] END ..............................kmeans__n_clusters=73; total time=   2.4s\n"
          ]
        },
        {
          "output_type": "stream",
          "name": "stderr",
          "text": [
            "/usr/local/lib/python3.7/dist-packages/sklearn/linear_model/_logistic.py:818: ConvergenceWarning: lbfgs failed to converge (status=1):\n",
            "STOP: TOTAL NO. of ITERATIONS REACHED LIMIT.\n",
            "\n",
            "Increase the number of iterations (max_iter) or scale the data as shown in:\n",
            "    https://scikit-learn.org/stable/modules/preprocessing.html\n",
            "Please also refer to the documentation for alternative solver options:\n",
            "    https://scikit-learn.org/stable/modules/linear_model.html#logistic-regression\n",
            "  extra_warning_msg=_LOGISTIC_SOLVER_CONVERGENCE_MSG,\n"
          ]
        },
        {
          "output_type": "stream",
          "name": "stdout",
          "text": [
            "[CV] END ..............................kmeans__n_clusters=73; total time=   2.2s\n"
          ]
        },
        {
          "output_type": "stream",
          "name": "stderr",
          "text": [
            "/usr/local/lib/python3.7/dist-packages/sklearn/linear_model/_logistic.py:818: ConvergenceWarning: lbfgs failed to converge (status=1):\n",
            "STOP: TOTAL NO. of ITERATIONS REACHED LIMIT.\n",
            "\n",
            "Increase the number of iterations (max_iter) or scale the data as shown in:\n",
            "    https://scikit-learn.org/stable/modules/preprocessing.html\n",
            "Please also refer to the documentation for alternative solver options:\n",
            "    https://scikit-learn.org/stable/modules/linear_model.html#logistic-regression\n",
            "  extra_warning_msg=_LOGISTIC_SOLVER_CONVERGENCE_MSG,\n"
          ]
        },
        {
          "output_type": "stream",
          "name": "stdout",
          "text": [
            "[CV] END ..............................kmeans__n_clusters=73; total time=   2.0s\n"
          ]
        },
        {
          "output_type": "stream",
          "name": "stderr",
          "text": [
            "/usr/local/lib/python3.7/dist-packages/sklearn/linear_model/_logistic.py:818: ConvergenceWarning: lbfgs failed to converge (status=1):\n",
            "STOP: TOTAL NO. of ITERATIONS REACHED LIMIT.\n",
            "\n",
            "Increase the number of iterations (max_iter) or scale the data as shown in:\n",
            "    https://scikit-learn.org/stable/modules/preprocessing.html\n",
            "Please also refer to the documentation for alternative solver options:\n",
            "    https://scikit-learn.org/stable/modules/linear_model.html#logistic-regression\n",
            "  extra_warning_msg=_LOGISTIC_SOLVER_CONVERGENCE_MSG,\n"
          ]
        },
        {
          "output_type": "stream",
          "name": "stdout",
          "text": [
            "[CV] END ..............................kmeans__n_clusters=74; total time=   2.5s\n"
          ]
        },
        {
          "output_type": "stream",
          "name": "stderr",
          "text": [
            "/usr/local/lib/python3.7/dist-packages/sklearn/linear_model/_logistic.py:818: ConvergenceWarning: lbfgs failed to converge (status=1):\n",
            "STOP: TOTAL NO. of ITERATIONS REACHED LIMIT.\n",
            "\n",
            "Increase the number of iterations (max_iter) or scale the data as shown in:\n",
            "    https://scikit-learn.org/stable/modules/preprocessing.html\n",
            "Please also refer to the documentation for alternative solver options:\n",
            "    https://scikit-learn.org/stable/modules/linear_model.html#logistic-regression\n",
            "  extra_warning_msg=_LOGISTIC_SOLVER_CONVERGENCE_MSG,\n"
          ]
        },
        {
          "output_type": "stream",
          "name": "stdout",
          "text": [
            "[CV] END ..............................kmeans__n_clusters=74; total time=   2.2s\n"
          ]
        },
        {
          "output_type": "stream",
          "name": "stderr",
          "text": [
            "/usr/local/lib/python3.7/dist-packages/sklearn/linear_model/_logistic.py:818: ConvergenceWarning: lbfgs failed to converge (status=1):\n",
            "STOP: TOTAL NO. of ITERATIONS REACHED LIMIT.\n",
            "\n",
            "Increase the number of iterations (max_iter) or scale the data as shown in:\n",
            "    https://scikit-learn.org/stable/modules/preprocessing.html\n",
            "Please also refer to the documentation for alternative solver options:\n",
            "    https://scikit-learn.org/stable/modules/linear_model.html#logistic-regression\n",
            "  extra_warning_msg=_LOGISTIC_SOLVER_CONVERGENCE_MSG,\n"
          ]
        },
        {
          "output_type": "stream",
          "name": "stdout",
          "text": [
            "[CV] END ..............................kmeans__n_clusters=74; total time=   2.4s\n"
          ]
        },
        {
          "output_type": "stream",
          "name": "stderr",
          "text": [
            "/usr/local/lib/python3.7/dist-packages/sklearn/linear_model/_logistic.py:818: ConvergenceWarning: lbfgs failed to converge (status=1):\n",
            "STOP: TOTAL NO. of ITERATIONS REACHED LIMIT.\n",
            "\n",
            "Increase the number of iterations (max_iter) or scale the data as shown in:\n",
            "    https://scikit-learn.org/stable/modules/preprocessing.html\n",
            "Please also refer to the documentation for alternative solver options:\n",
            "    https://scikit-learn.org/stable/modules/linear_model.html#logistic-regression\n",
            "  extra_warning_msg=_LOGISTIC_SOLVER_CONVERGENCE_MSG,\n"
          ]
        },
        {
          "output_type": "stream",
          "name": "stdout",
          "text": [
            "[CV] END ..............................kmeans__n_clusters=75; total time=   2.4s\n"
          ]
        },
        {
          "output_type": "stream",
          "name": "stderr",
          "text": [
            "/usr/local/lib/python3.7/dist-packages/sklearn/linear_model/_logistic.py:818: ConvergenceWarning: lbfgs failed to converge (status=1):\n",
            "STOP: TOTAL NO. of ITERATIONS REACHED LIMIT.\n",
            "\n",
            "Increase the number of iterations (max_iter) or scale the data as shown in:\n",
            "    https://scikit-learn.org/stable/modules/preprocessing.html\n",
            "Please also refer to the documentation for alternative solver options:\n",
            "    https://scikit-learn.org/stable/modules/linear_model.html#logistic-regression\n",
            "  extra_warning_msg=_LOGISTIC_SOLVER_CONVERGENCE_MSG,\n"
          ]
        },
        {
          "output_type": "stream",
          "name": "stdout",
          "text": [
            "[CV] END ..............................kmeans__n_clusters=75; total time=   2.6s\n"
          ]
        },
        {
          "output_type": "stream",
          "name": "stderr",
          "text": [
            "/usr/local/lib/python3.7/dist-packages/sklearn/linear_model/_logistic.py:818: ConvergenceWarning: lbfgs failed to converge (status=1):\n",
            "STOP: TOTAL NO. of ITERATIONS REACHED LIMIT.\n",
            "\n",
            "Increase the number of iterations (max_iter) or scale the data as shown in:\n",
            "    https://scikit-learn.org/stable/modules/preprocessing.html\n",
            "Please also refer to the documentation for alternative solver options:\n",
            "    https://scikit-learn.org/stable/modules/linear_model.html#logistic-regression\n",
            "  extra_warning_msg=_LOGISTIC_SOLVER_CONVERGENCE_MSG,\n"
          ]
        },
        {
          "output_type": "stream",
          "name": "stdout",
          "text": [
            "[CV] END ..............................kmeans__n_clusters=75; total time=   2.2s\n"
          ]
        },
        {
          "output_type": "stream",
          "name": "stderr",
          "text": [
            "/usr/local/lib/python3.7/dist-packages/sklearn/linear_model/_logistic.py:818: ConvergenceWarning: lbfgs failed to converge (status=1):\n",
            "STOP: TOTAL NO. of ITERATIONS REACHED LIMIT.\n",
            "\n",
            "Increase the number of iterations (max_iter) or scale the data as shown in:\n",
            "    https://scikit-learn.org/stable/modules/preprocessing.html\n",
            "Please also refer to the documentation for alternative solver options:\n",
            "    https://scikit-learn.org/stable/modules/linear_model.html#logistic-regression\n",
            "  extra_warning_msg=_LOGISTIC_SOLVER_CONVERGENCE_MSG,\n"
          ]
        },
        {
          "output_type": "stream",
          "name": "stdout",
          "text": [
            "[CV] END ..............................kmeans__n_clusters=76; total time=   2.3s\n"
          ]
        },
        {
          "output_type": "stream",
          "name": "stderr",
          "text": [
            "/usr/local/lib/python3.7/dist-packages/sklearn/linear_model/_logistic.py:818: ConvergenceWarning: lbfgs failed to converge (status=1):\n",
            "STOP: TOTAL NO. of ITERATIONS REACHED LIMIT.\n",
            "\n",
            "Increase the number of iterations (max_iter) or scale the data as shown in:\n",
            "    https://scikit-learn.org/stable/modules/preprocessing.html\n",
            "Please also refer to the documentation for alternative solver options:\n",
            "    https://scikit-learn.org/stable/modules/linear_model.html#logistic-regression\n",
            "  extra_warning_msg=_LOGISTIC_SOLVER_CONVERGENCE_MSG,\n"
          ]
        },
        {
          "output_type": "stream",
          "name": "stdout",
          "text": [
            "[CV] END ..............................kmeans__n_clusters=76; total time=   2.2s\n"
          ]
        },
        {
          "output_type": "stream",
          "name": "stderr",
          "text": [
            "/usr/local/lib/python3.7/dist-packages/sklearn/linear_model/_logistic.py:818: ConvergenceWarning: lbfgs failed to converge (status=1):\n",
            "STOP: TOTAL NO. of ITERATIONS REACHED LIMIT.\n",
            "\n",
            "Increase the number of iterations (max_iter) or scale the data as shown in:\n",
            "    https://scikit-learn.org/stable/modules/preprocessing.html\n",
            "Please also refer to the documentation for alternative solver options:\n",
            "    https://scikit-learn.org/stable/modules/linear_model.html#logistic-regression\n",
            "  extra_warning_msg=_LOGISTIC_SOLVER_CONVERGENCE_MSG,\n"
          ]
        },
        {
          "output_type": "stream",
          "name": "stdout",
          "text": [
            "[CV] END ..............................kmeans__n_clusters=76; total time=   2.2s\n"
          ]
        },
        {
          "output_type": "stream",
          "name": "stderr",
          "text": [
            "/usr/local/lib/python3.7/dist-packages/sklearn/linear_model/_logistic.py:818: ConvergenceWarning: lbfgs failed to converge (status=1):\n",
            "STOP: TOTAL NO. of ITERATIONS REACHED LIMIT.\n",
            "\n",
            "Increase the number of iterations (max_iter) or scale the data as shown in:\n",
            "    https://scikit-learn.org/stable/modules/preprocessing.html\n",
            "Please also refer to the documentation for alternative solver options:\n",
            "    https://scikit-learn.org/stable/modules/linear_model.html#logistic-regression\n",
            "  extra_warning_msg=_LOGISTIC_SOLVER_CONVERGENCE_MSG,\n"
          ]
        },
        {
          "output_type": "stream",
          "name": "stdout",
          "text": [
            "[CV] END ..............................kmeans__n_clusters=77; total time=   2.5s\n"
          ]
        },
        {
          "output_type": "stream",
          "name": "stderr",
          "text": [
            "/usr/local/lib/python3.7/dist-packages/sklearn/linear_model/_logistic.py:818: ConvergenceWarning: lbfgs failed to converge (status=1):\n",
            "STOP: TOTAL NO. of ITERATIONS REACHED LIMIT.\n",
            "\n",
            "Increase the number of iterations (max_iter) or scale the data as shown in:\n",
            "    https://scikit-learn.org/stable/modules/preprocessing.html\n",
            "Please also refer to the documentation for alternative solver options:\n",
            "    https://scikit-learn.org/stable/modules/linear_model.html#logistic-regression\n",
            "  extra_warning_msg=_LOGISTIC_SOLVER_CONVERGENCE_MSG,\n"
          ]
        },
        {
          "output_type": "stream",
          "name": "stdout",
          "text": [
            "[CV] END ..............................kmeans__n_clusters=77; total time=   2.9s\n"
          ]
        },
        {
          "output_type": "stream",
          "name": "stderr",
          "text": [
            "/usr/local/lib/python3.7/dist-packages/sklearn/linear_model/_logistic.py:818: ConvergenceWarning: lbfgs failed to converge (status=1):\n",
            "STOP: TOTAL NO. of ITERATIONS REACHED LIMIT.\n",
            "\n",
            "Increase the number of iterations (max_iter) or scale the data as shown in:\n",
            "    https://scikit-learn.org/stable/modules/preprocessing.html\n",
            "Please also refer to the documentation for alternative solver options:\n",
            "    https://scikit-learn.org/stable/modules/linear_model.html#logistic-regression\n",
            "  extra_warning_msg=_LOGISTIC_SOLVER_CONVERGENCE_MSG,\n"
          ]
        },
        {
          "output_type": "stream",
          "name": "stdout",
          "text": [
            "[CV] END ..............................kmeans__n_clusters=77; total time=   2.0s\n"
          ]
        },
        {
          "output_type": "stream",
          "name": "stderr",
          "text": [
            "/usr/local/lib/python3.7/dist-packages/sklearn/linear_model/_logistic.py:818: ConvergenceWarning: lbfgs failed to converge (status=1):\n",
            "STOP: TOTAL NO. of ITERATIONS REACHED LIMIT.\n",
            "\n",
            "Increase the number of iterations (max_iter) or scale the data as shown in:\n",
            "    https://scikit-learn.org/stable/modules/preprocessing.html\n",
            "Please also refer to the documentation for alternative solver options:\n",
            "    https://scikit-learn.org/stable/modules/linear_model.html#logistic-regression\n",
            "  extra_warning_msg=_LOGISTIC_SOLVER_CONVERGENCE_MSG,\n"
          ]
        },
        {
          "output_type": "stream",
          "name": "stdout",
          "text": [
            "[CV] END ..............................kmeans__n_clusters=78; total time=   1.9s\n"
          ]
        },
        {
          "output_type": "stream",
          "name": "stderr",
          "text": [
            "/usr/local/lib/python3.7/dist-packages/sklearn/linear_model/_logistic.py:818: ConvergenceWarning: lbfgs failed to converge (status=1):\n",
            "STOP: TOTAL NO. of ITERATIONS REACHED LIMIT.\n",
            "\n",
            "Increase the number of iterations (max_iter) or scale the data as shown in:\n",
            "    https://scikit-learn.org/stable/modules/preprocessing.html\n",
            "Please also refer to the documentation for alternative solver options:\n",
            "    https://scikit-learn.org/stable/modules/linear_model.html#logistic-regression\n",
            "  extra_warning_msg=_LOGISTIC_SOLVER_CONVERGENCE_MSG,\n"
          ]
        },
        {
          "output_type": "stream",
          "name": "stdout",
          "text": [
            "[CV] END ..............................kmeans__n_clusters=78; total time=   2.4s\n"
          ]
        },
        {
          "output_type": "stream",
          "name": "stderr",
          "text": [
            "/usr/local/lib/python3.7/dist-packages/sklearn/linear_model/_logistic.py:818: ConvergenceWarning: lbfgs failed to converge (status=1):\n",
            "STOP: TOTAL NO. of ITERATIONS REACHED LIMIT.\n",
            "\n",
            "Increase the number of iterations (max_iter) or scale the data as shown in:\n",
            "    https://scikit-learn.org/stable/modules/preprocessing.html\n",
            "Please also refer to the documentation for alternative solver options:\n",
            "    https://scikit-learn.org/stable/modules/linear_model.html#logistic-regression\n",
            "  extra_warning_msg=_LOGISTIC_SOLVER_CONVERGENCE_MSG,\n"
          ]
        },
        {
          "output_type": "stream",
          "name": "stdout",
          "text": [
            "[CV] END ..............................kmeans__n_clusters=78; total time=   2.5s\n"
          ]
        },
        {
          "output_type": "stream",
          "name": "stderr",
          "text": [
            "/usr/local/lib/python3.7/dist-packages/sklearn/linear_model/_logistic.py:818: ConvergenceWarning: lbfgs failed to converge (status=1):\n",
            "STOP: TOTAL NO. of ITERATIONS REACHED LIMIT.\n",
            "\n",
            "Increase the number of iterations (max_iter) or scale the data as shown in:\n",
            "    https://scikit-learn.org/stable/modules/preprocessing.html\n",
            "Please also refer to the documentation for alternative solver options:\n",
            "    https://scikit-learn.org/stable/modules/linear_model.html#logistic-regression\n",
            "  extra_warning_msg=_LOGISTIC_SOLVER_CONVERGENCE_MSG,\n"
          ]
        },
        {
          "output_type": "stream",
          "name": "stdout",
          "text": [
            "[CV] END ..............................kmeans__n_clusters=79; total time=   2.3s\n"
          ]
        },
        {
          "output_type": "stream",
          "name": "stderr",
          "text": [
            "/usr/local/lib/python3.7/dist-packages/sklearn/linear_model/_logistic.py:818: ConvergenceWarning: lbfgs failed to converge (status=1):\n",
            "STOP: TOTAL NO. of ITERATIONS REACHED LIMIT.\n",
            "\n",
            "Increase the number of iterations (max_iter) or scale the data as shown in:\n",
            "    https://scikit-learn.org/stable/modules/preprocessing.html\n",
            "Please also refer to the documentation for alternative solver options:\n",
            "    https://scikit-learn.org/stable/modules/linear_model.html#logistic-regression\n",
            "  extra_warning_msg=_LOGISTIC_SOLVER_CONVERGENCE_MSG,\n"
          ]
        },
        {
          "output_type": "stream",
          "name": "stdout",
          "text": [
            "[CV] END ..............................kmeans__n_clusters=79; total time=   2.3s\n"
          ]
        },
        {
          "output_type": "stream",
          "name": "stderr",
          "text": [
            "/usr/local/lib/python3.7/dist-packages/sklearn/linear_model/_logistic.py:818: ConvergenceWarning: lbfgs failed to converge (status=1):\n",
            "STOP: TOTAL NO. of ITERATIONS REACHED LIMIT.\n",
            "\n",
            "Increase the number of iterations (max_iter) or scale the data as shown in:\n",
            "    https://scikit-learn.org/stable/modules/preprocessing.html\n",
            "Please also refer to the documentation for alternative solver options:\n",
            "    https://scikit-learn.org/stable/modules/linear_model.html#logistic-regression\n",
            "  extra_warning_msg=_LOGISTIC_SOLVER_CONVERGENCE_MSG,\n"
          ]
        },
        {
          "output_type": "stream",
          "name": "stdout",
          "text": [
            "[CV] END ..............................kmeans__n_clusters=79; total time=   2.2s\n"
          ]
        },
        {
          "output_type": "stream",
          "name": "stderr",
          "text": [
            "/usr/local/lib/python3.7/dist-packages/sklearn/linear_model/_logistic.py:818: ConvergenceWarning: lbfgs failed to converge (status=1):\n",
            "STOP: TOTAL NO. of ITERATIONS REACHED LIMIT.\n",
            "\n",
            "Increase the number of iterations (max_iter) or scale the data as shown in:\n",
            "    https://scikit-learn.org/stable/modules/preprocessing.html\n",
            "Please also refer to the documentation for alternative solver options:\n",
            "    https://scikit-learn.org/stable/modules/linear_model.html#logistic-regression\n",
            "  extra_warning_msg=_LOGISTIC_SOLVER_CONVERGENCE_MSG,\n"
          ]
        },
        {
          "output_type": "stream",
          "name": "stdout",
          "text": [
            "[CV] END ..............................kmeans__n_clusters=80; total time=   2.3s\n"
          ]
        },
        {
          "output_type": "stream",
          "name": "stderr",
          "text": [
            "/usr/local/lib/python3.7/dist-packages/sklearn/linear_model/_logistic.py:818: ConvergenceWarning: lbfgs failed to converge (status=1):\n",
            "STOP: TOTAL NO. of ITERATIONS REACHED LIMIT.\n",
            "\n",
            "Increase the number of iterations (max_iter) or scale the data as shown in:\n",
            "    https://scikit-learn.org/stable/modules/preprocessing.html\n",
            "Please also refer to the documentation for alternative solver options:\n",
            "    https://scikit-learn.org/stable/modules/linear_model.html#logistic-regression\n",
            "  extra_warning_msg=_LOGISTIC_SOLVER_CONVERGENCE_MSG,\n"
          ]
        },
        {
          "output_type": "stream",
          "name": "stdout",
          "text": [
            "[CV] END ..............................kmeans__n_clusters=80; total time=   2.3s\n"
          ]
        },
        {
          "output_type": "stream",
          "name": "stderr",
          "text": [
            "/usr/local/lib/python3.7/dist-packages/sklearn/linear_model/_logistic.py:818: ConvergenceWarning: lbfgs failed to converge (status=1):\n",
            "STOP: TOTAL NO. of ITERATIONS REACHED LIMIT.\n",
            "\n",
            "Increase the number of iterations (max_iter) or scale the data as shown in:\n",
            "    https://scikit-learn.org/stable/modules/preprocessing.html\n",
            "Please also refer to the documentation for alternative solver options:\n",
            "    https://scikit-learn.org/stable/modules/linear_model.html#logistic-regression\n",
            "  extra_warning_msg=_LOGISTIC_SOLVER_CONVERGENCE_MSG,\n"
          ]
        },
        {
          "output_type": "stream",
          "name": "stdout",
          "text": [
            "[CV] END ..............................kmeans__n_clusters=80; total time=   2.3s\n"
          ]
        },
        {
          "output_type": "stream",
          "name": "stderr",
          "text": [
            "/usr/local/lib/python3.7/dist-packages/sklearn/linear_model/_logistic.py:818: ConvergenceWarning: lbfgs failed to converge (status=1):\n",
            "STOP: TOTAL NO. of ITERATIONS REACHED LIMIT.\n",
            "\n",
            "Increase the number of iterations (max_iter) or scale the data as shown in:\n",
            "    https://scikit-learn.org/stable/modules/preprocessing.html\n",
            "Please also refer to the documentation for alternative solver options:\n",
            "    https://scikit-learn.org/stable/modules/linear_model.html#logistic-regression\n",
            "  extra_warning_msg=_LOGISTIC_SOLVER_CONVERGENCE_MSG,\n"
          ]
        },
        {
          "output_type": "stream",
          "name": "stdout",
          "text": [
            "[CV] END ..............................kmeans__n_clusters=81; total time=   2.4s\n"
          ]
        },
        {
          "output_type": "stream",
          "name": "stderr",
          "text": [
            "/usr/local/lib/python3.7/dist-packages/sklearn/linear_model/_logistic.py:818: ConvergenceWarning: lbfgs failed to converge (status=1):\n",
            "STOP: TOTAL NO. of ITERATIONS REACHED LIMIT.\n",
            "\n",
            "Increase the number of iterations (max_iter) or scale the data as shown in:\n",
            "    https://scikit-learn.org/stable/modules/preprocessing.html\n",
            "Please also refer to the documentation for alternative solver options:\n",
            "    https://scikit-learn.org/stable/modules/linear_model.html#logistic-regression\n",
            "  extra_warning_msg=_LOGISTIC_SOLVER_CONVERGENCE_MSG,\n"
          ]
        },
        {
          "output_type": "stream",
          "name": "stdout",
          "text": [
            "[CV] END ..............................kmeans__n_clusters=81; total time=   2.4s\n"
          ]
        },
        {
          "output_type": "stream",
          "name": "stderr",
          "text": [
            "/usr/local/lib/python3.7/dist-packages/sklearn/linear_model/_logistic.py:818: ConvergenceWarning: lbfgs failed to converge (status=1):\n",
            "STOP: TOTAL NO. of ITERATIONS REACHED LIMIT.\n",
            "\n",
            "Increase the number of iterations (max_iter) or scale the data as shown in:\n",
            "    https://scikit-learn.org/stable/modules/preprocessing.html\n",
            "Please also refer to the documentation for alternative solver options:\n",
            "    https://scikit-learn.org/stable/modules/linear_model.html#logistic-regression\n",
            "  extra_warning_msg=_LOGISTIC_SOLVER_CONVERGENCE_MSG,\n"
          ]
        },
        {
          "output_type": "stream",
          "name": "stdout",
          "text": [
            "[CV] END ..............................kmeans__n_clusters=81; total time=   2.1s\n"
          ]
        },
        {
          "output_type": "stream",
          "name": "stderr",
          "text": [
            "/usr/local/lib/python3.7/dist-packages/sklearn/linear_model/_logistic.py:818: ConvergenceWarning: lbfgs failed to converge (status=1):\n",
            "STOP: TOTAL NO. of ITERATIONS REACHED LIMIT.\n",
            "\n",
            "Increase the number of iterations (max_iter) or scale the data as shown in:\n",
            "    https://scikit-learn.org/stable/modules/preprocessing.html\n",
            "Please also refer to the documentation for alternative solver options:\n",
            "    https://scikit-learn.org/stable/modules/linear_model.html#logistic-regression\n",
            "  extra_warning_msg=_LOGISTIC_SOLVER_CONVERGENCE_MSG,\n"
          ]
        },
        {
          "output_type": "stream",
          "name": "stdout",
          "text": [
            "[CV] END ..............................kmeans__n_clusters=82; total time=   2.2s\n"
          ]
        },
        {
          "output_type": "stream",
          "name": "stderr",
          "text": [
            "/usr/local/lib/python3.7/dist-packages/sklearn/linear_model/_logistic.py:818: ConvergenceWarning: lbfgs failed to converge (status=1):\n",
            "STOP: TOTAL NO. of ITERATIONS REACHED LIMIT.\n",
            "\n",
            "Increase the number of iterations (max_iter) or scale the data as shown in:\n",
            "    https://scikit-learn.org/stable/modules/preprocessing.html\n",
            "Please also refer to the documentation for alternative solver options:\n",
            "    https://scikit-learn.org/stable/modules/linear_model.html#logistic-regression\n",
            "  extra_warning_msg=_LOGISTIC_SOLVER_CONVERGENCE_MSG,\n"
          ]
        },
        {
          "output_type": "stream",
          "name": "stdout",
          "text": [
            "[CV] END ..............................kmeans__n_clusters=82; total time=   2.6s\n"
          ]
        },
        {
          "output_type": "stream",
          "name": "stderr",
          "text": [
            "/usr/local/lib/python3.7/dist-packages/sklearn/linear_model/_logistic.py:818: ConvergenceWarning: lbfgs failed to converge (status=1):\n",
            "STOP: TOTAL NO. of ITERATIONS REACHED LIMIT.\n",
            "\n",
            "Increase the number of iterations (max_iter) or scale the data as shown in:\n",
            "    https://scikit-learn.org/stable/modules/preprocessing.html\n",
            "Please also refer to the documentation for alternative solver options:\n",
            "    https://scikit-learn.org/stable/modules/linear_model.html#logistic-regression\n",
            "  extra_warning_msg=_LOGISTIC_SOLVER_CONVERGENCE_MSG,\n"
          ]
        },
        {
          "output_type": "stream",
          "name": "stdout",
          "text": [
            "[CV] END ..............................kmeans__n_clusters=82; total time=   3.2s\n"
          ]
        },
        {
          "output_type": "stream",
          "name": "stderr",
          "text": [
            "/usr/local/lib/python3.7/dist-packages/sklearn/linear_model/_logistic.py:818: ConvergenceWarning: lbfgs failed to converge (status=1):\n",
            "STOP: TOTAL NO. of ITERATIONS REACHED LIMIT.\n",
            "\n",
            "Increase the number of iterations (max_iter) or scale the data as shown in:\n",
            "    https://scikit-learn.org/stable/modules/preprocessing.html\n",
            "Please also refer to the documentation for alternative solver options:\n",
            "    https://scikit-learn.org/stable/modules/linear_model.html#logistic-regression\n",
            "  extra_warning_msg=_LOGISTIC_SOLVER_CONVERGENCE_MSG,\n"
          ]
        },
        {
          "output_type": "stream",
          "name": "stdout",
          "text": [
            "[CV] END ..............................kmeans__n_clusters=83; total time=   2.0s\n"
          ]
        },
        {
          "output_type": "stream",
          "name": "stderr",
          "text": [
            "/usr/local/lib/python3.7/dist-packages/sklearn/linear_model/_logistic.py:818: ConvergenceWarning: lbfgs failed to converge (status=1):\n",
            "STOP: TOTAL NO. of ITERATIONS REACHED LIMIT.\n",
            "\n",
            "Increase the number of iterations (max_iter) or scale the data as shown in:\n",
            "    https://scikit-learn.org/stable/modules/preprocessing.html\n",
            "Please also refer to the documentation for alternative solver options:\n",
            "    https://scikit-learn.org/stable/modules/linear_model.html#logistic-regression\n",
            "  extra_warning_msg=_LOGISTIC_SOLVER_CONVERGENCE_MSG,\n"
          ]
        },
        {
          "output_type": "stream",
          "name": "stdout",
          "text": [
            "[CV] END ..............................kmeans__n_clusters=83; total time=   2.2s\n"
          ]
        },
        {
          "output_type": "stream",
          "name": "stderr",
          "text": [
            "/usr/local/lib/python3.7/dist-packages/sklearn/linear_model/_logistic.py:818: ConvergenceWarning: lbfgs failed to converge (status=1):\n",
            "STOP: TOTAL NO. of ITERATIONS REACHED LIMIT.\n",
            "\n",
            "Increase the number of iterations (max_iter) or scale the data as shown in:\n",
            "    https://scikit-learn.org/stable/modules/preprocessing.html\n",
            "Please also refer to the documentation for alternative solver options:\n",
            "    https://scikit-learn.org/stable/modules/linear_model.html#logistic-regression\n",
            "  extra_warning_msg=_LOGISTIC_SOLVER_CONVERGENCE_MSG,\n"
          ]
        },
        {
          "output_type": "stream",
          "name": "stdout",
          "text": [
            "[CV] END ..............................kmeans__n_clusters=83; total time=   2.4s\n"
          ]
        },
        {
          "output_type": "stream",
          "name": "stderr",
          "text": [
            "/usr/local/lib/python3.7/dist-packages/sklearn/linear_model/_logistic.py:818: ConvergenceWarning: lbfgs failed to converge (status=1):\n",
            "STOP: TOTAL NO. of ITERATIONS REACHED LIMIT.\n",
            "\n",
            "Increase the number of iterations (max_iter) or scale the data as shown in:\n",
            "    https://scikit-learn.org/stable/modules/preprocessing.html\n",
            "Please also refer to the documentation for alternative solver options:\n",
            "    https://scikit-learn.org/stable/modules/linear_model.html#logistic-regression\n",
            "  extra_warning_msg=_LOGISTIC_SOLVER_CONVERGENCE_MSG,\n"
          ]
        },
        {
          "output_type": "stream",
          "name": "stdout",
          "text": [
            "[CV] END ..............................kmeans__n_clusters=84; total time=   2.6s\n"
          ]
        },
        {
          "output_type": "stream",
          "name": "stderr",
          "text": [
            "/usr/local/lib/python3.7/dist-packages/sklearn/linear_model/_logistic.py:818: ConvergenceWarning: lbfgs failed to converge (status=1):\n",
            "STOP: TOTAL NO. of ITERATIONS REACHED LIMIT.\n",
            "\n",
            "Increase the number of iterations (max_iter) or scale the data as shown in:\n",
            "    https://scikit-learn.org/stable/modules/preprocessing.html\n",
            "Please also refer to the documentation for alternative solver options:\n",
            "    https://scikit-learn.org/stable/modules/linear_model.html#logistic-regression\n",
            "  extra_warning_msg=_LOGISTIC_SOLVER_CONVERGENCE_MSG,\n"
          ]
        },
        {
          "output_type": "stream",
          "name": "stdout",
          "text": [
            "[CV] END ..............................kmeans__n_clusters=84; total time=   2.4s\n"
          ]
        },
        {
          "output_type": "stream",
          "name": "stderr",
          "text": [
            "/usr/local/lib/python3.7/dist-packages/sklearn/linear_model/_logistic.py:818: ConvergenceWarning: lbfgs failed to converge (status=1):\n",
            "STOP: TOTAL NO. of ITERATIONS REACHED LIMIT.\n",
            "\n",
            "Increase the number of iterations (max_iter) or scale the data as shown in:\n",
            "    https://scikit-learn.org/stable/modules/preprocessing.html\n",
            "Please also refer to the documentation for alternative solver options:\n",
            "    https://scikit-learn.org/stable/modules/linear_model.html#logistic-regression\n",
            "  extra_warning_msg=_LOGISTIC_SOLVER_CONVERGENCE_MSG,\n"
          ]
        },
        {
          "output_type": "stream",
          "name": "stdout",
          "text": [
            "[CV] END ..............................kmeans__n_clusters=84; total time=   2.2s\n"
          ]
        },
        {
          "output_type": "stream",
          "name": "stderr",
          "text": [
            "/usr/local/lib/python3.7/dist-packages/sklearn/linear_model/_logistic.py:818: ConvergenceWarning: lbfgs failed to converge (status=1):\n",
            "STOP: TOTAL NO. of ITERATIONS REACHED LIMIT.\n",
            "\n",
            "Increase the number of iterations (max_iter) or scale the data as shown in:\n",
            "    https://scikit-learn.org/stable/modules/preprocessing.html\n",
            "Please also refer to the documentation for alternative solver options:\n",
            "    https://scikit-learn.org/stable/modules/linear_model.html#logistic-regression\n",
            "  extra_warning_msg=_LOGISTIC_SOLVER_CONVERGENCE_MSG,\n"
          ]
        },
        {
          "output_type": "stream",
          "name": "stdout",
          "text": [
            "[CV] END ..............................kmeans__n_clusters=85; total time=   2.3s\n"
          ]
        },
        {
          "output_type": "stream",
          "name": "stderr",
          "text": [
            "/usr/local/lib/python3.7/dist-packages/sklearn/linear_model/_logistic.py:818: ConvergenceWarning: lbfgs failed to converge (status=1):\n",
            "STOP: TOTAL NO. of ITERATIONS REACHED LIMIT.\n",
            "\n",
            "Increase the number of iterations (max_iter) or scale the data as shown in:\n",
            "    https://scikit-learn.org/stable/modules/preprocessing.html\n",
            "Please also refer to the documentation for alternative solver options:\n",
            "    https://scikit-learn.org/stable/modules/linear_model.html#logistic-regression\n",
            "  extra_warning_msg=_LOGISTIC_SOLVER_CONVERGENCE_MSG,\n"
          ]
        },
        {
          "output_type": "stream",
          "name": "stdout",
          "text": [
            "[CV] END ..............................kmeans__n_clusters=85; total time=   2.6s\n"
          ]
        },
        {
          "output_type": "stream",
          "name": "stderr",
          "text": [
            "/usr/local/lib/python3.7/dist-packages/sklearn/linear_model/_logistic.py:818: ConvergenceWarning: lbfgs failed to converge (status=1):\n",
            "STOP: TOTAL NO. of ITERATIONS REACHED LIMIT.\n",
            "\n",
            "Increase the number of iterations (max_iter) or scale the data as shown in:\n",
            "    https://scikit-learn.org/stable/modules/preprocessing.html\n",
            "Please also refer to the documentation for alternative solver options:\n",
            "    https://scikit-learn.org/stable/modules/linear_model.html#logistic-regression\n",
            "  extra_warning_msg=_LOGISTIC_SOLVER_CONVERGENCE_MSG,\n"
          ]
        },
        {
          "output_type": "stream",
          "name": "stdout",
          "text": [
            "[CV] END ..............................kmeans__n_clusters=85; total time=   2.7s\n"
          ]
        },
        {
          "output_type": "stream",
          "name": "stderr",
          "text": [
            "/usr/local/lib/python3.7/dist-packages/sklearn/linear_model/_logistic.py:818: ConvergenceWarning: lbfgs failed to converge (status=1):\n",
            "STOP: TOTAL NO. of ITERATIONS REACHED LIMIT.\n",
            "\n",
            "Increase the number of iterations (max_iter) or scale the data as shown in:\n",
            "    https://scikit-learn.org/stable/modules/preprocessing.html\n",
            "Please also refer to the documentation for alternative solver options:\n",
            "    https://scikit-learn.org/stable/modules/linear_model.html#logistic-regression\n",
            "  extra_warning_msg=_LOGISTIC_SOLVER_CONVERGENCE_MSG,\n"
          ]
        },
        {
          "output_type": "stream",
          "name": "stdout",
          "text": [
            "[CV] END ..............................kmeans__n_clusters=86; total time=   2.3s\n"
          ]
        },
        {
          "output_type": "stream",
          "name": "stderr",
          "text": [
            "/usr/local/lib/python3.7/dist-packages/sklearn/linear_model/_logistic.py:818: ConvergenceWarning: lbfgs failed to converge (status=1):\n",
            "STOP: TOTAL NO. of ITERATIONS REACHED LIMIT.\n",
            "\n",
            "Increase the number of iterations (max_iter) or scale the data as shown in:\n",
            "    https://scikit-learn.org/stable/modules/preprocessing.html\n",
            "Please also refer to the documentation for alternative solver options:\n",
            "    https://scikit-learn.org/stable/modules/linear_model.html#logistic-regression\n",
            "  extra_warning_msg=_LOGISTIC_SOLVER_CONVERGENCE_MSG,\n"
          ]
        },
        {
          "output_type": "stream",
          "name": "stdout",
          "text": [
            "[CV] END ..............................kmeans__n_clusters=86; total time=   3.7s\n"
          ]
        },
        {
          "output_type": "stream",
          "name": "stderr",
          "text": [
            "/usr/local/lib/python3.7/dist-packages/sklearn/linear_model/_logistic.py:818: ConvergenceWarning: lbfgs failed to converge (status=1):\n",
            "STOP: TOTAL NO. of ITERATIONS REACHED LIMIT.\n",
            "\n",
            "Increase the number of iterations (max_iter) or scale the data as shown in:\n",
            "    https://scikit-learn.org/stable/modules/preprocessing.html\n",
            "Please also refer to the documentation for alternative solver options:\n",
            "    https://scikit-learn.org/stable/modules/linear_model.html#logistic-regression\n",
            "  extra_warning_msg=_LOGISTIC_SOLVER_CONVERGENCE_MSG,\n"
          ]
        },
        {
          "output_type": "stream",
          "name": "stdout",
          "text": [
            "[CV] END ..............................kmeans__n_clusters=86; total time=   2.0s\n"
          ]
        },
        {
          "output_type": "stream",
          "name": "stderr",
          "text": [
            "/usr/local/lib/python3.7/dist-packages/sklearn/linear_model/_logistic.py:818: ConvergenceWarning: lbfgs failed to converge (status=1):\n",
            "STOP: TOTAL NO. of ITERATIONS REACHED LIMIT.\n",
            "\n",
            "Increase the number of iterations (max_iter) or scale the data as shown in:\n",
            "    https://scikit-learn.org/stable/modules/preprocessing.html\n",
            "Please also refer to the documentation for alternative solver options:\n",
            "    https://scikit-learn.org/stable/modules/linear_model.html#logistic-regression\n",
            "  extra_warning_msg=_LOGISTIC_SOLVER_CONVERGENCE_MSG,\n"
          ]
        },
        {
          "output_type": "stream",
          "name": "stdout",
          "text": [
            "[CV] END ..............................kmeans__n_clusters=87; total time=   2.4s\n"
          ]
        },
        {
          "output_type": "stream",
          "name": "stderr",
          "text": [
            "/usr/local/lib/python3.7/dist-packages/sklearn/linear_model/_logistic.py:818: ConvergenceWarning: lbfgs failed to converge (status=1):\n",
            "STOP: TOTAL NO. of ITERATIONS REACHED LIMIT.\n",
            "\n",
            "Increase the number of iterations (max_iter) or scale the data as shown in:\n",
            "    https://scikit-learn.org/stable/modules/preprocessing.html\n",
            "Please also refer to the documentation for alternative solver options:\n",
            "    https://scikit-learn.org/stable/modules/linear_model.html#logistic-regression\n",
            "  extra_warning_msg=_LOGISTIC_SOLVER_CONVERGENCE_MSG,\n"
          ]
        },
        {
          "output_type": "stream",
          "name": "stdout",
          "text": [
            "[CV] END ..............................kmeans__n_clusters=87; total time=   2.6s\n"
          ]
        },
        {
          "output_type": "stream",
          "name": "stderr",
          "text": [
            "/usr/local/lib/python3.7/dist-packages/sklearn/linear_model/_logistic.py:818: ConvergenceWarning: lbfgs failed to converge (status=1):\n",
            "STOP: TOTAL NO. of ITERATIONS REACHED LIMIT.\n",
            "\n",
            "Increase the number of iterations (max_iter) or scale the data as shown in:\n",
            "    https://scikit-learn.org/stable/modules/preprocessing.html\n",
            "Please also refer to the documentation for alternative solver options:\n",
            "    https://scikit-learn.org/stable/modules/linear_model.html#logistic-regression\n",
            "  extra_warning_msg=_LOGISTIC_SOLVER_CONVERGENCE_MSG,\n"
          ]
        },
        {
          "output_type": "stream",
          "name": "stdout",
          "text": [
            "[CV] END ..............................kmeans__n_clusters=87; total time=   2.2s\n"
          ]
        },
        {
          "output_type": "stream",
          "name": "stderr",
          "text": [
            "/usr/local/lib/python3.7/dist-packages/sklearn/linear_model/_logistic.py:818: ConvergenceWarning: lbfgs failed to converge (status=1):\n",
            "STOP: TOTAL NO. of ITERATIONS REACHED LIMIT.\n",
            "\n",
            "Increase the number of iterations (max_iter) or scale the data as shown in:\n",
            "    https://scikit-learn.org/stable/modules/preprocessing.html\n",
            "Please also refer to the documentation for alternative solver options:\n",
            "    https://scikit-learn.org/stable/modules/linear_model.html#logistic-regression\n",
            "  extra_warning_msg=_LOGISTIC_SOLVER_CONVERGENCE_MSG,\n"
          ]
        },
        {
          "output_type": "stream",
          "name": "stdout",
          "text": [
            "[CV] END ..............................kmeans__n_clusters=88; total time=   2.3s\n"
          ]
        },
        {
          "output_type": "stream",
          "name": "stderr",
          "text": [
            "/usr/local/lib/python3.7/dist-packages/sklearn/linear_model/_logistic.py:818: ConvergenceWarning: lbfgs failed to converge (status=1):\n",
            "STOP: TOTAL NO. of ITERATIONS REACHED LIMIT.\n",
            "\n",
            "Increase the number of iterations (max_iter) or scale the data as shown in:\n",
            "    https://scikit-learn.org/stable/modules/preprocessing.html\n",
            "Please also refer to the documentation for alternative solver options:\n",
            "    https://scikit-learn.org/stable/modules/linear_model.html#logistic-regression\n",
            "  extra_warning_msg=_LOGISTIC_SOLVER_CONVERGENCE_MSG,\n"
          ]
        },
        {
          "output_type": "stream",
          "name": "stdout",
          "text": [
            "[CV] END ..............................kmeans__n_clusters=88; total time=   2.2s\n"
          ]
        },
        {
          "output_type": "stream",
          "name": "stderr",
          "text": [
            "/usr/local/lib/python3.7/dist-packages/sklearn/linear_model/_logistic.py:818: ConvergenceWarning: lbfgs failed to converge (status=1):\n",
            "STOP: TOTAL NO. of ITERATIONS REACHED LIMIT.\n",
            "\n",
            "Increase the number of iterations (max_iter) or scale the data as shown in:\n",
            "    https://scikit-learn.org/stable/modules/preprocessing.html\n",
            "Please also refer to the documentation for alternative solver options:\n",
            "    https://scikit-learn.org/stable/modules/linear_model.html#logistic-regression\n",
            "  extra_warning_msg=_LOGISTIC_SOLVER_CONVERGENCE_MSG,\n"
          ]
        },
        {
          "output_type": "stream",
          "name": "stdout",
          "text": [
            "[CV] END ..............................kmeans__n_clusters=88; total time=   2.4s\n"
          ]
        },
        {
          "output_type": "stream",
          "name": "stderr",
          "text": [
            "/usr/local/lib/python3.7/dist-packages/sklearn/linear_model/_logistic.py:818: ConvergenceWarning: lbfgs failed to converge (status=1):\n",
            "STOP: TOTAL NO. of ITERATIONS REACHED LIMIT.\n",
            "\n",
            "Increase the number of iterations (max_iter) or scale the data as shown in:\n",
            "    https://scikit-learn.org/stable/modules/preprocessing.html\n",
            "Please also refer to the documentation for alternative solver options:\n",
            "    https://scikit-learn.org/stable/modules/linear_model.html#logistic-regression\n",
            "  extra_warning_msg=_LOGISTIC_SOLVER_CONVERGENCE_MSG,\n"
          ]
        },
        {
          "output_type": "stream",
          "name": "stdout",
          "text": [
            "[CV] END ..............................kmeans__n_clusters=89; total time=   2.2s\n"
          ]
        },
        {
          "output_type": "stream",
          "name": "stderr",
          "text": [
            "/usr/local/lib/python3.7/dist-packages/sklearn/linear_model/_logistic.py:818: ConvergenceWarning: lbfgs failed to converge (status=1):\n",
            "STOP: TOTAL NO. of ITERATIONS REACHED LIMIT.\n",
            "\n",
            "Increase the number of iterations (max_iter) or scale the data as shown in:\n",
            "    https://scikit-learn.org/stable/modules/preprocessing.html\n",
            "Please also refer to the documentation for alternative solver options:\n",
            "    https://scikit-learn.org/stable/modules/linear_model.html#logistic-regression\n",
            "  extra_warning_msg=_LOGISTIC_SOLVER_CONVERGENCE_MSG,\n"
          ]
        },
        {
          "output_type": "stream",
          "name": "stdout",
          "text": [
            "[CV] END ..............................kmeans__n_clusters=89; total time=   2.1s\n"
          ]
        },
        {
          "output_type": "stream",
          "name": "stderr",
          "text": [
            "/usr/local/lib/python3.7/dist-packages/sklearn/linear_model/_logistic.py:818: ConvergenceWarning: lbfgs failed to converge (status=1):\n",
            "STOP: TOTAL NO. of ITERATIONS REACHED LIMIT.\n",
            "\n",
            "Increase the number of iterations (max_iter) or scale the data as shown in:\n",
            "    https://scikit-learn.org/stable/modules/preprocessing.html\n",
            "Please also refer to the documentation for alternative solver options:\n",
            "    https://scikit-learn.org/stable/modules/linear_model.html#logistic-regression\n",
            "  extra_warning_msg=_LOGISTIC_SOLVER_CONVERGENCE_MSG,\n"
          ]
        },
        {
          "output_type": "stream",
          "name": "stdout",
          "text": [
            "[CV] END ..............................kmeans__n_clusters=89; total time=   2.5s\n"
          ]
        },
        {
          "output_type": "stream",
          "name": "stderr",
          "text": [
            "/usr/local/lib/python3.7/dist-packages/sklearn/linear_model/_logistic.py:818: ConvergenceWarning: lbfgs failed to converge (status=1):\n",
            "STOP: TOTAL NO. of ITERATIONS REACHED LIMIT.\n",
            "\n",
            "Increase the number of iterations (max_iter) or scale the data as shown in:\n",
            "    https://scikit-learn.org/stable/modules/preprocessing.html\n",
            "Please also refer to the documentation for alternative solver options:\n",
            "    https://scikit-learn.org/stable/modules/linear_model.html#logistic-regression\n",
            "  extra_warning_msg=_LOGISTIC_SOLVER_CONVERGENCE_MSG,\n"
          ]
        },
        {
          "output_type": "stream",
          "name": "stdout",
          "text": [
            "[CV] END ..............................kmeans__n_clusters=90; total time=   2.3s\n"
          ]
        },
        {
          "output_type": "stream",
          "name": "stderr",
          "text": [
            "/usr/local/lib/python3.7/dist-packages/sklearn/linear_model/_logistic.py:818: ConvergenceWarning: lbfgs failed to converge (status=1):\n",
            "STOP: TOTAL NO. of ITERATIONS REACHED LIMIT.\n",
            "\n",
            "Increase the number of iterations (max_iter) or scale the data as shown in:\n",
            "    https://scikit-learn.org/stable/modules/preprocessing.html\n",
            "Please also refer to the documentation for alternative solver options:\n",
            "    https://scikit-learn.org/stable/modules/linear_model.html#logistic-regression\n",
            "  extra_warning_msg=_LOGISTIC_SOLVER_CONVERGENCE_MSG,\n"
          ]
        },
        {
          "output_type": "stream",
          "name": "stdout",
          "text": [
            "[CV] END ..............................kmeans__n_clusters=90; total time=   2.4s\n"
          ]
        },
        {
          "output_type": "stream",
          "name": "stderr",
          "text": [
            "/usr/local/lib/python3.7/dist-packages/sklearn/linear_model/_logistic.py:818: ConvergenceWarning: lbfgs failed to converge (status=1):\n",
            "STOP: TOTAL NO. of ITERATIONS REACHED LIMIT.\n",
            "\n",
            "Increase the number of iterations (max_iter) or scale the data as shown in:\n",
            "    https://scikit-learn.org/stable/modules/preprocessing.html\n",
            "Please also refer to the documentation for alternative solver options:\n",
            "    https://scikit-learn.org/stable/modules/linear_model.html#logistic-regression\n",
            "  extra_warning_msg=_LOGISTIC_SOLVER_CONVERGENCE_MSG,\n"
          ]
        },
        {
          "output_type": "stream",
          "name": "stdout",
          "text": [
            "[CV] END ..............................kmeans__n_clusters=90; total time=   2.6s\n"
          ]
        },
        {
          "output_type": "stream",
          "name": "stderr",
          "text": [
            "/usr/local/lib/python3.7/dist-packages/sklearn/linear_model/_logistic.py:818: ConvergenceWarning: lbfgs failed to converge (status=1):\n",
            "STOP: TOTAL NO. of ITERATIONS REACHED LIMIT.\n",
            "\n",
            "Increase the number of iterations (max_iter) or scale the data as shown in:\n",
            "    https://scikit-learn.org/stable/modules/preprocessing.html\n",
            "Please also refer to the documentation for alternative solver options:\n",
            "    https://scikit-learn.org/stable/modules/linear_model.html#logistic-regression\n",
            "  extra_warning_msg=_LOGISTIC_SOLVER_CONVERGENCE_MSG,\n"
          ]
        },
        {
          "output_type": "stream",
          "name": "stdout",
          "text": [
            "[CV] END ..............................kmeans__n_clusters=91; total time=   2.4s\n"
          ]
        },
        {
          "output_type": "stream",
          "name": "stderr",
          "text": [
            "/usr/local/lib/python3.7/dist-packages/sklearn/linear_model/_logistic.py:818: ConvergenceWarning: lbfgs failed to converge (status=1):\n",
            "STOP: TOTAL NO. of ITERATIONS REACHED LIMIT.\n",
            "\n",
            "Increase the number of iterations (max_iter) or scale the data as shown in:\n",
            "    https://scikit-learn.org/stable/modules/preprocessing.html\n",
            "Please also refer to the documentation for alternative solver options:\n",
            "    https://scikit-learn.org/stable/modules/linear_model.html#logistic-regression\n",
            "  extra_warning_msg=_LOGISTIC_SOLVER_CONVERGENCE_MSG,\n"
          ]
        },
        {
          "output_type": "stream",
          "name": "stdout",
          "text": [
            "[CV] END ..............................kmeans__n_clusters=91; total time=   2.4s\n"
          ]
        },
        {
          "output_type": "stream",
          "name": "stderr",
          "text": [
            "/usr/local/lib/python3.7/dist-packages/sklearn/linear_model/_logistic.py:818: ConvergenceWarning: lbfgs failed to converge (status=1):\n",
            "STOP: TOTAL NO. of ITERATIONS REACHED LIMIT.\n",
            "\n",
            "Increase the number of iterations (max_iter) or scale the data as shown in:\n",
            "    https://scikit-learn.org/stable/modules/preprocessing.html\n",
            "Please also refer to the documentation for alternative solver options:\n",
            "    https://scikit-learn.org/stable/modules/linear_model.html#logistic-regression\n",
            "  extra_warning_msg=_LOGISTIC_SOLVER_CONVERGENCE_MSG,\n"
          ]
        },
        {
          "output_type": "stream",
          "name": "stdout",
          "text": [
            "[CV] END ..............................kmeans__n_clusters=91; total time=   2.3s\n"
          ]
        },
        {
          "output_type": "stream",
          "name": "stderr",
          "text": [
            "/usr/local/lib/python3.7/dist-packages/sklearn/linear_model/_logistic.py:818: ConvergenceWarning: lbfgs failed to converge (status=1):\n",
            "STOP: TOTAL NO. of ITERATIONS REACHED LIMIT.\n",
            "\n",
            "Increase the number of iterations (max_iter) or scale the data as shown in:\n",
            "    https://scikit-learn.org/stable/modules/preprocessing.html\n",
            "Please also refer to the documentation for alternative solver options:\n",
            "    https://scikit-learn.org/stable/modules/linear_model.html#logistic-regression\n",
            "  extra_warning_msg=_LOGISTIC_SOLVER_CONVERGENCE_MSG,\n"
          ]
        },
        {
          "output_type": "stream",
          "name": "stdout",
          "text": [
            "[CV] END ..............................kmeans__n_clusters=92; total time=   2.6s\n"
          ]
        },
        {
          "output_type": "stream",
          "name": "stderr",
          "text": [
            "/usr/local/lib/python3.7/dist-packages/sklearn/linear_model/_logistic.py:818: ConvergenceWarning: lbfgs failed to converge (status=1):\n",
            "STOP: TOTAL NO. of ITERATIONS REACHED LIMIT.\n",
            "\n",
            "Increase the number of iterations (max_iter) or scale the data as shown in:\n",
            "    https://scikit-learn.org/stable/modules/preprocessing.html\n",
            "Please also refer to the documentation for alternative solver options:\n",
            "    https://scikit-learn.org/stable/modules/linear_model.html#logistic-regression\n",
            "  extra_warning_msg=_LOGISTIC_SOLVER_CONVERGENCE_MSG,\n"
          ]
        },
        {
          "output_type": "stream",
          "name": "stdout",
          "text": [
            "[CV] END ..............................kmeans__n_clusters=92; total time=   2.2s\n"
          ]
        },
        {
          "output_type": "stream",
          "name": "stderr",
          "text": [
            "/usr/local/lib/python3.7/dist-packages/sklearn/linear_model/_logistic.py:818: ConvergenceWarning: lbfgs failed to converge (status=1):\n",
            "STOP: TOTAL NO. of ITERATIONS REACHED LIMIT.\n",
            "\n",
            "Increase the number of iterations (max_iter) or scale the data as shown in:\n",
            "    https://scikit-learn.org/stable/modules/preprocessing.html\n",
            "Please also refer to the documentation for alternative solver options:\n",
            "    https://scikit-learn.org/stable/modules/linear_model.html#logistic-regression\n",
            "  extra_warning_msg=_LOGISTIC_SOLVER_CONVERGENCE_MSG,\n"
          ]
        },
        {
          "output_type": "stream",
          "name": "stdout",
          "text": [
            "[CV] END ..............................kmeans__n_clusters=92; total time=   2.7s\n"
          ]
        },
        {
          "output_type": "stream",
          "name": "stderr",
          "text": [
            "/usr/local/lib/python3.7/dist-packages/sklearn/linear_model/_logistic.py:818: ConvergenceWarning: lbfgs failed to converge (status=1):\n",
            "STOP: TOTAL NO. of ITERATIONS REACHED LIMIT.\n",
            "\n",
            "Increase the number of iterations (max_iter) or scale the data as shown in:\n",
            "    https://scikit-learn.org/stable/modules/preprocessing.html\n",
            "Please also refer to the documentation for alternative solver options:\n",
            "    https://scikit-learn.org/stable/modules/linear_model.html#logistic-regression\n",
            "  extra_warning_msg=_LOGISTIC_SOLVER_CONVERGENCE_MSG,\n"
          ]
        },
        {
          "output_type": "stream",
          "name": "stdout",
          "text": [
            "[CV] END ..............................kmeans__n_clusters=93; total time=   2.1s\n"
          ]
        },
        {
          "output_type": "stream",
          "name": "stderr",
          "text": [
            "/usr/local/lib/python3.7/dist-packages/sklearn/linear_model/_logistic.py:818: ConvergenceWarning: lbfgs failed to converge (status=1):\n",
            "STOP: TOTAL NO. of ITERATIONS REACHED LIMIT.\n",
            "\n",
            "Increase the number of iterations (max_iter) or scale the data as shown in:\n",
            "    https://scikit-learn.org/stable/modules/preprocessing.html\n",
            "Please also refer to the documentation for alternative solver options:\n",
            "    https://scikit-learn.org/stable/modules/linear_model.html#logistic-regression\n",
            "  extra_warning_msg=_LOGISTIC_SOLVER_CONVERGENCE_MSG,\n"
          ]
        },
        {
          "output_type": "stream",
          "name": "stdout",
          "text": [
            "[CV] END ..............................kmeans__n_clusters=93; total time=   3.2s\n"
          ]
        },
        {
          "output_type": "stream",
          "name": "stderr",
          "text": [
            "/usr/local/lib/python3.7/dist-packages/sklearn/linear_model/_logistic.py:818: ConvergenceWarning: lbfgs failed to converge (status=1):\n",
            "STOP: TOTAL NO. of ITERATIONS REACHED LIMIT.\n",
            "\n",
            "Increase the number of iterations (max_iter) or scale the data as shown in:\n",
            "    https://scikit-learn.org/stable/modules/preprocessing.html\n",
            "Please also refer to the documentation for alternative solver options:\n",
            "    https://scikit-learn.org/stable/modules/linear_model.html#logistic-regression\n",
            "  extra_warning_msg=_LOGISTIC_SOLVER_CONVERGENCE_MSG,\n"
          ]
        },
        {
          "output_type": "stream",
          "name": "stdout",
          "text": [
            "[CV] END ..............................kmeans__n_clusters=93; total time=   2.6s\n"
          ]
        },
        {
          "output_type": "stream",
          "name": "stderr",
          "text": [
            "/usr/local/lib/python3.7/dist-packages/sklearn/linear_model/_logistic.py:818: ConvergenceWarning: lbfgs failed to converge (status=1):\n",
            "STOP: TOTAL NO. of ITERATIONS REACHED LIMIT.\n",
            "\n",
            "Increase the number of iterations (max_iter) or scale the data as shown in:\n",
            "    https://scikit-learn.org/stable/modules/preprocessing.html\n",
            "Please also refer to the documentation for alternative solver options:\n",
            "    https://scikit-learn.org/stable/modules/linear_model.html#logistic-regression\n",
            "  extra_warning_msg=_LOGISTIC_SOLVER_CONVERGENCE_MSG,\n"
          ]
        },
        {
          "output_type": "stream",
          "name": "stdout",
          "text": [
            "[CV] END ..............................kmeans__n_clusters=94; total time=   2.4s\n"
          ]
        },
        {
          "output_type": "stream",
          "name": "stderr",
          "text": [
            "/usr/local/lib/python3.7/dist-packages/sklearn/linear_model/_logistic.py:818: ConvergenceWarning: lbfgs failed to converge (status=1):\n",
            "STOP: TOTAL NO. of ITERATIONS REACHED LIMIT.\n",
            "\n",
            "Increase the number of iterations (max_iter) or scale the data as shown in:\n",
            "    https://scikit-learn.org/stable/modules/preprocessing.html\n",
            "Please also refer to the documentation for alternative solver options:\n",
            "    https://scikit-learn.org/stable/modules/linear_model.html#logistic-regression\n",
            "  extra_warning_msg=_LOGISTIC_SOLVER_CONVERGENCE_MSG,\n"
          ]
        },
        {
          "output_type": "stream",
          "name": "stdout",
          "text": [
            "[CV] END ..............................kmeans__n_clusters=94; total time=   2.5s\n"
          ]
        },
        {
          "output_type": "stream",
          "name": "stderr",
          "text": [
            "/usr/local/lib/python3.7/dist-packages/sklearn/linear_model/_logistic.py:818: ConvergenceWarning: lbfgs failed to converge (status=1):\n",
            "STOP: TOTAL NO. of ITERATIONS REACHED LIMIT.\n",
            "\n",
            "Increase the number of iterations (max_iter) or scale the data as shown in:\n",
            "    https://scikit-learn.org/stable/modules/preprocessing.html\n",
            "Please also refer to the documentation for alternative solver options:\n",
            "    https://scikit-learn.org/stable/modules/linear_model.html#logistic-regression\n",
            "  extra_warning_msg=_LOGISTIC_SOLVER_CONVERGENCE_MSG,\n"
          ]
        },
        {
          "output_type": "stream",
          "name": "stdout",
          "text": [
            "[CV] END ..............................kmeans__n_clusters=94; total time=   2.6s\n"
          ]
        },
        {
          "output_type": "stream",
          "name": "stderr",
          "text": [
            "/usr/local/lib/python3.7/dist-packages/sklearn/linear_model/_logistic.py:818: ConvergenceWarning: lbfgs failed to converge (status=1):\n",
            "STOP: TOTAL NO. of ITERATIONS REACHED LIMIT.\n",
            "\n",
            "Increase the number of iterations (max_iter) or scale the data as shown in:\n",
            "    https://scikit-learn.org/stable/modules/preprocessing.html\n",
            "Please also refer to the documentation for alternative solver options:\n",
            "    https://scikit-learn.org/stable/modules/linear_model.html#logistic-regression\n",
            "  extra_warning_msg=_LOGISTIC_SOLVER_CONVERGENCE_MSG,\n"
          ]
        },
        {
          "output_type": "stream",
          "name": "stdout",
          "text": [
            "[CV] END ..............................kmeans__n_clusters=95; total time=   2.5s\n"
          ]
        },
        {
          "output_type": "stream",
          "name": "stderr",
          "text": [
            "/usr/local/lib/python3.7/dist-packages/sklearn/linear_model/_logistic.py:818: ConvergenceWarning: lbfgs failed to converge (status=1):\n",
            "STOP: TOTAL NO. of ITERATIONS REACHED LIMIT.\n",
            "\n",
            "Increase the number of iterations (max_iter) or scale the data as shown in:\n",
            "    https://scikit-learn.org/stable/modules/preprocessing.html\n",
            "Please also refer to the documentation for alternative solver options:\n",
            "    https://scikit-learn.org/stable/modules/linear_model.html#logistic-regression\n",
            "  extra_warning_msg=_LOGISTIC_SOLVER_CONVERGENCE_MSG,\n"
          ]
        },
        {
          "output_type": "stream",
          "name": "stdout",
          "text": [
            "[CV] END ..............................kmeans__n_clusters=95; total time=   2.4s\n"
          ]
        },
        {
          "output_type": "stream",
          "name": "stderr",
          "text": [
            "/usr/local/lib/python3.7/dist-packages/sklearn/linear_model/_logistic.py:818: ConvergenceWarning: lbfgs failed to converge (status=1):\n",
            "STOP: TOTAL NO. of ITERATIONS REACHED LIMIT.\n",
            "\n",
            "Increase the number of iterations (max_iter) or scale the data as shown in:\n",
            "    https://scikit-learn.org/stable/modules/preprocessing.html\n",
            "Please also refer to the documentation for alternative solver options:\n",
            "    https://scikit-learn.org/stable/modules/linear_model.html#logistic-regression\n",
            "  extra_warning_msg=_LOGISTIC_SOLVER_CONVERGENCE_MSG,\n"
          ]
        },
        {
          "output_type": "stream",
          "name": "stdout",
          "text": [
            "[CV] END ..............................kmeans__n_clusters=95; total time=   2.5s\n"
          ]
        },
        {
          "output_type": "stream",
          "name": "stderr",
          "text": [
            "/usr/local/lib/python3.7/dist-packages/sklearn/linear_model/_logistic.py:818: ConvergenceWarning: lbfgs failed to converge (status=1):\n",
            "STOP: TOTAL NO. of ITERATIONS REACHED LIMIT.\n",
            "\n",
            "Increase the number of iterations (max_iter) or scale the data as shown in:\n",
            "    https://scikit-learn.org/stable/modules/preprocessing.html\n",
            "Please also refer to the documentation for alternative solver options:\n",
            "    https://scikit-learn.org/stable/modules/linear_model.html#logistic-regression\n",
            "  extra_warning_msg=_LOGISTIC_SOLVER_CONVERGENCE_MSG,\n"
          ]
        },
        {
          "output_type": "stream",
          "name": "stdout",
          "text": [
            "[CV] END ..............................kmeans__n_clusters=96; total time=   2.5s\n"
          ]
        },
        {
          "output_type": "stream",
          "name": "stderr",
          "text": [
            "/usr/local/lib/python3.7/dist-packages/sklearn/linear_model/_logistic.py:818: ConvergenceWarning: lbfgs failed to converge (status=1):\n",
            "STOP: TOTAL NO. of ITERATIONS REACHED LIMIT.\n",
            "\n",
            "Increase the number of iterations (max_iter) or scale the data as shown in:\n",
            "    https://scikit-learn.org/stable/modules/preprocessing.html\n",
            "Please also refer to the documentation for alternative solver options:\n",
            "    https://scikit-learn.org/stable/modules/linear_model.html#logistic-regression\n",
            "  extra_warning_msg=_LOGISTIC_SOLVER_CONVERGENCE_MSG,\n"
          ]
        },
        {
          "output_type": "stream",
          "name": "stdout",
          "text": [
            "[CV] END ..............................kmeans__n_clusters=96; total time=   2.9s\n"
          ]
        },
        {
          "output_type": "stream",
          "name": "stderr",
          "text": [
            "/usr/local/lib/python3.7/dist-packages/sklearn/linear_model/_logistic.py:818: ConvergenceWarning: lbfgs failed to converge (status=1):\n",
            "STOP: TOTAL NO. of ITERATIONS REACHED LIMIT.\n",
            "\n",
            "Increase the number of iterations (max_iter) or scale the data as shown in:\n",
            "    https://scikit-learn.org/stable/modules/preprocessing.html\n",
            "Please also refer to the documentation for alternative solver options:\n",
            "    https://scikit-learn.org/stable/modules/linear_model.html#logistic-regression\n",
            "  extra_warning_msg=_LOGISTIC_SOLVER_CONVERGENCE_MSG,\n"
          ]
        },
        {
          "output_type": "stream",
          "name": "stdout",
          "text": [
            "[CV] END ..............................kmeans__n_clusters=96; total time=   2.7s\n"
          ]
        },
        {
          "output_type": "stream",
          "name": "stderr",
          "text": [
            "/usr/local/lib/python3.7/dist-packages/sklearn/linear_model/_logistic.py:818: ConvergenceWarning: lbfgs failed to converge (status=1):\n",
            "STOP: TOTAL NO. of ITERATIONS REACHED LIMIT.\n",
            "\n",
            "Increase the number of iterations (max_iter) or scale the data as shown in:\n",
            "    https://scikit-learn.org/stable/modules/preprocessing.html\n",
            "Please also refer to the documentation for alternative solver options:\n",
            "    https://scikit-learn.org/stable/modules/linear_model.html#logistic-regression\n",
            "  extra_warning_msg=_LOGISTIC_SOLVER_CONVERGENCE_MSG,\n"
          ]
        },
        {
          "output_type": "stream",
          "name": "stdout",
          "text": [
            "[CV] END ..............................kmeans__n_clusters=97; total time=   2.5s\n"
          ]
        },
        {
          "output_type": "stream",
          "name": "stderr",
          "text": [
            "/usr/local/lib/python3.7/dist-packages/sklearn/linear_model/_logistic.py:818: ConvergenceWarning: lbfgs failed to converge (status=1):\n",
            "STOP: TOTAL NO. of ITERATIONS REACHED LIMIT.\n",
            "\n",
            "Increase the number of iterations (max_iter) or scale the data as shown in:\n",
            "    https://scikit-learn.org/stable/modules/preprocessing.html\n",
            "Please also refer to the documentation for alternative solver options:\n",
            "    https://scikit-learn.org/stable/modules/linear_model.html#logistic-regression\n",
            "  extra_warning_msg=_LOGISTIC_SOLVER_CONVERGENCE_MSG,\n"
          ]
        },
        {
          "output_type": "stream",
          "name": "stdout",
          "text": [
            "[CV] END ..............................kmeans__n_clusters=97; total time=   2.7s\n"
          ]
        },
        {
          "output_type": "stream",
          "name": "stderr",
          "text": [
            "/usr/local/lib/python3.7/dist-packages/sklearn/linear_model/_logistic.py:818: ConvergenceWarning: lbfgs failed to converge (status=1):\n",
            "STOP: TOTAL NO. of ITERATIONS REACHED LIMIT.\n",
            "\n",
            "Increase the number of iterations (max_iter) or scale the data as shown in:\n",
            "    https://scikit-learn.org/stable/modules/preprocessing.html\n",
            "Please also refer to the documentation for alternative solver options:\n",
            "    https://scikit-learn.org/stable/modules/linear_model.html#logistic-regression\n",
            "  extra_warning_msg=_LOGISTIC_SOLVER_CONVERGENCE_MSG,\n"
          ]
        },
        {
          "output_type": "stream",
          "name": "stdout",
          "text": [
            "[CV] END ..............................kmeans__n_clusters=97; total time=   2.4s\n"
          ]
        },
        {
          "output_type": "stream",
          "name": "stderr",
          "text": [
            "/usr/local/lib/python3.7/dist-packages/sklearn/linear_model/_logistic.py:818: ConvergenceWarning: lbfgs failed to converge (status=1):\n",
            "STOP: TOTAL NO. of ITERATIONS REACHED LIMIT.\n",
            "\n",
            "Increase the number of iterations (max_iter) or scale the data as shown in:\n",
            "    https://scikit-learn.org/stable/modules/preprocessing.html\n",
            "Please also refer to the documentation for alternative solver options:\n",
            "    https://scikit-learn.org/stable/modules/linear_model.html#logistic-regression\n",
            "  extra_warning_msg=_LOGISTIC_SOLVER_CONVERGENCE_MSG,\n"
          ]
        },
        {
          "output_type": "stream",
          "name": "stdout",
          "text": [
            "[CV] END ..............................kmeans__n_clusters=98; total time=   2.6s\n"
          ]
        },
        {
          "output_type": "stream",
          "name": "stderr",
          "text": [
            "/usr/local/lib/python3.7/dist-packages/sklearn/linear_model/_logistic.py:818: ConvergenceWarning: lbfgs failed to converge (status=1):\n",
            "STOP: TOTAL NO. of ITERATIONS REACHED LIMIT.\n",
            "\n",
            "Increase the number of iterations (max_iter) or scale the data as shown in:\n",
            "    https://scikit-learn.org/stable/modules/preprocessing.html\n",
            "Please also refer to the documentation for alternative solver options:\n",
            "    https://scikit-learn.org/stable/modules/linear_model.html#logistic-regression\n",
            "  extra_warning_msg=_LOGISTIC_SOLVER_CONVERGENCE_MSG,\n"
          ]
        },
        {
          "output_type": "stream",
          "name": "stdout",
          "text": [
            "[CV] END ..............................kmeans__n_clusters=98; total time=   2.9s\n"
          ]
        },
        {
          "output_type": "stream",
          "name": "stderr",
          "text": [
            "/usr/local/lib/python3.7/dist-packages/sklearn/linear_model/_logistic.py:818: ConvergenceWarning: lbfgs failed to converge (status=1):\n",
            "STOP: TOTAL NO. of ITERATIONS REACHED LIMIT.\n",
            "\n",
            "Increase the number of iterations (max_iter) or scale the data as shown in:\n",
            "    https://scikit-learn.org/stable/modules/preprocessing.html\n",
            "Please also refer to the documentation for alternative solver options:\n",
            "    https://scikit-learn.org/stable/modules/linear_model.html#logistic-regression\n",
            "  extra_warning_msg=_LOGISTIC_SOLVER_CONVERGENCE_MSG,\n"
          ]
        },
        {
          "output_type": "stream",
          "name": "stdout",
          "text": [
            "[CV] END ..............................kmeans__n_clusters=98; total time=   2.7s\n"
          ]
        },
        {
          "output_type": "stream",
          "name": "stderr",
          "text": [
            "/usr/local/lib/python3.7/dist-packages/sklearn/linear_model/_logistic.py:818: ConvergenceWarning: lbfgs failed to converge (status=1):\n",
            "STOP: TOTAL NO. of ITERATIONS REACHED LIMIT.\n",
            "\n",
            "Increase the number of iterations (max_iter) or scale the data as shown in:\n",
            "    https://scikit-learn.org/stable/modules/preprocessing.html\n",
            "Please also refer to the documentation for alternative solver options:\n",
            "    https://scikit-learn.org/stable/modules/linear_model.html#logistic-regression\n",
            "  extra_warning_msg=_LOGISTIC_SOLVER_CONVERGENCE_MSG,\n"
          ]
        },
        {
          "output_type": "stream",
          "name": "stdout",
          "text": [
            "[CV] END ..............................kmeans__n_clusters=99; total time=   3.3s\n"
          ]
        },
        {
          "output_type": "stream",
          "name": "stderr",
          "text": [
            "/usr/local/lib/python3.7/dist-packages/sklearn/linear_model/_logistic.py:818: ConvergenceWarning: lbfgs failed to converge (status=1):\n",
            "STOP: TOTAL NO. of ITERATIONS REACHED LIMIT.\n",
            "\n",
            "Increase the number of iterations (max_iter) or scale the data as shown in:\n",
            "    https://scikit-learn.org/stable/modules/preprocessing.html\n",
            "Please also refer to the documentation for alternative solver options:\n",
            "    https://scikit-learn.org/stable/modules/linear_model.html#logistic-regression\n",
            "  extra_warning_msg=_LOGISTIC_SOLVER_CONVERGENCE_MSG,\n"
          ]
        },
        {
          "output_type": "stream",
          "name": "stdout",
          "text": [
            "[CV] END ..............................kmeans__n_clusters=99; total time=   2.3s\n"
          ]
        },
        {
          "output_type": "stream",
          "name": "stderr",
          "text": [
            "/usr/local/lib/python3.7/dist-packages/sklearn/linear_model/_logistic.py:818: ConvergenceWarning: lbfgs failed to converge (status=1):\n",
            "STOP: TOTAL NO. of ITERATIONS REACHED LIMIT.\n",
            "\n",
            "Increase the number of iterations (max_iter) or scale the data as shown in:\n",
            "    https://scikit-learn.org/stable/modules/preprocessing.html\n",
            "Please also refer to the documentation for alternative solver options:\n",
            "    https://scikit-learn.org/stable/modules/linear_model.html#logistic-regression\n",
            "  extra_warning_msg=_LOGISTIC_SOLVER_CONVERGENCE_MSG,\n"
          ]
        },
        {
          "output_type": "stream",
          "name": "stdout",
          "text": [
            "[CV] END ..............................kmeans__n_clusters=99; total time=   2.8s\n"
          ]
        },
        {
          "output_type": "stream",
          "name": "stderr",
          "text": [
            "/usr/local/lib/python3.7/dist-packages/sklearn/linear_model/_logistic.py:818: ConvergenceWarning: lbfgs failed to converge (status=1):\n",
            "STOP: TOTAL NO. of ITERATIONS REACHED LIMIT.\n",
            "\n",
            "Increase the number of iterations (max_iter) or scale the data as shown in:\n",
            "    https://scikit-learn.org/stable/modules/preprocessing.html\n",
            "Please also refer to the documentation for alternative solver options:\n",
            "    https://scikit-learn.org/stable/modules/linear_model.html#logistic-regression\n",
            "  extra_warning_msg=_LOGISTIC_SOLVER_CONVERGENCE_MSG,\n"
          ]
        },
        {
          "output_type": "execute_result",
          "data": {
            "text/plain": [
              "GridSearchCV(cv=3,\n",
              "             estimator=Pipeline(steps=[('kmeans', KMeans(n_clusters=50)),\n",
              "                                       ('log_reg', LogisticRegression())]),\n",
              "             param_grid={'kmeans__n_clusters': range(2, 100)}, verbose=2)"
            ]
          },
          "metadata": {},
          "execution_count": 36
        }
      ]
    },
    {
      "cell_type": "code",
      "source": [
        "# 최선의 k값\n",
        "grid_clf.best_params_"
      ],
      "metadata": {
        "colab": {
          "base_uri": "https://localhost:8080/"
        },
        "id": "6IabYeZRtVwc",
        "outputId": "af25de5b-b2d4-40f7-c51b-0bbd7faa05a7"
      },
      "execution_count": null,
      "outputs": [
        {
          "output_type": "execute_result",
          "data": {
            "text/plain": [
              "{'kmeans__n_clusters': 45}"
            ]
          },
          "metadata": {},
          "execution_count": 37
        }
      ]
    },
    {
      "cell_type": "code",
      "source": [
        "# 파이프라인의 성능\n",
        "grid_clf.score(X_test, y_test)"
      ],
      "metadata": {
        "colab": {
          "base_uri": "https://localhost:8080/"
        },
        "id": "RSDsShVltYis",
        "outputId": "c2b4ec8b-8449-4371-ebf5-a1f1e32abfd6"
      },
      "execution_count": null,
      "outputs": [
        {
          "output_type": "execute_result",
          "data": {
            "text/plain": [
              "0.9511111111111111"
            ]
          },
          "metadata": {},
          "execution_count": 38
        }
      ]
    },
    {
      "cell_type": "markdown",
      "source": [
        "#### 9.1.5 군집을 사용한 준지도 학습"
      ],
      "metadata": {
        "id": "B6U8fRZbtb24"
      }
    },
    {
      "cell_type": "markdown",
      "source": [
        "레이블이 없는 데이터가 많고 레이블이 있는 데이터는 적을 때 사용"
      ],
      "metadata": {
        "id": "oG78_Ns9-iq-"
      }
    },
    {
      "cell_type": "code",
      "source": [
        "# 숫자 데이터셋에서 레이블된 50개의 샘플에 로지스틱 회귀모델 훈련\n",
        "n_labeled = 50\n",
        "log_reg = LogisticRegression()\n",
        "log_reg.fit(X_train[:n_labeled], y_train[:n_labeled])"
      ],
      "metadata": {
        "colab": {
          "base_uri": "https://localhost:8080/"
        },
        "id": "2eJlV5_eta61",
        "outputId": "851887bd-ce68-46bd-8119-271dfff76024"
      },
      "execution_count": null,
      "outputs": [
        {
          "output_type": "stream",
          "name": "stderr",
          "text": [
            "/usr/local/lib/python3.7/dist-packages/sklearn/linear_model/_logistic.py:818: ConvergenceWarning: lbfgs failed to converge (status=1):\n",
            "STOP: TOTAL NO. of ITERATIONS REACHED LIMIT.\n",
            "\n",
            "Increase the number of iterations (max_iter) or scale the data as shown in:\n",
            "    https://scikit-learn.org/stable/modules/preprocessing.html\n",
            "Please also refer to the documentation for alternative solver options:\n",
            "    https://scikit-learn.org/stable/modules/linear_model.html#logistic-regression\n",
            "  extra_warning_msg=_LOGISTIC_SOLVER_CONVERGENCE_MSG,\n"
          ]
        },
        {
          "output_type": "execute_result",
          "data": {
            "text/plain": [
              "LogisticRegression()"
            ]
          },
          "metadata": {},
          "execution_count": 39
        }
      ]
    },
    {
      "cell_type": "code",
      "source": [
        "# 성능 평가\n",
        "log_reg.score(X_test, y_test)"
      ],
      "metadata": {
        "colab": {
          "base_uri": "https://localhost:8080/"
        },
        "id": "pi5AVgset0eg",
        "outputId": "78b9a5b0-41ec-4316-d54f-46f0cbe5e4a9"
      },
      "execution_count": null,
      "outputs": [
        {
          "output_type": "execute_result",
          "data": {
            "text/plain": [
              "0.8377777777777777"
            ]
          },
          "metadata": {},
          "execution_count": 40
        }
      ]
    },
    {
      "cell_type": "markdown",
      "source": [
        "**대표 이미지representative image** 각 클러스터에서 센트로이드에 가장 가까운 이미지"
      ],
      "metadata": {
        "id": "0bqVWrE6-tj-"
      }
    },
    {
      "cell_type": "code",
      "source": [
        "k = 50\n",
        "kmeans = KMeans(n_clusters=k)\n",
        "X_digits_dist = kmeans.fit_transform(X_train)\n",
        "representative_digit_idx = np.argmin(X_digits_dist, axis=0)\n",
        "X_representative_digits = X_train[representative_digit_idx]"
      ],
      "metadata": {
        "id": "NqUwLgqlt30z"
      },
      "execution_count": null,
      "outputs": []
    },
    {
      "cell_type": "code",
      "source": [
        "y_representative_digits = np.array([\n",
        "    0, 1, 3, 2, 7, 6, 4, 6, 9, 5,\n",
        "    1, 2, 9, 5, 2, 7, 8, 1, 8, 6,\n",
        "    3, 1, 5, 4, 5, 4, 0, 3, 2, 6,\n",
        "    1, 7, 7, 9, 1, 8, 6, 5, 4, 8,\n",
        "    5, 3, 3, 6, 7, 9, 7, 8, 4, 9])"
      ],
      "metadata": {
        "id": "kQIINXiMuJJT"
      },
      "execution_count": null,
      "outputs": []
    },
    {
      "cell_type": "code",
      "source": [
        "log_reg = LogisticRegression()\n",
        "log_reg.fit(X_representative_digits, y_representative_digits)\n",
        "log_reg.score(X_test, y_test)"
      ],
      "metadata": {
        "colab": {
          "base_uri": "https://localhost:8080/"
        },
        "id": "WSnZ7-03uQc0",
        "outputId": "4a172b6d-2d26-463e-a082-e690471db85a"
      },
      "execution_count": null,
      "outputs": [
        {
          "output_type": "stream",
          "name": "stderr",
          "text": [
            "/usr/local/lib/python3.7/dist-packages/sklearn/linear_model/_logistic.py:818: ConvergenceWarning: lbfgs failed to converge (status=1):\n",
            "STOP: TOTAL NO. of ITERATIONS REACHED LIMIT.\n",
            "\n",
            "Increase the number of iterations (max_iter) or scale the data as shown in:\n",
            "    https://scikit-learn.org/stable/modules/preprocessing.html\n",
            "Please also refer to the documentation for alternative solver options:\n",
            "    https://scikit-learn.org/stable/modules/linear_model.html#logistic-regression\n",
            "  extra_warning_msg=_LOGISTIC_SOLVER_CONVERGENCE_MSG,\n"
          ]
        },
        {
          "output_type": "execute_result",
          "data": {
            "text/plain": [
              "0.09777777777777778"
            ]
          },
          "metadata": {},
          "execution_count": 46
        }
      ]
    },
    {
      "cell_type": "markdown",
      "source": [
        "**레이블 전파label propagation** 레이블을 동일한 클러스터에 있는 모든 샘플로 전파"
      ],
      "metadata": {
        "id": "dCqZkGAP_Nur"
      }
    },
    {
      "cell_type": "code",
      "source": [
        "y_train_propagated = np.empty(len(X_train), dtype=np.int32)\n",
        "for i in range(k):\n",
        "    y_train_propagated[kmeans.labels_==i] = y_representative_digits[i]"
      ],
      "metadata": {
        "id": "lxqp2zcfuaKo"
      },
      "execution_count": null,
      "outputs": []
    },
    {
      "cell_type": "code",
      "source": [
        "log_reg = LogisticRegression()\n",
        "log_reg.fit(X_train, y_train_propagated)\n",
        "log_reg.score(X_test, y_test)"
      ],
      "metadata": {
        "colab": {
          "base_uri": "https://localhost:8080/"
        },
        "id": "9IfAtS-nuspe",
        "outputId": "c986ccc8-51d3-4758-896d-c8420386bf41"
      },
      "execution_count": null,
      "outputs": [
        {
          "output_type": "stream",
          "name": "stderr",
          "text": [
            "/usr/local/lib/python3.7/dist-packages/sklearn/linear_model/_logistic.py:818: ConvergenceWarning: lbfgs failed to converge (status=1):\n",
            "STOP: TOTAL NO. of ITERATIONS REACHED LIMIT.\n",
            "\n",
            "Increase the number of iterations (max_iter) or scale the data as shown in:\n",
            "    https://scikit-learn.org/stable/modules/preprocessing.html\n",
            "Please also refer to the documentation for alternative solver options:\n",
            "    https://scikit-learn.org/stable/modules/linear_model.html#logistic-regression\n",
            "  extra_warning_msg=_LOGISTIC_SOLVER_CONVERGENCE_MSG,\n"
          ]
        },
        {
          "output_type": "execute_result",
          "data": {
            "text/plain": [
              "0.10666666666666667"
            ]
          },
          "metadata": {},
          "execution_count": 53
        }
      ]
    },
    {
      "cell_type": "code",
      "source": [
        "percentile_closest = 20\n",
        "\n",
        "X_cluster_dist = X_digits_dist[np.arange(len(X_train)), kmeans.labels_]\n",
        "for i in range(k):\n",
        "    in_cluster = (kmeans.labels_ == i)\n",
        "    cluster_dist = X_cluster_dist[in_cluster]\n",
        "    cutoff_distance = np.percentile(cluster_dist, percentile_closest)\n",
        "    above_cutoff = (X_cluster_dist > cutoff_distance)\n",
        "    X_cluster_dist[in_cluster & above_cutoff] = -1\n",
        "\n",
        "partially_propagated = (X_cluster_dist != -1)\n",
        "X_train_partially_propagated = X_train[partially_propagated]\n",
        "y_train_partially_propagated = y_train_propagated[partially_propagated]"
      ],
      "metadata": {
        "id": "9zUfe3ZUuzsq"
      },
      "execution_count": null,
      "outputs": []
    },
    {
      "cell_type": "code",
      "source": [
        "log_reg = LogisticRegression()\n",
        "log_reg.fit(X_train_partially_propagated, y_train_partially_propagated)\n",
        "log_reg.score(X_test, y_test)"
      ],
      "metadata": {
        "colab": {
          "base_uri": "https://localhost:8080/"
        },
        "id": "ohulZUCVwelf",
        "outputId": "0aac17e4-0a10-4169-d3bb-0e848a2c3dd7"
      },
      "execution_count": null,
      "outputs": [
        {
          "output_type": "stream",
          "name": "stderr",
          "text": [
            "/usr/local/lib/python3.7/dist-packages/sklearn/linear_model/_logistic.py:818: ConvergenceWarning: lbfgs failed to converge (status=1):\n",
            "STOP: TOTAL NO. of ITERATIONS REACHED LIMIT.\n",
            "\n",
            "Increase the number of iterations (max_iter) or scale the data as shown in:\n",
            "    https://scikit-learn.org/stable/modules/preprocessing.html\n",
            "Please also refer to the documentation for alternative solver options:\n",
            "    https://scikit-learn.org/stable/modules/linear_model.html#logistic-regression\n",
            "  extra_warning_msg=_LOGISTIC_SOLVER_CONVERGENCE_MSG,\n"
          ]
        },
        {
          "output_type": "execute_result",
          "data": {
            "text/plain": [
              "0.12444444444444444"
            ]
          },
          "metadata": {},
          "execution_count": 60
        }
      ]
    },
    {
      "cell_type": "code",
      "source": [
        "np.mean(y_train_partially_propagated == y_train[partially_propagated])"
      ],
      "metadata": {
        "colab": {
          "base_uri": "https://localhost:8080/"
        },
        "id": "0kopIPByw9Rf",
        "outputId": "acccf201-f9eb-4af4-fe92-c3f4b8de4ce5"
      },
      "execution_count": null,
      "outputs": [
        {
          "output_type": "execute_result",
          "data": {
            "text/plain": [
              "0.13356164383561644"
            ]
          },
          "metadata": {},
          "execution_count": 61
        }
      ]
    },
    {
      "cell_type": "markdown",
      "source": [
        "#### 9.1.6 DBSCAN"
      ],
      "metadata": {
        "id": "CBsctYHOxHgi"
      }
    },
    {
      "cell_type": "markdown",
      "source": [
        "* 밀집된 연속적 지역을 클러스터로 정의 \n",
        "    * **ε-이웃ε-neighborhood** 각 샘플에서 작은 거리인 입실론 내에 샘플이 몇 개 있는지\n",
        "    * (자기 자신을 포함해) ε-이웃 내에 적어도 min_samples개 샘플이 있다면 이를 **핵심 샘플core instance**로 간주. 밀집된 지역에 있는 샘플\n",
        "    * 핵심 샘플의 이웃에 있는 모든 샘플은 동일한 클러스터. 핵심 샘플의 이웃의 이웃은 계속해서 하나의 클러스터 형성\n",
        "    * 핵심 샘플이 아니고 이웃도 아닌 샘플은 이상치로 판단"
      ],
      "metadata": {
        "id": "3V3twfkH_iWY"
      }
    },
    {
      "cell_type": "code",
      "source": [
        "from sklearn.cluster import DBSCAN\n",
        "from sklearn.datasets import make_moons\n",
        "\n",
        "X,y = make_moons(n_samples=1000, noise=0.05, random_state=42)\n",
        "dbscan = DBSCAN(eps=0.05, min_samples=5)\n",
        "dbscan.fit(X)"
      ],
      "metadata": {
        "colab": {
          "base_uri": "https://localhost:8080/"
        },
        "id": "gUArg3dixKA1",
        "outputId": "efc15a32-fa0f-49bb-f1ea-6df4cfafc3ee"
      },
      "execution_count": null,
      "outputs": [
        {
          "output_type": "execute_result",
          "data": {
            "text/plain": [
              "DBSCAN(eps=0.05)"
            ]
          },
          "metadata": {},
          "execution_count": 66
        }
      ]
    },
    {
      "cell_type": "code",
      "source": [
        "dbscan.labels_"
      ],
      "metadata": {
        "colab": {
          "base_uri": "https://localhost:8080/"
        },
        "id": "j48xW-h_xZAB",
        "outputId": "5076b337-8d69-4aae-f2d0-d3880489a5f3"
      },
      "execution_count": null,
      "outputs": [
        {
          "output_type": "execute_result",
          "data": {
            "text/plain": [
              "array([ 0,  2, -1, -1,  1,  0,  0,  0,  2,  5,  2,  3,  0,  2,  2,  2,  4,\n",
              "        2,  2,  4,  0,  5,  1,  0,  5,  5,  3,  2,  2,  2,  4,  5,  0,  6,\n",
              "        1, -1,  0,  0,  2,  3, -1,  3,  4, -1,  4,  4,  2,  0,  6,  2,  0,\n",
              "        2,  4,  0,  3,  3,  0,  3,  5,  2, -1,  3,  0,  5,  0,  0,  0,  2,\n",
              "        3,  0,  3,  6,  0,  2,  4,  4,  0,  3,  0,  4,  0,  3, -1,  3,  4,\n",
              "        0, -1,  2,  2,  4,  1,  6,  0,  5,  2,  6,  2,  3,  3, -1,  2, -1,\n",
              "        2,  4,  0,  0,  0,  2,  5,  2,  0,  2, -1,  2,  3,  1,  5,  2,  0,\n",
              "        4,  2,  1,  2,  4,  4,  0,  0,  6,  2,  2,  0,  2, -1,  2,  0,  3,\n",
              "        3,  5, -1,  3,  3,  5,  2,  4,  2,  2,  2,  4,  2,  4,  0, -1,  2,\n",
              "        1,  2,  6,  4,  2,  3,  2, -1,  2,  0,  0,  2,  0,  4,  0,  4,  4,\n",
              "        1,  6,  3,  2,  6,  1,  4,  4,  2,  0,  6,  0,  1,  0,  2,  5,  1,\n",
              "        1,  2,  2,  2,  2,  0,  5,  5,  1,  4,  5,  0,  3,  3,  0,  0,  0,\n",
              "        2,  0,  5,  2, -1,  2,  3,  5,  2,  2,  0,  4,  0,  4,  2,  2,  4,\n",
              "        2,  2,  3,  2,  3,  0,  1,  2,  0,  4, -1,  6,  0,  3,  3,  5, -1,\n",
              "        5,  4,  3,  5,  0,  2, -1,  3,  6,  3,  3,  4,  3,  2,  2,  2,  1,\n",
              "        4,  0,  2,  2, -1,  2,  6,  3,  4,  4,  2,  2,  1,  0,  1,  6,  3,\n",
              "        2,  4,  0,  3,  5,  0,  3,  2,  0,  2,  5,  4,  5,  2, -1,  6,  5,\n",
              "        2,  2,  2,  0,  6,  1,  6,  2,  1,  3,  5,  0,  1, -1,  1,  2,  2,\n",
              "        4, -1,  2,  0,  0,  0,  0,  2,  6,  6, -1,  1,  2,  5,  3,  5,  4,\n",
              "        0,  2,  0, -1,  6,  2,  3,  2,  4,  2,  0, -1,  4, -1,  0, -1,  0,\n",
              "        6,  1,  5,  3,  1,  1,  0,  2,  3,  2, -1,  4,  2,  3,  4,  5,  4,\n",
              "       -1,  4, -1,  1,  0,  5,  6,  5,  3,  2,  5,  1, -1,  5,  2,  5,  5,\n",
              "        3,  2,  6,  3,  2,  2,  5,  5,  2,  5,  5,  2, -1,  3,  2,  2,  5,\n",
              "        3,  0,  3,  0,  3,  1,  6,  2,  2,  3,  6,  0,  0,  0,  0,  2, -1,\n",
              "        3,  0, -1,  2,  2,  4,  2,  2,  0,  2,  0,  6,  3,  2,  6,  0,  6,\n",
              "        1,  3,  3,  0,  4,  4,  1,  4,  6,  4,  3,  5,  1,  2, -1,  5,  0,\n",
              "        2,  0,  0,  0,  0,  5,  0,  0,  0,  2,  1,  5,  5,  0,  2,  0,  1,\n",
              "        1,  3,  3,  0,  2,  1,  3,  3,  1,  0,  6,  1,  3,  2,  3,  4,  2,\n",
              "        2,  2,  0,  0,  0,  3, -1,  1,  0,  3,  3,  4,  5,  6, -1,  0,  2,\n",
              "        3,  6,  5,  6,  1,  2,  2,  0,  5,  1,  2,  2,  2,  0,  1,  2,  2,\n",
              "        4,  0,  4,  3,  4,  2,  5, -1,  2,  3,  1,  0, -1,  4,  1,  0,  2,\n",
              "       -1,  0,  3,  0,  3,  0,  4,  2,  6,  5,  3,  2,  6,  5,  4,  5, -1,\n",
              "        3,  2,  0,  2,  0,  3,  3,  6,  0,  3,  2,  2,  1,  4,  3,  1,  5,\n",
              "       -1,  2,  2,  4,  6,  0,  4,  4,  2,  5,  3,  2,  3,  4,  2,  5,  6,\n",
              "        1,  0,  4,  3, -1,  2,  2,  1,  0, -1,  3,  5,  4,  2,  0,  2,  2,\n",
              "        5,  4,  0,  0,  2,  3,  3,  4,  4,  0,  2,  5,  3,  0, -1,  5,  4,\n",
              "       -1,  2,  2,  0,  2,  0, -1, -1,  2, -1, -1,  5,  3,  0,  3,  2,  2,\n",
              "        0,  2,  6,  4,  2,  2,  5,  3,  2,  6,  2,  1,  5,  3,  2,  1,  6,\n",
              "        2,  2,  2,  2,  5,  2,  2,  0, -1,  2,  0,  2,  5,  2, -1,  2,  2,\n",
              "        2,  3,  4,  0,  3,  1, -1,  2,  0,  2,  0, -1,  3,  5,  1,  2,  5,\n",
              "        0,  2,  2,  3,  2,  3,  6, -1,  4,  4,  2,  0,  0, -1,  2,  4,  0,\n",
              "        4,  1,  5,  2, -1, -1,  0,  2,  6,  5,  3,  2,  2,  2,  0,  1,  6,\n",
              "        4,  5,  3,  2,  0,  5, -1,  5,  0,  4,  4,  1,  3,  5,  5,  6,  4,\n",
              "        1,  2,  2,  2,  2,  2,  3,  0,  1,  2,  2,  2,  2,  5,  0,  2,  2,\n",
              "        2,  2,  0,  2,  2,  1,  2,  0,  4,  2,  6,  6,  3,  0,  4,  2, -1,\n",
              "        0,  1,  2,  2,  5,  2,  0,  4,  0,  1,  2,  0,  1, -1, -1,  0,  0,\n",
              "        4,  1,  1,  5,  2,  2,  6,  4, -1,  0,  2,  2,  2,  0,  2,  2,  0,\n",
              "        2,  0,  2,  0,  2,  3,  4,  0,  5,  0,  3,  0,  5,  0,  2,  2,  2,\n",
              "        2,  2,  3,  0,  4,  2,  0,  0,  6,  0,  2,  5,  1,  2,  1,  2,  2,\n",
              "        5, -1,  2,  0,  2,  0,  2,  0,  2,  0,  3, -1,  2,  0,  1,  0,  3,\n",
              "        3,  2,  2,  5,  5,  3,  2,  5,  6, -1,  1,  4,  1,  0,  1,  0,  6,\n",
              "        3,  3,  6,  0,  3,  2,  0,  2, -1,  3,  2,  3,  5,  3,  6,  1,  5,\n",
              "        2,  5,  2,  3,  2,  4,  2,  2,  2,  4,  0,  4,  2,  6,  6,  2, -1,\n",
              "        2,  4,  5,  5,  0,  2,  1,  0,  6,  2,  2,  3,  0,  1, -1,  2,  2,\n",
              "        0,  3,  5,  3,  2,  0,  1,  6,  1, -1,  4,  2,  0,  4,  2,  4,  3,\n",
              "        4, -1,  1,  4,  5,  2,  2,  0,  2,  6,  2,  0,  2,  4,  0,  2,  0,\n",
              "        0,  5,  2, -1,  6, -1,  0,  3,  6,  0,  2,  2,  4,  3,  4,  6,  5,\n",
              "        4,  2,  5,  1, -1,  1,  6,  4,  2,  4,  0,  5,  0,  2,  3,  1,  3,\n",
              "        6,  4,  5, -1,  3, -1,  3,  2,  3,  3,  4,  2,  6,  3])"
            ]
          },
          "metadata": {},
          "execution_count": 67
        }
      ]
    },
    {
      "cell_type": "code",
      "source": [
        "len(dbscan.core_sample_indices_)"
      ],
      "metadata": {
        "colab": {
          "base_uri": "https://localhost:8080/"
        },
        "id": "8O_aiHcGxbCj",
        "outputId": "3e410b3d-fe28-4dce-8353-34522e720fa1"
      },
      "execution_count": null,
      "outputs": [
        {
          "output_type": "execute_result",
          "data": {
            "text/plain": [
              "808"
            ]
          },
          "metadata": {},
          "execution_count": 68
        }
      ]
    },
    {
      "cell_type": "code",
      "source": [
        "# 핵심샘플의 인덱스\n",
        "dbscan.core_sample_indices_"
      ],
      "metadata": {
        "colab": {
          "base_uri": "https://localhost:8080/"
        },
        "id": "GMlsqS-ZxtK1",
        "outputId": "30ba9357-08fd-4f88-b93f-b2d70982de4c"
      },
      "execution_count": null,
      "outputs": [
        {
          "output_type": "execute_result",
          "data": {
            "text/plain": [
              "array([  0,   4,   5,   6,   7,   8,  10,  11,  12,  13,  14,  16,  17,\n",
              "        18,  19,  20,  21,  22,  23,  24,  25,  26,  28,  29,  30,  31,\n",
              "        32,  33,  34,  36,  38,  39,  41,  42,  44,  45,  47,  49,  50,\n",
              "        51,  52,  53,  54,  55,  56,  58,  59,  61,  63,  64,  65,  66,\n",
              "        67,  68,  69,  70,  71,  72,  73,  74,  75,  76,  77,  78,  79,\n",
              "        80,  81,  83,  84,  85,  87,  88,  89,  90,  91,  93,  94,  96,\n",
              "        97,  98, 102, 103, 104, 105, 106, 107, 108, 109, 110, 113, 114,\n",
              "       115, 116, 117, 119, 120, 122, 123, 124, 125, 126, 127, 128, 129,\n",
              "       130, 135, 136, 139, 140, 141, 143, 144, 145, 146, 147, 148, 149,\n",
              "       150, 152, 153, 154, 155, 156, 157, 158, 159, 161, 162, 163, 164,\n",
              "       165, 166, 167, 168, 169, 170, 172, 173, 174, 175, 176, 177, 178,\n",
              "       179, 181, 182, 183, 185, 186, 187, 188, 189, 191, 193, 194, 195,\n",
              "       196, 198, 199, 200, 201, 202, 203, 204, 205, 206, 207, 209, 210,\n",
              "       211, 212, 213, 214, 215, 216, 217, 218, 219, 221, 222, 223, 224,\n",
              "       226, 228, 229, 230, 232, 233, 234, 235, 236, 238, 239, 240, 241,\n",
              "       242, 243, 245, 246, 247, 248, 249, 250, 251, 252, 253, 255, 256,\n",
              "       257, 260, 261, 262, 263, 264, 265, 266, 267, 268, 269, 270, 271,\n",
              "       272, 273, 274, 276, 277, 278, 279, 280, 281, 282, 283, 284, 285,\n",
              "       287, 288, 289, 290, 291, 293, 294, 295, 296, 297, 300, 301, 303,\n",
              "       304, 305, 308, 309, 310, 311, 313, 315, 317, 318, 319, 320, 321,\n",
              "       322, 323, 324, 327, 328, 329, 330, 332, 333, 335, 339, 340, 341,\n",
              "       342, 343, 346, 347, 348, 349, 351, 352, 353, 354, 355, 356, 358,\n",
              "       360, 361, 362, 363, 364, 365, 366, 367, 368, 370, 371, 372, 373,\n",
              "       374, 375, 377, 378, 379, 380, 381, 382, 384, 385, 387, 388, 389,\n",
              "       390, 391, 392, 393, 394, 395, 397, 398, 399, 400, 401, 402, 403,\n",
              "       404, 405, 406, 409, 411, 412, 413, 414, 415, 416, 417, 418, 419,\n",
              "       420, 421, 422, 423, 424, 425, 426, 427, 428, 429, 430, 431, 432,\n",
              "       433, 435, 436, 437, 438, 440, 441, 442, 443, 444, 445, 446, 447,\n",
              "       448, 449, 450, 451, 452, 453, 454, 456, 457, 458, 459, 461, 462,\n",
              "       463, 464, 467, 468, 469, 471, 472, 473, 474, 475, 476, 477, 478,\n",
              "       479, 480, 483, 484, 485, 486, 487, 488, 489, 491, 492, 493, 495,\n",
              "       496, 497, 498, 499, 501, 502, 503, 504, 505, 506, 507, 508, 509,\n",
              "       510, 511, 512, 513, 514, 515, 516, 518, 519, 520, 521, 523, 524,\n",
              "       525, 526, 528, 529, 530, 531, 532, 533, 535, 536, 537, 538, 539,\n",
              "       540, 541, 542, 544, 545, 546, 547, 548, 549, 550, 551, 552, 553,\n",
              "       554, 555, 556, 557, 559, 560, 562, 563, 564, 565, 566, 568, 569,\n",
              "       570, 572, 573, 574, 575, 576, 578, 579, 580, 583, 584, 585, 586,\n",
              "       588, 589, 590, 591, 592, 593, 594, 595, 596, 597, 599, 600, 601,\n",
              "       602, 603, 604, 605, 607, 610, 611, 614, 615, 616, 617, 620, 624,\n",
              "       625, 627, 628, 629, 631, 633, 634, 635, 636, 637, 638, 639, 640,\n",
              "       641, 642, 643, 644, 645, 646, 647, 648, 649, 650, 652, 655, 656,\n",
              "       657, 661, 662, 663, 664, 666, 667, 670, 671, 672, 673, 675, 676,\n",
              "       677, 678, 679, 680, 681, 682, 684, 685, 686, 688, 689, 690, 691,\n",
              "       692, 694, 695, 696, 697, 698, 703, 704, 705, 706, 708, 709, 710,\n",
              "       711, 712, 713, 714, 716, 717, 718, 719, 721, 722, 723, 724, 726,\n",
              "       729, 730, 731, 733, 735, 736, 737, 738, 739, 740, 741, 742, 743,\n",
              "       744, 745, 746, 748, 749, 750, 751, 752, 753, 754, 756, 757, 758,\n",
              "       759, 760, 761, 762, 763, 765, 766, 768, 770, 772, 773, 774, 775,\n",
              "       776, 777, 780, 781, 782, 783, 784, 785, 786, 787, 788, 789, 791,\n",
              "       792, 793, 794, 795, 796, 797, 798, 799, 800, 802, 803, 804, 805,\n",
              "       806, 807, 808, 809, 810, 811, 812, 813, 814, 815, 816, 817, 818,\n",
              "       819, 820, 821, 822, 824, 825, 826, 827, 828, 829, 830, 831, 832,\n",
              "       835, 836, 837, 838, 839, 840, 841, 842, 843, 845, 846, 848, 849,\n",
              "       850, 851, 852, 853, 854, 855, 857, 858, 860, 861, 862, 863, 864,\n",
              "       865, 867, 868, 870, 871, 873, 877, 878, 879, 880, 882, 883, 884,\n",
              "       885, 886, 887, 888, 889, 890, 891, 892, 893, 894, 895, 896, 897,\n",
              "       898, 899, 902, 903, 904, 905, 906, 907, 908, 910, 912, 913, 916,\n",
              "       918, 919, 920, 921, 922, 923, 925, 926, 928, 929, 930, 931, 932,\n",
              "       933, 934, 935, 937, 938, 939, 940, 941, 942, 943, 944, 945, 947,\n",
              "       948, 949, 951, 952, 953, 954, 956, 958, 959, 960, 961, 962, 963,\n",
              "       964, 965, 966, 967, 968, 969, 970, 972, 974, 975, 976, 978, 979,\n",
              "       980, 982, 983, 984, 985, 986, 987, 988, 990, 992, 993, 995, 997,\n",
              "       998, 999])"
            ]
          },
          "metadata": {},
          "execution_count": 69
        }
      ]
    },
    {
      "cell_type": "code",
      "source": [
        "# 핵심 샘플\n",
        "dbscan.components_"
      ],
      "metadata": {
        "colab": {
          "base_uri": "https://localhost:8080/"
        },
        "id": "pTJhD_Gw0xrr",
        "outputId": "2932bf7d-635f-4e26-8429-586f23280481"
      },
      "execution_count": null,
      "outputs": [
        {
          "output_type": "execute_result",
          "data": {
            "text/plain": [
              "array([[-0.02137124,  0.40618608],\n",
              "       [-0.84192557,  0.53058695],\n",
              "       [ 0.58930337, -0.32137599],\n",
              "       ...,\n",
              "       [ 1.66258462, -0.3079193 ],\n",
              "       [-0.94355873,  0.3278936 ],\n",
              "       [ 0.79419406,  0.60777171]])"
            ]
          },
          "metadata": {},
          "execution_count": 70
        }
      ]
    },
    {
      "cell_type": "markdown",
      "source": [
        "DBSCAN 클래스는 predict() 대신 fit_predict()"
      ],
      "metadata": {
        "id": "qDTf8VSUAfkk"
      }
    },
    {
      "cell_type": "code",
      "source": [
        "from sklearn.neighbors import KNeighborsClassifier\n",
        "\n",
        "knn = KNeighborsClassifier(n_neighbors=50)\n",
        "knn.fit(dbscan.components_, dbscan.labels_[dbscan.core_sample_indices_])"
      ],
      "metadata": {
        "colab": {
          "base_uri": "https://localhost:8080/"
        },
        "id": "lmVKMbcm01iZ",
        "outputId": "eae0188f-8a45-40a3-ba4b-e4439d5bb5d0"
      },
      "execution_count": null,
      "outputs": [
        {
          "output_type": "execute_result",
          "data": {
            "text/plain": [
              "KNeighborsClassifier(n_neighbors=50)"
            ]
          },
          "metadata": {},
          "execution_count": 71
        }
      ]
    },
    {
      "cell_type": "code",
      "source": [
        "X_new = np.array([[-0.5, 0],[0, 0.5],[1,-0.1],[2,1]])\n",
        "knn.predict(X_new)"
      ],
      "metadata": {
        "colab": {
          "base_uri": "https://localhost:8080/"
        },
        "id": "k0wT5JZ_1GE3",
        "outputId": "ee8c22e9-8759-4519-d5dd-03a913bb0f82"
      },
      "execution_count": null,
      "outputs": [
        {
          "output_type": "execute_result",
          "data": {
            "text/plain": [
              "array([6, 0, 3, 2])"
            ]
          },
          "metadata": {},
          "execution_count": 72
        }
      ]
    },
    {
      "cell_type": "code",
      "source": [
        "# 각 클러스터에 대한 확률 추정\n",
        "knn.predict_proba(X_new)"
      ],
      "metadata": {
        "colab": {
          "base_uri": "https://localhost:8080/"
        },
        "id": "yG4lqWVR1PVH",
        "outputId": "07a09d6f-135c-47e5-eae4-2b2538c3fd81"
      },
      "execution_count": null,
      "outputs": [
        {
          "output_type": "execute_result",
          "data": {
            "text/plain": [
              "array([[0.24, 0.  , 0.  , 0.  , 0.  , 0.  , 0.76],\n",
              "       [1.  , 0.  , 0.  , 0.  , 0.  , 0.  , 0.  ],\n",
              "       [0.  , 0.  , 0.3 , 0.7 , 0.  , 0.  , 0.  ],\n",
              "       [0.  , 0.  , 1.  , 0.  , 0.  , 0.  , 0.  ]])"
            ]
          },
          "metadata": {},
          "execution_count": 73
        }
      ]
    },
    {
      "cell_type": "markdown",
      "source": [
        "kneighbors() 사용해서 훈련 세트에서 가장 가까운 k개 이웃의 거리와 인덱스 반환"
      ],
      "metadata": {
        "id": "0sdHSWNNAwJJ"
      }
    },
    {
      "cell_type": "code",
      "source": [
        "y_dist, y_pred_idx = knn.kneighbors(X_new, n_neighbors=1)\n",
        "y_pred = dbscan.labels_[dbscan.core_sample_indices_][y_pred_idx]\n",
        "y_pred[y_dist>0.2] = -1\n",
        "y_pred.ravel()"
      ],
      "metadata": {
        "colab": {
          "base_uri": "https://localhost:8080/"
        },
        "id": "k1-M5KTi1TL0",
        "outputId": "9b32753b-50a4-4d77-82bd-0dba6ce7880c"
      },
      "execution_count": null,
      "outputs": [
        {
          "output_type": "execute_result",
          "data": {
            "text/plain": [
              "array([-1,  0,  3, -1])"
            ]
          },
          "metadata": {},
          "execution_count": 74
        }
      ]
    },
    {
      "cell_type": "markdown",
      "source": [
        "* DBSCAN\n",
        "    * 클러스터의 모양과 개수에 상관없이 감지\n",
        "    * 이상치에 안정적이고 하이퍼 파라미터가 eps와 min_samples로 두 개 \n",
        "    * 클러스터 간의 밀집도가 크게 다르면 모든 클러스터를 올바르게 잡기 힘듦\n",
        "    * 계산 복잡도는 O(mlogm) 샘플 개수에 대해 거의 선형적으로 증가\n",
        "    * 사이킷런의 구현은 eps가 커지면 O(m^2)만큼 메모리 필요"
      ],
      "metadata": {
        "id": "yxc5a3UNA5bL"
      }
    },
    {
      "cell_type": "markdown",
      "source": [
        "#### 9.1.7 다른 군집 알고리즘"
      ],
      "metadata": {
        "id": "Nd5T5l-z1jYi"
      }
    },
    {
      "cell_type": "markdown",
      "source": [
        "* **병합 군집** 클러스터 계층을 밑바닥부터 위로 쌓아 구성\n",
        "* **BIRCH** balanced iterative reducing and clustering using hierarchies\n",
        "* **평균-이동** 샘플을 중심으로 하는 원을 그린 후 안에 포함된 모든 샘플의 평균을 구하고 원의 중심을 평균적으로 이동시키며 모든 원이 움직이지 않을 때까지 반복\n",
        "* **유사도 전파** 투표 방식 사용 \n",
        "* **스펙트럼 군집** 복잡한 클러스터 구조를 감지하고 그래프 컷을 찾는 데 사용할 수 있음 (소셜 네트워크에서 친구의 클러스터 찾기)"
      ],
      "metadata": {
        "id": "4AwoCD1PBOKd"
      }
    },
    {
      "cell_type": "markdown",
      "source": [
        "### **9.2 가우시안 혼합**"
      ],
      "metadata": {
        "id": "BTke-kd31mc4"
      }
    },
    {
      "cell_type": "markdown",
      "source": [
        "**가우시안 혼합 모델Gaussian mixture model(GMM)** 샘플이 파라미터가 알려지지 않은 여러 개의 혼합된 가우시안 분포에서 생성되었다고 가정하는 확률 모델"
      ],
      "metadata": {
        "id": "iTI5lmHnCgkf"
      }
    },
    {
      "cell_type": "markdown",
      "source": [
        "![image.png](data:image/png;base64,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)"
      ],
      "metadata": {
        "id": "T6QAYyfmC3CB"
      }
    },
    {
      "cell_type": "code",
      "source": [
        "from sklearn.mixture import GaussianMixture\n",
        "\n",
        "gm = GaussianMixture(n_components=3, n_init=10)\n",
        "gm.fit(X)"
      ],
      "metadata": {
        "colab": {
          "base_uri": "https://localhost:8080/"
        },
        "id": "an5oSrJ51plv",
        "outputId": "94094303-f632-4d93-b954-aaa3c7607dbf"
      },
      "execution_count": null,
      "outputs": [
        {
          "output_type": "execute_result",
          "data": {
            "text/plain": [
              "GaussianMixture(n_components=3, n_init=10)"
            ]
          },
          "metadata": {},
          "execution_count": 75
        }
      ]
    },
    {
      "cell_type": "code",
      "source": [
        "gm.weights_"
      ],
      "metadata": {
        "colab": {
          "base_uri": "https://localhost:8080/"
        },
        "id": "pjuVdbkU1y_G",
        "outputId": "127a2f4c-777b-4cfd-b82c-29f4b3c0e2d2"
      },
      "execution_count": null,
      "outputs": [
        {
          "output_type": "execute_result",
          "data": {
            "text/plain": [
              "array([0.20859793, 0.20453936, 0.58686271])"
            ]
          },
          "metadata": {},
          "execution_count": 76
        }
      ]
    },
    {
      "cell_type": "code",
      "source": [
        "gm.means_"
      ],
      "metadata": {
        "colab": {
          "base_uri": "https://localhost:8080/"
        },
        "id": "DfD8GRZv11um",
        "outputId": "74ecd4ca-3b69-4317-ca1a-5cb5627ad225"
      },
      "execution_count": null,
      "outputs": [
        {
          "output_type": "execute_result",
          "data": {
            "text/plain": [
              "array([[ 1.73110722, -0.06902321],\n",
              "       [-0.74503074,  0.55807632],\n",
              "       [ 0.4950664 ,  0.25373843]])"
            ]
          },
          "metadata": {},
          "execution_count": 77
        }
      ]
    },
    {
      "cell_type": "code",
      "source": [
        "gm.covariances_"
      ],
      "metadata": {
        "colab": {
          "base_uri": "https://localhost:8080/"
        },
        "id": "UviSlD4V13Zj",
        "outputId": "447d2d86-c8dd-4c5a-dfe0-8bcc69343d84"
      },
      "execution_count": null,
      "outputs": [
        {
          "output_type": "execute_result",
          "data": {
            "text/plain": [
              "array([[[ 0.06102278,  0.06561808],\n",
              "        [ 0.06561808,  0.08773031]],\n",
              "\n",
              "       [[ 0.05459987,  0.06280737],\n",
              "        [ 0.06280737,  0.09028234]],\n",
              "\n",
              "       [[ 0.16337036, -0.09692064],\n",
              "        [-0.09692064,  0.28734238]]])"
            ]
          },
          "metadata": {},
          "execution_count": 78
        }
      ]
    },
    {
      "cell_type": "markdown",
      "source": [
        "**기댓값-최대화expectation-maximization(EM)** \\\n",
        "1. 샘플을 클러스터에 할당(**기댓값 단계expectation step**)\n",
        "2. 클러스터 업데이트 (**최대화 단계maximization step**)\n",
        "* k-평균과 달리 EM은 소프트 클러스터 할당 사용\n",
        "    * **책임reponsibility** 클러스터에 속할 추정 확률"
      ],
      "metadata": {
        "id": "K1Q9mCQ2DMYU"
      }
    },
    {
      "cell_type": "code",
      "source": [
        "gm.converged_"
      ],
      "metadata": {
        "colab": {
          "base_uri": "https://localhost:8080/"
        },
        "id": "ZS-CCfz817G-",
        "outputId": "403ce746-bc15-4ee9-b0a0-52a49ff878a3"
      },
      "execution_count": null,
      "outputs": [
        {
          "output_type": "execute_result",
          "data": {
            "text/plain": [
              "True"
            ]
          },
          "metadata": {},
          "execution_count": 79
        }
      ]
    },
    {
      "cell_type": "code",
      "source": [
        "gm.n_iter_"
      ],
      "metadata": {
        "colab": {
          "base_uri": "https://localhost:8080/"
        },
        "id": "4-H2ej1N19c4",
        "outputId": "83b31074-bd43-46ed-ce94-43d5a159247a"
      },
      "execution_count": null,
      "outputs": [
        {
          "output_type": "execute_result",
          "data": {
            "text/plain": [
              "17"
            ]
          },
          "metadata": {},
          "execution_count": 80
        }
      ]
    },
    {
      "cell_type": "code",
      "source": [
        "# 하드 군집\n",
        "gm.predict(X)"
      ],
      "metadata": {
        "colab": {
          "base_uri": "https://localhost:8080/"
        },
        "id": "42zGcpwg1_RJ",
        "outputId": "3fad06be-87c6-4c11-e045-1c5e48c75e78"
      },
      "execution_count": null,
      "outputs": [
        {
          "output_type": "execute_result",
          "data": {
            "text/plain": [
              "array([2, 2, 2, 2, 1, 2, 2, 2, 0, 2, 0, 2, 2, 0, 0, 0, 2, 0, 2, 1, 2, 2,\n",
              "       1, 2, 2, 2, 2, 0, 0, 0, 1, 2, 2, 1, 1, 2, 2, 2, 0, 2, 1, 2, 1, 0,\n",
              "       1, 2, 0, 2, 1, 0, 2, 0, 2, 2, 2, 2, 2, 2, 2, 0, 2, 2, 2, 2, 2, 2,\n",
              "       2, 0, 2, 2, 2, 1, 2, 2, 2, 2, 2, 2, 2, 1, 2, 2, 2, 2, 1, 2, 0, 2,\n",
              "       2, 1, 1, 1, 2, 2, 2, 1, 2, 2, 2, 0, 2, 1, 0, 2, 2, 2, 2, 0, 2, 0,\n",
              "       2, 0, 0, 0, 2, 1, 2, 0, 2, 2, 0, 1, 2, 2, 2, 2, 2, 1, 0, 2, 2, 0,\n",
              "       2, 0, 2, 2, 2, 2, 2, 2, 2, 2, 2, 1, 0, 0, 0, 2, 0, 1, 2, 2, 0, 1,\n",
              "       0, 1, 1, 2, 2, 0, 2, 2, 2, 2, 0, 2, 1, 2, 1, 1, 1, 1, 2, 0, 1, 1,\n",
              "       2, 2, 0, 2, 1, 2, 1, 2, 0, 2, 1, 1, 0, 2, 0, 0, 2, 2, 2, 1, 1, 2,\n",
              "       2, 2, 2, 2, 2, 2, 0, 2, 2, 0, 1, 0, 2, 2, 0, 0, 2, 1, 2, 2, 0, 2,\n",
              "       1, 2, 0, 2, 0, 2, 2, 1, 0, 2, 1, 0, 1, 2, 2, 2, 2, 0, 2, 1, 2, 2,\n",
              "       2, 2, 1, 2, 1, 2, 2, 2, 2, 0, 2, 0, 1, 1, 2, 0, 0, 2, 2, 1, 2, 2,\n",
              "       1, 0, 0, 1, 2, 1, 1, 2, 0, 2, 2, 2, 2, 2, 2, 0, 2, 0, 2, 1, 2, 2,\n",
              "       1, 1, 2, 0, 0, 2, 2, 1, 1, 1, 0, 1, 2, 2, 2, 1, 1, 1, 2, 0, 1, 2,\n",
              "       0, 2, 2, 2, 2, 2, 1, 1, 2, 1, 2, 2, 2, 2, 1, 2, 2, 2, 1, 1, 2, 2,\n",
              "       2, 2, 2, 2, 2, 1, 2, 2, 0, 2, 1, 1, 2, 2, 1, 1, 2, 0, 2, 0, 2, 2,\n",
              "       0, 2, 2, 2, 1, 1, 1, 2, 1, 2, 2, 1, 2, 2, 2, 2, 1, 0, 2, 2, 2, 2,\n",
              "       2, 2, 1, 2, 0, 0, 2, 2, 2, 2, 2, 0, 2, 2, 0, 2, 2, 2, 2, 2, 2, 2,\n",
              "       1, 1, 2, 0, 2, 1, 2, 2, 2, 2, 0, 1, 2, 2, 2, 0, 2, 2, 0, 2, 2, 0,\n",
              "       2, 1, 2, 2, 1, 2, 1, 1, 2, 2, 2, 2, 1, 1, 1, 1, 2, 2, 2, 1, 0, 2,\n",
              "       2, 2, 0, 2, 2, 2, 2, 2, 2, 2, 2, 0, 1, 2, 2, 2, 0, 2, 1, 1, 2, 2,\n",
              "       2, 0, 1, 2, 2, 1, 2, 1, 1, 2, 0, 2, 1, 0, 0, 0, 2, 2, 2, 2, 2, 1,\n",
              "       2, 2, 2, 1, 2, 1, 0, 2, 2, 2, 1, 2, 1, 1, 0, 0, 2, 2, 1, 0, 0, 0,\n",
              "       2, 1, 0, 2, 2, 2, 1, 2, 1, 2, 2, 2, 0, 2, 1, 2, 0, 1, 1, 2, 0, 2,\n",
              "       2, 2, 2, 2, 2, 2, 0, 1, 2, 2, 2, 1, 2, 2, 2, 1, 2, 0, 2, 0, 2, 2,\n",
              "       2, 1, 2, 2, 0, 0, 1, 2, 2, 1, 2, 0, 0, 2, 2, 1, 2, 1, 1, 0, 2, 2,\n",
              "       0, 2, 1, 0, 2, 1, 1, 2, 1, 2, 0, 0, 0, 1, 2, 2, 2, 2, 2, 0, 2, 2,\n",
              "       0, 2, 2, 2, 2, 2, 2, 2, 1, 2, 2, 0, 2, 2, 2, 2, 2, 1, 2, 2, 2, 2,\n",
              "       0, 2, 0, 2, 0, 2, 0, 2, 2, 2, 2, 0, 0, 2, 0, 1, 2, 2, 0, 2, 2, 0,\n",
              "       1, 0, 1, 2, 2, 0, 1, 1, 0, 0, 2, 0, 2, 0, 0, 2, 0, 0, 2, 0, 2, 0,\n",
              "       2, 2, 0, 2, 2, 2, 2, 2, 1, 1, 2, 2, 2, 2, 2, 2, 2, 1, 0, 2, 2, 0,\n",
              "       2, 2, 0, 2, 1, 2, 2, 2, 2, 2, 2, 2, 0, 2, 2, 1, 1, 2, 0, 2, 0, 2,\n",
              "       0, 1, 2, 2, 2, 0, 2, 2, 1, 1, 1, 2, 2, 0, 2, 2, 0, 2, 2, 2, 1, 1,\n",
              "       2, 2, 2, 1, 2, 1, 0, 2, 0, 0, 0, 2, 2, 1, 0, 2, 2, 0, 2, 2, 0, 2,\n",
              "       0, 0, 2, 0, 2, 1, 0, 2, 2, 0, 1, 1, 2, 2, 2, 0, 2, 2, 1, 0, 0, 2,\n",
              "       2, 2, 1, 2, 1, 0, 2, 1, 2, 2, 2, 2, 2, 1, 1, 2, 0, 0, 1, 1, 2, 2,\n",
              "       0, 0, 0, 2, 0, 0, 2, 0, 2, 0, 2, 0, 2, 2, 2, 2, 2, 2, 2, 2, 2, 0,\n",
              "       0, 0, 0, 2, 2, 2, 2, 2, 2, 2, 1, 2, 0, 2, 1, 0, 1, 2, 0, 2, 2, 2,\n",
              "       2, 0, 2, 2, 2, 2, 2, 2, 0, 2, 2, 1, 2, 2, 2, 2, 0, 2, 2, 2, 0, 2,\n",
              "       1, 0, 1, 1, 1, 2, 1, 2, 1, 2, 2, 1, 2, 2, 0, 2, 0, 0, 2, 0, 2, 2,\n",
              "       2, 1, 1, 2, 2, 2, 2, 2, 0, 1, 2, 2, 2, 1, 2, 2, 2, 1, 1, 0, 0, 0,\n",
              "       2, 2, 2, 2, 2, 1, 2, 1, 0, 2, 2, 2, 1, 2, 0, 0, 2, 2, 2, 2, 2, 2,\n",
              "       1, 1, 1, 2, 1, 0, 2, 1, 2, 2, 2, 1, 2, 1, 2, 2, 0, 0, 2, 0, 1, 0,\n",
              "       2, 0, 2, 2, 0, 2, 2, 2, 0, 2, 1, 2, 2, 2, 1, 2, 0, 2, 2, 2, 1, 1,\n",
              "       2, 2, 0, 2, 1, 0, 1, 1, 1, 2, 1, 2, 2, 2, 0, 2, 1, 2, 1, 1, 2, 1,\n",
              "       2, 2, 2, 2, 2, 2, 2, 0, 1, 2])"
            ]
          },
          "metadata": {},
          "execution_count": 81
        }
      ]
    },
    {
      "cell_type": "code",
      "source": [
        "# 소프트 군집\n",
        "gm.predict_proba(X)"
      ],
      "metadata": {
        "colab": {
          "base_uri": "https://localhost:8080/"
        },
        "id": "pazI7pFu2Br8",
        "outputId": "5750fa1f-1f0b-46a4-fb99-a86ff15268b8"
      },
      "execution_count": null,
      "outputs": [
        {
          "output_type": "execute_result",
          "data": {
            "text/plain": [
              "array([[2.30146837e-081, 9.12595056e-014, 1.00000000e+000],\n",
              "       [3.39933511e-004, 7.47233037e-120, 9.99660066e-001],\n",
              "       [9.48577999e-007, 2.17446845e-107, 9.99999051e-001],\n",
              "       ...,\n",
              "       [9.84186191e-001, 1.43718998e-182, 1.58138088e-002],\n",
              "       [1.66671181e-161, 9.99684465e-001, 3.15534827e-004],\n",
              "       [5.19983644e-039, 4.32492679e-045, 1.00000000e+000]])"
            ]
          },
          "metadata": {},
          "execution_count": 82
        }
      ]
    },
    {
      "cell_type": "markdown",
      "source": [
        "가우시안 혼합 모델은 **생성 모델generative model**"
      ],
      "metadata": {
        "id": "x07-rj4cERYl"
      }
    },
    {
      "cell_type": "code",
      "source": [
        "X_new, y_new = gm.sample(6)\n",
        "X_new"
      ],
      "metadata": {
        "colab": {
          "base_uri": "https://localhost:8080/"
        },
        "id": "zYx_hZvU2DxD",
        "outputId": "3aa1e110-8d1f-47f0-af35-7acaceeabf15"
      },
      "execution_count": null,
      "outputs": [
        {
          "output_type": "execute_result",
          "data": {
            "text/plain": [
              "array([[ 2.11041441,  0.52912438],\n",
              "       [-0.4923762 ,  0.70947108],\n",
              "       [-0.92551306,  0.32256704],\n",
              "       [-0.11450164,  0.56141674],\n",
              "       [ 0.30468292,  0.86807027],\n",
              "       [ 0.14398182,  0.56354408]])"
            ]
          },
          "metadata": {},
          "execution_count": 83
        }
      ]
    },
    {
      "cell_type": "code",
      "source": [
        "y_new"
      ],
      "metadata": {
        "colab": {
          "base_uri": "https://localhost:8080/"
        },
        "id": "vsdrwuNc2Hfj",
        "outputId": "dddf91b4-2bb6-4c93-d861-779f4ce4b6d2"
      },
      "execution_count": null,
      "outputs": [
        {
          "output_type": "execute_result",
          "data": {
            "text/plain": [
              "array([0, 1, 1, 2, 2, 2])"
            ]
          },
          "metadata": {},
          "execution_count": 84
        }
      ]
    },
    {
      "cell_type": "code",
      "source": [
        "gm.score_samples(X)"
      ],
      "metadata": {
        "colab": {
          "base_uri": "https://localhost:8080/"
        },
        "id": "gTBIzPXr2Ix_",
        "outputId": "8df97e31-53c7-4303-a560-7782d98c366e"
      },
      "execution_count": null,
      "outputs": [
        {
          "output_type": "execute_result",
          "data": {
            "text/plain": [
              "array([-1.59760943e+00, -1.83480188e+00, -1.56859578e+00, -1.90181248e+00,\n",
              "       -2.43278366e-01, -1.34340986e+00, -1.58942671e+00, -1.59095129e+00,\n",
              "       -3.48586901e-01, -1.79801683e+00, -1.86745681e+00, -1.66878897e+00,\n",
              "       -1.44692396e+00, -4.68986083e-01, -8.67052879e-01,  2.00709206e-02,\n",
              "       -2.14236134e+00, -7.08571708e-01, -1.97978983e+00, -8.67185148e-01,\n",
              "       -1.76567591e+00, -1.76795375e+00, -1.20391122e-01, -1.59942948e+00,\n",
              "       -1.54386695e+00, -1.76015872e+00, -1.66076963e+00, -1.22061360e+00,\n",
              "       -3.22723479e-01, -5.49875652e-01, -4.98285317e-01, -1.43940247e+00,\n",
              "       -1.82093613e+00, -2.02190156e+00,  8.50664496e-04, -1.96534568e+00,\n",
              "       -1.57429254e+00, -1.28026138e+00, -2.83331977e-01, -1.56852030e+00,\n",
              "       -1.20480578e+00, -1.66428926e+00, -1.01201107e+00, -1.19939167e+00,\n",
              "       -1.43416458e+00, -2.11803830e+00, -1.70516741e+00, -1.57158084e+00,\n",
              "       -3.26271946e-01, -5.77558013e-01, -1.82225216e+00, -8.95679851e-01,\n",
              "       -1.96859753e+00, -1.61266882e+00, -1.40221572e+00, -1.42128323e+00,\n",
              "       -1.57603025e+00, -1.42280692e+00, -1.78205280e+00, -6.80713571e-01,\n",
              "       -2.17022713e+00, -1.68808665e+00, -2.07312841e+00, -1.65483496e+00,\n",
              "       -1.58851440e+00, -1.51821891e+00, -1.67442386e+00, -2.61160521e-01,\n",
              "       -1.63871601e+00, -1.57472981e+00, -1.42998249e+00, -2.12959351e+00,\n",
              "       -1.64061166e+00, -1.86357895e+00, -2.25295173e+00, -2.09080891e+00,\n",
              "       -1.55261022e+00, -1.41911309e+00, -1.72376071e+00, -9.05688799e-01,\n",
              "       -1.74042884e+00, -1.63850730e+00, -1.96598840e+00, -1.29062315e+00,\n",
              "       -1.26554881e+00, -1.54393902e+00, -2.20305747e+00, -1.70800326e+00,\n",
              "       -1.87303598e+00, -7.34509510e-01, -7.80709871e-02, -4.92761169e-01,\n",
              "       -1.23663201e+00, -1.74846742e+00, -2.03205590e+00, -5.17130102e-01,\n",
              "       -2.07573383e+00, -1.45591687e+00, -1.30409372e+00, -8.77200519e-01,\n",
              "       -1.90650031e+00, -6.06645731e-01, -2.99804667e-01, -1.80911498e+00,\n",
              "       -1.66732119e+00, -1.65165037e+00, -1.62395009e+00, -5.14248706e-01,\n",
              "       -1.73728157e+00, -6.05617709e-03, -1.42671717e+00, -1.01030745e+00,\n",
              "       -3.75369802e+00, -1.16675875e+00, -1.83171079e+00, -1.30355289e-01,\n",
              "       -1.79169213e+00, -1.76350085e+00, -1.83947841e+00, -2.12085204e+00,\n",
              "       -6.16307060e-01, -4.10574261e-02, -1.54393047e+00, -2.21718599e+00,\n",
              "       -2.01016673e+00, -1.62142742e+00, -1.74755806e+00, -6.85313672e-01,\n",
              "       -5.46120010e-01, -1.96571261e+00, -1.49051952e+00, -1.00909412e+00,\n",
              "       -2.03275468e+00, -2.21114577e+00, -1.97548434e+00, -1.51216379e+00,\n",
              "       -1.46533072e+00, -1.55266167e+00, -1.22253220e+00, -1.50076529e+00,\n",
              "       -1.50974895e+00, -1.67248922e+00, -1.58213282e+00, -1.81624921e+00,\n",
              "       -3.32728211e-01, -7.51732765e-01, -1.08819917e+00, -1.78516678e+00,\n",
              "       -4.50921458e-01, -9.22745600e-01, -1.75482470e+00, -1.97863071e+00,\n",
              "       -1.59110334e+00, -5.39248591e-01, -4.18536664e-01, -6.36379762e-01,\n",
              "       -6.97653000e-01, -1.70402751e+00, -1.46364869e+00, -1.19138732e+00,\n",
              "       -2.41253567e+00, -2.12115702e+00, -1.59101576e+00, -1.69580421e+00,\n",
              "       -3.07486771e-01, -1.44258098e+00, -1.76140163e+00, -1.45331189e+00,\n",
              "       -1.25788763e+00, -9.25666159e-01, -1.54011317e-01, -8.84111752e-01,\n",
              "       -1.72896666e+00, -2.06899581e+00, -3.00553584e+00, -2.90083878e-01,\n",
              "       -1.78302667e+00, -1.91618521e+00, -1.10069500e+00, -1.52515692e+00,\n",
              "       -4.21359222e+00, -1.49203356e+00, -2.24277114e-01, -1.58543900e+00,\n",
              "       -5.98274290e-01, -1.54024616e+00, -1.78715843e-01, -6.97003465e-03,\n",
              "       -4.57596989e-01, -1.86496136e+00, -3.44628400e-01, -3.53943281e-01,\n",
              "       -1.31016138e+00, -1.44168777e+00, -1.71432592e+00, -1.87741592e+00,\n",
              "       -7.26343206e-01, -1.53891029e+00, -1.61543454e+00, -1.76399910e+00,\n",
              "       -1.65322984e+00, -1.51175959e+00, -1.48752658e+00, -1.45856051e+00,\n",
              "       -4.88896655e-01, -1.36803838e+00, -1.47196517e+00, -6.72402659e-01,\n",
              "       -1.79098144e+00, -7.25329810e-01, -1.39658396e+00, -1.63648469e+00,\n",
              "       -2.03807737e-01, -6.19939326e-01, -1.44166670e+00, -9.64252836e-01,\n",
              "       -1.46684229e+00, -1.86709219e+00, -3.23361125e-01, -1.69259221e+00,\n",
              "       -1.41470059e+00, -1.74875881e+00, -1.13321417e+00, -1.51616249e+00,\n",
              "       -8.53320600e-01, -1.70086683e+00, -1.68411427e+00, -2.09818939e-01,\n",
              "       -1.15872416e+00, -1.44615362e+00, -7.44374285e-01, -3.04370878e+00,\n",
              "       -7.60459301e-01, -1.35649802e+00, -1.51526398e+00, -1.37117222e+00,\n",
              "       -1.85635878e+00, -1.42470266e+00, -1.64120771e+00, -6.52000262e-01,\n",
              "       -1.44179593e+00, -1.60574190e+00, -1.34292368e+00, -1.90113867e+00,\n",
              "       -1.14154306e+00, -1.82474565e+00, -8.70573168e-01, -1.78826361e+00,\n",
              "       -1.59541752e+00, -2.22349131e+00, -1.62725882e+00, -1.78669176e+00,\n",
              "       -2.13774595e+00, -5.50605572e-02, -1.88563058e+00, -6.10886973e-01,\n",
              "       -1.45637375e+00, -1.18421269e+00, -1.05126678e+00, -1.28753226e+00,\n",
              "       -1.67296913e+00, -5.13348279e-01, -1.58271409e+00, -2.22219677e+00,\n",
              "       -4.42180678e-01, -8.97289614e-01, -1.51151141e+00, -5.37624563e-01,\n",
              "       -1.69968837e+00, -1.01575201e-01, -2.37331254e+00, -1.63310260e+00,\n",
              "       -1.34728601e-01, -1.96371608e+00, -1.50823498e+00, -1.29059741e+00,\n",
              "       -1.61134559e+00, -1.68477981e+00, -1.60897258e+00, -1.59162534e+00,\n",
              "       -1.61407500e+00, -1.93185908e+00, -1.79292616e+00, -1.86683364e+00,\n",
              "       -1.68142403e+00, -1.58166600e+00, -1.46055876e+00, -5.72678323e-01,\n",
              "       -1.65453204e+00, -6.29953413e-01, -4.54183627e-01, -1.93353262e+00,\n",
              "       -1.32968370e+00, -5.04613548e-01, -1.80073934e-01, -1.07988547e+00,\n",
              "       -1.47254131e-01, -1.26029575e+00, -1.28777253e+00, -1.37554144e+00,\n",
              "       -1.57225506e+00, -1.54369879e-01, -1.29453905e+00, -5.43231498e-01,\n",
              "       -2.13599319e+00, -1.91172531e-01, -1.28782334e+00, -1.19235360e+00,\n",
              "       -4.11990017e-01, -1.60535280e+00, -1.57827507e+00, -1.59422885e+00,\n",
              "       -1.87065547e+00, -1.71113572e+00, -1.19589130e+00, -2.94374032e-01,\n",
              "       -1.59120075e+00, -2.77555253e-01, -1.64873776e+00, -1.67900806e+00,\n",
              "       -1.56342219e+00, -1.72947229e+00, -1.27230092e+00, -1.50767676e+00,\n",
              "       -1.87845154e+00, -1.53295860e+00, -4.22360288e-01, -2.21438348e+00,\n",
              "       -1.55235785e+00, -1.59804068e+00, -1.68083739e+00, -2.12534532e+00,\n",
              "       -1.80862200e+00, -1.48762740e+00, -1.59455816e+00, -8.25107133e-01,\n",
              "       -1.45747089e+00, -1.84410854e+00, -2.14849607e+00, -1.48636293e+00,\n",
              "       -1.53629044e+00, -3.80029945e-01, -1.79165911e+00, -1.57300343e+00,\n",
              "       -1.54823471e+00, -5.70422404e-01, -1.69901404e+00, -8.56911817e-02,\n",
              "       -1.59654031e+00, -6.02384298e-01, -1.89353747e+00, -2.25010315e+00,\n",
              "       -1.13878607e-01, -1.73984830e+00, -2.13652977e+00, -1.54646251e+00,\n",
              "       -1.22185252e+00, -5.17636595e-02, -1.37352436e+00, -1.34426732e+00,\n",
              "       -4.23500191e-01, -1.47798819e+00, -1.52252760e+00, -4.95135874e-01,\n",
              "       -1.68114246e+00, -1.35142813e+00, -2.14333841e+00, -1.66784521e+00,\n",
              "       -1.64680208e-01, -1.95483004e+00, -1.62731420e+00, -1.61893870e+00,\n",
              "       -1.59348853e+00, -1.68314018e+00, -1.63485639e+00, -1.89091102e+00,\n",
              "       -1.05492057e+00, -1.56911740e+00, -2.81142639e-01, -9.24286883e-01,\n",
              "       -1.66466103e+00, -1.57085171e+00, -2.14814049e+00, -1.69071052e+00,\n",
              "       -1.66715397e+00, -1.00855658e-02, -2.01187440e+00, -1.52588189e+00,\n",
              "       -1.19014368e+00, -2.11108521e+00, -1.52205795e+00, -1.46179729e+00,\n",
              "       -1.69620010e+00, -1.58966257e+00, -1.68343189e+00, -1.41511642e+00,\n",
              "       -9.20964552e-01, -6.14961665e-01, -1.95115603e+00, -2.08295441e+00,\n",
              "       -1.76443348e+00, -5.75648185e-01, -1.56942447e+00, -1.60961148e+00,\n",
              "       -1.57472652e+00, -1.73406243e+00, -8.29695400e-02, -1.86434289e+00,\n",
              "       -1.39296881e+00, -1.33224774e+00, -1.97121089e+00, -5.81814624e-01,\n",
              "       -1.98958631e+00, -1.88757140e+00, -1.21307684e+00, -1.52971047e+00,\n",
              "       -1.37104867e+00, -3.58275139e-01, -1.62040285e+00, -7.14591047e-01,\n",
              "       -1.63332132e+00, -1.65051066e+00, -1.66328076e+00, -1.63016703e+00,\n",
              "       -4.28538444e-01, -4.34437865e-01, -1.50563478e+00, -1.60606615e+00,\n",
              "       -1.56073224e+00, -2.22336058e+00, -1.86954838e+00, -1.01382600e-01,\n",
              "       -4.90516419e-01, -5.25402712e-01, -2.23976438e+00, -1.68407470e+00,\n",
              "       -1.56331477e+00, -1.27092387e-01, -5.85603321e-01, -2.16181845e+00,\n",
              "       -1.69181160e+00, -1.71832248e+00, -8.12385214e-01, -1.58808677e+00,\n",
              "       -1.49408458e+00, -1.54917461e+00, -1.45771126e+00, -1.72190782e+00,\n",
              "       -1.58200184e+00, -1.53382654e+00, -1.63086768e+00, -4.37227800e-01,\n",
              "       -1.74050623e-03, -1.70194615e+00, -1.88226216e+00, -1.84199844e+00,\n",
              "       -1.00564411e+00, -1.42006307e+00, -7.15696464e-01, -3.79962979e-01,\n",
              "       -1.68748300e+00, -1.76806657e+00, -1.73007079e+00, -9.34970802e-01,\n",
              "       -1.76994532e-01, -1.84543810e+00, -1.29332802e+00, -2.75031282e-01,\n",
              "       -1.79965427e+00, -3.97171138e-01, -2.18178980e+00, -1.84792654e+00,\n",
              "       -9.35153474e-01, -1.56960375e+00, -1.18064014e+00, -1.44648124e+00,\n",
              "       -6.05505581e-01, -7.02916509e-01, -1.60847450e+00, -1.47398607e+00,\n",
              "       -1.51884903e+00, -1.87145267e+00, -1.14606821e+00, -2.17037749e-01,\n",
              "       -1.70561675e+00, -1.59500306e+00, -1.65815216e+00, -1.51048604e+00,\n",
              "       -1.56105156e+00, -3.40220390e+00, -2.15243864e+00, -1.78366154e+00,\n",
              "       -2.02856134e+00, -1.62486733e+00, -1.38526084e+00, -1.59880554e+00,\n",
              "       -4.45433843e-01, -8.40673350e-01, -1.27169754e-01, -5.68696961e-01,\n",
              "       -1.82159560e+00, -1.72791907e+00,  3.82800144e-03, -6.64652849e-01,\n",
              "       -1.48974905e+00, -4.42711235e-01, -1.58115401e+00, -3.18742083e-01,\n",
              "       -9.84994131e-01, -1.92765278e+00, -1.91011101e+00, -1.97121924e+00,\n",
              "       -4.88248379e-01, -1.66565488e+00, -6.79810107e-01, -2.16165243e+00,\n",
              "       -1.79100213e+00, -1.82392781e+00, -1.70221911e+00, -1.40492603e+00,\n",
              "       -2.28586107e-01, -1.57124477e+00,  2.96585290e-03, -4.15279419e-01,\n",
              "       -5.25293929e-01, -1.65287200e+00, -6.23232402e-01, -1.86208269e+00,\n",
              "       -1.50896464e+00, -1.51633164e+00, -1.34916800e+00, -1.50008415e+00,\n",
              "       -1.60697316e+00, -2.09173565e+00, -9.59500309e-01, -9.51759414e-01,\n",
              "       -1.59563419e+00, -1.67573891e+00, -1.84748051e+00, -3.54625648e-01,\n",
              "       -1.52951496e+00, -2.12302576e+00, -1.65870625e+00, -1.21016262e+00,\n",
              "       -1.84213475e+00, -5.96123738e-01, -1.38589200e+00, -8.54554302e-01,\n",
              "       -1.38813820e+00, -1.66205300e+00, -1.62770060e+00, -9.70414441e-01,\n",
              "       -1.48107178e+00, -1.48850716e+00, -1.55751671e-01, -3.11568421e-01,\n",
              "       -1.66037947e-01, -2.12745416e+00, -1.92961572e+00, -4.73070551e-01,\n",
              "       -1.54078467e+00, -2.13157226e+00, -5.13475919e-01, -1.80148798e+00,\n",
              "       -1.94294441e+00, -4.99563701e-01, -1.40346757e+00, -1.97572268e+00,\n",
              "       -6.72363116e-01, -6.11535692e-01, -1.45693907e+00, -1.28506921e+00,\n",
              "       -1.86327988e+00, -1.42801880e+00, -6.85114600e-01, -2.68565427e-01,\n",
              "       -1.51837172e+00, -1.68485042e+00, -6.71362675e-01, -1.56287445e+00,\n",
              "       -1.20472685e+00, -1.24810162e+00, -9.31199292e-01, -1.57317944e+00,\n",
              "       -1.67957956e+00, -3.63656029e-01, -1.72059701e+00, -2.19932291e+00,\n",
              "       -1.67514827e+00, -1.56093953e+00, -1.80048996e+00, -5.15950156e-01,\n",
              "       -1.49310974e+00, -2.00142032e+00, -8.58878096e-01, -1.58011133e+00,\n",
              "       -2.23048646e+00, -1.74604645e+00, -1.99357257e+00, -1.69485138e+00,\n",
              "       -1.70234376e+00, -1.77572631e+00, -1.03258481e+00, -1.85851000e+00,\n",
              "       -1.61631841e+00, -8.10239750e-01, -1.74099766e+00, -1.73000995e+00,\n",
              "       -1.22617238e+00, -2.00676853e+00, -1.60934366e+00, -1.91135863e+00,\n",
              "       -2.02395566e+00, -1.49138883e+00, -1.59443228e+00, -1.61675994e+00,\n",
              "       -5.71906152e-01, -1.43790455e+00, -1.49516403e+00, -2.06391398e+00,\n",
              "       -3.16153411e-01, -1.25668708e+00, -1.05879069e+00, -1.42599989e+00,\n",
              "       -1.37893456e+00, -1.53570339e+00, -1.76042333e+00, -2.17096118e+00,\n",
              "       -4.13792628e-01, -1.65239611e+00, -5.11960428e-01, -2.48937002e+00,\n",
              "       -2.09748485e+00, -1.75617785e+00, -5.20861924e-01, -1.65688734e+00,\n",
              "       -1.78623617e+00, -6.27127309e-01, -2.38060617e-01, -4.80853938e-01,\n",
              "       -5.47843538e-03, -1.74513188e+00, -1.84114162e+00, -6.70777901e-01,\n",
              "       -2.81616503e-01, -2.01210435e+00, -1.00392948e+00, -2.48028725e-01,\n",
              "       -1.71213705e+00, -5.32135684e-01, -1.65108968e+00, -4.00932848e-01,\n",
              "       -1.98023290e-01, -1.40994082e+00, -9.57410945e-01, -6.74681374e-01,\n",
              "       -1.51762692e+00, -9.05505653e-01, -1.34488331e+00, -1.04446103e-01,\n",
              "       -1.86742983e+00, -2.01344435e+00, -1.62547415e+00, -1.97419493e+00,\n",
              "       -1.60045524e+00, -1.91815489e+00, -1.67683804e+00, -1.67152285e+00,\n",
              "       -1.84067753e+00, -6.31553037e-02, -2.07283973e+00, -1.65577476e+00,\n",
              "       -2.10963754e+00, -1.69656569e+00, -1.33273673e+00, -1.60155608e+00,\n",
              "       -1.71670206e+00, -5.41638020e-01, -8.75093224e-01, -1.46875890e+00,\n",
              "       -1.40880134e+00, -2.39821189e-01, -2.07861688e+00, -1.32438425e+00,\n",
              "       -1.07806896e+00, -1.66190920e+00, -5.37504039e-01, -1.30117953e+00,\n",
              "       -2.02964310e+00, -2.05523750e+00, -2.02085573e+00, -1.65725451e+00,\n",
              "       -1.79177859e+00, -1.61823764e+00, -1.47657832e-01, -2.20745575e+00,\n",
              "       -1.76812624e+00, -1.68650679e+00, -4.69944159e-01, -1.33137244e+00,\n",
              "       -1.47347091e+00, -1.89163082e+00, -2.34510782e+00, -1.39450324e+00,\n",
              "       -9.50156875e-02, -2.41413527e+00, -1.69190395e+00, -1.91356395e+00,\n",
              "       -1.80985976e+00, -4.28148036e-01, -1.90130781e+00, -1.53775958e+00,\n",
              "       -2.77879368e-01, -5.64530078e-01, -7.85765894e-01, -1.50243728e+00,\n",
              "       -1.86361918e+00, -3.34324750e-01, -1.69936374e+00, -1.48178741e+00,\n",
              "       -2.97771866e-01, -1.50608628e+00, -1.60096607e+00, -2.20484182e+00,\n",
              "       -1.78572726e+00,  2.94435398e-02, -1.58535950e+00, -1.45798818e+00,\n",
              "       -1.49899908e+00, -2.24019680e-01, -1.97156441e+00, -5.92682750e-01,\n",
              "       -1.11506328e-01, -2.12859891e+00, -6.48272306e-02, -4.91568496e-01,\n",
              "       -9.18944154e-02, -1.75850062e+00, -1.63465230e+00, -1.26059588e+00,\n",
              "       -1.76487245e+00, -2.14126021e+00, -1.74057506e+00, -3.85024029e-02,\n",
              "       -1.73522403e+00, -1.66226848e+00, -1.11674065e-01, -2.14871397e+00,\n",
              "       -1.67942244e+00, -3.68382227e-01, -1.55466993e+00, -1.14223456e+00,\n",
              "       -1.99211926e+00, -6.71709315e-01, -2.01601237e+00, -1.28985892e+00,\n",
              "       -2.02754074e+00, -6.43758682e-01, -9.67481223e-01, -2.56246369e+00,\n",
              "       -1.56246838e+00, -1.58320816e+00, -1.97728321e+00, -1.33899224e-01,\n",
              "       -2.02892664e+00, -1.52680969e+00, -5.96066769e-01, -3.06148381e+00,\n",
              "       -3.04734543e-01, -1.91925405e+00, -2.04630128e+00, -1.39944302e+00,\n",
              "       -1.70981661e+00, -1.52097379e+00, -1.85051924e-01, -4.48776842e-01,\n",
              "       -1.64249345e+00, -3.52676700e-01, -1.85928632e+00, -2.20757798e+00,\n",
              "       -1.59507779e+00, -1.52066903e+00, -2.12459852e+00, -2.17970843e-02,\n",
              "       -8.47520729e-01, -1.72605792e+00, -6.75011460e-01, -1.71597399e+00,\n",
              "       -1.84954439e+00, -4.12158489e-01, -1.94300270e+00, -1.64769995e+00,\n",
              "       -1.65821964e+00, -1.09060620e+00, -1.10521200e-01, -1.51351725e+00,\n",
              "       -4.80264200e-01, -1.36607535e+00, -1.66744826e+00, -1.49542652e-01,\n",
              "       -1.55261247e+00, -1.42752014e+00, -1.73401141e+00, -1.24770722e+00,\n",
              "       -1.41203962e+00, -1.88798544e+00, -1.64967835e+00, -1.64125838e+00,\n",
              "       -1.60663863e+00, -1.49250776e+00, -1.44864356e+00, -1.50079830e+00,\n",
              "       -1.63192839e+00, -7.33590588e-01, -3.30794587e-01, -2.81483892e-01,\n",
              "       -3.49042207e-01, -1.73510110e+00, -1.65455979e+00, -1.54419571e+00,\n",
              "       -1.88448095e+00, -2.00569423e+00, -1.69757879e+00, -1.41090572e+00,\n",
              "       -8.46411562e-01, -1.47490631e+00, -7.05343287e-01, -1.45719844e+00,\n",
              "       -2.50585461e-01, -1.51093685e+00, -1.34926357e-01, -2.14788323e+00,\n",
              "       -2.64201456e-01, -1.50598114e+00, -1.32063222e+00, -2.14649472e+00,\n",
              "       -1.48534904e+00, -9.70377726e-01, -1.73962148e+00, -2.07119152e+00,\n",
              "       -1.74218362e+00, -1.68572617e+00, -1.58132719e+00, -1.61439313e+00,\n",
              "       -1.52304462e+00, -1.60247014e+00, -1.49507335e+00,  3.53628264e-02,\n",
              "       -1.66512302e+00, -1.58484286e+00, -1.42961013e+00, -2.14517318e+00,\n",
              "       -2.92717906e-01, -1.57504074e+00, -1.65189285e+00, -1.79369716e+00,\n",
              "       -3.56730398e-02, -1.85794514e+00, -2.48550557e+00, -1.90358598e+00,\n",
              "       -2.30146625e-01, -1.87871756e+00, -6.64953334e-02, -1.42940913e+00,\n",
              "       -3.59955699e-01, -1.41279776e+00, -2.98305006e+00, -1.55659435e+00,\n",
              "       -1.52549402e+00, -1.18603614e+00, -1.59328142e+00, -1.68726850e+00,\n",
              "       -2.38841722e+00, -1.34011188e+00, -6.33756688e-01, -1.38942323e+00,\n",
              "       -1.91709336e+00, -7.00667118e-01, -1.76990000e+00, -1.61147750e+00,\n",
              "       -1.51987135e+00, -2.09696110e+00, -2.44235374e-01, -1.60401383e+00,\n",
              "       -1.89657310e+00, -1.57898646e+00, -2.15786374e+00, -1.62324830e+00,\n",
              "       -1.19407100e+00, -6.56031046e-01, -2.10459123e+00, -1.64982254e+00,\n",
              "       -1.57992836e+00, -1.46648232e+00, -1.77382284e+00, -1.99181344e+00,\n",
              "       -1.62203015e+00, -2.51733690e-01, -5.20235531e-01, -2.33384714e+00,\n",
              "       -1.01865774e+00, -1.27756903e+00, -2.21484460e+00, -1.70163463e+00,\n",
              "       -1.65691966e+00, -1.67191075e+00, -1.80189390e+00, -1.33650189e-01,\n",
              "       -1.56639596e+00, -1.88250062e+00, -7.10815080e-01, -2.16228919e+00,\n",
              "       -1.43095641e+00, -1.39464463e+00, -1.45911360e+00, -1.35704348e+00,\n",
              "       -1.66031096e-01, -2.29868645e+00, -1.53449554e+00, -1.67909100e+00,\n",
              "       -1.62462516e+00, -1.56643259e+00, -2.01074388e+00, -1.30733492e+00,\n",
              "       -1.50016616e+00, -8.55321559e-01, -4.18432150e-01, -2.02039647e+00,\n",
              "       -1.06893910e+00, -4.33572294e-01, -1.80655559e+00, -4.48354510e-01,\n",
              "       -2.15130656e+00, -1.88977252e+00, -1.59454564e+00, -5.83150562e-01,\n",
              "       -1.41534504e+00, -2.60345132e-01, -2.15921603e+00, -1.49521256e+00,\n",
              "       -2.98693865e-01, -1.97156194e+00, -1.44621515e+00, -4.28503540e-01,\n",
              "       -1.31108495e+00, -2.15153296e+00, -1.27977070e+00, -4.16284234e-01,\n",
              "       -1.80724519e+00, -1.50347972e+00, -5.94938333e-02, -1.47245165e+00,\n",
              "       -1.45685220e+00, -1.58697502e+00, -1.61344061e+00, -1.95660307e+00,\n",
              "       -1.00931442e+00, -1.84937964e+00, -1.61820138e+00, -1.75597268e+00,\n",
              "       -1.11838832e+00, -1.38100811e+00, -3.31937099e-01, -2.07790673e+00,\n",
              "       -1.95771664e+00, -1.44326951e+00, -7.95488169e-01, -9.48099561e-01,\n",
              "       -1.47043403e+00, -2.11429376e+00, -8.13128203e-01, -1.38020251e+00,\n",
              "       -9.67181878e-02, -1.17552835e+00, -1.04149609e+00, -1.54155449e+00,\n",
              "       -3.77773443e-01, -2.05167408e+00, -8.73874524e-01, -1.58029786e+00,\n",
              "       -1.55556934e+00, -1.33256355e+00, -1.52360108e-01, -1.46833005e+00,\n",
              "        3.34320967e-03, -1.45912440e+00, -5.75370512e-01, -4.04281744e-01,\n",
              "       -1.69316666e+00, -1.33147421e+00, -1.53098689e+00, -1.33338667e+00,\n",
              "       -1.50846250e+00, -1.62611899e+00, -1.95757138e+00, -1.55259835e+00,\n",
              "       -2.17555628e+00, -7.92050303e-01, -3.23958257e-01, -1.61815890e+00])"
            ]
          },
          "metadata": {},
          "execution_count": 85
        }
      ]
    },
    {
      "cell_type": "markdown",
      "source": [
        "* covariance_type 매개변수 설정\n",
        "    * 'spherical': 모든 클러스터가 분산이 다른 원형\n",
        "    * 'diag': 타원의 축과 좌표 축이 나란한 타원형\n",
        "    * 'tied': 모든 클러스터가 동일한 타원 모양, 크기, 방향\n",
        "    * 'full': 매개 변수의 기본값. 모양, 크기, 방향에 제약이 없음"
      ],
      "metadata": {
        "id": "_ma51eddExfi"
      }
    },
    {
      "cell_type": "markdown",
      "source": [
        "#### 9.2.1 가우시안 혼합을 사용한 이상치 탐지"
      ],
      "metadata": {
        "id": "sz76ZGWC2M3i"
      }
    },
    {
      "cell_type": "markdown",
      "source": [
        "* **이상치outlier** 이상치 탐지 대상\n",
        "* **정상치inlier** 보통 샘플\n",
        "* **특이치 탐지novelty detection** 이상치로 오염되지 않은 '깨끗한 데이터 셋에서 훈련한다는 점이 이상치 탐지와 다른 점."
      ],
      "metadata": {
        "id": "Tom2tCXOFKRS"
      }
    },
    {
      "cell_type": "code",
      "source": [
        "densities = gm.score_samples(X)\n",
        "density_threshold = np.percentile(densities, 4)\n",
        "anomalies = X[densities < density_threshold]"
      ],
      "metadata": {
        "id": "WodQ5Yzv2PTt"
      },
      "execution_count": null,
      "outputs": []
    },
    {
      "cell_type": "markdown",
      "source": [
        "#### 9.2.2 클러스터 개수 선택하기"
      ],
      "metadata": {
        "id": "mZEef2jT2Zvv"
      }
    },
    {
      "cell_type": "markdown",
      "source": [
        "**식 9-1** BIC와 AIC"
      ],
      "metadata": {
        "id": "bTMk-0-nFmgl"
      }
    },
    {
      "cell_type": "markdown",
      "source": [
        "![image.png](data:image/png;base64,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)"
      ],
      "metadata": {
        "id": "AJglKSwMFtRs"
      }
    },
    {
      "cell_type": "markdown",
      "source": [
        "* m: 샘플의 개수\n",
        "* p: 모델이 학습할 파라미터 개수\n",
        "* L_hat: 모델의 가능도 함수(likelihood function)의 최대"
      ],
      "metadata": {
        "id": "6jjL99nUFwPE"
      }
    },
    {
      "cell_type": "code",
      "source": [
        "gm.bic(X)"
      ],
      "metadata": {
        "colab": {
          "base_uri": "https://localhost:8080/"
        },
        "id": "xPFk7PId2dj4",
        "outputId": "e68f4b2f-3597-4984-d95c-f9e4d897f005"
      },
      "execution_count": null,
      "outputs": [
        {
          "output_type": "execute_result",
          "data": {
            "text/plain": [
              "2808.388903161654"
            ]
          },
          "metadata": {},
          "execution_count": 87
        }
      ]
    },
    {
      "cell_type": "code",
      "source": [
        "gm.aic(X)"
      ],
      "metadata": {
        "colab": {
          "base_uri": "https://localhost:8080/"
        },
        "id": "30XQLL-U2ftK",
        "outputId": "c68ea455-a0a7-4a72-d467-f4f00235d025"
      },
      "execution_count": null,
      "outputs": [
        {
          "output_type": "execute_result",
          "data": {
            "text/plain": [
              "2724.9570634189577"
            ]
          },
          "metadata": {},
          "execution_count": 88
        }
      ]
    },
    {
      "cell_type": "markdown",
      "source": [
        "#### 9.2.3 베이지 가우시안 혼합 모델"
      ],
      "metadata": {
        "id": "ckPntytI2hSS"
      }
    },
    {
      "cell_type": "markdown",
      "source": [
        "![image.png](data:image/png;base64,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)"
      ],
      "metadata": {
        "id": "TQ7rjbb0GEOX"
      }
    },
    {
      "cell_type": "code",
      "source": [
        "from sklearn.mixture import BayesianGaussianMixture\n",
        "bgm = BayesianGaussianMixture(n_components=10, n_init=10)\n",
        "bgm.fit(X)\n",
        "np.round(bgm.weights_,2)"
      ],
      "metadata": {
        "colab": {
          "base_uri": "https://localhost:8080/"
        },
        "id": "lhykMRIU2j82",
        "outputId": "cc27d537-9bae-41c6-a557-df8f6e641cf9"
      },
      "execution_count": null,
      "outputs": [
        {
          "output_type": "stream",
          "name": "stderr",
          "text": [
            "/usr/local/lib/python3.7/dist-packages/sklearn/mixture/_base.py:282: ConvergenceWarning: Initialization 10 did not converge. Try different init parameters, or increase max_iter, tol or check for degenerate data.\n",
            "  ConvergenceWarning,\n"
          ]
        },
        {
          "output_type": "execute_result",
          "data": {
            "text/plain": [
              "array([0.16, 0.  , 0.13, 0.12, 0.12, 0.18, 0.13, 0.16, 0.  , 0.  ])"
            ]
          },
          "metadata": {},
          "execution_count": 89
        }
      ]
    },
    {
      "cell_type": "markdown",
      "source": [
        "**식 9-2** 베이지 정리"
      ],
      "metadata": {
        "id": "d5JvCHQMGQR1"
      }
    },
    {
      "cell_type": "markdown",
      "source": [
        "![image.png](data:image/png;base64,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)"
      ],
      "metadata": {
        "id": "7naLWg4xGVOq"
      }
    },
    {
      "cell_type": "markdown",
      "source": [
        "* 증거 p(X)는 구하기 어려움 \n",
        "    * → **변분 추론variational inference** "
      ],
      "metadata": {
        "id": "l5y4_T0mGgSF"
      }
    },
    {
      "cell_type": "markdown",
      "source": [
        "#### 9.2.4 이상치 탐지와 특이치 탐지를 위한 다른 알고리즘"
      ],
      "metadata": {
        "id": "MY6ElIQ520ko"
      }
    },
    {
      "cell_type": "markdown",
      "source": [
        "* **PCA** \n",
        "* **Fast-MCD** \n",
        "* **아이솔레이션 포레스트**\n",
        "* **LOF**local outlier factor\n",
        "* **one-class SVM**"
      ],
      "metadata": {
        "id": "o_eq3LkMG1JL"
      }
    }
  ]
}